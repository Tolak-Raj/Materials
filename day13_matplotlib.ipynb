{
 "cells": [
  {
   "cell_type": "markdown",
   "id": "3a0e91c4",
   "metadata": {},
   "source": [
    "# Matplotlib continue.."
   ]
  },
  {
   "cell_type": "code",
   "execution_count": 2,
   "id": "7bcda87c",
   "metadata": {
    "slideshow": {
     "slide_type": "slide"
    }
   },
   "outputs": [],
   "source": [
    "import matplotlib.pyplot as plt\n",
    "import pandas as pd\n",
    "%matplotlib inline"
   ]
  },
  {
   "cell_type": "code",
   "execution_count": null,
   "id": "5dc837e8",
   "metadata": {},
   "outputs": [],
   "source": [
    "data=pd.read_csv('https://raw.githubusercontent.com/pudasainimohan/Materials/main/data/price.csv')\n",
    "data['Date'] =data['Date'].str[2:]\n",
    "data.head(5)"
   ]
  },
  {
   "cell_type": "markdown",
   "id": "0d9becc4-dc7c-4b3d-a5f3-ad25d3351cbd",
   "metadata": {
    "tags": []
   },
   "source": [
    "### 1.5. Adding a background (grid) to the chart commands\n",
    "\n",
    "**``grid``**: Draws a grid behind the graph.\n",
    "\n",
    "***`alpha`***: Sets the transparency of the grid lines. It takes a value between 0-1. The closer to 1 the transparency increases. The closer to 0 it decreases.\n",
    "\n",
    "***`linestyle`***: Determines the format of the grid lines. It can take values ​​such as '-', '--', '-.', ':', '', etc.\n",
    "\n",
    "***`linewidth`***: Determines the thickness of the grid bars. It takes integer values.\n",
    "\n",
    "***`color`***: Sets the color of the grid lines.\n",
    "\n",
    "\n",
    "**For Grid Documentation**: https://matplotlib.org/stable/api/_as_gen/matplotlib.pyplot.grid.html"
   ]
  },
  {
   "cell_type": "code",
   "execution_count": null,
   "id": "11e6613b-230c-4728-a8a5-2b97eeb90d6a",
   "metadata": {},
   "outputs": [],
   "source": [
    "plt.figure(figsize=(12,6))\n",
    "\n",
    "plt.plot(data.Date,data.CPI,color=\"blue\",label=\"CPI\")\n",
    "\n",
    "plt.xlabel(\"Date\")\n",
    "\n",
    "plt.ylabel(\"Index\")\n",
    "\n",
    "plt.title(\"Nepal's Monthly CPI \")\n",
    "\n",
    "plt.legend()\n",
    "plt.grid()\n",
    "plt.show()"
   ]
  },
  {
   "cell_type": "markdown",
   "id": "87f55e10-02b4-49cc-b9ae-10d0538f7380",
   "metadata": {},
   "source": [
    "### 1.5.1.\n",
    "Making the grid transparent\n",
    "\n",
    "***`alpha`***: Sets the transparency of the grid lines. It takes a value between 0-1. The closer to 1, the greater the transparency. It decreases as it approaches 0."
   ]
  },
  {
   "cell_type": "code",
   "execution_count": null,
   "id": "41f4cea3-4ad7-498d-a687-572abb397bd7",
   "metadata": {},
   "outputs": [],
   "source": []
  },
  {
   "cell_type": "markdown",
   "id": "c0e011da-bb8a-49f0-950f-1a2ef6e6373c",
   "metadata": {},
   "source": [
    "### 1.5.2. Set a grid style\n",
    "\n",
    "\n",
    "***`linestyle`***: It determines the format of the grid lines. It can take values ​​such as '-', '--', '-.', ':', ''."
   ]
  },
  {
   "cell_type": "code",
   "execution_count": null,
   "id": "f4d85fb8-a471-49a9-ac03-aea27caf193f",
   "metadata": {},
   "outputs": [],
   "source": []
  },
  {
   "cell_type": "markdown",
   "id": "e2ae86ef-6ae5-4668-bb2a-a8a84262a238",
   "metadata": {},
   "source": [
    "### 1.5.3. Adjusting the thickness of the grid bars\n",
    "\n",
    "***`linewidth`***: determines the thickness of grid lines in a plot.  By default, the value of linewidth is 1.0. You can set the linewidth value to a different integer to adjust the thickness of the grid lines to your desired size."
   ]
  },
  {
   "cell_type": "code",
   "execution_count": null,
   "id": "6eb35e5a-7ea3-4e43-b00c-0a585a9dfa99",
   "metadata": {},
   "outputs": [],
   "source": []
  },
  {
   "cell_type": "markdown",
   "id": "8825137f-fe53-4bac-b3c0-e31bbd286d78",
   "metadata": {},
   "source": [
    "### 1.6.Text commands\n",
    "\n",
    "\n",
    "**`plt.text`**: Allows us to add text to the chart.\n",
    "\n",
    "**`x,y`**: We need to specify the coordinates of the text we will write according to the x and y axis. ***``plt.text(3,4)``***\n",
    "\n",
    "**`s`**: We need to specify the text that we will write.***``plt.text(x=3,y=4,s=\"There was a crisis this year.\")``***\n",
    "\n",
    "**``fontdict``**: It allows us to make corrections about the text we will write. It is used in dictionary format. ***`plt.text(x=7,y=15,s=\"This year has been a crisis.\", fontdict={\"color\":\"r\",\"fontsize\":35})`\n",
    "\n",
    "**`alpha`**: It is used to set the transparency of the text.\n",
    "\n",
    "**`backgroundcolor`**: Adds color to the background of the text.\n",
    "\n",
    "**`fontfamily`**: Sets the font of the text.\n",
    "\n",
    "**`style`**: Sets the font. italic,normal\n",
    "\n",
    "**`weight`**: Sets the thickness of the text. Takes values ​​0-1000 or 'ultralight', 'light', 'normal', 'regular', 'book', 'medium', 'novel', 'semibold', 'demibold', 'demi', 'bold' ', 'heavy', 'extra bold', 'black'.\n",
    "\n",
    "\n",
    "**`size`**: Adjusts the size of the text. Takes the values ​​'xx-small', 'x-small', 'small', 'medium', 'large', 'x-large', 'xx-large'. Or it takes an integer value by using it as fontsize. like **`fontsize=12`**\n"
   ]
  },
  {
   "cell_type": "markdown",
   "id": "cefecde3-3ce2-4fed-903e-ee2b69e43415",
   "metadata": {},
   "source": [
    "### 1.6.1. Adding text and determining its coordinates\n",
    "**`plt.text`**: Allows us to add text to the chart.\n",
    "\n",
    "**`x,y`**: We need to specify the coordinates of the text we will write according to the x and y axis. ***``plt.text(3,4)``***\n",
    "\n",
    "**`s`**: We need to specify the text that we will write.***``plt.text(x=3,y=4,s=\"There was a crisis this year.\")``***\n"
   ]
  },
  {
   "cell_type": "code",
   "execution_count": null,
   "id": "cd59bfb4-900b-4fb9-bd26-d24db8fb8408",
   "metadata": {},
   "outputs": [],
   "source": [
    "plt.figure(figsize=(12,6))\n",
    "\n",
    "plt.plot(data.Date,data.CPI,color=\"red\",linewidth=1,linestyle=\"-\",marker=\"o\",\n",
    "         markersize=10,label=\"CPI\",alpha=0.9)\n",
    "\n",
    "plt.xlabel(\"Date\")\n",
    "\n",
    "plt.ylabel(\"CPI\")\n",
    "\n",
    "plt.title(\"Nepal's Monthly CPI\")\n",
    "\n",
    "\n",
    "plt.text(x=3,y=148,s=\"CPI highly increased \")\n",
    "\n",
    "plt.legend()\n",
    "\n",
    "plt.show()"
   ]
  },
  {
   "cell_type": "markdown",
   "id": "e213dd34-354f-47ed-9d59-429db40039a9",
   "metadata": {},
   "source": [
    "### 1.6.2.Determining the format of the text with fontdict\n",
    "**``fontdict``**: It allows us to make corrections about the text we will write. It is used in dictionary format. ***`plt.text(x=7,y=15,s=\"There has been a crisis this year.\", fontdict={\"color\":\"r\",\"fontsize\":35})`***"
   ]
  },
  {
   "cell_type": "markdown",
   "id": "b303da98",
   "metadata": {},
   "source": [
    "Change added text font size to 16 , rotation=45and change default color."
   ]
  },
  {
   "cell_type": "code",
   "execution_count": null,
   "id": "6a5321c4-1555-4ed5-ac3c-24650e7ef625",
   "metadata": {},
   "outputs": [],
   "source": []
  },
  {
   "cell_type": "markdown",
   "id": "4ed66197",
   "metadata": {},
   "source": [
    "Adding data lable to the line chart:\n",
    "string formating: [https://pudasainimohan.com.np/post/string_formating/](https://pudasainimohan.com.np/post/string_formating/)"
   ]
  },
  {
   "cell_type": "code",
   "execution_count": null,
   "id": "94315205",
   "metadata": {},
   "outputs": [],
   "source": [
    "plt.figure(figsize=(12,6))\n",
    "\n",
    "plt.plot(data.Date,data.CPI,color=\"red\",linewidth=1,linestyle=\"-\",marker=\"o\",\n",
    "         markersize=10,label=\"CPI\",alpha=0.9)\n",
    "\n",
    "plt.xlabel(\"Date\")\n",
    "\n",
    "plt.ylabel(\"CPI\")\n",
    "\n",
    "plt.title(\"Nepal's Monthly CPI\")\n",
    "\n",
    "\n",
    "plt.text(x=3,y=148,s=\"CPI highly increased \")\n",
    "for x,y in zip(data.Date,data.CPI):\n",
    "    label = \"{:.0f}\".format(y)\n",
    "    plt.text(x=x,y=(int(y)+2),s=label)\n",
    "\n",
    "plt.legend()\n",
    "\n",
    "plt.show()"
   ]
  },
  {
   "cell_type": "markdown",
   "id": "6f58b3b1-d271-4307-92df-77e52ecb502e",
   "metadata": {},
   "source": [
    "### 1.6.3. Adding a line to text\n",
    "In previous example we use plt.text() to add text , text is a simple function that allows you to add a text string to a plot at a given position. You specify the position using x and y coordinates, and you can also set the text alignment, color, font size, and other properties. text is usually used to add labels to data points or to add annotations to a plot.\n",
    "\n",
    "annotate is a more powerful function that allows you to add text with an arrow pointing to a specific location in the plot. You can specify the position of the text and the position of the arrow separately, and you can also customize the arrow style, color, and other properties. annotate is often used to highlight a specific data point or to add context to a plot. here are some functions of annotate:\n",
    "\n",
    "**`s`**: The text that will be displayed. This is a required argument.\n",
    "\n",
    "**`xy`**: The point on the plot where the annotation will be located. This can be specified as a tuple or a list with two values representing the x and y coordinates.\n",
    "\n",
    "**`xytext`**: The point where the text will be located relative to the annotation point. This can also be specified as a tuple or a list with two values representing the x and y coordinates. If not specified, the text will be placed at the same location as the annotation point.\n",
    "\n",
    "**`arrowprops`**: A dictionary of properties that control the appearance of the arrow connecting the annotation point and the text. This can include properties such as the arrow style, color, width, and head width.\n",
    "\n",
    "**`bbox`**: A dictionary of properties that control the appearance of the box around the text. This can include properties such as the box color, edge color, and transparency.\n",
    "** Other are as same as other text prpopoties, fontsize, color,style,size etc\n",
    "\n"
   ]
  },
  {
   "cell_type": "code",
   "execution_count": null,
   "id": "b6d344d7",
   "metadata": {},
   "outputs": [],
   "source": [
    "plt.figure(figsize=(12, 6))\n",
    "\n",
    "plt.plot(data.Date, data.CPI, color=\"red\", linewidth=1, linestyle=\"-\", marker=\"o\", markersize=10, label=\"CPI\", alpha=0.9)\n",
    "\n",
    "plt.xlabel(\"Date\")\n",
    "plt.ylabel(\"CPI\")\n",
    "plt.title(\"Nepal's Monthly CPI\")\n",
    "\n",
    "plt.annotate(\"CPI highly increased\", xy=(3, 147.9), xytext=(4, 150))\n",
    "plt.legend()\n",
    "plt.show()"
   ]
  },
  {
   "cell_type": "markdown",
   "id": "25570ef5-c1d5-4eef-b49f-3aba9180bf05",
   "metadata": {},
   "source": [
    "### 1.6.4. Add straight arrow from text to annotate point(arrowstyle)\n",
    "**`arrowprops`** is the major arguments of annotate here are some arguments we can put for arrowprops:.\n",
    "details:https://matplotlib.org/stable/api/_as_gen/matplotlib.pyplot.annotate.html\n",
    "- **arrowstyle='->'** sets the style of the arrow to a right-pointing arrow. The \"->\" notation specifies that the arrow should have a pointed head that points towards the right. There are other arrow styles available, such as \"<-\", \"<->\", \"|-|\",'simple', 'fancy','wedge' and so on."
   ]
  },
  {
   "cell_type": "code",
   "execution_count": null,
   "id": "8bd22676-0d4c-4340-b9f6-456bf3360e37",
   "metadata": {},
   "outputs": [],
   "source": [
    "\n",
    "plt.figure(figsize=(12, 6))\n",
    "\n",
    "plt.plot(data.Date, data.CPI, color=\"red\", linewidth=1, linestyle=\"-\", marker=\"o\", markersize=10, label=\"CPI\", alpha=0.9)\n",
    "\n",
    "plt.xlabel(\"Date\")\n",
    "plt.ylabel(\"CPI\")\n",
    "plt.title(\"Nepal's Monthly CPI\")\n",
    "\n",
    "plt.annotate(\"CPI highly increased\", xy=(3, 147.9), xytext=(4, 150), arrowprops=dict( arrowstyle='simple'))\n",
    "plt.legend()\n",
    "plt.show()\n",
    "\n"
   ]
  },
  {
   "cell_type": "markdown",
   "id": "4fb6d96e-2854-465f-a115-da81cf36c5c9",
   "metadata": {},
   "source": [
    "### 1.6.5. Chanding color, size and linestyle of  arrow\n",
    "\n",
    "**`color`**: This argument sets the color of the arrow. You can specify it as a string representing a named color (e.g. \"blue\", \"red\", \"green\"), a hex code (e.g. \"#FF5733\"), or an RGB tuple (e.g. (1.0, 0.0, 0.0) for red). This determines the color of the arrow.\n",
    "\n",
    "**`lw`**: This argument sets the linewidth of the arrow, which is the thickness of the line that represents the arrow. You can specify it as a float value, and it determines how thick the arrow will be.\n",
    "\n",
    "**`ls `**: This argument sets the linestyle of the arrow. You can specify it as a string representing a named linestyle (e.g. \"solid\", \"dashed\", \"dotted\") or symbols as we used previous."
   ]
  },
  {
   "cell_type": "code",
   "execution_count": null,
   "id": "ec79aa64-d6d1-495d-a870-72275a30320e",
   "metadata": {},
   "outputs": [],
   "source": [
    "plt.figure(figsize=(12, 6))\n",
    "\n",
    "plt.plot(data.Date, data.CPI, color=\"red\", linewidth=1, linestyle=\"-\", marker=\"o\", markersize=10, label=\"CPI\", alpha=0.9)\n",
    "\n",
    "plt.xlabel(\"Date\")\n",
    "plt.ylabel(\"CPI\")\n",
    "plt.title(\"Nepal's Monthly CPI\")\n",
    "\n",
    "plt.annotate(\"CPI highly increased\", xy=(3, 147.9), xytext=(4, 150), arrowprops=dict( arrowstyle='->', \n",
    "                                                                                     color='g',\n",
    "                                                                                    lw='2',ls='--',\n",
    "                                                                                     connectionstyle=\"arc3,rad=0.2\"))\n",
    "plt.legend()\n",
    "plt.show()\n",
    "\n"
   ]
  },
  {
   "cell_type": "code",
   "execution_count": null,
   "id": "1dc2c0b8",
   "metadata": {
    "scrolled": false
   },
   "outputs": [],
   "source": [
    "plt.figure(figsize=(12,6))\n",
    "\n",
    "plt.plot(data.Date,data.CPI,color=\"blue\",label=\"CPI\",marker=\"o\")\n",
    "\n",
    "plt.xlabel(\"Date\")\n",
    "\n",
    "plt.ylabel(\"Index\")\n",
    "\n",
    "plt.title(\"Nepal's Monthly CPI \")\n",
    "\n",
    "for x,y in zip(data.Date,data.CPI):\n",
    "\n",
    "    label = \"{:.0f}\".format(y)\n",
    "\n",
    "    plt.annotate(label, # this is the text\n",
    "                 (x,y), # these are the coordinates to position the label\n",
    "                textcoords=\"offset points\", # how to position the text\n",
    "                 xytext=(0,5),#istance from text to points (x,y)\n",
    "                 ha='right',\n",
    "                color='red') # horizontal alignment can be left, right or center\n",
    "\n",
    "plt.legend()\n",
    "plt.show()"
   ]
  },
  {
   "cell_type": "markdown",
   "id": "9b705309-1127-4e16-b06e-f4f4c69da667",
   "metadata": {},
   "source": [
    "### 1.6.6. Changing Connection style:\n",
    "**`arc3`**: This creates an arc-shaped connection between two points. You can customize the curvature of the arc using the rad parameter.rad: This parameter is used with the 'arc' connection style to specify the radius of the arc-shaped connection. The value of rad should be a float representing the radius of the arc as a fraction of the distance between the two points being connected. For example, rad=0.3 would create an arc-shaped connection with a curvature of 0.3 times the distance between the two points.       \n",
    "**`angle`**: This creates a connection with an elbow bend. You can customize the angle of the elbow using the angleA and angleB parameters. These parameters are used with the 'angle' connection style to specify the angles of the arms of the connection. The angleA parameter specifies the angle of the arm at the start point, and angleB specifies the angle of the arm at the end point. Both angles are measured in degrees, with 0 degrees being to the right and angles increasing counterclockwise. For example, angleA=90 and angleB=180 would create an elbow-shaped connection with the first arm pointing up and the second arm pointing to the left.        \n",
    "**`bar`**: This creates a connection with a horizontal bar between two points. You can customize the length and position of the bar using the armA and armB parameters. These parameters are used with the 'bar' connection style to specify the length of the arms of the connection. The armA parameter specifies the length of the arm at the start point, and armB specifies the length of the arm at the end point. The values of armA and armB should be floats representing the lengths of the arms in the same units as the plot axes. For example, armA=20 and armB=10 would create a connection with a horizontal bar extending 20 units to the left from the start point and 10 units to the right from the end point.\n",
    "\n"
   ]
  },
  {
   "cell_type": "code",
   "execution_count": null,
   "id": "a5846ced-246b-49cc-95e3-7cb688f8349b",
   "metadata": {},
   "outputs": [],
   "source": [
    "plt.figure(figsize=(12, 6))\n",
    "\n",
    "plt.plot(data.Date, data.CPI, color=\"red\", linewidth=1, linestyle=\"-\", marker=\"o\", markersize=10, label=\"CPI\", alpha=0.9)\n",
    "\n",
    "plt.xlabel(\"Date\")\n",
    "plt.ylabel(\"CPI\")\n",
    "plt.title(\"Nepal's Monthly CPI\")\n",
    "\n",
    "plt.annotate(\"CPI highly increased\", xy=(3, 147.9), xytext=(4, 150), arrowprops=dict( arrowstyle='->', \n",
    "                                                                                     color='g',\n",
    "                                                                                    lw='2',ls='--',\n",
    "                                                                                     connectionstyle=\"angle,angleA=0,angleB=90\"))\n",
    "plt.legend()\n",
    "plt.show()\n"
   ]
  },
  {
   "cell_type": "code",
   "execution_count": null,
   "id": "ec9f8cd2-489f-4a76-af20-ea23d805e066",
   "metadata": {},
   "outputs": [],
   "source": [
    "plt.figure(figsize=(12, 6))\n",
    "\n",
    "plt.plot(data.Date, data.CPI, color=\"red\", linewidth=1, linestyle=\"-\", marker=\"o\", markersize=10, label=\"CPI\", alpha=0.9)\n",
    "\n",
    "plt.xlabel(\"Date\")\n",
    "plt.ylabel(\"CPI\")\n",
    "plt.title(\"Nepal's Monthly CPI\")\n",
    "\n",
    "plt.annotate(\"CPI highly increased\", xy=(3, 147.9), xytext=(4, 150), arrowprops=dict( arrowstyle='->', \n",
    "                                                                                     color='g',\n",
    "                                                                                    lw='2',ls='--',\n",
    "                                                                                     connectionstyle=\"bar,armA=20,armB=10\"),bbox = dict(boxstyle='round', facecolor='yellow', edgecolor='red'))\n",
    "plt.legend()\n",
    "plt.show()\n"
   ]
  },
  {
   "cell_type": "markdown",
   "id": "a140162a-2f22-43ee-971a-79bcebfbf1cd",
   "metadata": {},
   "source": [
    "### 1.6.7. Box for annotate text\n",
    "**`bbox`** is a dictionary that specifies the properties of a rectangular bounding box that can be used to surround and highlight text or annotations in a matplotlib plot.\n",
    "\n",
    "The most commonly used bbox arguments include:\n",
    "\n",
    "**`boxstyle`**: Specifies the shape of the box, such as 'round', 'square', 'circle', or 'larrow' (left arrow), among others.\n",
    "\n",
    "**`facecolor`**: Specifies the fill color of the box.\n",
    "\n",
    "**`edgecolor`**: Specifies the color of the box's edges.\n",
    "\n",
    "**`alpha`**: Specifies the transparency of the box.\n",
    "\n",
    "**`pad`**: Specifies the amount of padding between the text and the edges of the box.\n",
    "\n",
    "**`linewidth`**: Specifies the width of the box's edges.\n",
    "\n"
   ]
  },
  {
   "cell_type": "code",
   "execution_count": null,
   "id": "458e10ec-24eb-4c28-87b1-563be8f3d94d",
   "metadata": {},
   "outputs": [],
   "source": [
    "plt.figure(figsize=(12, 6))\n",
    "\n",
    "plt.plot(data.Date, data.CPI, color=\"red\", linewidth=1, linestyle=\"-\", marker=\"o\", markersize=10, label=\"CPI\", alpha=0.9)\n",
    "\n",
    "plt.xlabel(\"Date\")\n",
    "plt.ylabel(\"CPI\")\n",
    "plt.title(\"Nepal's Monthly CPI\")\n",
    "\n",
    "plt.annotate(\"CPI highly increased\", xy=(3, 147.9), xytext=(4, 150), arrowprops=dict( arrowstyle='->'),\n",
    "             bbox = dict(boxstyle='round', facecolor='yellow', edgecolor='red'),style='italic')\n",
    "plt.legend()\n",
    "plt.show()\n"
   ]
  },
  {
   "cell_type": "markdown",
   "id": "508aac91-c461-416b-80d4-ed4888df5654",
   "metadata": {},
   "source": [
    "### 1.7. Save Chart (savefig)\n",
    "\n",
    "**``plt.savefig``**: It is used to save the graphic you created. Your working file saves almost there.\n",
    "\n",
    "**`dpi`**: Allows you to increase the resolution of the graphic. Takes integer values. When you give large values ​​like 1200, you may have to wait for the output.\n",
    "\n",
    "**`quality`**: Allows us to set the quality of the chart. It is recommended to take a value between 1-95. 95 is the best value.\n",
    "\n",
    "**`optimize`**: Takes a True or False value.\n",
    "\n",
    "**`facecolor`**: Colors the background of the graphic.\n",
    "\n",
    "**`edgecolor`**: Sets the edge color of the chart.\n",
    "\n",
    "**`transparent`**: Sets the transparency of the chart. Takes a True or False value.\n",
    "\n",
    "Documentation about Savefig: https://matplotlib.org/stable/api/_as_gen/matplotlib.pyplot.savefig.html"
   ]
  },
  {
   "cell_type": "markdown",
   "id": "8e0e84ff-a166-4c62-b03c-f41aed02b6d6",
   "metadata": {},
   "source": [
    "### 1.7.1. Coloring the Background of the Chart\n",
    "**`facecolor`**: Colors the background of the chart. The change will appear in saved file.\n",
    "**`plt.gca().set_facecolor('red')`** : This code change the background color of chart area.\n"
   ]
  },
  {
   "cell_type": "code",
   "execution_count": null,
   "id": "f3dc7d24-74b7-41c0-9009-4c6edfdc133f",
   "metadata": {},
   "outputs": [],
   "source": [
    "plt.figure(figsize=(12,4))\n",
    "\n",
    "plt.plot(data.Date,data.CPI,color=\"blue\") \n",
    "\n",
    "plt.plot(data.Date,data.WPI,color=\"black\")\n",
    "\n",
    "plt.xlabel(\"Date\")\n",
    "\n",
    "plt.ylabel(\"Index\")\n",
    "\n",
    "plt.title(\"Nepal's CPI and WPI\")\n",
    "# plt.yticks([20,60,100,150,200],['zero', 'two', 'four', 'six', 'eight'])\n",
    "plt.gca().set_facecolor('red')\n",
    "\n",
    "\n",
    "plt.savefig(fname=\"mypic.pdf\",facecolor=\"#F2F4C1\")\n",
    "plt.show()"
   ]
  },
  {
   "cell_type": "markdown",
   "id": "77e8b25e-1c4e-4876-b644-704d8dbe6833",
   "metadata": {},
   "source": [
    "### 1.7.2 Make trasparent picture\n",
    "**`transparent`**: It takes two values True or False , True makes chart transparent."
   ]
  },
  {
   "cell_type": "code",
   "execution_count": null,
   "id": "809302ad-ac35-4cdb-8a6f-1d4af1245c40",
   "metadata": {},
   "outputs": [],
   "source": [
    "plt.figure(figsize=(12, 6))\n",
    "\n",
    "plt.plot(data.Date, data.CPI, color=\"red\", linewidth=1, linestyle=\"-\", marker=\"o\", markersize=10, label=\"CPI\", alpha=0.9)\n",
    "\n",
    "plt.xlabel(\"Date\")\n",
    "plt.ylabel(\"CPI\")\n",
    "plt.title(\"Nepal's Monthly CPI\")\n",
    "\n",
    "plt.annotate(\"CPI highly increased\", xy=(3, 147.9), xytext=(4, 150), arrowprops=dict( arrowstyle='->'),\n",
    "             bbox = dict(boxstyle='round', facecolor='yellow', edgecolor='red'),style='italic')\n",
    "plt.legend()\n",
    "plt.savefig(fname=\"trans1.png\",transparent=True)\n",
    "plt.show()"
   ]
  },
  {
   "cell_type": "markdown",
   "id": "fd26290f-4313-4ec1-9317-a8ea84c72c83",
   "metadata": {},
   "source": [
    "### 1.7.3. \n",
    "Increasing the resolution and quality of the graphic\n",
    "\n",
    "**`dpi`**: Allows you to increase the resolution of the graphic. Takes integer values. When you give large values ​​like 1200, you may have to wait for the output.\n"
   ]
  },
  {
   "cell_type": "code",
   "execution_count": null,
   "id": "a5ce4c6b-40ca-4b1e-bae9-d2cbb9b10b5c",
   "metadata": {},
   "outputs": [],
   "source": [
    "plt.figure(figsize=(12, 6))\n",
    "\n",
    "plt.plot(data.Date, data.CPI, color=\"red\", linewidth=1, linestyle=\"-\", marker=\"o\", markersize=10, label=\"CPI\", alpha=0.9)\n",
    "\n",
    "plt.xlabel(\"Date\")\n",
    "plt.ylabel(\"CPI\")\n",
    "plt.title(\"Nepal's Monthly CPI\")\n",
    "\n",
    "plt.annotate(\"CPI highly increased\", xy=(3, 147.9), xytext=(4, 150), arrowprops=dict( arrowstyle='->'),\n",
    "             bbox = dict(boxstyle='round', facecolor='yellow', edgecolor='red'),style='italic')\n",
    "plt.legend()\n",
    "\n",
    "\n",
    "plt.savefig(fname=\"highresolution1.png\",facecolor=\"#f0f9e8\",dpi=100)\n",
    "plt.show()"
   ]
  },
  {
   "cell_type": "markdown",
   "id": "2ab161cc-357c-4d33-b56c-096f0891ccd2",
   "metadata": {},
   "source": [
    "## 2.Chart Types\n",
    "\n",
    "### 2.1.Scatter Plot\n",
    "**`s`**: Determines the size of the circles in the chart.\n",
    "\n",
    "**`c`**: Determines the color of the circles in the chart.\n",
    "\n",
    "**`edgecolors`**: Specifies the color of the line outside the circle.\n",
    "\n",
    "**`linewidths`**: Determines the thickness of the line outside the circle.\n",
    "\n",
    "**`alpha`**: Specifies the transparency of the circle. It takes a value between 0-1.\n",
    "\n",
    "**`marker`**: species marker in the plot\n",
    "\n",
    "\n",
    "**For Marker styles:** https://matplotlib.org/stable/api/_as_gen/matplotlib.markers.MarkerStyle.html"
   ]
  },
  {
   "cell_type": "markdown",
   "id": "ad4447d1-5e1d-47ec-b47d-00274bebeaed",
   "metadata": {},
   "source": [
    "### 2.1.1.Determining the Size of the Round\n",
    "\n",
    "**`s`**: Determines the size of the circles in the chart."
   ]
  },
  {
   "cell_type": "code",
   "execution_count": null,
   "id": "32b88204-672c-4b1f-8f3e-3bb7f93b4d8d",
   "metadata": {},
   "outputs": [],
   "source": [
    "plt.figure(figsize=(12,6))\n",
    "\n",
    "plt.scatter(data.Date,data.CPI,s=100,label=\"CPI\")\n",
    "\n",
    "plt.scatter(data.Date,data.WPI,s=75,label=\"WPI\")\n",
    "\n",
    "plt.xlabel(\"Date\")\n",
    "plt.ylabel(\"Index\")\n",
    "plt.title(\"CPI and WPI trend of Nepal\")\n",
    "plt.legend()\n",
    "plt.show()"
   ]
  },
  {
   "cell_type": "markdown",
   "id": "d32e8eb1-4f23-4cd0-bf69-6e0711689d47",
   "metadata": {},
   "source": [
    "### 2.1.2. Determining the Color of the Round\n",
    "**`c`**: Sets the color of the circles in the chart."
   ]
  },
  {
   "cell_type": "code",
   "execution_count": null,
   "id": "38f7f741-93c5-4f28-bc86-020278a525f1",
   "metadata": {},
   "outputs": [],
   "source": [
    "f=plt.figure(figsize=(12,6))\n",
    "\n",
    "plt.scatter(data.Date,data.CPI,color=\"red\",s=300,label=\"CPI\")\n",
    "\n",
    "plt.scatter(data.Date,data.WPI,c=\"#2171b5\",s=75,label=\"WPI\")\n",
    "\n",
    "plt.xlabel(\"Date\")\n",
    "plt.ylabel(\"Index\")\n",
    "plt.title(\"CPI and WPI trend of Nepal\")\n",
    "plt.legend()\n",
    "plt.show()"
   ]
  },
  {
   "cell_type": "markdown",
   "id": "645d7e92-1d94-4e8e-83d9-060e67cae0d6",
   "metadata": {},
   "source": [
    "### 2.1.3.Determining the Outer Color of the Round\n",
    "**`edgecolors`**: Specifies the color of the line outside the circle."
   ]
  },
  {
   "cell_type": "code",
   "execution_count": null,
   "id": "092ebaf3-9a9f-4732-971c-20475160d008",
   "metadata": {},
   "outputs": [],
   "source": [
    "plt.figure(figsize=(12,6))\n",
    "\n",
    "plt.scatter(data.Date,data.CPI,\n",
    "            s=200,c=\"#6baed6\",\n",
    "            edgecolors='red',label=\"CPI\")\n",
    "\n",
    "plt.scatter(data.Date,data.WPI,\n",
    "            s=75,c=\"red\",\n",
    "            edgecolors='green',label=\"WPI\")\n",
    "\n",
    "plt.xlabel(\"Date\")\n",
    "plt.ylabel(\"Index\")\n",
    "plt.title(\"CPI and WPI trend of Nepal\")\n",
    "plt.legend()\n",
    "plt.show()"
   ]
  },
  {
   "cell_type": "markdown",
   "id": "8d2252ba-2215-415f-b80b-06664734abe5",
   "metadata": {},
   "source": [
    "### 2.1.3.Determining the Outer Color Thickness of the Round\n",
    "**`linewidths`**:Specifies the thickness of the line outside the circle."
   ]
  },
  {
   "cell_type": "code",
   "execution_count": null,
   "id": "7867d09c-ad37-4846-bbe1-918ab035a3dd",
   "metadata": {},
   "outputs": [],
   "source": [
    "plt.figure(figsize=(12,6))\n",
    "\n",
    "plt.scatter(data.Date,data.CPI,\n",
    "            s=200,c=\"#6baed6\",\n",
    "            edgecolors='red',linewidths=.5,label=\"CPI\")\n",
    "\n",
    "plt.scatter(data.Date,data.WPI,\n",
    "            s=75,c=\"red\",\n",
    "            edgecolors='green',label=\"WPI\")\n",
    "\n",
    "plt.xlabel(\"Date\")\n",
    "plt.ylabel(\"Index\")\n",
    "plt.title(\"CPI and WPI trend of Nepal\")\n",
    "plt.legend()\n",
    "plt.show()"
   ]
  },
  {
   "cell_type": "markdown",
   "id": "1af45478-ecd3-4a22-a3b5-9ef300b27295",
   "metadata": {},
   "source": [
    "### 2.1.4.Specifying the Transparency of the Round\n",
    "**`alpha`**: Is set the darkness of the circle. take  values between 0 to 1."
   ]
  },
  {
   "cell_type": "code",
   "execution_count": null,
   "id": "014d2d7c-1316-493e-8cf4-9b9736ec24af",
   "metadata": {},
   "outputs": [],
   "source": [
    "plt.figure(figsize=(12,6))\n",
    "\n",
    "plt.scatter(data.Date,data.CPI,\n",
    "            s=200,c=\"#6baed6\",\n",
    "            edgecolors='red',linewidths=2,alpha=0.2,label=\"CPI\")\n",
    "\n",
    "plt.scatter(data.Date,data.WPI,\n",
    "            s=75,c=\"red\",\n",
    "            edgecolors='green',label=\"WPI\")\n",
    "\n",
    "plt.xlabel(\"Date\")\n",
    "plt.ylabel(\"Index\")\n",
    "plt.title(\"CPI and WPI trend of Nepal\")\n",
    "plt.legend()\n",
    "plt.show()"
   ]
  },
  {
   "cell_type": "code",
   "execution_count": null,
   "id": "1d48ada0-bf9d-4567-b8ab-d6d01ef65f37",
   "metadata": {},
   "outputs": [],
   "source": [
    "plt.figure(figsize=(12,6))\n",
    "\n",
    "plt.scatter(data.Date,data.CPI,s=300,marker='p',label=\"CPI\")\n",
    "\n",
    "plt.scatter(data.Date,data.WPI,s=75,marker='$✍️$',label=\"WPI\")\n",
    "\n",
    "plt.xlabel(\"Date\")\n",
    "plt.ylabel(\"Index\")\n",
    "plt.title(\"CPI and WPI trend of Nepal\")\n",
    "plt.legend()\n",
    "plt.show()"
   ]
  },
  {
   "cell_type": "code",
   "execution_count": null,
   "id": "cb3def76",
   "metadata": {},
   "outputs": [],
   "source": []
  }
 ],
 "metadata": {
  "kernelspec": {
   "display_name": "Python 3 (ipykernel)",
   "language": "python",
   "name": "python3"
  },
  "language_info": {
   "codemirror_mode": {
    "name": "ipython",
    "version": 3
   },
   "file_extension": ".py",
   "mimetype": "text/x-python",
   "name": "python",
   "nbconvert_exporter": "python",
   "pygments_lexer": "ipython3",
   "version": "3.9.13"
  }
 },
 "nbformat": 4,
 "nbformat_minor": 5
}

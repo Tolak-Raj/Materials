{
 "cells": [
  {
   "cell_type": "code",
   "execution_count": 20,
   "id": "5b503081",
   "metadata": {},
   "outputs": [],
   "source": [
    "import numpy as np\n",
    "import pandas as pd"
   ]
  },
  {
   "cell_type": "markdown",
   "id": "79f54cf4",
   "metadata": {
    "cell_id": "00001-c8b7162c-b006-4596-91f9-fa526dd0de54",
    "deepnote_cell_type": "markdown",
    "tags": []
   },
   "source": [
    "## Dictionaries \n",
    "###  (a.k.a. `Dicts`)\n",
    "\n",
    "My post in website :[Python Dictionaries: Key-Value Pair Mapping](https://pudasainimohan.com.np/post/python_dictionary/)     \n",
    "Making `Dicts`:\n",
    "\n",
    "| Code | Output | Description |\n",
    "| :--  | :--    | :---        |\n",
    "| `x = {'a': 3, 'b': 4}` | `{'a': 3, 'b': 4}`  | Make a `dict` using curly braces and colons |\n",
    "| `dict([('a', 3), ('b', 4)])` | `{'a': 3, 'b': 4}` | Transform a list of pairs of data into a `dict` |\n",
    "\n",
    ".\n",
    "\n",
    "Some Dict Methods:\n",
    "\n",
    "| Function Syntax | Method Syntax | Example Output | Description |\n",
    "| :---  | :--- | :--- | :--- |\n",
    "| `dict.keys(x)` | `x.keys()` | `dict_keys(['a', 'b'])` | The keys of the dictionary (these are like the \"indices\" of the dict) |\n",
    "| `dict.values(x)` | `x.values()` | `dict_values([3, 4])` | The values of the dictionary (the data you can extract from the dict) |\n",
    "| `dict.items(x)`  | `x.items()` | `dict_items([('a', 3), ('b', 4)])` | The item pairs in the dictionary |\n",
    "\n"
   ]
  },
  {
   "cell_type": "markdown",
   "id": "53c37edc",
   "metadata": {
    "cell_id": "00001-f79eb6d6-4fc0-4820-9279-06bb64f06729",
    "deepnote_cell_type": "markdown",
    "tags": []
   },
   "source": [
    "**Exercises**: Let's explore some dictionaries and get a feel for them."
   ]
  },
  {
   "cell_type": "markdown",
   "id": "e3db5287",
   "metadata": {},
   "source": [
    "Make a `birthdays` dictionary for your three friends, so that you can look up their names and get their birthday:\n",
    "  - Rajesh's birthday is Jan. 4th\n",
    "  - Amit's birthday is May 25th\n",
    "  - Krishna's birthday is Dec. 12th"
   ]
  },
  {
   "cell_type": "code",
   "execution_count": 1,
   "id": "aca87350",
   "metadata": {
    "tags": [
     "exercise"
    ]
   },
   "outputs": [
    {
     "data": {
      "text/plain": [
       "{'Rajesh': 'Dec. 1st', 'Amit': 'May 4th', 'Krishna': 'July 23rd'}"
      ]
     },
     "execution_count": 1,
     "metadata": {},
     "output_type": "execute_result"
    }
   ],
   "source": [
    "birthdays = {'Rajesh': 'Dec. 1st', 'Amit': 'May 4th', 'Krishna': 'July 23rd'}\n",
    "birthdays"
   ]
  },
  {
   "cell_type": "markdown",
   "id": "bb95f70b",
   "metadata": {},
   "source": [
    "Use the `birthdays` dict above to do the exercises."
   ]
  },
  {
   "cell_type": "markdown",
   "id": "b1ffac1e",
   "metadata": {},
   "source": [
    "What is Rajesh's birthday?"
   ]
  },
  {
   "cell_type": "code",
   "execution_count": 3,
   "id": "8157d081",
   "metadata": {
    "tags": [
     "exercise"
    ]
   },
   "outputs": [
    {
     "data": {
      "text/plain": [
       "'Dec. 1st'"
      ]
     },
     "execution_count": 3,
     "metadata": {},
     "output_type": "execute_result"
    }
   ],
   "source": [
    "birthdays['Rajesh']"
   ]
  },
  {
   "cell_type": "markdown",
   "id": "b14a1b52",
   "metadata": {},
   "source": [
    "Whose birthday is on Dec. 1st?"
   ]
  },
  {
   "cell_type": "code",
   "execution_count": 5,
   "id": "ca990d73",
   "metadata": {
    "tags": [
     "exercise"
    ]
   },
   "outputs": [
    {
     "data": {
      "text/plain": [
       "{'Dec. 1st': 'Rajesh', 'May 4th': 'Amit', 'July 23rd': 'Krishna'}"
      ]
     },
     "execution_count": 5,
     "metadata": {},
     "output_type": "execute_result"
    }
   ],
   "source": [
    "b_item=birthdays.items()\n",
    "friends= dict(reversed(i) for i in b_item )\n",
    "friends"
   ]
  },
  {
   "cell_type": "markdown",
   "id": "e9f2e69f",
   "metadata": {
    "cell_id": "00002-daede3e3-f2ff-4f36-a400-8461c8fae4e7",
    "deepnote_cell_type": "markdown",
    "tags": []
   },
   "source": [
    "What are the `values` in the birthdays dict?"
   ]
  },
  {
   "cell_type": "code",
   "execution_count": 6,
   "id": "c07a2e0e",
   "metadata": {
    "tags": [
     "exercise"
    ]
   },
   "outputs": [
    {
     "data": {
      "text/plain": [
       "dict_values(['Dec. 1st', 'May 4th', 'July 23rd'])"
      ]
     },
     "execution_count": 6,
     "metadata": {},
     "output_type": "execute_result"
    }
   ],
   "source": [
    "birthdays.values()"
   ]
  },
  {
   "cell_type": "markdown",
   "id": "23695ad4",
   "metadata": {
    "cell_id": "00004-121dd86c-09c5-45c3-8187-5daed60bca2d",
    "deepnote_cell_type": "markdown",
    "tags": []
   },
   "source": [
    "What are the `keys` in the birthdays dict?"
   ]
  },
  {
   "cell_type": "code",
   "execution_count": 7,
   "id": "094878c1",
   "metadata": {
    "cell_id": "00004-e4f95858-9c3d-4865-9fbe-64070fdd0420",
    "deepnote_cell_type": "code",
    "deepnote_to_be_reexecuted": false,
    "execution_millis": 1,
    "execution_start": 1634212157832,
    "source_hash": "4c0051d4",
    "tags": [
     "exercise"
    ]
   },
   "outputs": [
    {
     "data": {
      "text/plain": [
       "dict_keys(['Rajesh', 'Amit', 'Krishna'])"
      ]
     },
     "execution_count": 7,
     "metadata": {},
     "output_type": "execute_result"
    }
   ],
   "source": [
    "birthdays.keys()"
   ]
  },
  {
   "cell_type": "markdown",
   "id": "dbeddd43",
   "metadata": {
    "cell_id": "00006-b3a9b407-190b-4475-8a1a-27d23fb3e8c5",
    "deepnote_cell_type": "markdown",
    "tags": []
   },
   "source": [
    "What are the `items` in the birthdays dict?"
   ]
  },
  {
   "cell_type": "code",
   "execution_count": 8,
   "id": "262ad17b",
   "metadata": {
    "cell_id": "00005-8bca3064-8493-4be7-9afa-fc23bf0d6325",
    "deepnote_cell_type": "code",
    "deepnote_to_be_reexecuted": false,
    "execution_millis": 1,
    "execution_start": 1634211977207,
    "source_hash": "4c0051d4",
    "tags": [
     "exercise"
    ]
   },
   "outputs": [
    {
     "data": {
      "text/plain": [
       "dict_items([('Rajesh', 'Dec. 1st'), ('Amit', 'May 4th'), ('Krishna', 'July 23rd')])"
      ]
     },
     "execution_count": 8,
     "metadata": {},
     "output_type": "execute_result"
    }
   ],
   "source": [
    "birthdays.items()"
   ]
  },
  {
   "cell_type": "markdown",
   "id": "2e679b6c",
   "metadata": {
    "cell_id": "00008-8ce9796a-0269-4b9c-b4f1-f4350733d973",
    "deepnote_cell_type": "markdown",
    "tags": []
   },
   "source": [
    "Make a dict from this list of tuples:"
   ]
  },
  {
   "cell_type": "code",
   "execution_count": 9,
   "id": "9ff89dc8",
   "metadata": {
    "cell_id": "00006-a669e6ee-c488-49d9-ba0a-aa13cc3f2c28",
    "deepnote_cell_type": "code",
    "deepnote_to_be_reexecuted": false,
    "execution_millis": 3,
    "execution_start": 1635335328020,
    "source_hash": "8186ff01",
    "tags": []
   },
   "outputs": [],
   "source": [
    "brightnesses = [\n",
    "    ('red', 65), \n",
    "    ('green', 3), \n",
    "    ('blue', 10)]"
   ]
  },
  {
   "cell_type": "code",
   "execution_count": 10,
   "id": "18a6969f",
   "metadata": {
    "tags": [
     "exercise"
    ]
   },
   "outputs": [
    {
     "data": {
      "text/plain": [
       "{'red': 65, 'green': 3, 'blue': 10}"
      ]
     },
     "execution_count": 10,
     "metadata": {},
     "output_type": "execute_result"
    }
   ],
   "source": [
    "dict(brightnesses)"
   ]
  },
  {
   "cell_type": "markdown",
   "id": "b108d082",
   "metadata": {
    "cell_id": "00027-f318248b-8f6e-481f-a283-4593a2172cf5",
    "deepnote_cell_type": "markdown",
    "tags": []
   },
   "source": [
    "## Analysing Data stored in Dicts\n",
    "\n",
    "The challenge with analyzing `dict` data is that dicts are not \"sequences\", and neither are `dict_keys()` or `dict_values()`, so before putting them into a statistics function we should first turn `dict_values()` into a `list` using the `list()` function. For example:\n",
    "\n",
    "```python\n",
    ">>> data = {'x': 1, 'y': 2}\n",
    "\n",
    ">>> data.values()\n",
    "dict_values([1, 2])\n",
    "\n",
    ">>> list(data.values())\n",
    "[1, 2]\n",
    "\n",
    ">>> np.mean(list(data.values()))\n",
    "1.5\n",
    "```\n",
    "\n",
    "Useful Functions for the below Exercises:\n",
    "\n",
    "| Function | Example | Description |\n",
    "| :----  | :----   | :---- |\n",
    "| `len()` | `len(the_dict)` | The total number of items |\n",
    "| `np.mean()` | `np.mean(list(the_dict.values())` | The mean of the dict's values |\n",
    "| `np.min()` | `np.min(list(the_dict.values()))` | The minimum of the dict's values |"
   ]
  },
  {
   "cell_type": "code",
   "execution_count": 15,
   "id": "2a2b3991",
   "metadata": {
    "cell_id": "00024-87cec780-9706-4172-a9c0-823efcd94796",
    "deepnote_cell_type": "code",
    "deepnote_to_be_reexecuted": false,
    "execution_millis": 0,
    "execution_start": 1636319325919,
    "source_hash": "c2602aa8",
    "tags": []
   },
   "outputs": [],
   "source": [
    "import numpy as np"
   ]
  },
  {
   "cell_type": "markdown",
   "id": "58cf35af",
   "metadata": {
    "cell_id": "00023-6798155b-8e03-48b5-a2cd-7946f39d2e57",
    "deepnote_cell_type": "markdown",
    "tags": []
   },
   "source": [
    "**Exercises**: Let's get some practice querying dicts and calculating some statistics on dicts using Numpy."
   ]
  },
  {
   "cell_type": "markdown",
   "id": "78d8ca75",
   "metadata": {
    "cell_id": "00026-13fb674f-bb5e-432d-bfcd-6066805e4070",
    "deepnote_cell_type": "markdown",
    "tags": []
   },
   "source": [
    "Using the following dict, calculate what was the average hours of sleep that our friends got last night:"
   ]
  },
  {
   "cell_type": "code",
   "execution_count": 12,
   "id": "dcfb31fd",
   "metadata": {
    "cell_id": "00024-30849f61-26af-4168-90e1-a07f4a10ad1a",
    "deepnote_cell_type": "code",
    "deepnote_to_be_reexecuted": false,
    "execution_millis": 2,
    "execution_start": 1636319330240,
    "source_hash": "bf569e30",
    "tags": []
   },
   "outputs": [],
   "source": [
    "hours_of_sleep = {'Ram': 5, 'Sita': 9, 'Gopal': 7, 'Rita': 6, 'Mohan': 8}"
   ]
  },
  {
   "cell_type": "code",
   "execution_count": 16,
   "id": "7e531e48",
   "metadata": {
    "tags": [
     "exercise"
    ]
   },
   "outputs": [
    {
     "data": {
      "text/plain": [
       "7.0"
      ]
     },
     "execution_count": 16,
     "metadata": {},
     "output_type": "execute_result"
    }
   ],
   "source": [
    "#np.mean(list(hours_of_sleep.values()))\n",
    "np.mean(list(hours_of_sleep.values()))\n",
    "\n"
   ]
  },
  {
   "cell_type": "markdown",
   "id": "3bac533c",
   "metadata": {
    "cell_id": "00027-e8d9b705-342c-471c-8373-6d0b89a5861e",
    "deepnote_cell_type": "markdown",
    "tags": []
   },
   "source": [
    "How many total people in the following dataset were in our sleep study?"
   ]
  },
  {
   "cell_type": "code",
   "execution_count": 17,
   "id": "fe67f700",
   "metadata": {
    "tags": [
     "exercise"
    ]
   },
   "outputs": [
    {
     "data": {
      "text/plain": [
       "5"
      ]
     },
     "execution_count": 17,
     "metadata": {},
     "output_type": "execute_result"
    }
   ],
   "source": [
    "len(hours_of_sleep)"
   ]
  },
  {
   "cell_type": "code",
   "execution_count": 18,
   "id": "d81a31ee",
   "metadata": {
    "scrolled": false
   },
   "outputs": [
    {
     "name": "stdout",
     "output_type": "stream",
     "text": [
      "Name: pandas\n",
      "Version: 1.5.3\n",
      "Summary: Powerful data structures for data analysis, time series, and statistics\n",
      "Home-page: https://pandas.pydata.org\n",
      "Author: The Pandas Development Team\n",
      "Author-email: pandas-dev@python.org\n",
      "License: BSD-3-Clause\n",
      "Location: c:\\users\\custo\\anaconda3\\lib\\site-packages\n",
      "Requires: numpy, python-dateutil, pytz\n",
      "Required-by: datashader, holoviews, hvplot, pyreadstat, seaborn, statsmodels, xarray\n"
     ]
    }
   ],
   "source": [
    "!pip show pandas"
   ]
  },
  {
   "cell_type": "code",
   "execution_count": 21,
   "id": "dd718e9d",
   "metadata": {},
   "outputs": [],
   "source": [
    "import pandas as pd"
   ]
  },
  {
   "cell_type": "markdown",
   "id": "1b2c8ecb",
   "metadata": {
    "cell_id": "00004-44ac6f6a-3dbe-4ee0-95a1-06033662b76d",
    "deepnote_cell_type": "markdown",
    "id": "metropolitan-madagascar"
   },
   "source": [
    "# Pandas DataFrames"
   ]
  },
  {
   "cell_type": "markdown",
   "id": "e92c5af1",
   "metadata": {
    "cell_id": "00005-cc1771f3-d987-4ecb-b8af-4f986f49d656",
    "deepnote_cell_type": "markdown",
    "id": "legendary-filing"
   },
   "source": [
    "## What is a DataFrame?\n",
    "\n",
    "A DataFrame, is a **Table** of data.  It is a structure that contains multiple rows, each row containing the same labelled collection of data types.  A **DataFrame** is a table with named rows (called the \"index\"). For example, a DataFrame might look like this:\n",
    "\n",
    "| (index) | Name | Age | Height | LikesIceCream |\n",
    "| :---: | :--: | :--: | :--: | :--: |\n",
    "| 0     | \"Ram\" | 22 |5.3 | True |\n",
    "| 1     | \"Sita\" | 55 | 5 | True |\n",
    "| 2     | \"Hari\"  | 25 | 5.8 | True |\n",
    "\n",
    "Because each row contains the same data, DataFrames can also be thought of as a collection of same-length columns!\n",
    "\n",
    "**Pandas** is a Python package that has a DataFrame class.  many **read_()** functions, you can make your own DataFrame from a variety of sources.  "
   ]
  },
  {
   "cell_type": "markdown",
   "id": "27564a23",
   "metadata": {
    "cell_id": "00006-b30cc3eb-945c-4407-82d7-469b1ef80864",
    "deepnote_cell_type": "markdown",
    "id": "outstanding-resolution"
   },
   "source": [
    "## Making DataFrames Directly\n",
    "\n",
    "### Examples of Different Ways\n",
    "\n",
    "#### From a List of Dicts\n",
    "\n",
    "Dicts are named collections.  If you have many of the same dicts in a list, the DataFrame constructor can convert it to a Dataframe:"
   ]
  },
  {
   "cell_type": "code",
   "execution_count": 24,
   "id": "6d9633a4",
   "metadata": {
    "cell_id": "00007-591c1df5-145e-4f46-bada-1c38ed46ed6d",
    "deepnote_cell_type": "code",
    "deepnote_to_be_reexecuted": false,
    "execution_millis": 12,
    "execution_start": 1636318561352,
    "id": "speaking-beatles",
    "outputId": "efd56fc7-9b41-44fe-a919-1dd9c3f6945c",
    "source_hash": "76511c9d"
   },
   "outputs": [
    {
     "data": {
      "text/html": [
       "<div>\n",
       "<style scoped>\n",
       "    .dataframe tbody tr th:only-of-type {\n",
       "        vertical-align: middle;\n",
       "    }\n",
       "\n",
       "    .dataframe tbody tr th {\n",
       "        vertical-align: top;\n",
       "    }\n",
       "\n",
       "    .dataframe thead th {\n",
       "        text-align: right;\n",
       "    }\n",
       "</style>\n",
       "<table border=\"1\" class=\"dataframe\">\n",
       "  <thead>\n",
       "    <tr style=\"text-align: right;\">\n",
       "      <th></th>\n",
       "      <th>Name</th>\n",
       "      <th>Age</th>\n",
       "      <th>Height</th>\n",
       "      <th>Weight</th>\n",
       "    </tr>\n",
       "  </thead>\n",
       "  <tbody>\n",
       "    <tr>\n",
       "      <th>0</th>\n",
       "      <td>Ram</td>\n",
       "      <td>31</td>\n",
       "      <td>5.3</td>\n",
       "      <td>60.0</td>\n",
       "    </tr>\n",
       "    <tr>\n",
       "      <th>1</th>\n",
       "      <td>Sita</td>\n",
       "      <td>55</td>\n",
       "      <td>5.0</td>\n",
       "      <td>NaN</td>\n",
       "    </tr>\n",
       "    <tr>\n",
       "      <th>2</th>\n",
       "      <td>Hari</td>\n",
       "      <td>25</td>\n",
       "      <td>5.8</td>\n",
       "      <td>NaN</td>\n",
       "    </tr>\n",
       "  </tbody>\n",
       "</table>\n",
       "</div>"
      ],
      "text/plain": [
       "   Name  Age  Height  Weight\n",
       "0   Ram   31     5.3    60.0\n",
       "1  Sita   55     5.0     NaN\n",
       "2  Hari   25     5.8     NaN"
      ]
     },
     "execution_count": 24,
     "metadata": {},
     "output_type": "execute_result"
    }
   ],
   "source": [
    "friends = [\n",
    "    {'Name': \"Ram\", \"Age\": 31, \"Height\": 5.3, \"Weight\": 60},\n",
    "    {'Name': \"Sita\", \"Age\": 55, \"Height\": 5},\n",
    "    {\"Name\": \"Hari\", \"Height\": 5.8, \"Age\": 25 },\n",
    "]\n",
    "pd.DataFrame(friends)"
   ]
  },
  {
   "cell_type": "markdown",
   "id": "3848bae4",
   "metadata": {
    "cell_id": "00008-0aac322b-2e86-43c5-b23e-f9c8c2049411",
    "deepnote_cell_type": "markdown",
    "id": "working-night"
   },
   "source": [
    "#### From a Dict of Lists"
   ]
  },
  {
   "cell_type": "code",
   "execution_count": 25,
   "id": "a2a7c5c8",
   "metadata": {
    "cell_id": "00009-01094bc3-c18b-4b56-a649-88ba0f2daa50",
    "deepnote_cell_type": "code",
    "deepnote_to_be_reexecuted": false,
    "execution_millis": 15,
    "execution_start": 1636318568867,
    "id": "unexpected-client",
    "outputId": "b8368c60-bc1a-4073-da77-a7dc57aead08",
    "source_hash": "4fd51953"
   },
   "outputs": [
    {
     "data": {
      "text/html": [
       "<div>\n",
       "<style scoped>\n",
       "    .dataframe tbody tr th:only-of-type {\n",
       "        vertical-align: middle;\n",
       "    }\n",
       "\n",
       "    .dataframe tbody tr th {\n",
       "        vertical-align: top;\n",
       "    }\n",
       "\n",
       "    .dataframe thead th {\n",
       "        text-align: right;\n",
       "    }\n",
       "</style>\n",
       "<table border=\"1\" class=\"dataframe\">\n",
       "  <thead>\n",
       "    <tr style=\"text-align: right;\">\n",
       "      <th></th>\n",
       "      <th>Name</th>\n",
       "      <th>Age</th>\n",
       "      <th>Height</th>\n",
       "    </tr>\n",
       "  </thead>\n",
       "  <tbody>\n",
       "    <tr>\n",
       "      <th>0</th>\n",
       "      <td>Ram</td>\n",
       "      <td>31</td>\n",
       "      <td>5.3</td>\n",
       "    </tr>\n",
       "    <tr>\n",
       "      <th>1</th>\n",
       "      <td>Sita</td>\n",
       "      <td>55</td>\n",
       "      <td>5.0</td>\n",
       "    </tr>\n",
       "    <tr>\n",
       "      <th>2</th>\n",
       "      <td>Hari</td>\n",
       "      <td>25</td>\n",
       "      <td>5.8</td>\n",
       "    </tr>\n",
       "  </tbody>\n",
       "</table>\n",
       "</div>"
      ],
      "text/plain": [
       "   Name  Age  Height\n",
       "0   Ram   31     5.3\n",
       "1  Sita   55     5.0\n",
       "2  Hari   25     5.8"
      ]
     },
     "execution_count": 25,
     "metadata": {},
     "output_type": "execute_result"
    }
   ],
   "source": [
    "df = pd.DataFrame({\n",
    "    'Name': ['Ram', 'Sita', 'Hari'], \n",
    "    'Age': [31, 55, 25], \n",
    "    'Height': [5.3, 5, 5.8],\n",
    "})\n",
    "\n",
    "df"
   ]
  },
  {
   "cell_type": "markdown",
   "id": "4d0f778f",
   "metadata": {
    "cell_id": "00010-ec69183b-5ac8-4dd0-a0db-8997e66b8c69",
    "deepnote_cell_type": "markdown",
    "id": "tutorial-internship"
   },
   "source": [
    "#### From a List of Lists\n",
    "\n",
    "if you have a collection of same-length sequences, you essentially have a rectangular data structure already!  All that's needed is to add some column labels."
   ]
  },
  {
   "cell_type": "code",
   "execution_count": 27,
   "id": "4223039e",
   "metadata": {
    "cell_id": "00011-e5073bfd-bedb-48d1-8cd0-870b146b932e",
    "deepnote_cell_type": "code",
    "deepnote_to_be_reexecuted": false,
    "execution_millis": 1,
    "execution_start": 1636318575992,
    "id": "finished-figure",
    "outputId": "90a107ee-fdcf-4116-d1c0-55f9ce7626ad",
    "source_hash": "ba91c925"
   },
   "outputs": [
    {
     "data": {
      "text/html": [
       "<div>\n",
       "<style scoped>\n",
       "    .dataframe tbody tr th:only-of-type {\n",
       "        vertical-align: middle;\n",
       "    }\n",
       "\n",
       "    .dataframe tbody tr th {\n",
       "        vertical-align: top;\n",
       "    }\n",
       "\n",
       "    .dataframe thead th {\n",
       "        text-align: right;\n",
       "    }\n",
       "</style>\n",
       "<table border=\"1\" class=\"dataframe\">\n",
       "  <thead>\n",
       "    <tr style=\"text-align: right;\">\n",
       "      <th></th>\n",
       "      <th>Name</th>\n",
       "      <th>Age</th>\n",
       "      <th>Height</th>\n",
       "    </tr>\n",
       "  </thead>\n",
       "  <tbody>\n",
       "    <tr>\n",
       "      <th>0</th>\n",
       "      <td>Ram</td>\n",
       "      <td>31</td>\n",
       "      <td>5.3</td>\n",
       "    </tr>\n",
       "    <tr>\n",
       "      <th>1</th>\n",
       "      <td>Sita</td>\n",
       "      <td>55</td>\n",
       "      <td>5.0</td>\n",
       "    </tr>\n",
       "    <tr>\n",
       "      <th>2</th>\n",
       "      <td>Hari</td>\n",
       "      <td>25</td>\n",
       "      <td>5.8</td>\n",
       "    </tr>\n",
       "  </tbody>\n",
       "</table>\n",
       "</div>"
      ],
      "text/plain": [
       "   Name  Age  Height\n",
       "0   Ram   31     5.3\n",
       "1  Sita   55     5.0\n",
       "2  Hari   25     5.8"
      ]
     },
     "execution_count": 27,
     "metadata": {},
     "output_type": "execute_result"
    }
   ],
   "source": [
    "friends = [\n",
    "    ['Ram', 31, 5.3],\n",
    "    ['Sita', 55, 5],\n",
    "    ['Hari',  25, 5.8]\n",
    "]\n",
    "pd.DataFrame(friends, columns=[\"Name\", \"Age\", \"Height\"])"
   ]
  },
  {
   "cell_type": "markdown",
   "id": "44b259df",
   "metadata": {
    "cell_id": "00012-3e9a1df7-f070-4c43-8d02-bb6dcda3854a",
    "deepnote_cell_type": "markdown",
    "id": "incoming-bathroom"
   },
   "source": [
    "#### From an empty DataFrame\n",
    "If you prefer, you can also add columns one at a time, starting with an empty DataFrame:"
   ]
  },
  {
   "cell_type": "code",
   "execution_count": 33,
   "id": "217787e2",
   "metadata": {
    "cell_id": "00013-c76cae6a-71b9-4aa2-a258-ec84f448d0d9",
    "deepnote_cell_type": "code",
    "deepnote_to_be_reexecuted": false,
    "execution_millis": 4,
    "execution_start": 1636318586715,
    "id": "beautiful-makeup",
    "outputId": "6e934d88-12b5-40e5-c139-f1d8bf2c05cf",
    "source_hash": "59a558dd"
   },
   "outputs": [
    {
     "data": {
      "text/html": [
       "<div>\n",
       "<style scoped>\n",
       "    .dataframe tbody tr th:only-of-type {\n",
       "        vertical-align: middle;\n",
       "    }\n",
       "\n",
       "    .dataframe tbody tr th {\n",
       "        vertical-align: top;\n",
       "    }\n",
       "\n",
       "    .dataframe thead th {\n",
       "        text-align: right;\n",
       "    }\n",
       "</style>\n",
       "<table border=\"1\" class=\"dataframe\">\n",
       "  <thead>\n",
       "    <tr style=\"text-align: right;\">\n",
       "      <th></th>\n",
       "      <th>Name</th>\n",
       "      <th>Age</th>\n",
       "      <th>Height</th>\n",
       "    </tr>\n",
       "  </thead>\n",
       "  <tbody>\n",
       "    <tr>\n",
       "      <th>0</th>\n",
       "      <td>Ram</td>\n",
       "      <td>31</td>\n",
       "      <td>5.3</td>\n",
       "    </tr>\n",
       "    <tr>\n",
       "      <th>1</th>\n",
       "      <td>Sita</td>\n",
       "      <td>55</td>\n",
       "      <td>5.0</td>\n",
       "    </tr>\n",
       "    <tr>\n",
       "      <th>2</th>\n",
       "      <td>Hari</td>\n",
       "      <td>25</td>\n",
       "      <td>5.8</td>\n",
       "    </tr>\n",
       "  </tbody>\n",
       "</table>\n",
       "</div>"
      ],
      "text/plain": [
       "   Name  Age  Height\n",
       "0   Ram   31     5.3\n",
       "1  Sita   55     5.0\n",
       "2  Hari   25     5.8"
      ]
     },
     "execution_count": 33,
     "metadata": {},
     "output_type": "execute_result"
    }
   ],
   "source": [
    "df = pd.DataFrame()\n",
    "df['Name'] = ['Ram', 'Sita', 'Hari']\n",
    "df['Age'] = [31, 55, 25]\n",
    "df['Height'] = [5.3, 5, 5.8]\n",
    "df\n"
   ]
  },
  {
   "cell_type": "markdown",
   "id": "67ed9034",
   "metadata": {
    "cell_id": "00014-8b55fa8f-9ac2-4340-bffc-3b059093469b",
    "deepnote_cell_type": "markdown",
    "id": "editorial-assumption"
   },
   "source": [
    "**Exercises**: Making DataFrames from Scratch\n",
    "\n",
    "Please use Pandas to recreate the table here as a Dataframe using one of the approaches detailed above:\n",
    "\n",
    "| Year | Product | Cost |\n",
    "| :--: | :----:  | :--: |\n",
    "| 2015 | Apples  | 0.35 |\n",
    "| 2016 | Apples  | 0.45 |\n",
    "| 2015 | Bananas | 0.75 |\n",
    "| 2016 | Bananas | 1.10 |"
   ]
  },
  {
   "cell_type": "code",
   "execution_count": 32,
   "id": "e31ad0a1",
   "metadata": {
    "tags": [
     "exercise"
    ]
   },
   "outputs": [
    {
     "data": {
      "text/html": [
       "<div>\n",
       "<style scoped>\n",
       "    .dataframe tbody tr th:only-of-type {\n",
       "        vertical-align: middle;\n",
       "    }\n",
       "\n",
       "    .dataframe tbody tr th {\n",
       "        vertical-align: top;\n",
       "    }\n",
       "\n",
       "    .dataframe thead th {\n",
       "        text-align: right;\n",
       "    }\n",
       "</style>\n",
       "<table border=\"1\" class=\"dataframe\">\n",
       "  <thead>\n",
       "    <tr style=\"text-align: right;\">\n",
       "      <th></th>\n",
       "      <th>Year</th>\n",
       "      <th>Product</th>\n",
       "      <th>Cost</th>\n",
       "    </tr>\n",
       "  </thead>\n",
       "  <tbody>\n",
       "    <tr>\n",
       "      <th>0</th>\n",
       "      <td>2015</td>\n",
       "      <td>Apples</td>\n",
       "      <td>0.35</td>\n",
       "    </tr>\n",
       "    <tr>\n",
       "      <th>1</th>\n",
       "      <td>2016</td>\n",
       "      <td>Apples</td>\n",
       "      <td>0.45</td>\n",
       "    </tr>\n",
       "    <tr>\n",
       "      <th>2</th>\n",
       "      <td>2015</td>\n",
       "      <td>Bananas</td>\n",
       "      <td>0.75</td>\n",
       "    </tr>\n",
       "    <tr>\n",
       "      <th>3</th>\n",
       "      <td>2016</td>\n",
       "      <td>Bananas</td>\n",
       "      <td>1.10</td>\n",
       "    </tr>\n",
       "  </tbody>\n",
       "</table>\n",
       "</div>"
      ],
      "text/plain": [
       "   Year  Product  Cost\n",
       "0  2015   Apples  0.35\n",
       "1  2016   Apples  0.45\n",
       "2  2015  Bananas  0.75\n",
       "3  2016  Bananas  1.10"
      ]
     },
     "execution_count": 32,
     "metadata": {},
     "output_type": "execute_result"
    }
   ],
   "source": [
    "df = pd.DataFrame()\n",
    "df['Year'] = [2015,2016,2015,2016]\n",
    "df['Product'] = ['Apples', 'Apples', 'Bananas', 'Bananas']\n",
    "df['Cost'] = [0.35, 0.45, 0.75, 1.10]\n",
    "df\n"
   ]
  },
  {
   "cell_type": "markdown",
   "id": "e8293fd8",
   "metadata": {
    "cell_id": "00017-4febcbde-dc4f-4ce0-b360-41a1bccaf772",
    "deepnote_cell_type": "markdown",
    "id": "affected-veteran"
   },
   "source": [
    "### Reading Data from Files into a DataFrame\n",
    "\n",
    "\n",
    "| File Format | File Extension | `read_xxx()` function | Dataframe Write Method | \n",
    "| :--:  | :--: | :--: | :--: |\n",
    "| Comma-Seperated Values      | .csv           | `pd.read_csv()` | `df.to_csv()` |\n",
    "| Tab-seperated Values       | .tsv, .tabular, .csv | `pd.read_csv(sep='\\t')`, `pd.read_table()` | `df.to_csv(sep='\\t')` `df.to_table()` |\n",
    "| Excel Spreadsheet           |  .xls | `pd.read_excel()`                    | `df.to_excel()`  |\n",
    "| Excel Spreadsheet           | .xlsx | `pd.read_excel()`   | `df.to_excel()` |\n",
    "| STATA                        | .dta | `pd.read_stata()`                     | `df.to_stata()` |\n"
   ]
  },
  {
   "cell_type": "code",
   "execution_count": null,
   "id": "0c754888",
   "metadata": {
    "cell_id": "00018-38cd54c9-a579-4d0c-9fe1-fbc33f88064f",
    "deepnote_cell_type": "code",
    "id": "necessary-converter"
   },
   "outputs": [],
   "source": [
    "import pandas as pd"
   ]
  },
  {
   "cell_type": "markdown",
   "id": "5db36bf6",
   "metadata": {
    "cell_id": "00019-df6eb991-fa78-4f34-9a8e-2988fb8b3d33",
    "deepnote_cell_type": "markdown",
    "id": "incredible-traveler"
   },
   "source": [
    "### Understanding Different File Formats\n"
   ]
  },
  {
   "cell_type": "markdown",
   "id": "3cc67bc3",
   "metadata": {},
   "source": [
    "**Exercises**: \n",
    "\n",
    "run the code below to download the Titanic passengers dataset, and transform it into different file formats\n",
    "\n",
    "*Note*: you can supply a web url and pandas reads it like a normal file!"
   ]
  },
  {
   "cell_type": "code",
   "execution_count": 34,
   "id": "00d22fe6",
   "metadata": {
    "cell_id": "00020-3f4a1352-2d01-4b33-971d-48adcced2670",
    "deepnote_cell_type": "code",
    "deepnote_to_be_reexecuted": false,
    "execution_millis": 47,
    "execution_start": 1636318852820,
    "id": "collaborative-worcester",
    "outputId": "bf88e3fd-4ea0-481f-d3a9-c3354cc2ac44",
    "source_hash": "cd699004"
   },
   "outputs": [
    {
     "data": {
      "text/html": [
       "<div>\n",
       "<style scoped>\n",
       "    .dataframe tbody tr th:only-of-type {\n",
       "        vertical-align: middle;\n",
       "    }\n",
       "\n",
       "    .dataframe tbody tr th {\n",
       "        vertical-align: top;\n",
       "    }\n",
       "\n",
       "    .dataframe thead th {\n",
       "        text-align: right;\n",
       "    }\n",
       "</style>\n",
       "<table border=\"1\" class=\"dataframe\">\n",
       "  <thead>\n",
       "    <tr style=\"text-align: right;\">\n",
       "      <th></th>\n",
       "      <th>survived</th>\n",
       "      <th>pclass</th>\n",
       "      <th>sex</th>\n",
       "      <th>age</th>\n",
       "      <th>sibsp</th>\n",
       "      <th>parch</th>\n",
       "      <th>fare</th>\n",
       "      <th>embarked</th>\n",
       "      <th>deck</th>\n",
       "      <th>embark_town</th>\n",
       "      <th>alone</th>\n",
       "    </tr>\n",
       "  </thead>\n",
       "  <tbody>\n",
       "    <tr>\n",
       "      <th>0</th>\n",
       "      <td>0</td>\n",
       "      <td>3</td>\n",
       "      <td>male</td>\n",
       "      <td>22.0</td>\n",
       "      <td>1</td>\n",
       "      <td>0</td>\n",
       "      <td>7.2500</td>\n",
       "      <td>S</td>\n",
       "      <td>NaN</td>\n",
       "      <td>Southampton</td>\n",
       "      <td>False</td>\n",
       "    </tr>\n",
       "    <tr>\n",
       "      <th>1</th>\n",
       "      <td>1</td>\n",
       "      <td>1</td>\n",
       "      <td>female</td>\n",
       "      <td>38.0</td>\n",
       "      <td>1</td>\n",
       "      <td>0</td>\n",
       "      <td>71.2833</td>\n",
       "      <td>C</td>\n",
       "      <td>C</td>\n",
       "      <td>Cherbourg</td>\n",
       "      <td>False</td>\n",
       "    </tr>\n",
       "    <tr>\n",
       "      <th>2</th>\n",
       "      <td>1</td>\n",
       "      <td>3</td>\n",
       "      <td>female</td>\n",
       "      <td>26.0</td>\n",
       "      <td>0</td>\n",
       "      <td>0</td>\n",
       "      <td>7.9250</td>\n",
       "      <td>S</td>\n",
       "      <td>NaN</td>\n",
       "      <td>Southampton</td>\n",
       "      <td>True</td>\n",
       "    </tr>\n",
       "    <tr>\n",
       "      <th>3</th>\n",
       "      <td>1</td>\n",
       "      <td>1</td>\n",
       "      <td>female</td>\n",
       "      <td>35.0</td>\n",
       "      <td>1</td>\n",
       "      <td>0</td>\n",
       "      <td>53.1000</td>\n",
       "      <td>S</td>\n",
       "      <td>C</td>\n",
       "      <td>Southampton</td>\n",
       "      <td>False</td>\n",
       "    </tr>\n",
       "    <tr>\n",
       "      <th>4</th>\n",
       "      <td>0</td>\n",
       "      <td>3</td>\n",
       "      <td>male</td>\n",
       "      <td>35.0</td>\n",
       "      <td>0</td>\n",
       "      <td>0</td>\n",
       "      <td>8.0500</td>\n",
       "      <td>S</td>\n",
       "      <td>NaN</td>\n",
       "      <td>Southampton</td>\n",
       "      <td>True</td>\n",
       "    </tr>\n",
       "    <tr>\n",
       "      <th>...</th>\n",
       "      <td>...</td>\n",
       "      <td>...</td>\n",
       "      <td>...</td>\n",
       "      <td>...</td>\n",
       "      <td>...</td>\n",
       "      <td>...</td>\n",
       "      <td>...</td>\n",
       "      <td>...</td>\n",
       "      <td>...</td>\n",
       "      <td>...</td>\n",
       "      <td>...</td>\n",
       "    </tr>\n",
       "    <tr>\n",
       "      <th>886</th>\n",
       "      <td>0</td>\n",
       "      <td>2</td>\n",
       "      <td>male</td>\n",
       "      <td>27.0</td>\n",
       "      <td>0</td>\n",
       "      <td>0</td>\n",
       "      <td>13.0000</td>\n",
       "      <td>S</td>\n",
       "      <td>NaN</td>\n",
       "      <td>Southampton</td>\n",
       "      <td>True</td>\n",
       "    </tr>\n",
       "    <tr>\n",
       "      <th>887</th>\n",
       "      <td>1</td>\n",
       "      <td>1</td>\n",
       "      <td>female</td>\n",
       "      <td>19.0</td>\n",
       "      <td>0</td>\n",
       "      <td>0</td>\n",
       "      <td>30.0000</td>\n",
       "      <td>S</td>\n",
       "      <td>B</td>\n",
       "      <td>Southampton</td>\n",
       "      <td>True</td>\n",
       "    </tr>\n",
       "    <tr>\n",
       "      <th>888</th>\n",
       "      <td>0</td>\n",
       "      <td>3</td>\n",
       "      <td>female</td>\n",
       "      <td>NaN</td>\n",
       "      <td>1</td>\n",
       "      <td>2</td>\n",
       "      <td>23.4500</td>\n",
       "      <td>S</td>\n",
       "      <td>NaN</td>\n",
       "      <td>Southampton</td>\n",
       "      <td>False</td>\n",
       "    </tr>\n",
       "    <tr>\n",
       "      <th>889</th>\n",
       "      <td>1</td>\n",
       "      <td>1</td>\n",
       "      <td>male</td>\n",
       "      <td>26.0</td>\n",
       "      <td>0</td>\n",
       "      <td>0</td>\n",
       "      <td>30.0000</td>\n",
       "      <td>C</td>\n",
       "      <td>C</td>\n",
       "      <td>Cherbourg</td>\n",
       "      <td>True</td>\n",
       "    </tr>\n",
       "    <tr>\n",
       "      <th>890</th>\n",
       "      <td>0</td>\n",
       "      <td>3</td>\n",
       "      <td>male</td>\n",
       "      <td>32.0</td>\n",
       "      <td>0</td>\n",
       "      <td>0</td>\n",
       "      <td>7.7500</td>\n",
       "      <td>Q</td>\n",
       "      <td>NaN</td>\n",
       "      <td>Queenstown</td>\n",
       "      <td>True</td>\n",
       "    </tr>\n",
       "  </tbody>\n",
       "</table>\n",
       "<p>891 rows × 11 columns</p>\n",
       "</div>"
      ],
      "text/plain": [
       "     survived  pclass     sex   age  sibsp  parch     fare embarked deck  \\\n",
       "0           0       3    male  22.0      1      0   7.2500        S  NaN   \n",
       "1           1       1  female  38.0      1      0  71.2833        C    C   \n",
       "2           1       3  female  26.0      0      0   7.9250        S  NaN   \n",
       "3           1       1  female  35.0      1      0  53.1000        S    C   \n",
       "4           0       3    male  35.0      0      0   8.0500        S  NaN   \n",
       "..        ...     ...     ...   ...    ...    ...      ...      ...  ...   \n",
       "886         0       2    male  27.0      0      0  13.0000        S  NaN   \n",
       "887         1       1  female  19.0      0      0  30.0000        S    B   \n",
       "888         0       3  female   NaN      1      2  23.4500        S  NaN   \n",
       "889         1       1    male  26.0      0      0  30.0000        C    C   \n",
       "890         0       3    male  32.0      0      0   7.7500        Q  NaN   \n",
       "\n",
       "     embark_town  alone  \n",
       "0    Southampton  False  \n",
       "1      Cherbourg  False  \n",
       "2    Southampton   True  \n",
       "3    Southampton  False  \n",
       "4    Southampton   True  \n",
       "..           ...    ...  \n",
       "886  Southampton   True  \n",
       "887  Southampton   True  \n",
       "888  Southampton  False  \n",
       "889    Cherbourg   True  \n",
       "890   Queenstown   True  \n",
       "\n",
       "[891 rows x 11 columns]"
      ]
     },
     "execution_count": 34,
     "metadata": {},
     "output_type": "execute_result"
    }
   ],
   "source": [
    "url = 'https://raw.githubusercontent.com/pudasainimohan/Materials/main/data/titanic.csv'\n",
    "df = pd.read_csv(url)\n",
    "df"
   ]
  },
  {
   "cell_type": "markdown",
   "id": "5677b8d1-be34-42fa-a28c-974c616eef13",
   "metadata": {},
   "source": [
    "**Data Dictionary**\n",
    "\n",
    "`survived` : whether the passenger survived or not       \n",
    "`pclass` : the passenger's ticket class (first, second, or third)              \n",
    "`sex` : the passenger's gender (male or female)       \n",
    "`age` : the passenger's age       \n",
    "`sibsp` : the number of siblings/spouses the passenger had aboard       \n",
    "`parch` : the number of parents/children the passenger had aboard       \n",
    "`fare` : the fare paid by the passenger for their ticket          \n",
    "`embarked` : the port of embarkation (Southampton, Cherbourg, or Queenstown)       \n",
    "`deck` : the deck on which the passenger's cabin was located (A to G)        \n",
    "`alone` : whether the passenger was traveling alone or with family members      "
   ]
  },
  {
   "cell_type": "code",
   "execution_count": 35,
   "id": "623c0435-01ba-4d64-91e2-37235c0964ec",
   "metadata": {},
   "outputs": [
    {
     "data": {
      "text/html": [
       "<div>\n",
       "<style scoped>\n",
       "    .dataframe tbody tr th:only-of-type {\n",
       "        vertical-align: middle;\n",
       "    }\n",
       "\n",
       "    .dataframe tbody tr th {\n",
       "        vertical-align: top;\n",
       "    }\n",
       "\n",
       "    .dataframe thead th {\n",
       "        text-align: right;\n",
       "    }\n",
       "</style>\n",
       "<table border=\"1\" class=\"dataframe\">\n",
       "  <thead>\n",
       "    <tr style=\"text-align: right;\">\n",
       "      <th></th>\n",
       "      <th>survived</th>\n",
       "      <th>pclass</th>\n",
       "      <th>sex</th>\n",
       "      <th>age</th>\n",
       "      <th>sibsp</th>\n",
       "      <th>parch</th>\n",
       "      <th>fare</th>\n",
       "      <th>embarked</th>\n",
       "      <th>deck</th>\n",
       "      <th>embark_town</th>\n",
       "      <th>alone</th>\n",
       "    </tr>\n",
       "  </thead>\n",
       "  <tbody>\n",
       "    <tr>\n",
       "      <th>0</th>\n",
       "      <td>0</td>\n",
       "      <td>3</td>\n",
       "      <td>male</td>\n",
       "      <td>22.0</td>\n",
       "      <td>1</td>\n",
       "      <td>0</td>\n",
       "      <td>7.2500</td>\n",
       "      <td>S</td>\n",
       "      <td>NaN</td>\n",
       "      <td>Southampton</td>\n",
       "      <td>False</td>\n",
       "    </tr>\n",
       "    <tr>\n",
       "      <th>1</th>\n",
       "      <td>1</td>\n",
       "      <td>1</td>\n",
       "      <td>female</td>\n",
       "      <td>38.0</td>\n",
       "      <td>1</td>\n",
       "      <td>0</td>\n",
       "      <td>71.2833</td>\n",
       "      <td>C</td>\n",
       "      <td>C</td>\n",
       "      <td>Cherbourg</td>\n",
       "      <td>False</td>\n",
       "    </tr>\n",
       "    <tr>\n",
       "      <th>...</th>\n",
       "      <td>...</td>\n",
       "      <td>...</td>\n",
       "      <td>...</td>\n",
       "      <td>...</td>\n",
       "      <td>...</td>\n",
       "      <td>...</td>\n",
       "      <td>...</td>\n",
       "      <td>...</td>\n",
       "      <td>...</td>\n",
       "      <td>...</td>\n",
       "      <td>...</td>\n",
       "    </tr>\n",
       "    <tr>\n",
       "      <th>889</th>\n",
       "      <td>1</td>\n",
       "      <td>1</td>\n",
       "      <td>male</td>\n",
       "      <td>26.0</td>\n",
       "      <td>0</td>\n",
       "      <td>0</td>\n",
       "      <td>30.0000</td>\n",
       "      <td>C</td>\n",
       "      <td>C</td>\n",
       "      <td>Cherbourg</td>\n",
       "      <td>True</td>\n",
       "    </tr>\n",
       "    <tr>\n",
       "      <th>890</th>\n",
       "      <td>0</td>\n",
       "      <td>3</td>\n",
       "      <td>male</td>\n",
       "      <td>32.0</td>\n",
       "      <td>0</td>\n",
       "      <td>0</td>\n",
       "      <td>7.7500</td>\n",
       "      <td>Q</td>\n",
       "      <td>NaN</td>\n",
       "      <td>Queenstown</td>\n",
       "      <td>True</td>\n",
       "    </tr>\n",
       "  </tbody>\n",
       "</table>\n",
       "<p>891 rows × 11 columns</p>\n",
       "</div>"
      ],
      "text/plain": [
       "     survived  pclass     sex   age  sibsp  parch     fare embarked deck  \\\n",
       "0           0       3    male  22.0      1      0   7.2500        S  NaN   \n",
       "1           1       1  female  38.0      1      0  71.2833        C    C   \n",
       "..        ...     ...     ...   ...    ...    ...      ...      ...  ...   \n",
       "889         1       1    male  26.0      0      0  30.0000        C    C   \n",
       "890         0       3    male  32.0      0      0   7.7500        Q  NaN   \n",
       "\n",
       "     embark_town  alone  \n",
       "0    Southampton  False  \n",
       "1      Cherbourg  False  \n",
       "..           ...    ...  \n",
       "889    Cherbourg   True  \n",
       "890   Queenstown   True  \n",
       "\n",
       "[891 rows x 11 columns]"
      ]
     },
     "execution_count": 35,
     "metadata": {},
     "output_type": "execute_result"
    }
   ],
   "source": [
    "pd.set_option('display.max_rows',5)\n",
    "df #set display options"
   ]
  },
  {
   "cell_type": "markdown",
   "id": "6b2b32a9",
   "metadata": {
    "cell_id": "00018-ee68a483-fa8c-427f-b472-78c397c9a4f0",
    "deepnote_cell_type": "markdown",
    "tags": []
   },
   "source": [
    "Now run the code below to save the file to a comma-seperated file using the `DataFrame.to_csv()` method, then use a text editor to examine the file that was saved on the computer.  How is the file structured?"
   ]
  },
  {
   "cell_type": "code",
   "execution_count": 37,
   "id": "072fbb39",
   "metadata": {
    "cell_id": "00021-1c9572d8-dddd-4072-85e7-b3bbd9e9d20e",
    "deepnote_cell_type": "code",
    "id": "acute-member"
   },
   "outputs": [],
   "source": [
    "df.to_csv(\"titanic.csv\", index=False)"
   ]
  },
  {
   "cell_type": "markdown",
   "id": "f75c7999",
   "metadata": {},
   "source": [
    "Now read the file back into Pyhton using the `pd.read_csv()` function:"
   ]
  },
  {
   "cell_type": "code",
   "execution_count": 41,
   "id": "8d020421",
   "metadata": {
    "tags": [
     "exercise"
    ]
   },
   "outputs": [
    {
     "data": {
      "text/html": [
       "<div>\n",
       "<style scoped>\n",
       "    .dataframe tbody tr th:only-of-type {\n",
       "        vertical-align: middle;\n",
       "    }\n",
       "\n",
       "    .dataframe tbody tr th {\n",
       "        vertical-align: top;\n",
       "    }\n",
       "\n",
       "    .dataframe thead th {\n",
       "        text-align: right;\n",
       "    }\n",
       "</style>\n",
       "<table border=\"1\" class=\"dataframe\">\n",
       "  <thead>\n",
       "    <tr style=\"text-align: right;\">\n",
       "      <th></th>\n",
       "      <th>survived</th>\n",
       "      <th>pclass</th>\n",
       "      <th>sex</th>\n",
       "      <th>age</th>\n",
       "      <th>sibsp</th>\n",
       "      <th>parch</th>\n",
       "      <th>fare</th>\n",
       "      <th>embarked</th>\n",
       "      <th>deck</th>\n",
       "      <th>embark_town</th>\n",
       "      <th>alone</th>\n",
       "    </tr>\n",
       "  </thead>\n",
       "  <tbody>\n",
       "    <tr>\n",
       "      <th>0</th>\n",
       "      <td>0</td>\n",
       "      <td>3</td>\n",
       "      <td>male</td>\n",
       "      <td>22.0</td>\n",
       "      <td>1</td>\n",
       "      <td>0</td>\n",
       "      <td>7.2500</td>\n",
       "      <td>S</td>\n",
       "      <td>NaN</td>\n",
       "      <td>Southampton</td>\n",
       "      <td>False</td>\n",
       "    </tr>\n",
       "    <tr>\n",
       "      <th>1</th>\n",
       "      <td>1</td>\n",
       "      <td>1</td>\n",
       "      <td>female</td>\n",
       "      <td>38.0</td>\n",
       "      <td>1</td>\n",
       "      <td>0</td>\n",
       "      <td>71.2833</td>\n",
       "      <td>C</td>\n",
       "      <td>C</td>\n",
       "      <td>Cherbourg</td>\n",
       "      <td>False</td>\n",
       "    </tr>\n",
       "    <tr>\n",
       "      <th>...</th>\n",
       "      <td>...</td>\n",
       "      <td>...</td>\n",
       "      <td>...</td>\n",
       "      <td>...</td>\n",
       "      <td>...</td>\n",
       "      <td>...</td>\n",
       "      <td>...</td>\n",
       "      <td>...</td>\n",
       "      <td>...</td>\n",
       "      <td>...</td>\n",
       "      <td>...</td>\n",
       "    </tr>\n",
       "    <tr>\n",
       "      <th>889</th>\n",
       "      <td>1</td>\n",
       "      <td>1</td>\n",
       "      <td>male</td>\n",
       "      <td>26.0</td>\n",
       "      <td>0</td>\n",
       "      <td>0</td>\n",
       "      <td>30.0000</td>\n",
       "      <td>C</td>\n",
       "      <td>C</td>\n",
       "      <td>Cherbourg</td>\n",
       "      <td>True</td>\n",
       "    </tr>\n",
       "    <tr>\n",
       "      <th>890</th>\n",
       "      <td>0</td>\n",
       "      <td>3</td>\n",
       "      <td>male</td>\n",
       "      <td>32.0</td>\n",
       "      <td>0</td>\n",
       "      <td>0</td>\n",
       "      <td>7.7500</td>\n",
       "      <td>Q</td>\n",
       "      <td>NaN</td>\n",
       "      <td>Queenstown</td>\n",
       "      <td>True</td>\n",
       "    </tr>\n",
       "  </tbody>\n",
       "</table>\n",
       "<p>891 rows × 11 columns</p>\n",
       "</div>"
      ],
      "text/plain": [
       "     survived  pclass     sex   age  sibsp  parch     fare embarked deck  \\\n",
       "0           0       3    male  22.0      1      0   7.2500        S  NaN   \n",
       "1           1       1  female  38.0      1      0  71.2833        C    C   \n",
       "..        ...     ...     ...   ...    ...    ...      ...      ...  ...   \n",
       "889         1       1    male  26.0      0      0  30.0000        C    C   \n",
       "890         0       3    male  32.0      0      0   7.7500        Q  NaN   \n",
       "\n",
       "     embark_town  alone  \n",
       "0    Southampton  False  \n",
       "1      Cherbourg  False  \n",
       "..           ...    ...  \n",
       "889    Cherbourg   True  \n",
       "890   Queenstown   True  \n",
       "\n",
       "[891 rows x 11 columns]"
      ]
     },
     "execution_count": 41,
     "metadata": {},
     "output_type": "execute_result"
    }
   ],
   "source": [
    "pd.read_csv('./data/titanic.csv')"
   ]
  },
  {
   "cell_type": "markdown",
   "id": "8e10d6a3",
   "metadata": {
    "cell_id": "00044-a7a1da2f-50fc-4779-8b9c-a07d7c609b15",
    "deepnote_cell_type": "markdown",
    "id": "lined-trace"
   },
   "source": [
    "**Excel**"
   ]
  },
  {
   "cell_type": "markdown",
   "id": "23b12e85",
   "metadata": {
    "cell_id": "00047-15c37d8f-65da-413e-a517-f9988e48429a",
    "deepnote_cell_type": "markdown",
    "id": "negative-input"
   },
   "source": [
    "Save the dataframe to an Excel file.  `DataFrame.to_excel()`"
   ]
  },
  {
   "cell_type": "code",
   "execution_count": 42,
   "id": "7599f3d7",
   "metadata": {
    "cell_id": "00048-6cb3709e-9419-4a6a-8f4c-e31bb93f6ccc",
    "deepnote_cell_type": "code",
    "deepnote_to_be_reexecuted": false,
    "execution_millis": 1,
    "execution_start": 1636319143192,
    "id": "municipal-dancing",
    "source_hash": "b623e53d",
    "tags": [
     "exercise"
    ]
   },
   "outputs": [],
   "source": [
    "df.to_excel('titanic.xlsx', index=False)"
   ]
  },
  {
   "cell_type": "markdown",
   "id": "975343e7",
   "metadata": {
    "cell_id": "00049-f836e579-a00a-4f22-9c59-647719e7bfd7",
    "deepnote_cell_type": "markdown",
    "id": "talented-letter"
   },
   "source": [
    "Read the Excel file into Pandas again, using the `pd.read_excel()` function"
   ]
  },
  {
   "cell_type": "code",
   "execution_count": 43,
   "id": "dcef5561",
   "metadata": {
    "cell_id": "00050-aeab11f9-4d97-4e0e-a34c-406707b54695",
    "deepnote_cell_type": "code",
    "id": "essential-diagnosis",
    "tags": [
     "exercise"
    ]
   },
   "outputs": [
    {
     "data": {
      "text/html": [
       "<div>\n",
       "<style scoped>\n",
       "    .dataframe tbody tr th:only-of-type {\n",
       "        vertical-align: middle;\n",
       "    }\n",
       "\n",
       "    .dataframe tbody tr th {\n",
       "        vertical-align: top;\n",
       "    }\n",
       "\n",
       "    .dataframe thead th {\n",
       "        text-align: right;\n",
       "    }\n",
       "</style>\n",
       "<table border=\"1\" class=\"dataframe\">\n",
       "  <thead>\n",
       "    <tr style=\"text-align: right;\">\n",
       "      <th></th>\n",
       "      <th>survived</th>\n",
       "      <th>pclass</th>\n",
       "      <th>sex</th>\n",
       "      <th>age</th>\n",
       "      <th>sibsp</th>\n",
       "      <th>parch</th>\n",
       "      <th>fare</th>\n",
       "      <th>embarked</th>\n",
       "      <th>deck</th>\n",
       "      <th>embark_town</th>\n",
       "      <th>alone</th>\n",
       "    </tr>\n",
       "  </thead>\n",
       "  <tbody>\n",
       "    <tr>\n",
       "      <th>0</th>\n",
       "      <td>0</td>\n",
       "      <td>3</td>\n",
       "      <td>male</td>\n",
       "      <td>22.0</td>\n",
       "      <td>1</td>\n",
       "      <td>0</td>\n",
       "      <td>7.2500</td>\n",
       "      <td>S</td>\n",
       "      <td>NaN</td>\n",
       "      <td>Southampton</td>\n",
       "      <td>False</td>\n",
       "    </tr>\n",
       "    <tr>\n",
       "      <th>1</th>\n",
       "      <td>1</td>\n",
       "      <td>1</td>\n",
       "      <td>female</td>\n",
       "      <td>38.0</td>\n",
       "      <td>1</td>\n",
       "      <td>0</td>\n",
       "      <td>71.2833</td>\n",
       "      <td>C</td>\n",
       "      <td>C</td>\n",
       "      <td>Cherbourg</td>\n",
       "      <td>False</td>\n",
       "    </tr>\n",
       "    <tr>\n",
       "      <th>...</th>\n",
       "      <td>...</td>\n",
       "      <td>...</td>\n",
       "      <td>...</td>\n",
       "      <td>...</td>\n",
       "      <td>...</td>\n",
       "      <td>...</td>\n",
       "      <td>...</td>\n",
       "      <td>...</td>\n",
       "      <td>...</td>\n",
       "      <td>...</td>\n",
       "      <td>...</td>\n",
       "    </tr>\n",
       "    <tr>\n",
       "      <th>889</th>\n",
       "      <td>1</td>\n",
       "      <td>1</td>\n",
       "      <td>male</td>\n",
       "      <td>26.0</td>\n",
       "      <td>0</td>\n",
       "      <td>0</td>\n",
       "      <td>30.0000</td>\n",
       "      <td>C</td>\n",
       "      <td>C</td>\n",
       "      <td>Cherbourg</td>\n",
       "      <td>True</td>\n",
       "    </tr>\n",
       "    <tr>\n",
       "      <th>890</th>\n",
       "      <td>0</td>\n",
       "      <td>3</td>\n",
       "      <td>male</td>\n",
       "      <td>32.0</td>\n",
       "      <td>0</td>\n",
       "      <td>0</td>\n",
       "      <td>7.7500</td>\n",
       "      <td>Q</td>\n",
       "      <td>NaN</td>\n",
       "      <td>Queenstown</td>\n",
       "      <td>True</td>\n",
       "    </tr>\n",
       "  </tbody>\n",
       "</table>\n",
       "<p>891 rows × 11 columns</p>\n",
       "</div>"
      ],
      "text/plain": [
       "     survived  pclass     sex   age  sibsp  parch     fare embarked deck  \\\n",
       "0           0       3    male  22.0      1      0   7.2500        S  NaN   \n",
       "1           1       1  female  38.0      1      0  71.2833        C    C   \n",
       "..        ...     ...     ...   ...    ...    ...      ...      ...  ...   \n",
       "889         1       1    male  26.0      0      0  30.0000        C    C   \n",
       "890         0       3    male  32.0      0      0   7.7500        Q  NaN   \n",
       "\n",
       "     embark_town  alone  \n",
       "0    Southampton  False  \n",
       "1      Cherbourg  False  \n",
       "..           ...    ...  \n",
       "889    Cherbourg   True  \n",
       "890   Queenstown   True  \n",
       "\n",
       "[891 rows x 11 columns]"
      ]
     },
     "execution_count": 43,
     "metadata": {},
     "output_type": "execute_result"
    }
   ],
   "source": [
    "pd.read_excel('titanic.xlsx')"
   ]
  },
  {
   "cell_type": "markdown",
   "id": "057ff0a1",
   "metadata": {
    "cell_id": "00028-0b9d73f6-c77a-4e7b-a52b-5aa41c9bf2b5",
    "deepnote_cell_type": "markdown",
    "id": "latest-annotation"
   },
   "source": [
    "**STATA**"
   ]
  },
  {
   "cell_type": "markdown",
   "id": "c4e0797c",
   "metadata": {
    "cell_id": "00029-53d3c2cc-c877-44f3-b53d-ed2426c82f16",
    "deepnote_cell_type": "markdown",
    "id": "silver-secretariat"
   },
   "source": [
    "Save the dataframe to a STATA file using the `df.to_stata()` method."
   ]
  },
  {
   "cell_type": "code",
   "execution_count": 45,
   "id": "9ac7f5f7",
   "metadata": {
    "cell_id": "00030-427a4dd0-ba27-4588-9b6f-8717884de822",
    "deepnote_cell_type": "code",
    "deepnote_to_be_reexecuted": false,
    "execution_millis": 0,
    "execution_start": 1636319001749,
    "id": "illegal-update",
    "source_hash": "b623e53d",
    "tags": [
     "exercise"
    ]
   },
   "outputs": [],
   "source": [
    "df.to_stata('titanic.dta' )"
   ]
  },
  {
   "cell_type": "markdown",
   "id": "93bfb854",
   "metadata": {
    "cell_id": "00031-a8694743-4063-47a8-987d-5eae2666a666",
    "deepnote_cell_type": "markdown",
    "id": "signed-design"
   },
   "source": [
    "Read the stata file into Pandas again, using the `pd.read_stata()` function."
   ]
  },
  {
   "cell_type": "code",
   "execution_count": 46,
   "id": "8b0b5227",
   "metadata": {
    "cell_id": "00032-a85e45ed-4edc-4058-9b9f-5ed5b618021f",
    "deepnote_cell_type": "code",
    "id": "mounted-peoples",
    "tags": [
     "exercise"
    ]
   },
   "outputs": [
    {
     "data": {
      "text/html": [
       "<div>\n",
       "<style scoped>\n",
       "    .dataframe tbody tr th:only-of-type {\n",
       "        vertical-align: middle;\n",
       "    }\n",
       "\n",
       "    .dataframe tbody tr th {\n",
       "        vertical-align: top;\n",
       "    }\n",
       "\n",
       "    .dataframe thead th {\n",
       "        text-align: right;\n",
       "    }\n",
       "</style>\n",
       "<table border=\"1\" class=\"dataframe\">\n",
       "  <thead>\n",
       "    <tr style=\"text-align: right;\">\n",
       "      <th></th>\n",
       "      <th>index</th>\n",
       "      <th>survived</th>\n",
       "      <th>pclass</th>\n",
       "      <th>sex</th>\n",
       "      <th>age</th>\n",
       "      <th>sibsp</th>\n",
       "      <th>parch</th>\n",
       "      <th>fare</th>\n",
       "      <th>embarked</th>\n",
       "      <th>deck</th>\n",
       "      <th>embark_town</th>\n",
       "      <th>alone</th>\n",
       "    </tr>\n",
       "  </thead>\n",
       "  <tbody>\n",
       "    <tr>\n",
       "      <th>0</th>\n",
       "      <td>0</td>\n",
       "      <td>0</td>\n",
       "      <td>3</td>\n",
       "      <td>male</td>\n",
       "      <td>22.0</td>\n",
       "      <td>1</td>\n",
       "      <td>0</td>\n",
       "      <td>7.2500</td>\n",
       "      <td>S</td>\n",
       "      <td></td>\n",
       "      <td>Southampton</td>\n",
       "      <td>0</td>\n",
       "    </tr>\n",
       "    <tr>\n",
       "      <th>1</th>\n",
       "      <td>1</td>\n",
       "      <td>1</td>\n",
       "      <td>1</td>\n",
       "      <td>female</td>\n",
       "      <td>38.0</td>\n",
       "      <td>1</td>\n",
       "      <td>0</td>\n",
       "      <td>71.2833</td>\n",
       "      <td>C</td>\n",
       "      <td>C</td>\n",
       "      <td>Cherbourg</td>\n",
       "      <td>0</td>\n",
       "    </tr>\n",
       "    <tr>\n",
       "      <th>...</th>\n",
       "      <td>...</td>\n",
       "      <td>...</td>\n",
       "      <td>...</td>\n",
       "      <td>...</td>\n",
       "      <td>...</td>\n",
       "      <td>...</td>\n",
       "      <td>...</td>\n",
       "      <td>...</td>\n",
       "      <td>...</td>\n",
       "      <td>...</td>\n",
       "      <td>...</td>\n",
       "      <td>...</td>\n",
       "    </tr>\n",
       "    <tr>\n",
       "      <th>889</th>\n",
       "      <td>889</td>\n",
       "      <td>1</td>\n",
       "      <td>1</td>\n",
       "      <td>male</td>\n",
       "      <td>26.0</td>\n",
       "      <td>0</td>\n",
       "      <td>0</td>\n",
       "      <td>30.0000</td>\n",
       "      <td>C</td>\n",
       "      <td>C</td>\n",
       "      <td>Cherbourg</td>\n",
       "      <td>1</td>\n",
       "    </tr>\n",
       "    <tr>\n",
       "      <th>890</th>\n",
       "      <td>890</td>\n",
       "      <td>0</td>\n",
       "      <td>3</td>\n",
       "      <td>male</td>\n",
       "      <td>32.0</td>\n",
       "      <td>0</td>\n",
       "      <td>0</td>\n",
       "      <td>7.7500</td>\n",
       "      <td>Q</td>\n",
       "      <td></td>\n",
       "      <td>Queenstown</td>\n",
       "      <td>1</td>\n",
       "    </tr>\n",
       "  </tbody>\n",
       "</table>\n",
       "<p>891 rows × 12 columns</p>\n",
       "</div>"
      ],
      "text/plain": [
       "     index  survived  pclass     sex   age  sibsp  parch     fare embarked  \\\n",
       "0        0         0       3    male  22.0      1      0   7.2500        S   \n",
       "1        1         1       1  female  38.0      1      0  71.2833        C   \n",
       "..     ...       ...     ...     ...   ...    ...    ...      ...      ...   \n",
       "889    889         1       1    male  26.0      0      0  30.0000        C   \n",
       "890    890         0       3    male  32.0      0      0   7.7500        Q   \n",
       "\n",
       "    deck  embark_town  alone  \n",
       "0         Southampton      0  \n",
       "1      C    Cherbourg      0  \n",
       "..   ...          ...    ...  \n",
       "889    C    Cherbourg      1  \n",
       "890        Queenstown      1  \n",
       "\n",
       "[891 rows x 12 columns]"
      ]
     },
     "execution_count": 46,
     "metadata": {},
     "output_type": "execute_result"
    }
   ],
   "source": [
    "pd.read_stata('titanic.dta')"
   ]
  },
  {
   "cell_type": "markdown",
   "id": "0a4c6c0b",
   "metadata": {
    "cell_id": "00034-5519fe28-e4ab-463a-a352-612e07300929",
    "deepnote_cell_type": "markdown",
    "id": "varied-liabilities"
   },
   "source": [
    "**SPSS**"
   ]
  },
  {
   "cell_type": "markdown",
   "id": "b4673999",
   "metadata": {
    "cell_id": "00035-a7a70588-3dce-4398-86bd-59038dabb7df",
    "deepnote_cell_type": "markdown",
    "id": "concerned-sheffield"
   },
   "source": [
    "To save a pandas DataFrame in SPSS format, there is no direct method in pandas. You can use the `pyreadstat` module to write the DataFrame to an SPSS file using the `write_sav` function from that module. First, make sure that you have installed the pyreadstat module using `pip install pyreadstat`."
   ]
  },
  {
   "cell_type": "code",
   "execution_count": 47,
   "id": "d241ab55-20d5-449a-8ed9-951b1d1fb113",
   "metadata": {},
   "outputs": [
    {
     "name": "stdout",
     "output_type": "stream",
     "text": [
      "Requirement already satisfied: pyreadstat in c:\\users\\custo\\anaconda3\\lib\\site-packages (1.2.1)\n",
      "Requirement already satisfied: pandas>=1.2.0 in c:\\users\\custo\\anaconda3\\lib\\site-packages (from pyreadstat) (1.5.3)\n",
      "Requirement already satisfied: python-dateutil>=2.8.1 in c:\\users\\custo\\anaconda3\\lib\\site-packages (from pandas>=1.2.0->pyreadstat) (2.8.2)\n",
      "Requirement already satisfied: numpy>=1.20.3 in c:\\users\\custo\\anaconda3\\lib\\site-packages (from pandas>=1.2.0->pyreadstat) (1.21.5)\n",
      "Requirement already satisfied: pytz>=2020.1 in c:\\users\\custo\\anaconda3\\lib\\site-packages (from pandas>=1.2.0->pyreadstat) (2022.1)\n",
      "Requirement already satisfied: six>=1.5 in c:\\users\\custo\\anaconda3\\lib\\site-packages (from python-dateutil>=2.8.1->pandas>=1.2.0->pyreadstat) (1.16.0)\n"
     ]
    }
   ],
   "source": [
    "!pip install pyreadstat"
   ]
  },
  {
   "cell_type": "code",
   "execution_count": 48,
   "id": "5a587c0d-6fd4-43ff-9f45-5084b4d9026f",
   "metadata": {},
   "outputs": [],
   "source": [
    "import pyreadstat"
   ]
  },
  {
   "cell_type": "code",
   "execution_count": 49,
   "id": "316f43db",
   "metadata": {
    "cell_id": "00036-3defd7db-e0cf-4a36-a39a-a08ac294932c",
    "deepnote_cell_type": "code",
    "deepnote_to_be_reexecuted": false,
    "execution_millis": 3,
    "execution_start": 1636319045967,
    "id": "known-correction",
    "source_hash": "b623e53d",
    "tags": [
     "exercise"
    ]
   },
   "outputs": [],
   "source": [
    "pyreadstat.write_sav(df,'titanic.sav')"
   ]
  },
  {
   "cell_type": "code",
   "execution_count": null,
   "id": "4dd7ad30",
   "metadata": {},
   "outputs": [],
   "source": []
  }
 ],
 "metadata": {
  "colab": {
   "name": "12_DataFrame_Creation.ipynb",
   "provenance": []
  },
  "deepnote": {},
  "deepnote_execution_queue": [],
  "deepnote_notebook_id": "46d4e0e5-b75f-43ef-8b97-cdec857f3c04",
  "kernelspec": {
   "display_name": "Python 3 (ipykernel)",
   "language": "python",
   "name": "python3"
  },
  "language_info": {
   "codemirror_mode": {
    "name": "ipython",
    "version": 3
   },
   "file_extension": ".py",
   "mimetype": "text/x-python",
   "name": "python",
   "nbconvert_exporter": "python",
   "pygments_lexer": "ipython3",
   "version": "3.9.13"
  },
  "vscode": {
   "interpreter": {
    "hash": "d6852d01271bf8033dbdb7ec364b6f6e89fd52a18c6bf5b4c73e48c86329a8dd"
   }
  }
 },
 "nbformat": 4,
 "nbformat_minor": 5
}

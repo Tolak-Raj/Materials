{
 "cells": [
  {
   "cell_type": "markdown",
   "id": "7120f7fd",
   "metadata": {},
   "source": [
    "# Some quries solutions"
   ]
  },
  {
   "cell_type": "markdown",
   "id": "df51de35",
   "metadata": {},
   "source": [
    "### remove lable and keep only legend on pie chart"
   ]
  },
  {
   "cell_type": "code",
   "execution_count": 1,
   "id": "a2ecc72f",
   "metadata": {},
   "outputs": [],
   "source": [
    "import pandas as pd\n",
    "import matplotlib.pyplot as plt\n",
    "import numpy as np\n",
    "from scipy.interpolate import make_interp_spline"
   ]
  },
  {
   "cell_type": "code",
   "execution_count": null,
   "id": "3ecedfcc",
   "metadata": {},
   "outputs": [],
   "source": [
    "data = pd.DataFrame({'Category': ['A', 'B', 'C', 'D', 'E'],\n",
    "                     'Value': [20, 35, 30, 25, 40]})\n",
    "\n",
    "colors = ['#ff6666', '#468499', '#ff7f50', '#ffdab9', '#00ced1']\n",
    "plt.pie(data.Value, explode=[0.2, 0, 0, 0, 0], colors=colors,\n",
    "        labeldistance=1.2, shadow=True, radius=1.3,\n",
    "        autopct='%.1f%%', textprops={'fontsize': 16, 'color': \"#003366\"},\n",
    "        rotatelabels=True)\n",
    "\n",
    "plt.title(\"Sample Pie Chart\", y=1.1, fontsize=16)\n",
    "plt.legend(data.Category, loc=\"center right\", bbox_to_anchor=(1, 0, 0.5, 1))\n",
    "\n",
    "plt.show()"
   ]
  },
  {
   "cell_type": "markdown",
   "id": "e4f1361b",
   "metadata": {},
   "source": [
    "### Making line smooth"
   ]
  },
  {
   "cell_type": "code",
   "execution_count": null,
   "id": "670c0c03",
   "metadata": {},
   "outputs": [],
   "source": [
    "data = pd.read_csv('https://raw.githubusercontent.com/pudasainimohan/Materials/main/data/price.csv')\n",
    "plt.figure(figsize=(12,6))\n",
    "\n",
    "plt.plot(data.Date,data.CPI,color=\"blue\",label=\"CPI\")\n",
    "\n",
    "plt.xlabel(\"Date\")\n",
    "\n",
    "plt.ylabel(\"Index\")\n",
    "\n",
    "plt.title(\"Nepal's Monthly CPI \")\n",
    "plt.xticks(rotation=45)\n",
    "plt.show()"
   ]
  },
  {
   "cell_type": "code",
   "execution_count": null,
   "id": "9c08732a",
   "metadata": {},
   "outputs": [],
   "source": [
    "\n",
    "data['Date'] = pd.Categorical(data['Date'])\n",
    "\n",
    "x = data['Date'].cat.codes\n",
    "y = data['CPI']\n",
    "x_smooth = np.linspace(x.min(), x.max(), 300)\n",
    "spl = make_interp_spline(x, y, k=3)\n",
    "y_smooth = spl(x_smooth)\n",
    "\n",
    "plt.figure(figsize=(12,6))\n",
    "plt.plot(x_smooth, y_smooth, color=\"blue\", label=\"CPI\")\n",
    "plt.xticks(data['Date'].cat.codes, data['Date'],rotation=45)\n",
    "plt.xlabel(\"Date\")\n",
    "plt.ylabel(\"CPI\")\n",
    "plt.title(\"Nepal's Monthly CPI\")\n",
    "plt.show()"
   ]
  },
  {
   "cell_type": "markdown",
   "id": "ce28f518",
   "metadata": {},
   "source": [
    "### String filter"
   ]
  },
  {
   "cell_type": "code",
   "execution_count": null,
   "id": "39ce566e",
   "metadata": {},
   "outputs": [],
   "source": [
    "df = pd.DataFrame({'Name': ['Ram', 'Bimal', 'Binod', 'Shahid', 'MOhan'],\n",
    "                     'Age': [20, 35, 30, 25, 40]})\n",
    "df"
   ]
  },
  {
   "cell_type": "code",
   "execution_count": null,
   "id": "daa15f97",
   "metadata": {},
   "outputs": [],
   "source": [
    "df[df['Name'].str.contains('m')]\n",
    "df.query()"
   ]
  },
  {
   "cell_type": "code",
   "execution_count": null,
   "id": "0a2837a4",
   "metadata": {},
   "outputs": [],
   "source": [
    "df[df['Name'].str.startswith('B')]\n",
    "df.query(\"Name.str.contains('B')\")"
   ]
  },
  {
   "cell_type": "code",
   "execution_count": null,
   "id": "97f593cc",
   "metadata": {},
   "outputs": [],
   "source": [
    "df[df['Name'].str.endswith('d')]"
   ]
  },
  {
   "cell_type": "markdown",
   "id": "a69f1889",
   "metadata": {},
   "source": [
    "### date formating"
   ]
  },
  {
   "cell_type": "code",
   "execution_count": null,
   "id": "92b6f700",
   "metadata": {
    "scrolled": true
   },
   "outputs": [],
   "source": [
    "\n",
    "df=pd.read_csv('https://raw.githubusercontent.com/pudasainimohan/Materials/main/data/price.csv')\n",
    "temp=pd.to_datetime(df['Date'], format='%Y-%m')\n",
    "temp.info()"
   ]
  },
  {
   "cell_type": "markdown",
   "id": "7ef4cda8",
   "metadata": {},
   "source": [
    "### Call another program from Python"
   ]
  },
  {
   "cell_type": "code",
   "execution_count": null,
   "id": "1b7e85aa",
   "metadata": {
    "scrolled": true
   },
   "outputs": [],
   "source": [
    "import rpy2.ipython\n",
    "\n",
    "%load_ext rpy2.ipython\n",
    "\n",
    "%R require(ggplot2)\n",
    "%R data(msleep)\n",
    "%R head(msleep)"
   ]
  },
  {
   "cell_type": "markdown",
   "id": "5e5f209a-0f94-4596-abcc-fee71f71fe9d",
   "metadata": {},
   "source": [
    "## Control Flow in Python: If-Else Blocks"
   ]
  },
  {
   "cell_type": "markdown",
   "id": "bc3ee672-13b0-4643-b012-0a5880cf3963",
   "metadata": {},
   "source": [
    "### Python's Block Syntax\n",
    "\n",
    "A \"Block\" of code is code grouped code together into a logical whole.  In general, Python code blocks look very similar to other languages, except it uses no special end block charachter (like an end bracket or the word \"end\" ):\n",
    "\n",
    "```\n",
    "#  R                   # Matlab               # Python    \n",
    "if (x > 1) {             if x > 1              if x > 1:\n",
    "    y = 3                    y = 3                 y = 3\n",
    "} else if (x < 0) {      elseif x < 0          elif x < 0:\n",
    "    y = 5                    y = 5                 y = 5\n",
    "} else {                 else                  else:\n",
    "    y = 2                    y = 2                 y = 2\n",
    "}                        end\n",
    "```\n",
    "\n",
    "What's quite different about Python's block syntax is that it is very strict: **matching indentation** in the body of the block absolutely required (unlike in the other languages, in which indentation is only style to make reading code easier, and doesn't matter to the computer).   If indentation levels don't match in a block, Python will raise an **IndentationError**.\n",
    "\n",
    "\n",
    "Flexible syntax can be quite nice, but Python's strictness here is intended to encourage code that's easy to read by encouraging a community to use similar coding styles.  \n",
    "\n",
    "The rule in Python is **Start a header of a block with a keyword, then end the header with a colon (:), then indent each line below it in the body.  When the block ends, unindent.**\n",
    "\n",
    "\n",
    "Let's get some practice, starting with **if**, **else**, and **elif**!"
   ]
  },
  {
   "cell_type": "markdown",
   "id": "9109c678-3cc4-4c16-a34d-f195f755e392",
   "metadata": {},
   "source": [
    "### If-Else Blocks\n",
    "\n",
    "If-Else blocks are used in programming languages to control the \"flow\" of the program (i.e. make decisions about which code gets run).  \n",
    "\n",
    "```python\n",
    "x = 5\n",
    "if x > 4:\n",
    "    print('big')\n",
    "elif x < 0:  # optional, can have as many elifs as you want\n",
    "    print('negative')\n",
    "else:   # optional, limited to one else.\n",
    "    print('small')\n",
    "```\n",
    "\n",
    "Reasoning through which lines of code will get run takes some practice."
   ]
  },
  {
   "cell_type": "markdown",
   "id": "0e3f6353-c886-4b8d-af37-d8a80c54b4a1",
   "metadata": {},
   "source": [
    "**Exercises**\n",
    "\n",
    "Write code that has the described behavior.  Be sure to test that the conditional flow works properly by changing your data and rerunning the cell!"
   ]
  },
  {
   "cell_type": "markdown",
   "id": "f581ee2e-415a-420b-9b0e-b8ca8bbdb256",
   "metadata": {},
   "source": [
    "If data has more than 5 values, print 'Big Data!\""
   ]
  },
  {
   "cell_type": "code",
   "execution_count": null,
   "id": "8a911f0b-8db9-486e-80a8-363db2a87f25",
   "metadata": {},
   "outputs": [],
   "source": []
  },
  {
   "cell_type": "markdown",
   "id": "22e474a9-2dc6-47e9-a07f-e4e5351e849e",
   "metadata": {},
   "source": [
    "If x is less than 10, print 'Hello!'"
   ]
  },
  {
   "cell_type": "code",
   "execution_count": null,
   "id": "67b77c5a-32ab-41f6-8a73-3177018f4e3c",
   "metadata": {},
   "outputs": [],
   "source": []
  },
  {
   "cell_type": "markdown",
   "id": "ebae53e2-4373-4bee-8298-18ea7a266513",
   "metadata": {},
   "source": [
    "If a random number num is even (that is, when it is divided by two, it has a remainder of zero), then print \"Even\". If it is odd, print \"odd\""
   ]
  },
  {
   "cell_type": "code",
   "execution_count": null,
   "id": "5dbb3c5d-9334-435b-8a3d-bd9f1e60f1b5",
   "metadata": {},
   "outputs": [],
   "source": [
    "import numpy as np\n",
    "num = np.random.randint(1, 7)\n"
   ]
  },
  {
   "cell_type": "markdown",
   "id": "090b27e2-1f1f-4e6f-a261-b289d409b8ff",
   "metadata": {},
   "source": [
    "If the mean of x and y is positve, print \"You win!\" If not, print \"Sorry, play again...\""
   ]
  },
  {
   "cell_type": "code",
   "execution_count": null,
   "id": "3eb6d6ac-b3bf-4523-b477-73ff05056d14",
   "metadata": {},
   "outputs": [],
   "source": [
    "import random\n",
    "x = random.randint(-10, 7)\n",
    "y = random.randint(-10, 7)\n",
    "\n"
   ]
  },
  {
   "cell_type": "markdown",
   "id": "8eb7c10c-9846-42f7-9e7e-c658de055bd8",
   "metadata": {},
   "source": [
    "print a label for a person given their age. Note: For the cases below, the ranges exclude the maximum value. In this schema, if the person is 1.0 years old, then they are a toddler, not an infant.\n",
    "\n",
    "0-1: \"infant\"\n",
    "1-3: \"toddler\"\n",
    "3-10: \"child\"\n",
    "10-13: \"preteen\"\n",
    "13-18: \"teenager\"\" python"
   ]
  },
  {
   "cell_type": "code",
   "execution_count": null,
   "id": "90c93849-6b59-4b57-9600-f0fabcaa35fa",
   "metadata": {},
   "outputs": [],
   "source": [
    "age = 5  # or any other age\n",
    "\n",
    "if age >= 0 and age < 1:\n",
    "    label = \"infant\"\n",
    "elif age >= 1 and age < 3:\n",
    "    label = \"toddler\"\n",
    "elif age >= 3 and age < 10:\n",
    "    label = \"child\"\n",
    "elif age >= 10 and age < 13:\n",
    "    label = \"preteen\"\n",
    "elif age >= 13 and age < 18:\n",
    "    label = \"teenager\"\n",
    "else:\n",
    "    label = \"adult\"\n",
    "\n",
    "print(\"The person is a\", label)\n"
   ]
  },
  {
   "cell_type": "markdown",
   "id": "3fe4cf7b-9c3a-414f-9457-777a97a3ae27",
   "metadata": {
    "cell_id": "bec9f153ad8e47699213fd7c562f809b",
    "deepnote_cell_type": "markdown",
    "tags": []
   },
   "source": [
    "# Loops: Describing How to Repeat Steps in a Program"
   ]
  },
  {
   "cell_type": "markdown",
   "id": "4d90c1ad-0f7a-4c80-bc31-eae93c37b977",
   "metadata": {
    "cell_id": "0852b61b0d7145dd8bc6743adeaf17e7",
    "deepnote_cell_type": "markdown",
    "tags": []
   },
   "source": [
    "## For Loops:\n",
    "\n",
    "Like R and Matlab, Python makes it straightford repeat commands \"For-Each\" element in a data collection.  For example, to print each element in a list:\n",
    "\n",
    "```python\n",
    "names = ['Ram', 'Hari', 'Mohan']\n",
    "for name in names:\n",
    "   print(name)\n",
    "# prints \"Ram\" then \"Hari\" then \"Mohan\"\n",
    "```\n",
    ".\n",
    "\n"
   ]
  },
  {
   "cell_type": "markdown",
   "id": "6d47c15e-8f5c-4cc2-b0e9-ddb6df1d23eb",
   "metadata": {
    "cell_id": "6101c7075eab48b6b9acc84659f964d6",
    "deepnote_cell_type": "markdown",
    "tags": []
   },
   "source": [
    "**Exercises**"
   ]
  },
  {
   "cell_type": "markdown",
   "id": "2507826a-619d-4fc1-b023-ad63197cbdcc",
   "metadata": {
    "cell_id": "f36026b498df4e9bac7a03385cf02cdc",
    "deepnote_cell_type": "markdown",
    "tags": []
   },
   "source": [
    "Example: Print 10 times each number in the list \n",
    "For example, `[2, 4]` should print `20` then `40`."
   ]
  },
  {
   "cell_type": "code",
   "execution_count": null,
   "id": "fc3b3aae-a379-4144-8d03-97175e3497b8",
   "metadata": {
    "cell_id": "aed350ed338e4220bfdba5d196f7f151",
    "deepnote_cell_type": "code",
    "deepnote_to_be_reexecuted": false,
    "execution_millis": 11,
    "execution_start": 1634192534154,
    "source_hash": "5b10538f",
    "tags": []
   },
   "outputs": [],
   "source": [
    "nums = [4, 8, 10, 5]"
   ]
  },
  {
   "cell_type": "code",
   "execution_count": null,
   "id": "2c4c5797-6b2b-4455-b644-db4be40ede72",
   "metadata": {
    "tags": []
   },
   "outputs": [],
   "source": []
  },
  {
   "cell_type": "markdown",
   "id": "45adea80-9253-4267-a2a5-9a07cc3f9587",
   "metadata": {
    "cell_id": "7799d90a3139445e90f8ee16ba5cdd1e",
    "deepnote_cell_type": "markdown",
    "tags": []
   },
   "source": [
    "Print the first letter of each name in the list"
   ]
  },
  {
   "cell_type": "code",
   "execution_count": null,
   "id": "e4a0e133-7bcb-4369-8268-104ade00d49f",
   "metadata": {
    "cell_id": "d65886bb072642d6814e96be5b397824",
    "deepnote_cell_type": "code",
    "deepnote_to_be_reexecuted": false,
    "execution_millis": 3,
    "execution_start": 1634192558128,
    "source_hash": "3d0d6b91",
    "tags": []
   },
   "outputs": [],
   "source": [
    "names = [\"Hetauda\", \"Kathmandu\", \"Pokhara\", \"Lukla\"]"
   ]
  },
  {
   "cell_type": "code",
   "execution_count": null,
   "id": "889a6b6a-5c8f-413c-9556-46122182a142",
   "metadata": {
    "tags": [
     "exercise"
    ]
   },
   "outputs": [],
   "source": []
  },
  {
   "cell_type": "markdown",
   "id": "863a681f-20c1-489f-bf15-7c42b0822c7a",
   "metadata": {},
   "source": [
    "Print the sum of each tuple in the list:"
   ]
  },
  {
   "cell_type": "code",
   "execution_count": null,
   "id": "0e4351e5-fc21-4806-ad52-bc9f4c2b9ae5",
   "metadata": {},
   "outputs": [],
   "source": [
    "results = [(3, 5, 2), (2, 3, 7), (8, 9, 1)]"
   ]
  },
  {
   "cell_type": "code",
   "execution_count": null,
   "id": "bdd07adf-ed12-4724-84aa-efabaf14a793",
   "metadata": {
    "tags": [
     "exercise"
    ]
   },
   "outputs": [],
   "source": []
  },
  {
   "cell_type": "markdown",
   "id": "fea6c08e-d04d-405c-80d5-a4e2db7707e4",
   "metadata": {
    "cell_id": "2dd2683cba664bbf927f9d8e76b83618",
    "deepnote_cell_type": "markdown",
    "tags": []
   },
   "source": [
    "## List-Append Loop Pattern"
   ]
  },
  {
   "cell_type": "markdown",
   "id": "436a0171-fa93-4051-b770-b0e58daa21c8",
   "metadata": {
    "cell_id": "5402c46d7dbd45a59c8c4316f91dac73",
    "deepnote_cell_type": "markdown",
    "tags": []
   },
   "source": [
    "This can also be used to create new data collections.  For example:\n",
    "\n",
    "```python\n",
    "old_names = ['Ram', 'Hari', 'Mohan']\n",
    "new_names = []\n",
    "for name in old_names:\n",
    "   new_names.append(name.title())\n",
    "```"
   ]
  },
  {
   "cell_type": "markdown",
   "id": "eecf9b01-3002-4a83-9cc2-615e42568479",
   "metadata": {
    "cell_id": "e6e11ff8d24d4f28b522e8d7c2dd9e7b",
    "deepnote_cell_type": "markdown",
    "tags": []
   },
   "source": [
    "**Exercises**"
   ]
  },
  {
   "cell_type": "markdown",
   "id": "46dec760-da12-413f-91c4-ebd1a883a95a",
   "metadata": {
    "cell_id": "641c47b86b2f4b7b86491ec493b9d539",
    "deepnote_cell_type": "markdown",
    "tags": []
   },
   "source": [
    "Example: Make a list with the first three letters of each sequence"
   ]
  },
  {
   "cell_type": "code",
   "execution_count": null,
   "id": "2c9c3fe6-56de-4a00-925d-2846a5ed8a45",
   "metadata": {
    "cell_id": "98b01c35fdbe4c23ae5f6fe2e13005c4",
    "deepnote_cell_type": "code",
    "deepnote_to_be_reexecuted": false,
    "execution_millis": 4,
    "execution_start": 1634192926318,
    "source_hash": "11432b8e",
    "tags": []
   },
   "outputs": [],
   "source": [
    "seqs = [\"ABHDNS\", \"JAKDF\", \"KMAFHD\"]"
   ]
  },
  {
   "cell_type": "code",
   "execution_count": null,
   "id": "2ae32fb3-636f-4c7e-8e5c-212301246513",
   "metadata": {},
   "outputs": [],
   "source": [
    "new_list = []\n",
    "for seq in seqs:\n",
    "    first_three = seq[:3]\n",
    "    new_list.append(first_three)\n",
    "new_list"
   ]
  },
  {
   "cell_type": "markdown",
   "id": "2459bf98-659d-435a-8be6-73815adb5b89",
   "metadata": {
    "cell_id": "73e71903560546968cd5164d8e9e9faf",
    "deepnote_cell_type": "markdown",
    "tags": []
   },
   "source": [
    "Make a list of the number of A in each sequence (transform: `str.count()`)"
   ]
  },
  {
   "cell_type": "code",
   "execution_count": null,
   "id": "49750a8d-dc91-4b34-9342-4d5973b8145e",
   "metadata": {
    "cell_id": "1cad111eb796418abba1bfa099634ca9",
    "deepnote_cell_type": "code",
    "deepnote_to_be_reexecuted": false,
    "execution_millis": 1,
    "execution_start": 1634193031511,
    "source_hash": "2609f853",
    "tags": []
   },
   "outputs": [],
   "source": [
    "seqs = [\"Ajsdai\", \"taccaaa\", \"AGtACCaC\"]"
   ]
  },
  {
   "cell_type": "code",
   "execution_count": null,
   "id": "c7e170e4-af35-4221-98d7-046af2f9ce5b",
   "metadata": {
    "tags": [
     "exercise"
    ]
   },
   "outputs": [],
   "source": [
    "acounts = []\n",
    "for seq in seqs:\n",
    "    acount = seq.upper().count('A')\n",
    "    acounts.append(acount)\n",
    "acounts"
   ]
  },
  {
   "cell_type": "markdown",
   "id": "db100238-a1fe-4df8-9726-68c3a6665b2c",
   "metadata": {
    "cell_id": "04be21cdf5d848598a29a1382ee67582",
    "deepnote_cell_type": "markdown",
    "tags": []
   },
   "source": [
    "## Sequence-Unpacking Loop Pattern\n",
    "\n",
    "Loops are also useful when you have a collection of collections (e.g. a list of lists).\n",
    "When it's a collection of same-length sequences, you can break apart each sequence inside the loop and work with each value ias its own variable:\n",
    "\n",
    "```python\n",
    "pairs = [[4, 5], [7, 8], [2, 9]]\n",
    "for first, second in pairs:\n",
    "    print(first + second)\n",
    "```"
   ]
  },
  {
   "cell_type": "markdown",
   "id": "f2cb44d5-a7b6-475f-a11f-44238eedc3d8",
   "metadata": {
    "cell_id": "a2a6eb13847b4256811dffd49e73f640",
    "deepnote_cell_type": "markdown",
    "tags": []
   },
   "source": [
    "**Exercises**"
   ]
  },
  {
   "cell_type": "markdown",
   "id": "b8b338c7-e5a9-48f4-a1d9-88ed551e305c",
   "metadata": {
    "cell_id": "4fedfdac21044323b8db9636dd4d082d",
    "deepnote_cell_type": "markdown",
    "tags": []
   },
   "source": [
    "Example: Make a list of the sum of each number pair"
   ]
  },
  {
   "cell_type": "code",
   "execution_count": null,
   "id": "05981d84-b439-4bfc-9e5d-c3177e33c387",
   "metadata": {
    "cell_id": "b36ee1610e81496ab53d79de975e5d5f",
    "deepnote_cell_type": "code",
    "deepnote_to_be_reexecuted": false,
    "execution_millis": 0,
    "execution_start": 1634193665675,
    "source_hash": "2c8eda3e",
    "tags": []
   },
   "outputs": [],
   "source": [
    "pairs = [[4, 7], [7, 2], [10, 2], [5, 9]]"
   ]
  },
  {
   "cell_type": "code",
   "execution_count": null,
   "id": "276a853b-a14e-4fdf-9ac8-a7aff865ef36",
   "metadata": {},
   "outputs": [],
   "source": [
    "sums = []\n",
    "for a, b in pairs:\n",
    "    sums.append(a + b)\n",
    "sums"
   ]
  },
  {
   "cell_type": "markdown",
   "id": "fe99b8c5-2e82-4b92-8b95-fa9c6b89c2a7",
   "metadata": {
    "cell_id": "6dba1cad809c45c68f1014febb98cda1",
    "deepnote_cell_type": "markdown",
    "tags": []
   },
   "source": [
    "Make a list of filenames with the corresponding base name and file extension:"
   ]
  },
  {
   "cell_type": "code",
   "execution_count": null,
   "id": "b1b3904e-b98e-4bb0-8c0a-7e3375e4f063",
   "metadata": {
    "cell_id": "61396790689649959d34f488a587663d",
    "deepnote_cell_type": "code",
    "deepnote_to_be_reexecuted": false,
    "execution_millis": 9,
    "execution_start": 1634193800852,
    "source_hash": "1e246064",
    "tags": []
   },
   "outputs": [],
   "source": [
    "parts = [\n",
    "    ('seq1', '.txt'),\n",
    "    ('seqA', '.fasta'),\n",
    "    ('myseq', '.dat'),]"
   ]
  },
  {
   "cell_type": "code",
   "execution_count": null,
   "id": "764d7677-da4f-4c03-b62c-dd757824452e",
   "metadata": {
    "tags": [
     "exercise"
    ]
   },
   "outputs": [],
   "source": [
    "filenames = []\n",
    "for base, ext in parts:\n",
    "    filename = base + ext\n",
    "    filenames.append(filename)\n",
    "filenames"
   ]
  },
  {
   "cell_type": "markdown",
   "id": "f3bfd9d7-cf26-42e7-a37f-21c83d97f0c6",
   "metadata": {},
   "source": [
    "Calculate `y` for each sets of coeffients using the formula $ y = a ^ 2 + b + c $:"
   ]
  },
  {
   "cell_type": "code",
   "execution_count": null,
   "id": "3fa89eaa-f69a-4d57-a94e-4e3ca468545d",
   "metadata": {},
   "outputs": [],
   "source": [
    "abcs = [(3, 2, 5), (7, 2, 1), (8, -3, 4)]"
   ]
  },
  {
   "cell_type": "code",
   "execution_count": null,
   "id": "0d2d3c69-2ca0-41f2-afe3-e610e5186ef9",
   "metadata": {
    "tags": [
     "exercise"
    ]
   },
   "outputs": [],
   "source": [
    "ys = []\n",
    "for a, b, c in abcs:\n",
    "    ys.append(a**2 + b + c)\n",
    "ys"
   ]
  },
  {
   "cell_type": "markdown",
   "id": "f9d8358e-b36e-4333-ac0e-a9d94530bfbf",
   "metadata": {
    "cell_id": "043f00f787814834be1a9042637a5339",
    "deepnote_cell_type": "markdown",
    "tags": []
   },
   "source": [
    "## The Zip Loop Pattern\n",
    "\n",
    "Most of the times, you don't have a collection of pairs--sometimes, you need to make that collection yourself before you can loop over them.  The `zip()` function makes this straightforward!\n",
    "\n",
    "```python\n",
    "names = ['Ram', 'Hari', 'Mohan']\n",
    "ages = [20, 21, 22]\n",
    "for name, ages in zip(names, ages)):\n",
    "    print(name, age)\n",
    "```\n",
    ".\n",
    "\n",
    "\n"
   ]
  },
  {
   "cell_type": "markdown",
   "id": "3b1fcbe7-f9e0-4e78-8641-fae3ba0fb7fc",
   "metadata": {
    "cell_id": "1c98a08697b84b2e940c03bfadb54053",
    "deepnote_cell_type": "markdown",
    "tags": []
   },
   "source": [
    "**Exercises**"
   ]
  },
  {
   "cell_type": "markdown",
   "id": "170226d4-4841-49a0-950f-1d621447c3b2",
   "metadata": {
    "cell_id": "75d18db000364cc4b03f8a9e280145e9",
    "deepnote_cell_type": "markdown",
    "tags": []
   },
   "source": [
    "Example: Add each pair of numbers"
   ]
  },
  {
   "cell_type": "code",
   "execution_count": null,
   "id": "9670e442-9f2e-493e-9d19-f6b46a04c786",
   "metadata": {
    "cell_id": "534083a33886453bbf3833b0e07f545c",
    "deepnote_cell_type": "code",
    "deepnote_to_be_reexecuted": false,
    "execution_millis": 5,
    "execution_start": 1634194896827,
    "source_hash": "95cacf5e",
    "tags": []
   },
   "outputs": [],
   "source": [
    "firsts = [1, 2, 3, 4, 5]\n",
    "seconds = [10, 20, 30, 40, 50]"
   ]
  },
  {
   "cell_type": "code",
   "execution_count": null,
   "id": "d7a48d6f-e364-456d-931c-4648d45508a9",
   "metadata": {},
   "outputs": [],
   "source": [
    "sums = []\n",
    "for first, second in zip(firsts, seconds):\n",
    "    sums.append(first + second)\n",
    "sums"
   ]
  },
  {
   "cell_type": "markdown",
   "id": "875f8b8e-0877-4901-80c3-a7b522b486c4",
   "metadata": {
    "cell_id": "d18a7f22d6264e809064c8ebb77ea5fa",
    "deepnote_cell_height": 74.734375,
    "deepnote_cell_type": "markdown",
    "tags": []
   },
   "source": [
    "Make a list of filenames called `filenames`, combining the basename and extension from each matching pair in the list."
   ]
  },
  {
   "cell_type": "code",
   "execution_count": null,
   "id": "bb8957b1-7709-4bd7-b82f-175e9e5d89a2",
   "metadata": {
    "cell_id": "e595a555dc2f453c902a777adb8e9d53",
    "deepnote_cell_height": 98.953125,
    "deepnote_cell_type": "code",
    "deepnote_to_be_reexecuted": false,
    "execution_millis": 6,
    "execution_start": 1654164287020,
    "source_hash": "4fd9e854",
    "tags": []
   },
   "outputs": [],
   "source": [
    "basenames = ['requirements', 'README', 'main', 'docs']\n",
    "extensions = ['.txt', '.md', '.py', '.rst']"
   ]
  },
  {
   "cell_type": "code",
   "execution_count": null,
   "id": "0e7125bd-ad38-429d-b3d0-90defb04891b",
   "metadata": {
    "tags": [
     "exercise"
    ]
   },
   "outputs": [],
   "source": [
    "filenames = []\n",
    "for base, ext in zip(basenames, extensions):\n",
    "    filenames.append(base + ext)\n",
    "filenames"
   ]
  },
  {
   "cell_type": "markdown",
   "id": "14f28102-4e17-464d-8c3b-f9a6a58073dd",
   "metadata": {
    "cell_id": "5a18ed2594364399986f614a0d3b0764",
    "deepnote_cell_height": 456.4375,
    "deepnote_cell_type": "markdown"
   },
   "source": [
    "## The `range` Iterator\n",
    "\n",
    "What if you don't have a collection of data, but you already know how many times you want to repeat a task? Well, to use a for-loop, we need to **generate** a sequence for the for loop to iterate through! `range()` generates a series of integers, using the same closed-open convention as Python slicing. For example:\n",
    "\n",
    "```python\n",
    ">>> range(5)  # Create the generator\n",
    "range(0, 5)\n",
    "\n",
    ">>> list(range(5))  # Iterate through the generator to make a list\n",
    "[0, 1, 2, 3, 4]\n",
    "\n",
    ">>> tuple(range(-2, 2))  # Iterate to make a tuple\n",
    "(-2, 1, 0, 1)\n",
    "```\n",
    ".\n"
   ]
  },
  {
   "cell_type": "markdown",
   "id": "943952d4-4b59-4d27-8657-dceda369f57f",
   "metadata": {
    "cell_id": "0f7f6a4a5fd54d30b36a1f1cf3caf8ea",
    "deepnote_cell_height": 88.71875,
    "deepnote_cell_type": "markdown"
   },
   "source": [
    "**Exercises**\n",
    "\n",
    "Using For-Loops and the range() function, do the following tasks:"
   ]
  },
  {
   "cell_type": "markdown",
   "id": "20a751b4-a23c-4287-bbf5-51e5e9b498f3",
   "metadata": {
    "cell_id": "d790959db1a4432d9f9a470c33f9fd9d",
    "deepnote_cell_height": 52.34375,
    "deepnote_cell_type": "markdown"
   },
   "source": [
    "Print the numbers 0 through 4:"
   ]
  },
  {
   "cell_type": "code",
   "execution_count": null,
   "id": "94c5a5d5-7c34-4fce-8733-813de113f76a",
   "metadata": {
    "cell_id": "83d84c733d80493fb353698964b44184",
    "deepnote_cell_height": 208.9375,
    "deepnote_cell_type": "code"
   },
   "outputs": [],
   "source": [
    "for x in range(5):\n",
    "    print(x)"
   ]
  },
  {
   "cell_type": "markdown",
   "id": "540c3e81-539a-4560-86b6-875668d375b1",
   "metadata": {
    "cell_id": "9c02655f924e4728be6296c49300c7a3",
    "deepnote_cell_height": 52.34375,
    "deepnote_cell_type": "markdown"
   },
   "source": [
    "Print the numbers 0 through 9:"
   ]
  },
  {
   "cell_type": "code",
   "execution_count": null,
   "id": "c24d89c4-c569-4e50-8fc3-2061de01337b",
   "metadata": {
    "cell_id": "1a7af9323fdb49f58587d43f814c26fd",
    "deepnote_cell_height": 65.953125,
    "deepnote_cell_type": "code"
   },
   "outputs": [],
   "source": []
  },
  {
   "cell_type": "markdown",
   "id": "ae5bd853-3461-4118-82a9-a604d1a40371",
   "metadata": {
    "cell_id": "6436d2e6d703470ea0658634c2fab5ac",
    "deepnote_cell_height": 52.34375,
    "deepnote_cell_type": "markdown"
   },
   "source": [
    "Print \"Hello World\" five times."
   ]
  },
  {
   "cell_type": "code",
   "execution_count": null,
   "id": "d0b96068-4b7e-419e-9281-62fec30258d6",
   "metadata": {
    "cell_id": "7cca527968b04cdd8a72e7e3cdb9fb61",
    "deepnote_cell_height": 65.953125,
    "deepnote_cell_type": "code"
   },
   "outputs": [],
   "source": []
  },
  {
   "cell_type": "markdown",
   "id": "1a388448-60cd-4088-8e45-b0c84c1ef404",
   "metadata": {
    "cell_id": "88bd3ae10140453f9f75521622b51a0f",
    "deepnote_cell_height": 445,
    "deepnote_cell_type": "markdown",
    "tags": []
   },
   "source": [
    "\n",
    "## Organizing Code for Readability and Reusability: Functions\n",
    "\n",
    "Whether you're writing code in a data science notebook or in a text script file, eventually your code will get long enough\n",
    "that it becomes a challenge to keep it understandable and easy to find useful pieces to reuse in other projects. \n",
    "\n",
    "The most common way of organizing code is to break it into into smaller **functions**.  To make a function, you need to tell Python:\n",
    "  \n",
    "  1. The function's **name**,\n",
    "  2. The inputs (a.k.a \"arguments\") that the function needs to do its work, and\n",
    "  3. The output (a.k.a. \"return value\") that the function will give to whatever code that called it.\n",
    "  \n",
    "\n",
    "```python\n",
    "def add(x, y):   # Define a function name and its arguments x and y\n",
    "    z = x + y            # Make calculations in the function body\n",
    "    return z             # \"Return\" data out of the function.\n",
    "\n",
    "result = add(5, 3)  # Then the function can be called again, changing the argument values for whatever you want!\n",
    "```\n",
    "."
   ]
  },
  {
   "cell_type": "markdown",
   "id": "f5807002-055c-43a3-bb61-ab93753cf45b",
   "metadata": {
    "cell_id": "06f955fb8c454be28352341b5e407073",
    "deepnote_cell_height": 88.71875,
    "deepnote_cell_type": "markdown"
   },
   "source": [
    "**Example Exercise**: Make a function out of the code below, so the following line works:\n",
    "\n",
    "`c = subtract(5, 3)`"
   ]
  },
  {
   "cell_type": "code",
   "execution_count": null,
   "id": "8034e897-a72c-4e6b-9399-b01b69dbd555",
   "metadata": {
    "cell_id": "aaf246e3aa34437781a698e4b89c7519",
    "deepnote_cell_height": 334.125,
    "deepnote_cell_type": "code",
    "deepnote_output_heights": [
     21.1875
    ]
   },
   "outputs": [],
   "source": [
    "a = 10\n",
    "b = 2\n",
    "result = a - b\n",
    "result"
   ]
  },
  {
   "cell_type": "code",
   "execution_count": null,
   "id": "fce98a66-1fd4-4b92-afd5-480925dbdd09",
   "metadata": {
    "cell_id": "aaf246e3aa34437781a698e4b89c7519",
    "deepnote_cell_height": 334.125,
    "deepnote_cell_type": "code",
    "deepnote_output_heights": [
     21.1875
    ]
   },
   "outputs": [],
   "source": [
    "def subtract(a, b):\n",
    "    result = a - b\n",
    "    return result\n",
    "\n",
    "c = subtract(5, 3)\n",
    "c"
   ]
  },
  {
   "cell_type": "markdown",
   "id": "97ff91bd-5eeb-418a-872d-2f7d876b2947",
   "metadata": {
    "cell_id": "30bb0e4da9f7493baca8e6da97c21872",
    "deepnote_cell_height": 88.71875,
    "deepnote_cell_type": "markdown"
   },
   "source": [
    "Make a function out of the code below, so the following line works:\n",
    "\n",
    "`c = multiply(10, 20)`"
   ]
  },
  {
   "cell_type": "code",
   "execution_count": null,
   "id": "35fd2e01-bb67-4c1e-8a2d-56d93311a9aa",
   "metadata": {
    "cell_id": "2b980533ae2c4b0aa7073311a10034d7",
    "deepnote_cell_height": 172.125,
    "deepnote_cell_type": "code",
    "deepnote_output_heights": [
     21.1875
    ],
    "deepnote_to_be_reexecuted": false,
    "execution_millis": 4,
    "execution_start": 1656062929210,
    "source_hash": "bdc8ac8"
   },
   "outputs": [],
   "source": [
    "a = 10\n",
    "b = 20\n",
    "result = a * b\n",
    "result"
   ]
  },
  {
   "cell_type": "code",
   "execution_count": null,
   "id": "2f819eb7-0a80-40a9-b1dc-c309d35f6dd8",
   "metadata": {
    "tags": [
     "exercise"
    ]
   },
   "outputs": [],
   "source": []
  },
  {
   "cell_type": "markdown",
   "id": "3a02e0b2-c469-4bfe-a286-31fa29abc3f3",
   "metadata": {
    "cell_id": "61538d6eec5c4b47ad67fd4f5868f7b2",
    "deepnote_cell_height": 88.71875,
    "deepnote_cell_type": "markdown",
    "owner_user_id": "c7a9f7f2-eddd-41d5-be7d-5159ad6417bb"
   },
   "source": [
    "Make a function out of the code below, so the following line works: \n",
    "\n",
    "    is_even(7) #False"
   ]
  },
  {
   "cell_type": "code",
   "execution_count": null,
   "id": "92d4dd5f-6ffc-40cd-8a3a-849d976ead2b",
   "metadata": {},
   "outputs": [],
   "source": [
    "\n"
   ]
  },
  {
   "cell_type": "code",
   "execution_count": null,
   "id": "23c7c540",
   "metadata": {},
   "outputs": [],
   "source": []
  },
  {
   "cell_type": "code",
   "execution_count": null,
   "id": "1cb20cdc",
   "metadata": {},
   "outputs": [],
   "source": [
    "\n",
    "def record_add(df, new_records):\n",
    "    existing_check = new_records['name'].isin(df['name'])\n",
    "\n",
    "    non_existing_records = new_records[~existing_check]\n",
    "    df = pd.concat([df, non_existing_records], ignore_index=True)\n",
    "    \n",
    "    return df\n",
    "\n",
    "df = pd.DataFrame({'name': ['Ram', 'Hari', 'Mohan'], 'age': [25, 30, 32]})\n",
    "\n",
    "new_records = pd.DataFrame({'name': ['Krishna', 'Mohan'], 'age': [28, 33]})\n",
    "\n",
    "df = record_add(df, new_records)\n",
    "\n",
    "print(df)\n",
    "\n"
   ]
  },
  {
   "cell_type": "code",
   "execution_count": null,
   "id": "ac7879db",
   "metadata": {},
   "outputs": [],
   "source": []
  }
 ],
 "metadata": {
  "kernelspec": {
   "display_name": "Python 3 (ipykernel)",
   "language": "python",
   "name": "python3"
  },
  "language_info": {
   "codemirror_mode": {
    "name": "ipython",
    "version": 3
   },
   "file_extension": ".py",
   "mimetype": "text/x-python",
   "name": "python",
   "nbconvert_exporter": "python",
   "pygments_lexer": "ipython3",
   "version": "3.9.13"
  }
 },
 "nbformat": 4,
 "nbformat_minor": 5
}

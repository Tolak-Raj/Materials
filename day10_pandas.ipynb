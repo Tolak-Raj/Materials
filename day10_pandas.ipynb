{
 "cells": [
  {
   "cell_type": "code",
   "execution_count": null,
   "id": "0b9c4f3e",
   "metadata": {},
   "outputs": [],
   "source": [
    "import numpy as np\n",
    "import pandas as pd"
   ]
  },
  {
   "cell_type": "code",
   "execution_count": null,
   "id": "82370e95",
   "metadata": {},
   "outputs": [],
   "source": [
    "url = 'https://raw.githubusercontent.com/pudasainimohan/Materials/main/data/titanic.csv'\n",
    "df = pd.read_csv(url)"
   ]
  },
  {
   "cell_type": "markdown",
   "id": "06e88733",
   "metadata": {},
   "source": [
    "**Agegroup**        \n",
    "If you want to create age groups from an 'age' variable, you can use the `pd.cut()` function. This function can be used to bin numerical data into discrete intervals. You can specify the `bin edges` and `labels `for the intervals and create a new column to store the binned data. For example, to create age groups in 10-year intervals, you can define the bin edges as a list of numbers from 0 to 80 in increments of 10, and the corresponding labels as a list of strings such as '0-10', '10-20', '20-30', and so on. You can then use the pd.cut() function to create a new column with the binned data. The resulting DataFrame will have a new column with the specified age groups."
   ]
  },
  {
   "cell_type": "code",
   "execution_count": 1,
   "id": "5ec1e6df",
   "metadata": {},
   "outputs": [
    {
     "ename": "NameError",
     "evalue": "name 'pd' is not defined",
     "output_type": "error",
     "traceback": [
      "\u001b[1;31m---------------------------------------------------------------------------\u001b[0m",
      "\u001b[1;31mNameError\u001b[0m                                 Traceback (most recent call last)",
      "\u001b[1;32m~\\AppData\\Local\\Temp\\ipykernel_14232\\4168824748.py\u001b[0m in \u001b[0;36m<module>\u001b[1;34m\u001b[0m\n\u001b[0;32m      4\u001b[0m \u001b[1;33m\u001b[0m\u001b[0m\n\u001b[0;32m      5\u001b[0m \u001b[1;31m# Create a new column 'AgeGroup' by binning the 'age' column\u001b[0m\u001b[1;33m\u001b[0m\u001b[1;33m\u001b[0m\u001b[0m\n\u001b[1;32m----> 6\u001b[1;33m \u001b[0mdf\u001b[0m\u001b[1;33m[\u001b[0m\u001b[1;34m'AgeGroup'\u001b[0m\u001b[1;33m]\u001b[0m \u001b[1;33m=\u001b[0m \u001b[0mpd\u001b[0m\u001b[1;33m.\u001b[0m\u001b[0mcut\u001b[0m\u001b[1;33m(\u001b[0m\u001b[0mdf\u001b[0m\u001b[1;33m[\u001b[0m\u001b[1;34m'age'\u001b[0m\u001b[1;33m]\u001b[0m\u001b[1;33m,\u001b[0m \u001b[0mbins\u001b[0m\u001b[1;33m=\u001b[0m\u001b[0mbins\u001b[0m\u001b[1;33m,\u001b[0m \u001b[0mlabels\u001b[0m\u001b[1;33m=\u001b[0m\u001b[0mlabels\u001b[0m\u001b[1;33m)\u001b[0m\u001b[1;33m\u001b[0m\u001b[1;33m\u001b[0m\u001b[0m\n\u001b[0m\u001b[0;32m      7\u001b[0m \u001b[0mdf\u001b[0m\u001b[1;33m\u001b[0m\u001b[1;33m\u001b[0m\u001b[0m\n",
      "\u001b[1;31mNameError\u001b[0m: name 'pd' is not defined"
     ]
    }
   ],
   "source": [
    "\n",
    "bins=[0,10,20,30,40,50,60,70,80]\n",
    "\n",
    "labels=['0-10','10-20','20-30','30-40','40-50','50-60','60-70','70-80']\n",
    "\n",
    "# Create a new column 'AgeGroup' by binning the 'age' column\n",
    "df['AgeGroup'] = pd.cut(df['age'], bins=bins, labels=labels)\n",
    "df\n"
   ]
  },
  {
   "cell_type": "code",
   "execution_count": null,
   "id": "6c45bc4e-635f-4cbc-a5c1-2524a0caac8a",
   "metadata": {},
   "outputs": [],
   "source": [
    "bins=[i for i in range(0,91,10) ]\n",
    "bins\n",
    "labels=[f\"{i}-{i+10}\" for i in range (0,90,10)]\n",
    "labels\n",
    "df['ag']=pd.cut(df.age,bins=bins,labels=labels)\n",
    "df"
   ]
  },
  {
   "cell_type": "markdown",
   "id": "ef5af81a",
   "metadata": {},
   "source": [
    "Suppose you want to categorize fares into three categories where fares less than 100 are \"Cheap fare\", fares between 100 and 200 are \"Reasonable fare\", and fares greater than 200 are \"Expensive fare\". You can categorize fares in the following way:"
   ]
  },
  {
   "cell_type": "code",
   "execution_count": null,
   "id": "a6a50319",
   "metadata": {},
   "outputs": [],
   "source": [
    "condition = [df.fare < 100, df.fare <200  , df.fare >= 200]\n",
    "label = ['Cheap fare', 'Reasonable fare', 'Expensive fare']\n",
    "df['fare1'] = np.select(condition, label, default='Unknown')\n",
    "df\n"
   ]
  },
  {
   "cell_type": "markdown",
   "id": "92cd0cdd",
   "metadata": {},
   "source": [
    "Create a new column class_l that replaces the numeric codes with the corresponding categorical labels \"First Class\", \"Second Class\", and \"Third Class\". "
   ]
  },
  {
   "cell_type": "code",
   "execution_count": null,
   "id": "b2d25388-79d3-4d05-a462-2435c683cca7",
   "metadata": {},
   "outputs": [],
   "source": [
    "l_dict={1:'First Class',2:'Second Class',3:'Third class'}\n",
    "df['class_l']=df['pclass'].replace(l_dict)\n",
    "df.drop"
   ]
  },
  {
   "cell_type": "markdown",
   "id": "e3d122bf-a144-4a6a-bd98-55f2fe7eac6c",
   "metadata": {
    "slideshow": {
     "slide_type": "subslide"
    },
    "tags": []
   },
   "source": [
    "## Handling Missing Values\n",
    "\n",
    "Missing values can be indicated with a None or np.nan value, like in Numpy.  Pandas Dataframes have several methods for detecting, removing, and replacing these values:\n",
    "\n",
    "| method | description\n",
    "| ---:  | :---- |\n",
    "**isna()** | Returns True for each NaN |\n",
    "**notna()** | Returns False for each NaN |\n",
    "**dropna()** | Returns just the rows without any NaNs |\n",
    "\n"
   ]
  },
  {
   "cell_type": "markdown",
   "id": "5aca93a6-813b-4602-b611-5467d38f455e",
   "metadata": {},
   "source": [
    "**Exercises**"
   ]
  },
  {
   "cell_type": "markdown",
   "id": "511bd9cc-bb90-4164-b14c-444d044c3648",
   "metadata": {},
   "source": [
    "What proportion of the \"deck\" column is missing data?"
   ]
  },
  {
   "cell_type": "code",
   "execution_count": null,
   "id": "ccb25c9b-68b8-4f27-a599-e9e8d265449b",
   "metadata": {},
   "outputs": [],
   "source": []
  },
  {
   "cell_type": "markdown",
   "id": "1cb9ac4a-c360-4f29-a8ed-3d3f95211903",
   "metadata": {},
   "source": [
    "How many rows don't contain any missing data at all?"
   ]
  },
  {
   "cell_type": "code",
   "execution_count": null,
   "id": "8c651d8d-c5fa-49b0-abfb-94bee2908b1d",
   "metadata": {},
   "outputs": [],
   "source": []
  },
  {
   "cell_type": "markdown",
   "id": "d8f05929-3798-4f1c-b482-2b542a1463d0",
   "metadata": {},
   "source": [
    "Make a dataframe(df1) with only the rows containing no missing data on 'deck'column."
   ]
  },
  {
   "cell_type": "code",
   "execution_count": null,
   "id": "689f071a-1d29-442a-aeac-47f47aea90d2",
   "metadata": {},
   "outputs": [],
   "source": []
  },
  {
   "cell_type": "markdown",
   "id": "d8e7a8db-39c0-478b-b3ac-4fe31962670a",
   "metadata": {},
   "source": [
    "#### Imputation\n",
    "\n",
    "You can also replace missing data with real values.\n",
    "\n",
    "| method | description |\n",
    "| ----: |  :---- |\n",
    "| **fillna()** | Replaces the NaNs with values (provides lots of options) |\n",
    "| **ffill()** | Replaces the Nans with the previous non-NaN value (equivalent to df.fillna(method='ffill') |\n",
    "| **bfill()** | Replaces the Nans with the following non-NaN value (equivalent to df.fillna(method='bfill') |\n",
    "| **interpolate()** | interpolates nans with previous and following values |\n"
   ]
  },
  {
   "cell_type": "markdown",
   "id": "e9284a8c-5dfa-453d-b307-bb0ae921d66b",
   "metadata": {},
   "source": [
    "**Imputation Exercises**\n",
    "Given the following dataframe, fill in the missing data using the fillna() or interpolate() methods:"
   ]
  },
  {
   "cell_type": "code",
   "execution_count": null,
   "id": "7e387d0a-a692-458b-bfd1-bf7981b9f79d",
   "metadata": {},
   "outputs": [],
   "source": [
    "data = pd.DataFrame({'time': [0.5, 1., 1.5, None, 2.5, 3., 3.5, None], 'value': [6, 4, 5, 8, None, 10, 11, None]})\n",
    "data"
   ]
  },
  {
   "cell_type": "markdown",
   "id": "1ad0cbbe-fa6a-4d3e-a701-ec3900837045",
   "metadata": {},
   "source": [
    "Replace all the missing \"value\" colum with zeros."
   ]
  },
  {
   "cell_type": "code",
   "execution_count": null,
   "id": "dd6ecbda-409c-4234-bbe7-ed3deeffad67",
   "metadata": {},
   "outputs": [],
   "source": []
  },
  {
   "cell_type": "markdown",
   "id": "5429891f-c7d3-4383-bf2e-48cd82636031",
   "metadata": {},
   "source": [
    "Replace the missing \"time\" rows with the previous value"
   ]
  },
  {
   "cell_type": "code",
   "execution_count": null,
   "id": "9d38742b-c382-4635-b751-4ca64915ad36",
   "metadata": {},
   "outputs": [],
   "source": []
  },
  {
   "cell_type": "markdown",
   "id": "d77d3ebc-79a7-41a5-b7bc-0c1e7c4abe32",
   "metadata": {},
   "source": [
    "Replace all of the missing values with the data from the next row.  "
   ]
  },
  {
   "cell_type": "code",
   "execution_count": null,
   "id": "bda833d1-17d8-40e6-8fd6-d2df6a3b7027",
   "metadata": {},
   "outputs": [],
   "source": []
  },
  {
   "cell_type": "markdown",
   "id": "daef8825-2496-4e92-b841-f100dc8ef9df",
   "metadata": {},
   "source": [
    "Linearly interpolate the missing data.  What is the result for this dataset?"
   ]
  },
  {
   "cell_type": "code",
   "execution_count": null,
   "id": "32199543-1e65-449e-a151-c13e1fda5c75",
   "metadata": {},
   "outputs": [],
   "source": []
  },
  {
   "cell_type": "markdown",
   "id": "a59af1b0-2eef-4636-98b5-eec88ed899f5",
   "metadata": {
    "cell_id": "00056-5e44558b-e854-4e28-8bf9-c91e91fe06e6",
    "deepnote_cell_type": "markdown",
    "id": "HI970hW6VNLz"
   },
   "source": [
    "## Querying/Filtering Data\n",
    "\n",
    "To get rows based on their value, Pandas supports both Numpy's logical indexing for filtering rows and an SQL-like query string.  For example, to get all the rows of a dataframe that is positive for Column1:\n",
    "\n",
    "```python\n",
    "positive_rows = df['Column1'] > 0\n",
    "df[positive_rows]\n",
    "```\n",
    "\n",
    "Often, this is done in a single line:\n",
    "\n",
    "```python\n",
    "df[df['Column1'] > 0]\n",
    "```\n"
   ]
  },
  {
   "cell_type": "markdown",
   "id": "da9c8a11-d7e5-40b8-9487-87c72ae9a7f2",
   "metadata": {
    "cell_id": "00057-b6a58b53-d512-42cd-a2b2-9b8f524e2dff",
    "deepnote_cell_type": "markdown",
    "id": "Dm3kXTRjVNL0"
   },
   "source": [
    "**Exercises**\n",
    "Let's do some data querying:"
   ]
  },
  {
   "cell_type": "markdown",
   "id": "9b2f7cb2-ade8-4c63-a24d-9c287d2b8282",
   "metadata": {
    "cell_id": "00060-b8e40ce7-0158-478a-b16b-29a33116a19d",
    "deepnote_cell_type": "markdown",
    "id": "0t-L239fVNL0"
   },
   "source": [
    "**Example**: Did the oldest passenger on the Titanic survive?"
   ]
  },
  {
   "cell_type": "code",
   "execution_count": null,
   "id": "981d3974-1c24-4cb6-9baf-cbcb72c982dc",
   "metadata": {
    "cell_id": "00061-39c430ac-b04a-4853-bc68-6beefd530572",
    "deepnote_cell_type": "code",
    "id": "yU_ikQTEVNL0"
   },
   "outputs": [],
   "source": [
    "df[df.age == df['age'].max()].survived\n",
    "df.query('age == age.max()').survived"
   ]
  },
  {
   "cell_type": "markdown",
   "id": "69f20ece-ad8a-4ecb-8873-6124b00ae585",
   "metadata": {
    "cell_id": "00062-54094d7e-3a77-4055-a77c-f917cb77d115",
    "deepnote_cell_type": "markdown",
    "id": "lp5aJHN1VNL0"
   },
   "source": [
    "Where did the youngest passenger on the Titanic embark from?"
   ]
  },
  {
   "cell_type": "code",
   "execution_count": null,
   "id": "63cc08cf-8db3-43ff-9019-8cc398b122d9",
   "metadata": {
    "cell_id": "00063-c059612b-686e-4069-9557-ea44acff0f95",
    "deepnote_cell_type": "code",
    "id": "wsrbrn9eVNL0",
    "tags": [
     "exercise"
    ]
   },
   "outputs": [],
   "source": [
    "df.head()"
   ]
  },
  {
   "cell_type": "markdown",
   "id": "84766a5d-bb22-4437-95fa-cf9098bd95da",
   "metadata": {
    "cell_id": "00064-c35a805b-6a02-438a-8508-ec69e2ff37d8",
    "deepnote_cell_type": "markdown",
    "id": "ooDOh-Y7VNL0"
   },
   "source": [
    "How many passengers on the Titanic embarked from Cherbourg? (use len() to count the number of rows)"
   ]
  },
  {
   "cell_type": "code",
   "execution_count": null,
   "id": "00fff7fb-a8e2-476e-9f61-8451adfdcf1b",
   "metadata": {
    "cell_id": "00064-40675dc5-33ee-4178-a61b-6a027b57b891",
    "deepnote_cell_type": "code",
    "deepnote_to_be_reexecuted": false,
    "execution_millis": 2,
    "execution_start": 1628721072727,
    "source_hash": "b623e53d",
    "tags": [
     "exercise"
    ]
   },
   "outputs": [],
   "source": []
  },
  {
   "cell_type": "markdown",
   "id": "db80b2bd-19d7-44c5-9d57-4cca1ce2205c",
   "metadata": {
    "cell_id": "00065-43e6a2e1-0889-4fe4-9627-cd1916fde87d",
    "deepnote_cell_type": "markdown",
    "id": "CBFNsBbIVNL0"
   },
   "source": [
    "What is mean ticket fare for the 1st class?"
   ]
  },
  {
   "cell_type": "code",
   "execution_count": null,
   "id": "1feac97e-6d95-417b-93d5-a93bc44a910b",
   "metadata": {
    "cell_id": "00066-ac202154-8537-4031-a211-660909100c88",
    "deepnote_cell_type": "code",
    "deepnote_to_be_reexecuted": false,
    "execution_millis": 3,
    "execution_start": 1628721075442,
    "id": "-IvOaLEHVNL1",
    "outputId": "c9814d62-0221-45af-dc0a-e7fd0c254224",
    "source_hash": "b623e53d",
    "tags": [
     "exercise"
    ]
   },
   "outputs": [],
   "source": []
  },
  {
   "cell_type": "markdown",
   "id": "67ee481d-5d50-48d1-94d4-1982ea678da0",
   "metadata": {
    "cell_id": "00067-0f0b4792-a77f-4e7e-8aac-4762489a1c81",
    "deepnote_cell_type": "markdown",
    "id": "CmSMwI2FVNL1"
   },
   "source": [
    " The 2nd?"
   ]
  },
  {
   "cell_type": "code",
   "execution_count": null,
   "id": "d0291bb7-5938-4119-be5f-2b93bb11603c",
   "metadata": {
    "cell_id": "00068-90f70d96-ccc4-4342-b063-808ec2653a47",
    "deepnote_cell_type": "code",
    "deepnote_to_be_reexecuted": false,
    "execution_millis": 2,
    "execution_start": 1628721082196,
    "id": "jfr0864LVNL1",
    "outputId": "8cfe76bf-d93f-432e-e91a-6de1565131af",
    "source_hash": "b623e53d",
    "tags": [
     "exercise"
    ]
   },
   "outputs": [],
   "source": []
  },
  {
   "cell_type": "markdown",
   "id": "09a48830-7770-400c-9c74-29a2e4f4e45d",
   "metadata": {
    "cell_id": "00069-09f2c441-4044-4081-be11-f36c1a165671",
    "deepnote_cell_type": "markdown",
    "id": "EKN21bdoVNL1"
   },
   "source": [
    "The 3rd?"
   ]
  },
  {
   "cell_type": "markdown",
   "id": "cdab6d9b-1035-4ec6-81a7-60b0736db541",
   "metadata": {
    "cell_id": "00078-ad59b4bc-c6fd-4bdc-bb97-4ce875d6d6f5",
    "deepnote_cell_type": "markdown",
    "id": "DP8FEKyZVNL3"
   },
   "source": [
    "How many total people survived from Southampton?"
   ]
  },
  {
   "cell_type": "code",
   "execution_count": null,
   "id": "014f84c8-350c-40bf-9746-bf77d23c5fcb",
   "metadata": {
    "cell_id": "00079-28272ab5-2933-4041-b260-bbb8d0864e24",
    "deepnote_cell_type": "code",
    "id": "9zzgkz2YVNL3",
    "tags": [
     "exercise"
    ]
   },
   "outputs": [],
   "source": []
  },
  {
   "cell_type": "markdown",
   "id": "5c04ff8f-860d-43ac-8682-01e8e84fb788",
   "metadata": {
    "cell_id": "00080-27368171-51f3-4f91-8c36-e6a77ca8f616",
    "deepnote_cell_type": "markdown",
    "id": "Hw5QdqLoVNL3"
   },
   "source": [
    "From Cherbourg?"
   ]
  },
  {
   "cell_type": "code",
   "execution_count": null,
   "id": "ef73b29c-9014-41d6-aaed-ea7927944be0",
   "metadata": {
    "cell_id": "00081-cf4c7a89-ac89-4e73-a753-07c800ef93f8",
    "deepnote_cell_type": "code",
    "id": "VxOYWpbfVNL3",
    "tags": [
     "exercise"
    ]
   },
   "outputs": [],
   "source": []
  },
  {
   "cell_type": "markdown",
   "id": "993b6fb8-b86f-433a-95bf-2651a0ff8797",
   "metadata": {
    "cell_id": "00082-47096120-b54d-4a61-beaf-12b671258c63",
    "deepnote_cell_type": "markdown",
    "id": "52-3Z99_VNL3"
   },
   "source": [
    "How many people from Southampton had first class tickets? (Hint: `(True) & (True)`)"
   ]
  },
  {
   "cell_type": "code",
   "execution_count": null,
   "id": "c84a390b-717b-49b3-a830-1af4ce92dc6c",
   "metadata": {},
   "outputs": [],
   "source": []
  },
  {
   "cell_type": "markdown",
   "id": "9d3a9f54-8444-4c41-bcfb-5b4432636f89",
   "metadata": {},
   "source": [
    "Keep only the data where the fare is greater than 10 and store it in the `result` object"
   ]
  },
  {
   "cell_type": "code",
   "execution_count": null,
   "id": "f537af17-d2a1-4708-a9d7-85ac6edadf93",
   "metadata": {},
   "outputs": [],
   "source": []
  },
  {
   "cell_type": "markdown",
   "id": "fc9e00b0-3214-4e7d-8685-da92fb70cfde",
   "metadata": {},
   "source": [
    "Keep only the data where the fare is greater between 16 and 18 and store it in the `result` object"
   ]
  },
  {
   "cell_type": "code",
   "execution_count": null,
   "id": "3d2eca8b-c198-408c-9240-80a6cb65ca42",
   "metadata": {},
   "outputs": [],
   "source": []
  },
  {
   "cell_type": "markdown",
   "id": "8360c598-1072-4b0e-9b31-0291900bb895",
   "metadata": {},
   "source": [
    "**Sorting** : To sort the values of specifid variable we can use `sort_values()` methods.by default this method sort values in assending order, for the decending order you have to change `ascending=False` ."
   ]
  },
  {
   "cell_type": "markdown",
   "id": "de820c93-ae98-442d-b043-9c96b173c791",
   "metadata": {},
   "source": [
    "sort the age in decending order and keep it as `result` object"
   ]
  },
  {
   "cell_type": "code",
   "execution_count": null,
   "id": "22da59fd-df7b-4e66-96cc-a10fd5c91eb5",
   "metadata": {},
   "outputs": [],
   "source": []
  },
  {
   "cell_type": "markdown",
   "id": "8e08bab3-4fd0-4f89-857e-0784672ee381",
   "metadata": {},
   "source": [
    "### contingency table using  **pd.crosstab()** . \n",
    "Some parameters of crosstab function:\n",
    "\n",
    "`index`: Specifies the row labels for the resulting DataFrame.       \n",
    "`columns`: Specifies the column labels for the resulting DataFrame.        \n",
    "`values`: Specifies the data values to be aggregated in the resulting DataFrame. This parameter is optional.        \n",
    "`rownames`: Specifies the row names for the resulting DataFrame. This parameter is optional.        \n",
    "`colnames`: Specifies the column names for the resulting DataFrame. This parameter is optional.       \n",
    "`aggfunc`: Specifies the aggregation function to be used when aggregating the data values. This parameter is optional and defaults to 'count'.        \n",
    "`margins`: Specifies whether or not to include the marginal totals in the resulting DataFrame. This parameter is optional and defaults to False.        \n",
    "`margins_name`: Specifies the name for the row and column labels of the marginal totals. This parameter is optional and defaults to 'All'.        \n",
    "`dropna`: Specifies whether or not to exclude missing values (NaN) from the computation. This parameter is optional and defaults to True.         \n",
    "`normalize`: Specifies whether or not to normalize the resulting DataFrame. If set to True, the values will be normalized to sum up to 1. This parameter is optional and defaults to False         "
   ]
  },
  {
   "cell_type": "markdown",
   "id": "2d5ba481-bcea-41cd-9046-0647c104a63d",
   "metadata": {},
   "source": [
    "Example:1"
   ]
  },
  {
   "cell_type": "code",
   "execution_count": null,
   "id": "d50a792d-6d51-407b-a257-ab3bddd69908",
   "metadata": {},
   "outputs": [],
   "source": [
    "table = pd.crosstab(index=df['sex'], columns=df['AgeGroup'])\n",
    "table"
   ]
  },
  {
   "cell_type": "markdown",
   "id": "0f272c62-32e3-4a9d-bf63-1fd59a59d99f",
   "metadata": {},
   "source": [
    "Example:2"
   ]
  },
  {
   "cell_type": "code",
   "execution_count": null,
   "id": "ac0a2c26-571d-49f1-a7fc-17ce8265e2cf",
   "metadata": {},
   "outputs": [],
   "source": [
    "table = pd.crosstab(index=df['sex'], columns=df['AgeGroup'], values=df['fare'], aggfunc='mean')\n",
    "table"
   ]
  },
  {
   "cell_type": "markdown",
   "id": "9146f52c-69c5-418d-be07-7fb43d9b1d9e",
   "metadata": {},
   "source": [
    "Example:3"
   ]
  },
  {
   "cell_type": "code",
   "execution_count": null,
   "id": "6779a553-69ea-4846-a068-8baf27f9bd71",
   "metadata": {},
   "outputs": [],
   "source": [
    "table = pd.crosstab(index=df['sex'], columns=df['AgeGroup'], margins=True)\n",
    "table"
   ]
  },
  {
   "cell_type": "code",
   "execution_count": null,
   "id": "2dcf268d-efb9-4874-9668-e241528871ae",
   "metadata": {},
   "outputs": [],
   "source": [
    "#crosstabl\n",
    "table = pd.crosstab(index=df['sex'], columns=df['AgeGroup'], margins=True)\n",
    "# print(table)\n",
    "\n",
    "# percentage caluculate\n",
    "table_pct = table / table.loc['All'] * 100\n",
    "table_pct = table_pct.round(2)\n",
    "\n",
    "# table_pct = table.div(table['All'], axis=0).mul(100).round(2)\n",
    "table_pct = table.div(table['All'], axis=0)\n",
    "table_pct=round(table_pct*100,2)\n",
    "print(table_pct)\n",
    "\n",
    "# # Combined\n",
    "new_table = table.astype(str)+ ' (' + table_pct.astype(str) + '%)'\n",
    "new_table\n",
    "\n",
    "# Remove the 'All' column and row \n",
    "# new_table1 = new_table.drop(columns=['All'], index=['All'])\n",
    "\n",
    "# print(new_table1)"
   ]
  },
  {
   "cell_type": "markdown",
   "id": "8594550b",
   "metadata": {
    "cell_id": "00001-67135b01-0908-4314-8790-12bc177ab833",
    "deepnote_cell_type": "markdown",
    "id": "lonely-grounds"
   },
   "source": [
    "## GroupBy Operations: Applying Aggregations to Groups of Data\n",
    "\n",
    "Usually, you don't just want to get a single metric from a dataset--you want to compare that metric between differnt subgroups of your data. For example, you want the mean **class wise average fare** , or the maximum fare  of **each class**, or the total passenger of **each class**, and so on.\n",
    "\n",
    "The **groupby()** method lets you specify that an operation will be done on each *same-valued* row for a given column.  For example, to ask for the mean temperature by month:\n",
    "\n",
    "\n",
    "To get the average age of each class\n",
    "\n",
    "```python\n",
    ">>> df.groupby('pclass').age.mean()\n",
    "```\n",
    "\n",
    "You can also group by as many columns as you like, getting as many groups as unique combinations between the columns:\n",
    "\n",
    "```python\n",
    ">>> df.groupby(['year', 'month']).temperature.mean()\n",
    "```\n",
    "\n",
    "Groupby objects are **lazy**, meaning they don't start calculating anything until they know the full pipeline.  This approach is called the **\"Split-Apply-Combine\"** workflow.  You can get more info on it here: https://pandas.pydata.org/pandas-docs/stable/user_guide/groupby.html\n"
   ]
  },
  {
   "cell_type": "markdown",
   "id": "d55f200b",
   "metadata": {
    "cell_id": "00002-bb667ec7-7d98-41ae-b659-d3a840fa47c5",
    "deepnote_cell_type": "markdown",
    "id": "egyptian-might"
   },
   "source": [
    "**Exercises**: Let's try this out on the Titanic Dataset!"
   ]
  },
  {
   "cell_type": "markdown",
   "id": "aba75bea",
   "metadata": {
    "cell_id": "00004-cae997ee-9bfd-4969-9bf9-9fc7e18fd824",
    "deepnote_cell_type": "markdown",
    "id": "exterior-bankruptcy"
   },
   "source": [
    "Example: What was the mean age, grouped by class?"
   ]
  },
  {
   "cell_type": "code",
   "execution_count": null,
   "id": "10453969",
   "metadata": {
    "cell_id": "00005-893f995b-1408-4d17-ad00-3519ccaf11df",
    "deepnote_cell_type": "code",
    "deepnote_to_be_reexecuted": false,
    "execution_millis": 5,
    "execution_start": 1636321029796,
    "id": "bound-buyer",
    "outputId": "76cc4311-1146-4f69-9109-6777bc2786e6",
    "source_hash": "b623e53d"
   },
   "outputs": [],
   "source": [
    "df.groupby('pclass').age.mean()"
   ]
  },
  {
   "cell_type": "markdown",
   "id": "3451f120",
   "metadata": {
    "cell_id": "00006-8f7cc31c-6150-434a-9c48-d2b2b6f351d7",
    "deepnote_cell_type": "markdown",
    "id": "foster-hudson"
   },
   "source": [
    "What was the median ticket fare for each class?"
   ]
  },
  {
   "cell_type": "code",
   "execution_count": null,
   "id": "8c377474",
   "metadata": {
    "cell_id": "00007-2f38ccc7-7465-416a-b919-065fd1b7ad28",
    "deepnote_cell_type": "code",
    "deepnote_to_be_reexecuted": false,
    "execution_millis": 9,
    "execution_start": 1636321034088,
    "id": "nominated-precipitation",
    "source_hash": "b623e53d",
    "tags": [
     "exercise"
    ]
   },
   "outputs": [],
   "source": []
  },
  {
   "cell_type": "markdown",
   "id": "839e2fb9",
   "metadata": {
    "cell_id": "00008-7cd35a7a-8538-474f-9b4c-786101854b80",
    "deepnote_cell_type": "markdown",
    "id": "framed-proposal"
   },
   "source": [
    "What was the survival rate for each class?"
   ]
  },
  {
   "cell_type": "code",
   "execution_count": null,
   "id": "93c184ea",
   "metadata": {
    "cell_id": "00009-4d461090-5f12-4978-8ac9-5ed2847413c9",
    "deepnote_cell_type": "code",
    "deepnote_to_be_reexecuted": false,
    "execution_millis": 4,
    "execution_start": 1636321043050,
    "id": "behind-people",
    "source_hash": "b623e53d",
    "tags": [
     "exercise"
    ]
   },
   "outputs": [],
   "source": []
  },
  {
   "cell_type": "markdown",
   "id": "c7407c0f",
   "metadata": {
    "cell_id": "00010-65c445aa-f87b-460a-b272-9165563df188",
    "deepnote_cell_type": "markdown",
    "id": "eligible-income"
   },
   "source": [
    "What was the survival rate for each sex?"
   ]
  },
  {
   "cell_type": "code",
   "execution_count": null,
   "id": "83938996",
   "metadata": {
    "cell_id": "00011-16c87ac8-a3a5-4268-9490-441ba938347d",
    "deepnote_cell_type": "code",
    "deepnote_to_be_reexecuted": false,
    "execution_millis": 7,
    "execution_start": 1636321046669,
    "id": "covered-prisoner",
    "source_hash": "b623e53d",
    "tags": [
     "exercise"
    ]
   },
   "outputs": [],
   "source": []
  },
  {
   "cell_type": "markdown",
   "id": "0677213e",
   "metadata": {
    "cell_id": "00012-7986e60b-367b-4225-9745-b264e01f97fb",
    "deepnote_cell_type": "markdown",
    "id": "banner-armor"
   },
   "source": [
    "What was the survival rate, broken down by both sex and class?"
   ]
  },
  {
   "cell_type": "code",
   "execution_count": null,
   "id": "94517b02",
   "metadata": {
    "cell_id": "00013-5b0c77a8-f432-44bc-9287-f53edfd9354f",
    "deepnote_cell_type": "code",
    "deepnote_to_be_reexecuted": false,
    "execution_millis": 4,
    "execution_start": 1636321053521,
    "id": "utility-cholesterol",
    "source_hash": "b623e53d",
    "tags": [
     "exercise"
    ]
   },
   "outputs": [],
   "source": []
  },
  {
   "cell_type": "markdown",
   "id": "ea92fd18",
   "metadata": {
    "cell_id": "00016-1ccc8d0a-10ea-40ae-bad2-8718249b53e9",
    "deepnote_cell_type": "markdown",
    "id": "unlike-spirit"
   },
   "source": [
    "What was the median ticket fare for each embarking town?"
   ]
  },
  {
   "cell_type": "code",
   "execution_count": null,
   "id": "65a39abf",
   "metadata": {
    "cell_id": "00017-14abed27-9f4f-4671-9c23-6c552ebf7c98",
    "deepnote_cell_type": "code",
    "deepnote_to_be_reexecuted": false,
    "execution_millis": 2,
    "execution_start": 1636321063104,
    "id": "vocational-ethernet",
    "source_hash": "b623e53d",
    "tags": [
     "exercise"
    ]
   },
   "outputs": [],
   "source": []
  },
  {
   "cell_type": "markdown",
   "id": "4cb86790",
   "metadata": {
    "cell_id": "00018-8e6c0c91-7c3a-4ce7-9f33-7f0cbdde6ee2",
    "deepnote_cell_type": "markdown",
    "id": "interested-multimedia"
   },
   "source": [
    "What was the median age of the survivors vs non-survivors, when sex is considered as a factor?"
   ]
  },
  {
   "cell_type": "code",
   "execution_count": null,
   "id": "1b825d1f",
   "metadata": {
    "cell_id": "00019-bffd7454-823c-433f-bc6a-e9d5eeaae99a",
    "deepnote_cell_type": "code",
    "deepnote_to_be_reexecuted": false,
    "execution_millis": 6,
    "execution_start": 1636321068245,
    "id": "stylish-trash",
    "source_hash": "b623e53d",
    "tags": [
     "exercise"
    ]
   },
   "outputs": [],
   "source": []
  },
  {
   "cell_type": "markdown",
   "id": "72b0115c-c811-42f2-8250-7c172a0ae059",
   "metadata": {},
   "source": [
    "Calculate the number of passengers, their average age, and maximum age for each category based on sex."
   ]
  },
  {
   "cell_type": "code",
   "execution_count": null,
   "id": "5fb80c81",
   "metadata": {},
   "outputs": [],
   "source": [
    "\n",
    "result = df.groupby('sex').agg(\n",
    "    n=('sex', 'count'),\n",
    "    average=('age', 'mean'),\n",
    "    maximum=('age', 'max')\n",
    ")\n",
    "result"
   ]
  },
  {
   "cell_type": "markdown",
   "id": "6defbc8f-10c5-4867-99fc-66d8a549ffa2",
   "metadata": {},
   "source": [
    "What is the number of passengers and survival rate for each passenger class, broken down by sex and port of embarkation?"
   ]
  },
  {
   "cell_type": "code",
   "execution_count": null,
   "id": "945c300d-e13f-4578-9f2c-f7b796954e70",
   "metadata": {},
   "outputs": [],
   "source": [
    "\n"
   ]
  },
  {
   "cell_type": "code",
   "execution_count": null,
   "id": "2c685668-20d2-4330-bf18-8c93a691aea5",
   "metadata": {},
   "outputs": [],
   "source": []
  }
 ],
 "metadata": {
  "colab": {
   "name": "14_Groupby_Seaborn.ipynb",
   "provenance": []
  },
  "deepnote": {},
  "deepnote_execution_queue": [],
  "deepnote_notebook_id": "200028b5-d356-42c7-bd8a-c23539b7340c",
  "kernelspec": {
   "display_name": "Python 3 (ipykernel)",
   "language": "python",
   "name": "python3"
  },
  "language_info": {
   "codemirror_mode": {
    "name": "ipython",
    "version": 3
   },
   "file_extension": ".py",
   "mimetype": "text/x-python",
   "name": "python",
   "nbconvert_exporter": "python",
   "pygments_lexer": "ipython3",
   "version": "3.9.13"
  },
  "vscode": {
   "interpreter": {
    "hash": "4053583a5b94002d654b899144bd46215da5e37064ba71140a4b7387da73a050"
   }
  }
 },
 "nbformat": 4,
 "nbformat_minor": 5
}

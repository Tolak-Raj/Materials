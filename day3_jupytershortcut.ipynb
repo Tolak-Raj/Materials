{
 "cells": [
  {
   "cell_type": "code",
   "execution_count": null,
   "metadata": {},
   "outputs": [],
   "source": []
  },
  {
   "cell_type": "markdown",
   "metadata": {},
   "source": [
    "Once you have installed Jupyter Notebook, you can start it by opening your terminal or command prompt and typing ***\"jupyter notebook\"***. This will launch Jupyter Notebook in your default web browser and open a new tab with the Jupyter Notebook dashboard. \n",
    "\n",
    "If you haven't installed Jupyter Notebook, follow this link to get started:  <a href=\"../ml_python_intro\" target=\"_blank\">Get Started with Jupyter notebook</a> \n"
   ]
  },
  {
   "cell_type": "markdown",
   "metadata": {},
   "source": [
    "![title](./img/mohan.jpg)"
   ]
  },
  {
   "cell_type": "markdown",
   "metadata": {},
   "source": [
    "To open a new Jupyter Notebook in Jupyter Notebook dashboard, you can click on the \"New\" button on the right side of the screen, which will open a new tab in your web browser with a new Jupyter Notebook. From there, you can start writing and running your code.\n",
    "![](./img/mohan1.jpg)"
   ]
  },
  {
   "cell_type": "markdown",
   "metadata": {},
   "source": [
    "Now we are ready to write, note, and execute code. Let's begin using Jupyter Notebook and its shortcut keys to perform high-level capabilities"
   ]
  },
  {
   "cell_type": "markdown",
   "metadata": {},
   "source": [
    "### Command vs. Edit Modes\n",
    "\n",
    "In Jupyter Notebook, there are two modes: command mode and edit mode.\n",
    "\n",
    "1. **Command mode** -Allows you to perform actions at the notebook level. Indicated by a grey cell border with a <font color=teal>**blue**</font> left margin.\n",
    "2. **Edit mode** -Allows you to type within a cell. Indicated by a green cell border with a <font color=green>**green**</font> left margin.\n",
    "\n",
    " If you're in command mode, press <kbd>Enter</kbd> to enter edit mode. If you're in edit mode, press <kbd>Esc</kbd> to enter command mode.\n"
   ]
  },
  {
   "cell_type": "markdown",
   "metadata": {},
   "source": [
    "### Command Mode\n",
    "In Command mode, you can perform various actions on cells, such as creating new cells, deleting cells, copying cells, cutting cells, and pasting cells. You can also move cells up and down, merge cells, split cells, and navigate to different cells. here are some examples\n",
    "\n",
    "- Run current cell and selecct next cell: <kbd>Shift</kbd> + <kbd>Enter</kbd> \n",
    "- Run the current cell and select same cell: <kbd>Ctrl</kbd>+ <kbd>Enter</kbd>\n",
    "- Run the current cell and insert new cell below: <kbd>Alt</kbd>+ <kbd>Enter</kbd>\n",
    "- Save notebook: <kbd>Ctrl</kbd> + <kbd>S</kbd>\n",
    "- Insert a new cell above the current cell : <kbd>A</kbd> \n",
    "- Insert a new cell below the current cell : <kbd>B</kbd> \n",
    "- Copy and paste : Copy with  <kbd>C</kbd> and then paste it with <kbd>V</kbd>\n",
    "- Deleting cell :  <kbd>D</kbd> <kbd>D</kbd> (i.e., hit the <kbd>D</kbd> button twice)\n",
    "- Merge Cell: First select the cells to merge by pressing  <kbd>Shift</kbd> + <kbd>⬆</kbd> or <kbd>⬇</kbd> then Merge using   <kbd>Shift</kbd> + <kbd>M</kbd>\n",
    "- Undo : <kbd>Ctrl</kbd> + <kbd>Z</kbd>\n",
    "- View all keyboard shortcut: <kbd>H</kbd> (in Command mode)\n",
    "\n",
    "\n",
    "\n"
   ]
  },
  {
   "cell_type": "markdown",
   "metadata": {},
   "source": [
    "To write code, you need to switch the cell to **code** mode. For comments and notes, you need to switch the cell to **markdown** mode. By default, new cells are in code mode, but you can use the following shortcut keys to switch between markdown and code.\n",
    "\n",
    "<kbd>Y</kbd> change the cell type to *Code* modes.\n",
    "\n",
    "<kbd>M</kbd> change the cell type to *Markdown* modes.\n"
   ]
  },
  {
   "cell_type": "markdown",
   "metadata": {},
   "source": [
    "### Edit Mode\n",
    "In Edit mode, you can edit and modify the content within a cell. This mode allows you to enter and edit text, code, and markdown in the selected cell. Some common actions you can perform in Edit mode include typing, formatting text, executing code, and creating new lines. To enter Edit mode, simply click on a cell or press 'Enter' key when the cell is selected. To exit Edit mode, press 'Esc' or click outside the cell. here are some  functionalities and shortcut keys for edit modes.\n",
    "- Comment in the text <kbd>`Ctrl`</kbd> + <kbd>`/`</kbd>\n",
    "- quick access to all the commands in Jupyter Notebooks: <kbd>`Ctrl`</kbd> + <kbd>`Shift`</kbd> + <kbd>`P`</kbd>\n",
    "\n"
   ]
  },
  {
   "cell_type": "markdown",
   "metadata": {},
   "source": [
    "#### Insert Image"
   ]
  },
  {
   "cell_type": "markdown",
   "metadata": {
    "ExecuteTime": {
     "end_time": "2021-09-10T12:46:00.638175Z",
     "start_time": "2021-09-10T12:46:00.493648Z"
    }
   },
   "source": [
    "\n",
    "`![caption](picture name and location)`\n",
    "\n",
    "`![screenshot](mohan1.jpg)`- This command imports the picture named 'mohan1.jpg' located in the same folder as the Jupyter notebook.\n"
   ]
  },
  {
   "cell_type": "markdown",
   "metadata": {},
   "source": [
    "###  Markdown\n",
    "\n",
    "Jupyter Notebook's markdown cells provide a way to write formatted text, headings, bullet points, links, images, and more. Markdown is a simple markup language that is easily readable and provides a lightweight way to add formatting to text.here are some examples:"
   ]
  },
  {
   "cell_type": "markdown",
   "metadata": {},
   "source": [
    "#### Heading\n",
    "In Markdown, headings can be created by using the hash symbol (#) followed by a space and the text of the heading. The number of hashes used determines the level of the heading, with one hash being the largest heading (H1) and six hashes being the smallest (H6). For example"
   ]
  },
  {
   "cell_type": "markdown",
   "metadata": {
    "ExecuteTime": {
     "end_time": "2021-06-23T17:40:38.007135Z",
     "start_time": "2021-06-23T17:40:37.994443Z"
    }
   },
   "source": [
    "code:\n",
    "```\n",
    "# Heading 1    \n",
    "## Heading 2    \n",
    "### Heading 3\n",
    "#### Heading 4\n",
    "##### Heading 5\n",
    "###### Heading 6\n",
    "```\n",
    "output:\n",
    "# Heading 1    \n",
    "## Heading 2    \n",
    "### Heading 3\n",
    "#### Heading 4\n",
    "##### Heading 5\n",
    "###### Heading 6\n"
   ]
  },
  {
   "cell_type": "markdown",
   "metadata": {},
   "source": [
    "#### Emphasis\n",
    "bold, italic, and strikethrough are formatting options in Markdown that can be used to add visual interest and clarity to text. here are some examples:"
   ]
  },
  {
   "cell_type": "markdown",
   "metadata": {},
   "source": [
    "Code:\n",
    "```\n",
    "*Italic* \n",
    "_Italic_\n",
    "\n",
    "**B0ld** \n",
    "__Bold__\n",
    " ~~Strikethrough.~~\n",
    " ```\n",
    "Output: \n",
    "\n",
    "*Italic*       \n",
    "_Italic_\n",
    "\n",
    "**BOld**       \n",
    "__Bold__\n",
    "\n",
    " ~~Strikethrough.~~"
   ]
  },
  {
   "cell_type": "markdown",
   "metadata": {},
   "source": [
    "<a id=\"lists\"></a>\n",
    "#### Lists\n",
    "Lists are a great way to organize and present information in Markdown. here is some examples how we can make list in ordered and unordered way in markdown."
   ]
  },
  {
   "cell_type": "markdown",
   "metadata": {
    "ExecuteTime": {
     "end_time": "2021-10-17T12:13:04.455269Z",
     "start_time": "2021-10-17T12:13:04.429390Z"
    }
   },
   "source": [
    "Unordered list can be creat using  `*,+,-` for example:\n",
    "Code:\n",
    "```\n",
    "+ Item 1\n",
    "- Item 2\n",
    "* Item 3\n",
    "```\n",
    "Output:\n",
    "+ Item 1\n",
    "- Item 2\n",
    "* Item 3\n",
    "\n",
    "Ordered list can be creat using numerical order:\n",
    "Code\n",
    "```\n",
    "1. Item 1\n",
    "2. Item 2\n",
    "3. Item 3\n",
    "```\n",
    "Output\n",
    "1. Item 1\n",
    "2. Item 2\n",
    "3. Item 3\n",
    "\n",
    "\n",
    "Other Examples of list and sublist\n",
    "Code:\n",
    "```\n",
    "1. Today's\n",
    "2. date is:\n",
    "    * Monday\n",
    "    * 16th January 1991\n",
    "         - hello! how are\n",
    "         - how are you?\n",
    "             - Hope doing well  \n",
    "  ```\n",
    "  Output:\n",
    "1. Today's\n",
    "2. date is:\n",
    "    * Monday\n",
    "    * 16th January 1991\n",
    "         - hello! how are\n",
    "         - how are you?\n",
    "             - Hope doing well  \n",
    "                \n",
    "Code\n",
    "```\n",
    " - [ ] Item A\n",
    " - [x] Item B\n",
    " - [x] Item C\n",
    " ```\n",
    " Output\n",
    " - [ ] Item A\n",
    " - [x] Item B\n",
    " - [x] Item C"
   ]
  }
 ],
 "metadata": {
  "hide_input": false,
  "kernelspec": {
   "display_name": "Python 3 (ipykernel)",
   "language": "python",
   "name": "python3"
  },
  "language_info": {
   "codemirror_mode": {
    "name": "ipython",
    "version": 3
   },
   "file_extension": ".py",
   "mimetype": "text/x-python",
   "name": "python",
   "nbconvert_exporter": "python",
   "pygments_lexer": "ipython3",
   "version": "3.9.13"
  },
  "toc": {
   "base_numbering": 1,
   "nav_menu": {},
   "number_sections": true,
   "sideBar": true,
   "skip_h1_title": false,
   "title_cell": "Table of Contents",
   "title_sidebar": "Contents",
   "toc_cell": false,
   "toc_position": {},
   "toc_section_display": true,
   "toc_window_display": false
  },
  "varInspector": {
   "cols": {
    "lenName": 16,
    "lenType": 16,
    "lenVar": 40
   },
   "kernels_config": {
    "python": {
     "delete_cmd_postfix": "",
     "delete_cmd_prefix": "del ",
     "library": "var_list.py",
     "varRefreshCmd": "print(var_dic_list())"
    },
    "r": {
     "delete_cmd_postfix": ") ",
     "delete_cmd_prefix": "rm(",
     "library": "var_list.r",
     "varRefreshCmd": "cat(var_dic_list()) "
    }
   },
   "types_to_exclude": [
    "module",
    "function",
    "builtin_function_or_method",
    "instance",
    "_Feature"
   ],
   "window_display": false
  }
 },
 "nbformat": 4,
 "nbformat_minor": 4
}

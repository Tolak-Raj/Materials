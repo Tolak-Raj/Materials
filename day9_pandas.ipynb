{
 "cells": [
  {
   "cell_type": "code",
   "execution_count": null,
   "metadata": {
    "cell_id": "00000-4c6e354d-ac3a-4999-9b97-66fc8103c165",
    "deepnote_cell_type": "code",
    "deepnote_to_be_reexecuted": false,
    "execution_millis": 1,
    "execution_start": 1636621174814,
    "id": "DSaWnDKbVNLb",
    "source_hash": "9b82ee11"
   },
   "outputs": [],
   "source": [
    "import pandas as pd"
   ]
  },
  {
   "cell_type": "markdown",
   "metadata": {
    "cell_id": "00002-081de098-b42d-4464-b909-29b176b632b2",
    "deepnote_cell_type": "markdown",
    "id": "obJY9jPyVNLg"
   },
   "source": [
    "### Working with Rows and Column"
   ]
  },
  {
   "cell_type": "markdown",
   "metadata": {
    "cell_id": "00003-102e1a8c-7319-406f-b4df-53730258b102",
    "deepnote_cell_type": "markdown",
    "id": "QdO6D3o8VNLh"
   },
   "source": [
    "Because DataFrame rows are both ordered and named, they can be indexed using either approach, and even both!  Column operations tend to be name-specific:\n",
    "\n",
    "| Axis        | Ordered Index | Named Index    | Ordered Slice    | Named Slice  |            \n",
    "| :--   | :--    | :--     | :--       | :--        |   \n",
    "| **Rows**    | `df.iloc[0]`  | `df.loc['row1']` | `df.iloc[0:2]` or `df[0:2]`   | `df.loc[['row1', 'rown']]`  |  \n",
    "| **Columns** |  `df.iloc[:,0]`     |  `df['Q1']` or `df.Q1` | `df.iloc[:,0:4]` |  `df[['Q1', 'Q4']]` |   \n",
    "\n",
    "**Note**: Square brackets, not round brackets are used after `df.loc` and `df.iloc`.\n",
    "Other Methods :\n",
    "\n",
    "`df.head(n)`: Returns the first n rows of the DataFrame      \n",
    "`df.tail(n)`: Returns the last n rows of the DataFrame          \n",
    "`df.columns`: Returns a list of column names in the DataFrame         \n",
    "`df.shape`: Returns a tuple representing the dimensions of the DataFrame (number of rows, number of columns)         \n",
    "`df.info()`: Prints a summary of the DataFrame, including data types and non-null values for each column         \n",
    "`df.describe()`: Generates descriptive statistics for each column in the DataFrame, such as count, mean, standard deviation, minimum, and maximum values            \n",
    "`df.astype()`: to change the data types"
   ]
  },
  {
   "cell_type": "markdown",
   "metadata": {
    "cell_id": "00004-4d7a3640-9d16-4167-9599-7bcb7629ba84",
    "deepnote_cell_type": "markdown",
    "id": "iwH2hd-eVNLi"
   },
   "source": [
    "### The Titanic Dataset"
   ]
  },
  {
   "cell_type": "markdown",
   "metadata": {},
   "source": [
    "Import data form internet."
   ]
  },
  {
   "cell_type": "code",
   "execution_count": null,
   "metadata": {
    "cell_id": "00005-f7d1eb5f-c2e9-4885-9289-f6659ce3183c",
    "deepnote_cell_type": "code",
    "deepnote_to_be_reexecuted": false,
    "execution_millis": 401,
    "execution_start": 1636621180385,
    "id": "b0FEHRxRVNLi",
    "outputId": "c35d301c-6546-40c7-aaf9-0d0c51a17aba",
    "source_hash": "eafaeb76"
   },
   "outputs": [],
   "source": [
    "url = 'https://raw.githubusercontent.com/pudasainimohan/Materials/main/data/titanic.csv'\n",
    "df = pd.read_csv(url)"
   ]
  },
  {
   "cell_type": "markdown",
   "metadata": {},
   "source": [
    "**Exercies** :  Let's experiment in Pandas using the Titanic dataset:     \n",
    "\n",
    "Disply the first 10 row of the data frams"
   ]
  },
  {
   "cell_type": "code",
   "execution_count": null,
   "metadata": {},
   "outputs": [],
   "source": []
  },
  {
   "cell_type": "markdown",
   "metadata": {},
   "source": [
    "Print the name of colums:"
   ]
  },
  {
   "cell_type": "code",
   "execution_count": null,
   "metadata": {},
   "outputs": [],
   "source": []
  },
  {
   "cell_type": "markdown",
   "metadata": {},
   "source": [
    "Calculate the number of rows and columns of the data frame."
   ]
  },
  {
   "cell_type": "code",
   "execution_count": null,
   "metadata": {},
   "outputs": [],
   "source": []
  },
  {
   "cell_type": "markdown",
   "metadata": {},
   "source": [
    "Please review the summary of the DataFrame uing `info()` methods"
   ]
  },
  {
   "cell_type": "code",
   "execution_count": null,
   "metadata": {},
   "outputs": [],
   "source": []
  },
  {
   "cell_type": "markdown",
   "metadata": {},
   "source": [
    "Calculate the summary statistics of each variable using `describe` method."
   ]
  },
  {
   "cell_type": "code",
   "execution_count": null,
   "metadata": {},
   "outputs": [],
   "source": []
  },
  {
   "cell_type": "markdown",
   "metadata": {},
   "source": [
    "Calculate the summary statistmodes of Charectar variables only `Hint: include=['object]` Remeber other data types  'int', 'float', 'object',\n",
    "\n",
    "**Note: you can see the arguments using <kbd>sift +tab </kbd> shortcuts"
   ]
  },
  {
   "cell_type": "code",
   "execution_count": null,
   "metadata": {},
   "outputs": [],
   "source": []
  },
  {
   "cell_type": "markdown",
   "metadata": {},
   "source": [
    "Use `iloc` method to keep first 3 column of the data frame."
   ]
  },
  {
   "cell_type": "code",
   "execution_count": null,
   "metadata": {},
   "outputs": [],
   "source": []
  },
  {
   "cell_type": "markdown",
   "metadata": {},
   "source": [
    "**Example**: Select the 'embarked' column:"
   ]
  },
  {
   "cell_type": "markdown",
   "metadata": {
    "cell_id": "00008-62d57341-5aaf-4314-b62d-c4e26c8deefe",
    "deepnote_cell_type": "markdown",
    "id": "0ZXsP9evVNLn"
   },
   "source": [
    "**Exercises**:"
   ]
  },
  {
   "cell_type": "code",
   "execution_count": null,
   "metadata": {},
   "outputs": [],
   "source": []
  },
  {
   "cell_type": "code",
   "execution_count": null,
   "metadata": {},
   "outputs": [],
   "source": [
    "type(df[['embarked']])"
   ]
  },
  {
   "cell_type": "markdown",
   "metadata": {
    "cell_id": "00009-9b9e0945-2053-4436-b8df-6197d2bcca3c",
    "deepnote_cell_type": "markdown",
    "id": "6b520EzfVNLo"
   },
   "source": [
    "Select the \"age\" column using two different methods"
   ]
  },
  {
   "cell_type": "code",
   "execution_count": null,
   "metadata": {
    "cell_id": "00010-2db13e02-ed9d-4195-a996-5287cabdb2b6",
    "deepnote_cell_type": "code",
    "id": "G1SfhsBJVNLo",
    "tags": [
     "exercise"
    ]
   },
   "outputs": [],
   "source": []
  },
  {
   "cell_type": "code",
   "execution_count": null,
   "metadata": {},
   "outputs": [],
   "source": []
  },
  {
   "cell_type": "markdown",
   "metadata": {
    "cell_id": "00011-264d660f-acbf-4c73-a5dd-5925caaef1c6",
    "deepnote_cell_type": "markdown",
    "id": "QoIF6vHBVNLp"
   },
   "source": [
    "Get rows 10-16"
   ]
  },
  {
   "cell_type": "code",
   "execution_count": null,
   "metadata": {
    "cell_id": "00012-c459fdfd-22df-4aca-9ffd-fa2dca197043",
    "deepnote_cell_type": "code",
    "id": "ALCI1zlFVNLp",
    "tags": [
     "exercise"
    ]
   },
   "outputs": [],
   "source": []
  },
  {
   "cell_type": "markdown",
   "metadata": {
    "cell_id": "00013-a5ab2322-13c5-4780-9c0d-fa4c4acc687e",
    "deepnote_cell_type": "markdown",
    "id": "jeTNNGFNVNLp"
   },
   "source": [
    "Select the first 5 rows of the \"sex\" column"
   ]
  },
  {
   "cell_type": "code",
   "execution_count": null,
   "metadata": {
    "cell_id": "00014-f41d4c28-a4fe-4067-af68-05097fb25cdf",
    "deepnote_cell_type": "code",
    "id": "wqakB5mYVNLq",
    "tags": [
     "exercise"
    ]
   },
   "outputs": [],
   "source": []
  },
  {
   "cell_type": "markdown",
   "metadata": {
    "cell_id": "00019-e29c760c-1345-440b-867a-1ef92249e028",
    "deepnote_cell_type": "markdown",
    "id": "60O1o5_XVNLr"
   },
   "source": [
    "Select the \"survived\" and \"age\" columns:"
   ]
  },
  {
   "cell_type": "code",
   "execution_count": null,
   "metadata": {
    "cell_id": "00020-2e5d6436-5272-463d-80fc-e2807bdebf0e",
    "deepnote_cell_type": "code",
    "id": "gwj0xZG3VNLr",
    "tags": [
     "exercise"
    ]
   },
   "outputs": [],
   "source": []
  },
  {
   "cell_type": "markdown",
   "metadata": {},
   "source": [
    "Select 2nd to 5th coulum"
   ]
  },
  {
   "cell_type": "code",
   "execution_count": null,
   "metadata": {},
   "outputs": [],
   "source": []
  },
  {
   "cell_type": "markdown",
   "metadata": {
    "cell_id": "00023-212fd4fe-8f23-459e-a184-8f3db0c96ec4",
    "deepnote_cell_type": "markdown",
    "id": "jVBhLEjOVNLs"
   },
   "source": [
    "Select rows 5-10 of the \"pclass\" column"
   ]
  },
  {
   "cell_type": "code",
   "execution_count": null,
   "metadata": {
    "cell_id": "00024-eeb73b41-35f5-48ae-91bb-a048ac949913",
    "deepnote_cell_type": "code",
    "id": "nzInh-krVNLs",
    "tags": [
     "exercise"
    ]
   },
   "outputs": [],
   "source": []
  },
  {
   "cell_type": "markdown",
   "metadata": {},
   "source": [
    "As we saw above, `survived` and `pclass` are represented as integers in the dataset, but in reality, they are categorical variables. We should change the data type of both these variables to categorical variables. change these two variables in categorical.`Hint:df['column']=df['column'].astype('category')`"
   ]
  },
  {
   "cell_type": "code",
   "execution_count": null,
   "metadata": {},
   "outputs": [],
   "source": []
  },
  {
   "cell_type": "markdown",
   "metadata": {},
   "source": [
    "We can select specific type of data using `select_dtypes()` methods. select only number columns form the `df` and assisgn `df1` to the new data frame."
   ]
  },
  {
   "cell_type": "code",
   "execution_count": null,
   "metadata": {},
   "outputs": [],
   "source": []
  },
  {
   "cell_type": "markdown",
   "metadata": {},
   "source": [
    "**Bonus:**  We can select columns that start with a certain pattern by using regular expressions. Here's an example of how to do it. "
   ]
  },
  {
   "cell_type": "code",
   "execution_count": null,
   "metadata": {},
   "outputs": [],
   "source": [
    "df.filter(regex='^p')"
   ]
  },
  {
   "cell_type": "markdown",
   "metadata": {
    "cell_id": "00025-ada6585e-1395-4fb4-b904-6274bee060ae",
    "deepnote_cell_type": "markdown",
    "id": "dHlYw6ZWVNLs"
   },
   "source": [
    "## Summarizing / Aggregating Data in DataFrames\n",
    "\n",
    "Pandas also supplies many different aggregation functions as methods:\n",
    "\n",
    "```python\n",
    "df.mean()\n",
    "df['Column'].mean()\n",
    "```\n",
    " \n",
    "`.mean()`: Returns the mean of all numeric columns in the DataFrame         \n",
    "`.median()`: Returns the median of all numeric columns in the DataFrame         \n",
    "`.max()`: Returns the maximum value of all columns in the DataFrame        \n",
    "`.min()`: Returns the minimum value of all columns in the DataFrame           \n",
    "`.count()`: Returns the number of non-null values in each column of the DataFrame        \n",
    "`.value_counts()`: Returns a Series containing counts of unique values in a column of the DataFrame       \n",
    "`.unique()`: Returns an array of unique values in a column of the DataFrame        \n",
    "`.quantile(q)`: Returns the qth percentile of each numeric column in the DataFrame, where q is a float between 0 and 1.   \n",
    "\n",
    "**Examples**:"
   ]
  },
  {
   "cell_type": "markdown",
   "metadata": {
    "cell_id": "00026-23056ade-0371-4506-ab3c-a60bd0e42c65",
    "deepnote_cell_type": "markdown",
    "id": "o1iO7lzuVNLs"
   },
   "source": [
    "**Exercises**"
   ]
  },
  {
   "cell_type": "markdown",
   "metadata": {
    "cell_id": "00027-de4a0caf-9470-4c2d-a276-dde01afb97a3",
    "deepnote_cell_type": "markdown",
    "id": "0VBQev7hVNLs"
   },
   "source": [
    "**Example**: What is the mean ticket fare that the passengers paid on the titanic?"
   ]
  },
  {
   "cell_type": "code",
   "execution_count": null,
   "metadata": {
    "cell_id": "00028-e6d026fa-5079-40e8-95d6-bbd5a4d6f840",
    "deepnote_cell_type": "code",
    "id": "unagaEqUVNLs",
    "tags": []
   },
   "outputs": [],
   "source": [
    "df.fare.mean()\n",
    "df['fare'].mean()"
   ]
  },
  {
   "cell_type": "markdown",
   "metadata": {},
   "source": [
    "What is the mean of all numeric variables of the data frame?"
   ]
  },
  {
   "cell_type": "code",
   "execution_count": null,
   "metadata": {},
   "outputs": [],
   "source": []
  },
  {
   "cell_type": "markdown",
   "metadata": {
    "cell_id": "00029-d7457913-c6e6-42e5-8188-93e85ee9983a",
    "deepnote_cell_type": "markdown",
    "id": "vTI8ITsjVNLs"
   },
   "source": [
    "What is the median ticket fare that the passengers paid on the titanic? "
   ]
  },
  {
   "cell_type": "code",
   "execution_count": null,
   "metadata": {
    "cell_id": "00030-d05542e0-68d7-48eb-b190-d5ac86071709",
    "deepnote_cell_type": "code",
    "id": "ZnXNgY7mVNLt",
    "tags": [
     "exercise"
    ]
   },
   "outputs": [],
   "source": []
  },
  {
   "cell_type": "markdown",
   "metadata": {},
   "source": [
    "How old was the oldest person on the titanic?"
   ]
  },
  {
   "cell_type": "code",
   "execution_count": null,
   "metadata": {
    "tags": [
     "exercise"
    ]
   },
   "outputs": [],
   "source": []
  },
  {
   "cell_type": "markdown",
   "metadata": {},
   "source": [
    "What was the lowest fare paid on the titanic?"
   ]
  },
  {
   "cell_type": "code",
   "execution_count": null,
   "metadata": {
    "tags": [
     "exercise"
    ]
   },
   "outputs": [],
   "source": []
  },
  {
   "cell_type": "markdown",
   "metadata": {
    "cell_id": "00035-d242263c-f975-4de8-8e9f-98864aad3991",
    "deepnote_cell_type": "markdown",
    "id": "ClFIf2d1VNLt"
   },
   "source": [
    "What proportion of the passengers were alone on the titanic? (Hint: df.mean())"
   ]
  },
  {
   "cell_type": "code",
   "execution_count": null,
   "metadata": {
    "tags": [
     "exercise"
    ]
   },
   "outputs": [],
   "source": []
  },
  {
   "cell_type": "markdown",
   "metadata": {
    "cell_id": "00037-3344c69a-137d-4770-980d-8b21ca2ed744",
    "deepnote_cell_type": "markdown",
    "id": "N31AcQmZVNLt"
   },
   "source": [
    "What were the different (e.g. *unique*) classes on the titanic?"
   ]
  },
  {
   "cell_type": "code",
   "execution_count": null,
   "metadata": {
    "cell_id": "00038-b876fbc7-583d-4767-aec2-cbd1bb18e770",
    "deepnote_cell_type": "code",
    "id": "HwY9KWMBVNLu",
    "tags": [
     "exercise"
    ]
   },
   "outputs": [],
   "source": [
    "df['pclass'].unique()"
   ]
  },
  {
   "cell_type": "markdown",
   "metadata": {
    "cell_id": "00039-bdcdc2c1-2094-4662-a667-da4426789afc",
    "deepnote_cell_type": "markdown",
    "id": "uiqQbVwKVNLu"
   },
   "source": [
    "How many men and women are in the dataset? (hint: df.value_counts())"
   ]
  },
  {
   "cell_type": "code",
   "execution_count": null,
   "metadata": {
    "cell_id": "00040-ee846c18-a077-4241-a3ad-fa2c9628e7a6",
    "deepnote_cell_type": "code",
    "id": "6lmvbvSJVNLu",
    "tags": [
     "exercise"
    ]
   },
   "outputs": [],
   "source": []
  },
  {
   "cell_type": "markdown",
   "metadata": {
    "cell_id": "00041-9428d0f5-e1a7-499c-9507-d57027aa934d",
    "deepnote_cell_type": "markdown",
    "id": "wHsrJEvGVNLu"
   },
   "source": [
    "How many passengers are sitting in each class?"
   ]
  },
  {
   "cell_type": "code",
   "execution_count": null,
   "metadata": {
    "cell_id": "00042-e5b963a3-dc64-456e-9d6d-2133d6ff4986",
    "deepnote_cell_type": "code",
    "id": "0rR9HN0fVNLu",
    "tags": [
     "exercise"
    ]
   },
   "outputs": [],
   "source": [
    "df.pclass.value_counts()"
   ]
  },
  {
   "cell_type": "markdown",
   "metadata": {
    "cell_id": "00043-5be3dcb9-4ab7-4072-b23d-7817b40ea1f0",
    "deepnote_cell_type": "markdown",
    "id": "L9LHdQC6VNLx"
   },
   "source": [
    "How many passengers of each sex are sitting in each class? (hint: value_counts() on multiple columns)"
   ]
  },
  {
   "cell_type": "code",
   "execution_count": null,
   "metadata": {},
   "outputs": [],
   "source": []
  },
  {
   "cell_type": "markdown",
   "metadata": {},
   "source": [
    "**Column Rename** : \n",
    "\n",
    "To change the column name you can  use `rename` methods.        \n",
    "for example:       \n",
    "If you want to change column name sex with gender then you can use `columns` arguments. \n",
    "`df=df.rename(columns={'sex':'gender'})`\n",
    "\n"
   ]
  },
  {
   "cell_type": "markdown",
   "metadata": {},
   "source": [
    "Change column nane `survuved` as `alived`."
   ]
  },
  {
   "cell_type": "code",
   "execution_count": null,
   "metadata": {},
   "outputs": [],
   "source": []
  },
  {
   "cell_type": "markdown",
   "metadata": {
    "cell_id": "00045-4ebe62a2-a091-413d-a71b-aa4e57fa8d30",
    "deepnote_cell_type": "markdown",
    "id": "dGEymFo-VNLy"
   },
   "source": [
    "## Transforming Data: Broadcasting Element-Wise Operations\n",
    "\n",
    "Any transformation function can be performed on each element of a column, or even all columns of a DataFrame.  Here are several options for this approach:\n",
    "\n",
    "Numpy-like Operator syntax with Broadcasting:\n",
    "```python\n",
    "df['Column1'] * 100\n",
    "```\n",
    "\n",
    "Functions-style syntax:\n",
    "```python\n",
    "np.sqrt(df['Column1'])\n",
    "```\n",
    "\n",
    "Special broadcasted-version of different classes' Methods:\n",
    "```python\n",
    "df['Column1'].str.upper()\n",
    "```\n"
   ]
  },
  {
   "cell_type": "markdown",
   "metadata": {
    "cell_id": "00046-aaf19b4d-600c-4662-bcd7-a23b0a29b6c3",
    "deepnote_cell_type": "markdown",
    "id": "crs8LwRGVNLy"
   },
   "source": [
    "****Exercises****: Let's try some of these on the titanic data:"
   ]
  },
  {
   "cell_type": "markdown",
   "metadata": {
    "cell_id": "00048-f3ce37d2-9a99-42b8-b70b-05e348abd0a0",
    "deepnote_cell_type": "markdown",
    "tags": []
   },
   "source": [
    "**Example**: Make a new column called \"OnTitanic\", with all of the values set to True"
   ]
  },
  {
   "cell_type": "code",
   "execution_count": null,
   "metadata": {
    "cell_id": "00049-7c703c41-1c01-4761-ae7c-734cd6d9b675",
    "deepnote_cell_type": "code",
    "tags": []
   },
   "outputs": [],
   "source": [
    "df['OnTitanic']=True\n",
    "df"
   ]
  },
  {
   "cell_type": "markdown",
   "metadata": {
    "cell_id": "00048-f5c942f7-1c73-4e07-88a1-68a2c5c7907c",
    "deepnote_cell_type": "markdown",
    "id": "VZ_B7wqjVNLy"
   },
   "source": [
    "Make a new column called \"isAdult\", with True values if they were 18 or older and False if not."
   ]
  },
  {
   "cell_type": "code",
   "execution_count": null,
   "metadata": {
    "cell_id": "00049-07e082b9-a4d8-441b-b64e-95ebd6e4b153",
    "deepnote_cell_type": "code",
    "id": "qXBtIKy6VNLz",
    "tags": [
     "exercise"
    ]
   },
   "outputs": [],
   "source": []
  },
  {
   "cell_type": "markdown",
   "metadata": {
    "cell_id": "00050-9f18383c-0746-4200-9e58-46ae295d4152",
    "deepnote_cell_type": "markdown",
    "id": "Fht6mBybVNLz"
   },
   "source": [
    "Get everyone's age if they were still alive today (hint: Titanic sunk in 1912)\n",
    "\n",
    "If a person was 10 when they were on the titanic, in 2023 they would be 121."
   ]
  },
  {
   "cell_type": "code",
   "execution_count": null,
   "metadata": {
    "cell_id": "00051-1e0fd7a5-3df1-4249-afc5-c223184a5499",
    "deepnote_cell_type": "code",
    "id": "gpUzRRW7VNLz",
    "tags": [
     "exercise"
    ]
   },
   "outputs": [],
   "source": []
  },
  {
   "cell_type": "markdown",
   "metadata": {
    "cell_id": "00054-b8fb8ade-11ac-472a-a582-26a9fb2bd836",
    "deepnote_cell_type": "markdown",
    "id": "Cp1w_dXzVNLz"
   },
   "source": [
    "Create a new column called 'Adjusted Fare' in NPR with the cost of a ticket converted to today's currency conversion rate, assuming that the current conversion rate for 1 USD is Rs. 130.45."
   ]
  },
  {
   "cell_type": "code",
   "execution_count": null,
   "metadata": {
    "cell_id": "00055-d77bbb8e-9d28-4306-8547-402586d82295",
    "deepnote_cell_type": "code",
    "id": "WULrCYWeVNLz",
    "tags": [
     "exercise"
    ]
   },
   "outputs": [],
   "source": []
  },
  {
   "cell_type": "markdown",
   "metadata": {},
   "source": [
    "**Agegroup**        \n",
    "If you want to create age groups from an 'age' variable, you can use the `pd.cut()` function. This function can be used to bin numerical data into discrete intervals. You can specify the `bin edges` and `labels `for the intervals and create a new column to store the binned data. For example, to create age groups in 10-year intervals, you can define the bin edges as a list of numbers from 0 to 80 in increments of 10, and the corresponding labels as a list of strings such as '0-10', '10-20', '20-30', and so on. You can then use the pd.cut() function to create a new column with the binned data. The resulting DataFrame will have a new column with the specified age groups."
   ]
  },
  {
   "cell_type": "code",
   "execution_count": null,
   "metadata": {},
   "outputs": [],
   "source": [
    "\n",
    "bins=[0,10,20,30,40,50,60,70,80]\n",
    "\n",
    "labels=['0-10','10-20','20-30','30-40','40-50','50-60','60-70','70-80']\n",
    "\n",
    "# Create a new column 'AgeGroup' by binning the 'age' column\n",
    "df['AgeGroup'] = pd.cut(df['age'], bins=bins, labels=labels)\n",
    "df\n"
   ]
  },
  {
   "cell_type": "code",
   "execution_count": null,
   "metadata": {},
   "outputs": [],
   "source": [
    "url = 'https://raw.githubusercontent.com/pudasainimohan/Materials/main/data/titanic.csv'\n",
    "df = pd.read_csv(url)"
   ]
  },
  {
   "cell_type": "markdown",
   "metadata": {},
   "source": []
  },
  {
   "cell_type": "code",
   "execution_count": null,
   "metadata": {},
   "outputs": [],
   "source": [
    "bins=[np.min(df.fare),100,200,np.max(df.fare)]\n",
    "\n",
    "labels=['Cheap', 'reasonable', 'expensive']\n",
    "\n",
    "# Create a new column 'AgeGroup' by binning the 'age' column\n",
    "df['pp'] = pd.cut(df['fare'], bins=bins, labels=labels)\n",
    "df\n"
   ]
  },
  {
   "cell_type": "markdown",
   "metadata": {},
   "source": [
    "Suppose you want to categorize fares into three categories where fares less than 100 are \"Cheap fare\", fares between 100 and 200 are \"Reasonable fare\", and fares greater than 200 are \"Expensive fare\". You can categorize fares in the following way:"
   ]
  },
  {
   "cell_type": "code",
   "execution_count": null,
   "metadata": {},
   "outputs": [],
   "source": [
    "condition = [df.fare < 100, df.fare <200  , df.fare >= 200]\n",
    "label = ['Cheap fare', 'Reasonable fare', 'Expensive fare']\n",
    "df['fare1'] = np.select(condition, label, default='Unknown')\n"
   ]
  },
  {
   "cell_type": "markdown",
   "metadata": {},
   "source": [
    "Create a new column class_l that replaces the numeric codes with the corresponding categorical labels \"First Class\", \"Second Class\", and \"Third Class\". "
   ]
  },
  {
   "cell_type": "code",
   "execution_count": null,
   "metadata": {},
   "outputs": [],
   "source": []
  }
 ],
 "metadata": {
  "anaconda-cloud": {},
  "colab": {
   "name": "13_Indexing_DataFrames.ipynb",
   "provenance": []
  },
  "deepnote": {},
  "deepnote_execution_queue": [],
  "deepnote_notebook_id": "9b56c80f-b2f4-4d62-be72-3d41ccebf960",
  "kernelspec": {
   "display_name": "Python 3 (ipykernel)",
   "language": "python",
   "name": "python3"
  },
  "language_info": {
   "codemirror_mode": {
    "name": "ipython",
    "version": 3
   },
   "file_extension": ".py",
   "mimetype": "text/x-python",
   "name": "python",
   "nbconvert_exporter": "python",
   "pygments_lexer": "ipython3",
   "version": "3.9.13"
  },
  "metadata": {
   "interpreter": {
    "hash": "96aaef06ee4620efb4426efa9d33cf4f7340991f4df94558c663a28125b37508"
   }
  },
  "vscode": {
   "interpreter": {
    "hash": "d6852d01271bf8033dbdb7ec364b6f6e89fd52a18c6bf5b4c73e48c86329a8dd"
   }
  }
 },
 "nbformat": 4,
 "nbformat_minor": 4
}

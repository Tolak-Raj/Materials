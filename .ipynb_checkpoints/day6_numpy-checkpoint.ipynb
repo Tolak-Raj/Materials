{
 "cells": [
  {
   "cell_type": "markdown",
   "id": "bd4f1068",
   "metadata": {},
   "source": [
    "### Install library/module:\n",
    " libraries and modules are collections of pre-written code that can be imported and used in other programs. Installing a library is typically required to use its functionality in a Python environment. The pip package installer is a widely used tool for installing and managing Python packages. With pip, it's possible to install and upgrade Python packages from online repositories such as the Python Package Index (PyPI). \n",
    "#### Numpy\n",
    "One of the most commonly used libraries for scientific computing in Python is NumPy. NumPy provides support for large, multi-dimensional arrays and matrices, along with a vast library of mathematical functions to operate on these arrays. To install NumPy in a Python environment, one can use the following command: `%pip install numpy`. This command instructs pip to download the NumPy package from the PyPI repository and install it in the current environment. Once installed, the NumPy library can be imported and used in Python code to perform complex mathematical computations, data analysis, and more."
   ]
  },
  {
   "cell_type": "code",
   "execution_count": null,
   "id": "dbdd11ec",
   "metadata": {},
   "outputs": [],
   "source": [
    "%pip install numpy"
   ]
  },
  {
   "cell_type": "code",
   "execution_count": null,
   "id": "7fa3524c-bd2c-4d3d-a0e6-e9da19cda086",
   "metadata": {},
   "outputs": [],
   "source": [
    "%pip show numpy"
   ]
  },
  {
   "cell_type": "markdown",
   "id": "6f0bbafb",
   "metadata": {
    "cell_id": "00000-0d09d641-92a2-4753-b2a8-1effebf00480",
    "deepnote_cell_type": "markdown",
    "id": "opening-gross"
   },
   "source": [
    "### Grouping Together Your Data into a Collection/Data Structure\n",
    "Python also has operators for collecting related data together.let's take a look at them:\n",
    "\n",
    "| \"tuple\" (fixed sequence) | \"list\" (changeable sequence) | \"str\" (sequence of text characters) |  \"set\" {mathematical set) | \"Dictionary\"(Key Value Pairs)\n",
    "| :---------:| :----:    | :--------:    | :--------:    |:--------:    |\n",
    "|  (1, 2, 3) | [1, 2, 3] | \"123\" or '123' | {1, 2, 3} |{'a':1,'b':15}\n",
    "\n",
    "**Tuple:**\n",
    "- Defined using parentheses ().\n",
    "- Tuples are immutable, meaning that the elements cannot be modified once the tuple is created.\n",
    "- Tuples are used to group related data together or to return multiple values from a function. Tuples are generally used less frequently than lists.   \n",
    "\n",
    "**List:**\n",
    "- Defined using square brackets [].\n",
    "- Lists are mutable, meaning that the elements can be modified after the list is created.\n",
    "- Lists are used to store collections of related data, and provide many methods for adding, removing, and modifying elements.\n",
    "\n",
    "**Set:**\n",
    "- Defined using curly braces {} or the set() constructor function.\n",
    "- Sets are unordered and contain only unique elements.\n",
    "- Sets are used to perform operations such as unions, intersections, and differences between collections of elements.   \n",
    "\n",
    "**Dictionary:**\n",
    "- Defined using curly braces {} or the dict() constructor function.\n",
    "- Dictionaries are unordered and consist of key-value pairs.\n",
    "- Dictionaries are used to store data in a way that allows quick and easy access to its elements by key."
   ]
  },
  {
   "cell_type": "markdown",
   "id": "6a7ce2a4",
   "metadata": {
    "cell_id": "00001-126457cc-58dd-438a-9663-a13a66b4d715",
    "deepnote_cell_type": "markdown",
    "id": "precise-language"
   },
   "source": [
    "#### Group Exercises: Making Collections"
   ]
  },
  {
   "cell_type": "markdown",
   "id": "dddf710a",
   "metadata": {
    "cell_id": "00002-1da4deee-0ccd-4b09-a4bb-e969b72cbbbc",
    "deepnote_cell_type": "markdown",
    "tags": []
   },
   "source": [
    "Example: Make a **list** of the first three positive even numbers"
   ]
  },
  {
   "cell_type": "code",
   "execution_count": null,
   "id": "a7932cba",
   "metadata": {
    "cell_id": "00003-f9c94ddf-acc7-405d-a99f-b10573b74288",
    "deepnote_cell_type": "code",
    "tags": []
   },
   "outputs": [],
   "source": []
  },
  {
   "cell_type": "markdown",
   "id": "503cb671",
   "metadata": {},
   "source": [
    "Make a **tuple** of the first three odd numbers."
   ]
  },
  {
   "cell_type": "code",
   "execution_count": null,
   "id": "ef89ca60",
   "metadata": {
    "tags": [
     "exercise"
    ]
   },
   "outputs": [],
   "source": []
  },
  {
   "cell_type": "markdown",
   "id": "1417b4d5",
   "metadata": {
    "cell_id": "00008-b8e395e4-eecd-4ea9-a0cc-22e3ce0b8c21",
    "deepnote_cell_type": "markdown",
    "id": "transparent-phone"
   },
   "source": [
    "Make a **list** containing the names of two Citys of Nepal."
   ]
  },
  {
   "cell_type": "code",
   "execution_count": null,
   "id": "13796288",
   "metadata": {
    "cell_id": "00009-7805e73d-b53a-4fe9-8c19-4cc5120e1945",
    "deepnote_cell_type": "code",
    "id": "chinese-manual",
    "tags": [
     "exercise"
    ]
   },
   "outputs": [],
   "source": []
  },
  {
   "cell_type": "markdown",
   "id": "97f1b867",
   "metadata": {
    "cell_id": "00010-e80f9562-135c-421c-86dd-6edbbf6b8565",
    "deepnote_cell_type": "markdown",
    "id": "facial-triumph"
   },
   "source": [
    "Make a **set** of three animals."
   ]
  },
  {
   "cell_type": "code",
   "execution_count": null,
   "id": "6c19bef4",
   "metadata": {
    "cell_id": "00011-c4292922-728b-48e5-b526-f1ca1f7583e8",
    "deepnote_cell_type": "code",
    "id": "according-homework",
    "tags": [
     "exercise"
    ]
   },
   "outputs": [],
   "source": []
  },
  {
   "cell_type": "markdown",
   "id": "8db2c7ec",
   "metadata": {
    "cell_id": "00012-67d204e4-e78a-4e95-883b-b48f8ba4c787",
    "deepnote_cell_type": "markdown",
    "id": "western-gardening"
   },
   "source": [
    "Make a **Dictionay** witn your Name, age and City"
   ]
  },
  {
   "cell_type": "code",
   "execution_count": null,
   "id": "780da6fb",
   "metadata": {
    "cell_id": "00013-2b5bf28a-d118-4c1b-8d57-c89e942424df",
    "deepnote_cell_type": "code",
    "id": "younger-playlist",
    "tags": [
     "exercise"
    ]
   },
   "outputs": [],
   "source": []
  },
  {
   "cell_type": "markdown",
   "id": "e34dd767",
   "metadata": {},
   "source": [
    "In above example I constructed dictionay using dict() function, make your details using {} braces."
   ]
  },
  {
   "cell_type": "code",
   "execution_count": null,
   "id": "920e5e28",
   "metadata": {},
   "outputs": [],
   "source": [
    "details= {'Name':'Ram','age':25, 'City':'Kathmandu'}\n",
    "print(details)"
   ]
  },
  {
   "cell_type": "markdown",
   "id": "7458aa12",
   "metadata": {
    "cell_id": "00019-05fe77b5-7f9a-4d76-9a0d-331e064bab6c",
    "deepnote_cell_type": "markdown",
    "id": "modern-looking"
   },
   "source": [
    "## Statistics Functions from Numpy\n",
    "\n",
    "**Numpy** is a Python package that, among other things, has many useful statistics **functions**.  These take any array-like object as an input and can be found inside the **np** library.  Sometimes, the same functionality can be found both as a Numpy function  and an array method, giving you the choice of how you'd like to use it.  \n",
    "\n",
    "\n",
    "```python\n",
    ">>> np.mean([1, 2, 3, 4])\n",
    "2.5\n",
    "\n",
    ">>> np.ptp([1, 2, 3, 4])\n",
    "3\n",
    "```\n",
    "\n",
    "A couple lists of functions in Numpy can be found here:\n",
    "  - Math:  https://numpy.org/doc/stable/reference/routines.math.html\n",
    "  - Statistics: https://numpy.org/doc/stable/reference/routines.statistics.html\n",
    "\n",
    "\n",
    "Some useful function names: mean, min, sum, max, var, std, p2p, median, nanmedian, nanmax, nanmean, nanmin      \n",
    "`mean:` calculates the arithmetic mean (average) of the values in a list or array.      \n",
    "`min:` finds the smallest value in a list or array.      \n",
    "`sum:` calculates the sum of the values in a list or array.      \n",
    "`max:` finds the largest value in a list or array.      \n",
    "`var:` calculates the variance of the values in a list or array.       \n",
    "`std:` calculates the standard deviation of the values in a list or array.        \n",
    "`p2p (peak-to-peak)`: finds the range (difference between the maximum and minimum values) in a list or array.       \n",
    "`median:` calculates the median (middle) value of the values in a list or array.       \n",
    "`nanmedian:` calculates the median (middle) value of the values in a list or array, ignoring any NaN (Not a Number) values.       \n",
    "`nanmax:` finds the largest value in a list or array, ignoring any NaN values.      \n",
    "`nanmean:` calculates the arithmetic mean (average) of the values in a list or array, ignoring any NaN values.      \n",
    "`nanmin:` finds the smallest value in a list or array, ignoring any NaN values.\n",
    "  \n",
    "We'll see more later."
   ]
  },
  {
   "cell_type": "markdown",
   "id": "17bda90b",
   "metadata": {
    "cell_id": "00020-4d7b06d3-6261-4efc-b7fe-b880c8430f68",
    "deepnote_cell_type": "markdown",
    "id": "decent-plaza"
   },
   "source": [
    "**Exercise**: Using only Numpy functions, calculate the statistics on the following numbers:"
   ]
  },
  {
   "cell_type": "code",
   "execution_count": null,
   "id": "6261dd51-9835-40d3-bbfb-4e862a7f19ec",
   "metadata": {
    "tags": []
   },
   "outputs": [],
   "source": [
    "import numpy as np"
   ]
  },
  {
   "cell_type": "code",
   "execution_count": null,
   "id": "89fce0fc",
   "metadata": {
    "cell_id": "00021-a3c4c364-8682-4130-a39c-7db20ef3e27d",
    "colab": {
     "base_uri": "https://localhost:8080/",
     "height": 34
    },
    "deepnote_cell_type": "code",
    "id": "associate-banana",
    "outputId": "5298642f-ebaa-49e1-b231-58bd624e5706",
    "tags": []
   },
   "outputs": [],
   "source": [
    "data = [2, 8, 5, 9, 2, 4, 6]\n",
    "data"
   ]
  },
  {
   "cell_type": "markdown",
   "id": "2e57214d",
   "metadata": {},
   "source": [
    "**Example**: What is the maximum of the data?"
   ]
  },
  {
   "cell_type": "code",
   "execution_count": null,
   "id": "4f115235",
   "metadata": {
    "tags": []
   },
   "outputs": [],
   "source": []
  },
  {
   "cell_type": "markdown",
   "id": "507d4a9e",
   "metadata": {
    "cell_id": "00022-ee7ff207-0545-4eeb-ad5e-db153f7ba426",
    "deepnote_cell_type": "markdown",
    "id": "residential-international",
    "tags": []
   },
   "source": [
    "What is the mean of the data?"
   ]
  },
  {
   "cell_type": "code",
   "execution_count": null,
   "id": "30191539",
   "metadata": {
    "cell_id": "00023-ec610c5e-cfe0-4942-a65f-a96ef7f520c6",
    "deepnote_cell_type": "code",
    "id": "running-thought",
    "tags": [
     "exercise"
    ]
   },
   "outputs": [],
   "source": []
  },
  {
   "cell_type": "markdown",
   "id": "a5ae9534",
   "metadata": {
    "cell_id": "00024-8b3f149b-5f05-4e2d-b4cc-d721f7766d0c",
    "deepnote_cell_type": "markdown",
    "id": "wrong-brooklyn"
   },
   "source": [
    "What is the sum of the data?"
   ]
  },
  {
   "cell_type": "code",
   "execution_count": null,
   "id": "b3871191",
   "metadata": {
    "cell_id": "00025-f737f1e8-12ad-401d-b38e-93338340dc2f",
    "deepnote_cell_type": "code",
    "id": "impressive-robertson",
    "tags": [
     "exercise"
    ]
   },
   "outputs": [],
   "source": []
  },
  {
   "cell_type": "markdown",
   "id": "261f29e5",
   "metadata": {
    "cell_id": "00026-7d263187-ae2d-41e8-8f47-bb6f4e8430ec",
    "deepnote_cell_type": "markdown",
    "id": "alternative-consequence"
   },
   "source": [
    "What is the minimum of the data?"
   ]
  },
  {
   "cell_type": "code",
   "execution_count": null,
   "id": "8a77d08c",
   "metadata": {
    "cell_id": "00027-28c338ea-01be-4eba-acd6-ee4697122ba4",
    "deepnote_cell_type": "code",
    "id": "arabic-account",
    "tags": [
     "exercise"
    ]
   },
   "outputs": [],
   "source": []
  },
  {
   "cell_type": "markdown",
   "id": "f18d26c3",
   "metadata": {
    "cell_id": "00028-74e78c20-be93-4831-b35e-d20c36c8a893",
    "deepnote_cell_type": "markdown",
    "id": "laden-congress"
   },
   "source": [
    "The variance?"
   ]
  },
  {
   "cell_type": "code",
   "execution_count": null,
   "id": "8b427c04",
   "metadata": {
    "cell_id": "00029-59c9a974-ee56-45f2-a22b-3139e3032436",
    "deepnote_cell_type": "code",
    "id": "fossil-repeat",
    "tags": [
     "exercise"
    ]
   },
   "outputs": [],
   "source": []
  },
  {
   "cell_type": "markdown",
   "id": "b94e07db",
   "metadata": {
    "cell_id": "00030-12cf5b1d-803d-45f1-936c-a99001aa50c5",
    "deepnote_cell_type": "markdown",
    "id": "ruled-electron"
   },
   "source": [
    "The standard deviation?"
   ]
  },
  {
   "cell_type": "code",
   "execution_count": null,
   "id": "f21d1bf5",
   "metadata": {
    "cell_id": "00031-05c9ffff-4f32-4157-881d-ca67a4f5505c",
    "deepnote_cell_type": "code",
    "id": "latin-packet",
    "tags": [
     "exercise"
    ]
   },
   "outputs": [],
   "source": []
  },
  {
   "cell_type": "markdown",
   "id": "1ebd9589",
   "metadata": {
    "cell_id": "00034-c66751fc-3473-44c2-94bf-3f82dba35126",
    "deepnote_cell_type": "markdown",
    "id": "smoking-deadline"
   },
   "source": [
    "The data's median?"
   ]
  },
  {
   "cell_type": "code",
   "execution_count": null,
   "id": "21e0341c",
   "metadata": {
    "cell_id": "00035-182bd439-ff2f-4dec-bee3-1774ac0b8b40",
    "deepnote_cell_type": "code",
    "id": "knowing-polls",
    "tags": [
     "exercise"
    ]
   },
   "outputs": [],
   "source": []
  },
  {
   "cell_type": "markdown",
   "id": "70881883",
   "metadata": {
    "cell_id": "00022-99c77c15-d279-42d7-82b3-eea2f3f34a77",
    "deepnote_cell_type": "markdown"
   },
   "source": [
    "# Arrays in Numpy\n",
    "\n",
    "**Numpy** has a very useful data collection: the **array**.  Arrays are very similar to lists, with one exception:\n",
    "  - **all elements in the array must be of the same data type (e.g. int, float, bool)**\n",
    "  \n",
    "Despite that limitation, arrays are extremely useful for data analysis, and we'll be taking advantage of its many features throughout the course.  So let's start by learning how to easily generate different patterns of data with arrays!"
   ]
  },
  {
   "cell_type": "markdown",
   "id": "a52dcf17",
   "metadata": {
    "cell_id": "00023-a285c979-7223-466b-b106-91e62d3c17eb",
    "colab_type": "text",
    "deepnote_cell_type": "markdown",
    "id": "TiadUOo7Z8Y9"
   },
   "source": [
    "### Building Arrays\n",
    "\n",
    "Let's generate some arrays using Numpy functions!  Some commonly-used are examples are **arange()**, **linspace()**, **zeros()**, and the random number generation functions in **random**.\n",
    "\n",
    "| function | Purpose |  Example |\n",
    "| :-----------: | :-------------: | :-------------: |\n",
    "| **np.array()**  | Turns a list into an array |   np.array([2, 5, 3]) |\n",
    "| **np.arange()**                  | Makes an array with all the integers between two values | np.arange(2, 7) |\n",
    "| **np.arange()**                  | Makes an array with all the integers between two values, with a given spacing | np.arange(2, 7, 0.3) |\n",
    "| **np.linspace()**               | Makes a specific-length array |  np.linspace(2, 3, 10) |\n",
    "| **np.zeros()**                    | Makes an array of all zeros | np.zeros(5) |\n",
    "| **np.ones()**                     | Makes an array of all ones | np.ones(3) |\n",
    "| **np.random.random()** | Makes an array of random numbers | np.random.random(100) |\n",
    "| **np.random.randn()**     | Makes an array of normally-distributed random numbers | np.random.randn(100) |\n"
   ]
  },
  {
   "cell_type": "markdown",
   "id": "853630d6",
   "metadata": {
    "cell_id": "00024-08c4cebc-45c8-46b0-a6a6-92216b98ba66",
    "deepnote_cell_type": "markdown",
    "tags": []
   },
   "source": [
    "#### Exercises"
   ]
  },
  {
   "cell_type": "markdown",
   "id": "b69223a3",
   "metadata": {
    "cell_id": "00025-e80cc5a4-30fe-4865-9f2e-a25b5b8f7296",
    "deepnote_cell_type": "markdown"
   },
   "source": [
    "Import the numpy package as `np`:"
   ]
  },
  {
   "cell_type": "code",
   "execution_count": 1,
   "id": "306849de",
   "metadata": {
    "cell_id": "00026-293917c4-be75-4b8f-b2ea-3deea85e1513",
    "deepnote_cell_type": "code",
    "deepnote_to_be_reexecuted": false,
    "execution_millis": 3,
    "execution_start": 1635926346808,
    "source_hash": "b623e53d"
   },
   "outputs": [],
   "source": [
    "import numpy as np"
   ]
  },
  {
   "cell_type": "markdown",
   "id": "2facabed",
   "metadata": {
    "cell_id": "00027-6d422651-6d50-4c05-96a3-0870f9849414",
    "deepnote_cell_type": "markdown"
   },
   "source": [
    "Turn this list into an array:"
   ]
  },
  {
   "cell_type": "code",
   "execution_count": null,
   "id": "eeec1891",
   "metadata": {
    "cell_id": "00028-3be8e884-3465-44fb-8c40-f68b4ad6ec5e",
    "deepnote_cell_type": "code",
    "deepnote_to_be_reexecuted": false,
    "execution_millis": 11,
    "execution_start": 1628638573556,
    "source_hash": "78a15f0d",
    "tags": []
   },
   "outputs": [],
   "source": [
    "x= [4, 7, 6, 1]"
   ]
  },
  {
   "cell_type": "code",
   "execution_count": null,
   "id": "26e01a65-1b0e-4767-bc43-74fe25b80400",
   "metadata": {},
   "outputs": [],
   "source": []
  },
  {
   "cell_type": "markdown",
   "id": "071e7ec0",
   "metadata": {
    "cell_id": "00029-e5092358-c76e-406d-ad6c-5a431dba0310",
    "colab_type": "text",
    "deepnote_cell_type": "markdown",
    "id": "yhtqOOlKZ8ZC"
   },
   "source": [
    "Make an array containing the integers from 1 to 15."
   ]
  },
  {
   "cell_type": "code",
   "execution_count": null,
   "id": "811c784e",
   "metadata": {
    "cell_id": "00030-6c3db986-2958-465d-bdb1-11070acb209b",
    "colab": {},
    "colab_type": "code",
    "deepnote_cell_type": "code",
    "id": "lzwPrnZcZ8ZE",
    "tags": [
     "exercise"
    ]
   },
   "outputs": [],
   "source": []
  },
  {
   "cell_type": "markdown",
   "id": "8b5e3244",
   "metadata": {
    "cell_id": "00042-21a02a66-5405-41d0-b039-a81e9476392a",
    "deepnote_cell_type": "markdown",
    "tags": []
   },
   "source": [
    "Make an array of the values from 2 and 6, spaced 0.5 from each other."
   ]
  },
  {
   "cell_type": "code",
   "execution_count": null,
   "id": "e9e9b1d8",
   "metadata": {
    "tags": [
     "exercise"
    ]
   },
   "outputs": [],
   "source": []
  },
  {
   "cell_type": "markdown",
   "id": "7414d435",
   "metadata": {
    "cell_id": "00031-52ee635f-f1d5-454a-bd28-d7c51053188c",
    "deepnote_cell_type": "markdown"
   },
   "source": [
    "Make an array of only 6 numbers between 1 and 10, equally-spaced between them."
   ]
  },
  {
   "cell_type": "code",
   "execution_count": null,
   "id": "3c7738d3",
   "metadata": {
    "cell_id": "00032-b4f8251f-e83d-4a01-b012-735f63123e82",
    "deepnote_cell_type": "markdown",
    "tags": [
     "exercise"
    ]
   },
   "outputs": [],
   "source": []
  },
  {
   "cell_type": "markdown",
   "id": "6b5bb672",
   "metadata": {
    "cell_id": "00039-80ae3ba1-ea0a-4811-ad25-3f37c5b5fbcf",
    "deepnote_cell_type": "markdown"
   },
   "source": [
    "How about an array of 10 equally-spaced values between 100 and 1000?"
   ]
  },
  {
   "cell_type": "code",
   "execution_count": null,
   "id": "127e1a91",
   "metadata": {
    "tags": [
     "exercise"
    ]
   },
   "outputs": [],
   "source": []
  },
  {
   "cell_type": "markdown",
   "id": "6972fddd",
   "metadata": {
    "cell_id": "00033-57810e2c-6331-4992-aad5-cc15c9a531fa",
    "deepnote_cell_type": "markdown"
   },
   "source": [
    "Turn this list into a an array..."
   ]
  },
  {
   "cell_type": "code",
   "execution_count": 11,
   "id": "62b70403",
   "metadata": {
    "cell_id": "00034-1d9926f3-790b-4bf4-bedb-d433a6d96073",
    "deepnote_cell_type": "code"
   },
   "outputs": [
    {
     "data": {
      "text/plain": [
       "[True, False, False, True]"
      ]
     },
     "execution_count": 11,
     "metadata": {},
     "output_type": "execute_result"
    }
   ],
   "source": [
    "a = [True, False, False, True]\n",
    "a"
   ]
  },
  {
   "cell_type": "code",
   "execution_count": null,
   "id": "7faa4541",
   "metadata": {
    "tags": [
     "exercise"
    ]
   },
   "outputs": [],
   "source": []
  },
  {
   "cell_type": "markdown",
   "id": "ade2e164",
   "metadata": {
    "cell_id": "00035-68363c24-99ad-49c6-ac49-ea0b5cd52222",
    "colab_type": "text",
    "deepnote_cell_type": "markdown",
    "id": "15ZzOLSPZ8ZI"
   },
   "source": [
    "Make an array containing 20 zeros."
   ]
  },
  {
   "cell_type": "code",
   "execution_count": null,
   "id": "f54cc6d2",
   "metadata": {
    "cell_id": "00036-eac2d039-e46b-4a8a-8eb6-6936e8e762a3",
    "colab": {},
    "colab_type": "code",
    "deepnote_cell_type": "code",
    "id": "eNGUx1K0Z8ZI",
    "tags": [
     "exercise"
    ]
   },
   "outputs": [],
   "source": []
  },
  {
   "cell_type": "markdown",
   "id": "f9e89e65",
   "metadata": {
    "cell_id": "00037-3ddedebe-298f-4305-aed4-c0ba6499cf9d",
    "colab_type": "text",
    "deepnote_cell_type": "markdown",
    "id": "TjRMDeh1Z8ZL"
   },
   "source": [
    "Make an array contain 20 ones!"
   ]
  },
  {
   "cell_type": "code",
   "execution_count": null,
   "id": "d5369546",
   "metadata": {
    "cell_id": "00038-8ad22f48-7022-4067-b158-5134164e04aa",
    "colab": {},
    "colab_type": "code",
    "deepnote_cell_type": "code",
    "id": "J3Y7BeuYZ8ZM",
    "tags": [
     "exercise"
    ]
   },
   "outputs": [],
   "source": []
  },
  {
   "cell_type": "markdown",
   "id": "1ff49b6d-0eda-4e8f-8f2c-55e95a7b17b5",
   "metadata": {
    "cell_id": "00075-1d931b59-9045-4bbf-b51d-05729b2c2335",
    "deepnote_cell_type": "code",
    "tags": [
     "exercise"
    ]
   },
   "source": [
    "### Random\n",
    " Random is a popular module in the NumPy library used for generating random numbers, arrays, and other types of random variables. As a separate module in NumPy, we can directly import random instead of importing the whole NumPy library. We can import only the random module from the NumPy library as follows:     \n",
    "**`import numpy.random as random`** or \n",
    "\n",
    "**`from numpy import random as rd`** some useful fucntions of random module are \n",
    "- `random.random()`: This function generates a random float between 0 and1.\n",
    "- `random.randint()`: This function generates a random integer between a given lower and upper bound, inclusive of both bounds.\n",
    "- `random.seed()`: This function sets the random seed for the random module, which determines the sequence of random numbers generated. If you set the seed to the same value each time you run your program, you will get the same sequence of random numbers each time.\n",
    "- `random.normal()`: generates random numbers from a normal  distribution with a specified mean and standard deviation.\n",
    "\n"
   ]
  },
  {
   "cell_type": "markdown",
   "id": "0ad87860-be94-4a28-acbd-54371c2e99d7",
   "metadata": {},
   "source": [
    "Import `random` module from numpy library."
   ]
  },
  {
   "cell_type": "code",
   "execution_count": null,
   "id": "80d50394-c362-4685-997d-850a34756a9b",
   "metadata": {},
   "outputs": [],
   "source": []
  },
  {
   "cell_type": "markdown",
   "id": "1b2c56f3",
   "metadata": {
    "cell_id": "00041-49edd086-6d0c-4d30-b0f6-8455f08ea0ad",
    "colab_type": "text",
    "deepnote_cell_type": "markdown",
    "id": "dvzWUJS_Z8ZO"
   },
   "source": [
    "Generate an array of 10 random numbers between 0  and 1"
   ]
  },
  {
   "cell_type": "code",
   "execution_count": null,
   "id": "9681f74c",
   "metadata": {
    "cell_id": "00042-7524becf-99c3-4b66-8bbe-e4f81e3aae63",
    "colab": {},
    "colab_type": "code",
    "deepnote_cell_type": "code",
    "id": "_W3Xjv_BZ8ZP",
    "tags": [
     "exercise"
    ]
   },
   "outputs": [],
   "source": []
  },
  {
   "cell_type": "markdown",
   "id": "13ed8117-930f-4fd8-b299-0b5d636d0bd1",
   "metadata": {},
   "source": [
    "Generate an array of 10 random numbers between 1 to 50. `Hint:randint`"
   ]
  },
  {
   "cell_type": "code",
   "execution_count": null,
   "id": "dc6b9d68-674b-4fdd-8f87-747d800dfa82",
   "metadata": {},
   "outputs": [],
   "source": []
  },
  {
   "cell_type": "markdown",
   "id": "25d9963f-e5ab-45b8-af23-bb828533b06c",
   "metadata": {},
   "source": [
    "Set the seed to produce the same result again and run the above code three times. Look to see whether the output changes between each run or remains the same."
   ]
  },
  {
   "cell_type": "code",
   "execution_count": null,
   "id": "00b539f1-4514-49c6-b1d9-5e3d0a421dea",
   "metadata": {},
   "outputs": [],
   "source": []
  },
  {
   "cell_type": "markdown",
   "id": "fd7cf636-f6fb-47a6-b593-c1b0bd773dc2",
   "metadata": {},
   "source": [
    "Generate 10 random number with mean =10 and sd 2"
   ]
  },
  {
   "cell_type": "code",
   "execution_count": null,
   "id": "1430cac3-aad3-4024-8b27-8f8a8f2a0481",
   "metadata": {},
   "outputs": [],
   "source": []
  },
  {
   "cell_type": "markdown",
   "id": "36969366",
   "metadata": {
    "cell_id": "00043-b8b1c62b-86db-44e3-9ebf-4fa8a5b4211a",
    "deepnote_cell_type": "markdown"
   },
   "source": [
    "### Combining array generation with statistics functions\n",
    "\n",
    "These exercises all involve two steps:\n",
    "  1. Make the data\n",
    "  2. Calculate something on the data\n",
    "\n",
    "for example:\n",
    "```python\n",
    "np.mean(np.arange(1, 10))  # the mean of the integers from 1 to 9\n",
    "```"
   ]
  },
  {
   "cell_type": "markdown",
   "id": "dba980d3",
   "metadata": {
    "cell_id": "00044-da49bd14-9918-4879-8201-21fa09190814",
    "deepnote_cell_type": "markdown"
   },
   "source": [
    "**Exercises**"
   ]
  },
  {
   "cell_type": "markdown",
   "id": "3c5c81a8",
   "metadata": {
    "cell_id": "00045-1de88239-5c67-44ff-a64a-82882d87d6fb",
    "deepnote_cell_type": "markdown"
   },
   "source": [
    "*Example*: What is the standard deviation of the integers between 2 and 20?"
   ]
  },
  {
   "cell_type": "code",
   "execution_count": null,
   "id": "b997dd98",
   "metadata": {
    "cell_id": "00046-070a112b-f48a-4afb-ad7c-1dccce3cf66f",
    "deepnote_cell_type": "code"
   },
   "outputs": [],
   "source": []
  },
  {
   "cell_type": "markdown",
   "id": "d1e7b038",
   "metadata": {},
   "source": [
    "Is it the same as the standard deviation of the integers between 1 and 10?"
   ]
  },
  {
   "cell_type": "code",
   "execution_count": null,
   "id": "bac793f9",
   "metadata": {
    "tags": [
     "exercise"
    ]
   },
   "outputs": [],
   "source": []
  },
  {
   "cell_type": "markdown",
   "id": "24efa5ec",
   "metadata": {
    "cell_id": "00047-2a8ac491-a0e2-4b2f-adbd-7f1999d7b24b",
    "deepnote_cell_type": "markdown"
   },
   "source": [
    "What is the standard deviation of the 100 numbers generated from the np.random.randn() function?  "
   ]
  },
  {
   "cell_type": "code",
   "execution_count": null,
   "id": "fda9826a",
   "metadata": {
    "cell_id": "00048-a3dbc532-6bea-4cd7-b75a-a9cc517ba463",
    "deepnote_cell_type": "code"
   },
   "outputs": [],
   "source": []
  },
  {
   "cell_type": "markdown",
   "id": "4d76ba9e",
   "metadata": {
    "cell_id": "00049-50e9ef97-b422-4c37-ac22-785a1b1f719a",
    "deepnote_cell_type": "markdown"
   },
   "source": [
    "What is the sum of an array of 100 ones?"
   ]
  },
  {
   "cell_type": "code",
   "execution_count": null,
   "id": "f9380e4b",
   "metadata": {
    "cell_id": "00050-6766af38-1c0a-43a2-983c-d420c3eec973",
    "deepnote_cell_type": "code",
    "tags": [
     "exercise"
    ]
   },
   "outputs": [],
   "source": []
  },
  {
   "cell_type": "markdown",
   "id": "174129d5",
   "metadata": {
    "cell_id": "00064-a115fb36-fc79-434f-973a-ab79438ed4a7",
    "deepnote_cell_type": "markdown",
    "tags": []
   },
   "source": [
    "### Array Broadcasting: Combing Arrays with Operators\n",
    "\n",
    "Remember our math operators?  We can use them on arrays, too!\n",
    "\n",
    "|Assign to a Variable, | | Add,  | Subract, | Multiply, | Divide, | Power, | Integer Divide, | Remainder after Division | \n",
    "|  :---------------:  | :-: |:---:| :-----: | :------: | :----: | :---: | :------------: | :----------------------: |\n",
    "|         =           | | +   |    -    |    *     |   /    |   **  |       //       |           %              |\n",
    "\n",
    "Numpy also has functions that can transform each value in an array using a math operation.  For example: `np.log()`, `np.abs()`, `np.sin()`, `np.cos()`, `np.tan()`, `np.sqrt()`"
   ]
  },
  {
   "cell_type": "markdown",
   "id": "bf1186b0",
   "metadata": {
    "cell_id": "00065-d6303712-f2ac-41d9-a170-fccdab1b21ff",
    "deepnote_cell_type": "markdown",
    "tags": []
   },
   "source": [
    "**Exercises**"
   ]
  },
  {
   "cell_type": "markdown",
   "id": "d42a9dec",
   "metadata": {
    "cell_id": "00066-19e165c2-ab50-42fc-8c51-0729d3adb3eb",
    "deepnote_cell_type": "markdown",
    "tags": []
   },
   "source": [
    "Example: Add 10 to all of the numbers below"
   ]
  },
  {
   "cell_type": "code",
   "execution_count": null,
   "id": "d7535729",
   "metadata": {
    "cell_id": "00067-49e6713b-5151-4335-a485-a810d8e13ec0",
    "deepnote_cell_type": "code",
    "tags": []
   },
   "outputs": [],
   "source": [
    "x = np.array([1, 3, 6, 8, 10])\n"
   ]
  },
  {
   "cell_type": "code",
   "execution_count": null,
   "id": "b3663a25-f96f-4090-aa25-33613657348a",
   "metadata": {},
   "outputs": [],
   "source": []
  },
  {
   "cell_type": "markdown",
   "id": "728d3481-8cce-4d56-81a5-034c1d932481",
   "metadata": {},
   "source": [
    "If we want to add 10 to a number without converting it to an array, we can follow these steps."
   ]
  },
  {
   "cell_type": "code",
   "execution_count": null,
   "id": "0b6a1a3e",
   "metadata": {},
   "outputs": [],
   "source": [
    "x=[10,2,4,5]\n",
    "for i in range(len(x)):\n",
    "    x[i] = x[i] + 10\n",
    "\n",
    "print(x)\n"
   ]
  },
  {
   "cell_type": "markdown",
   "id": "e08b5abb",
   "metadata": {
    "cell_id": "00068-a139d719-bc2b-4ddb-bfc3-ca4abee1d21e",
    "deepnote_cell_type": "markdown",
    "tags": []
   },
   "source": [
    "Multiply everything in the array below by 10"
   ]
  },
  {
   "cell_type": "code",
   "execution_count": null,
   "id": "6b008ca0",
   "metadata": {
    "cell_id": "00068-768889a0-12a8-4a10-8dac-19fa1cf275a2",
    "deepnote_cell_type": "code",
    "tags": []
   },
   "outputs": [],
   "source": [
    "np.array([1, 3, 6, 8, 10])"
   ]
  },
  {
   "cell_type": "code",
   "execution_count": null,
   "id": "3f858cf5",
   "metadata": {
    "tags": [
     "exercise"
    ]
   },
   "outputs": [],
   "source": []
  },
  {
   "cell_type": "markdown",
   "id": "5b48ab2c",
   "metadata": {
    "cell_id": "00070-ee856bf5-4c82-476f-af9c-0cd7cf65cdf8",
    "deepnote_cell_type": "markdown",
    "tags": []
   },
   "source": [
    "Multiply all the numbers from 1 to 100 by 1000"
   ]
  },
  {
   "cell_type": "code",
   "execution_count": null,
   "id": "b9a92462",
   "metadata": {
    "cell_id": "00071-6a611368-9e05-4c38-a0fa-2c529b5d4878",
    "deepnote_cell_type": "code",
    "tags": [
     "exercise"
    ]
   },
   "outputs": [],
   "source": []
  },
  {
   "cell_type": "markdown",
   "id": "4e00e997",
   "metadata": {
    "cell_id": "00072-88f9ebdd-537b-4ccf-834e-4112b683c7a7",
    "deepnote_cell_type": "markdown",
    "tags": []
   },
   "source": [
    "**Example**: Calculate the absolute value of the following data"
   ]
  },
  {
   "cell_type": "code",
   "execution_count": null,
   "id": "71262d3d",
   "metadata": {},
   "outputs": [],
   "source": [
    "x = np.array([-5, 7, -2, 4, -10])"
   ]
  },
  {
   "cell_type": "code",
   "execution_count": null,
   "id": "e45d7a6a-d420-41dc-a496-d5473fdaf2c6",
   "metadata": {},
   "outputs": [],
   "source": []
  },
  {
   "cell_type": "markdown",
   "id": "ac974007",
   "metadata": {
    "cell_id": "00072-a29d31d8-2e5d-4910-822b-63712254dca5",
    "deepnote_cell_type": "markdown",
    "deepnote_to_be_reexecuted": false,
    "execution_millis": 19,
    "execution_start": 1635926796787,
    "source_hash": "a258c5fb",
    "tags": []
   },
   "source": [
    "Calculate the cosine of all integers between 0 and 6"
   ]
  },
  {
   "cell_type": "markdown",
   "id": "b88da8f8",
   "metadata": {
    "cell_id": "00074-44e2f406-b661-4c81-8d0e-f67a08c16de1",
    "deepnote_cell_type": "markdown",
    "tags": []
   },
   "source": [
    "Calculate the square root of 10 uniformly-generated numbers between 1 and 5 (tip: `np.random.uniform`)"
   ]
  },
  {
   "cell_type": "code",
   "execution_count": null,
   "id": "ce5e9fd9-13c0-4582-8c90-790ffb807c96",
   "metadata": {},
   "outputs": [],
   "source": []
  }
 ],
 "metadata": {
  "colab": {
   "name": "2 Numpy Stats.ipynb",
   "provenance": []
  },
  "deepnote": {},
  "deepnote_execution_queue": [],
  "deepnote_notebook_id": "6c2c8942-2c7c-4ec3-8ced-61fa0f3602f8",
  "kernelspec": {
   "display_name": "Python 3 (ipykernel)",
   "language": "python",
   "name": "python3"
  },
  "language_info": {
   "codemirror_mode": {
    "name": "ipython",
    "version": 3
   },
   "file_extension": ".py",
   "mimetype": "text/x-python",
   "name": "python",
   "nbconvert_exporter": "python",
   "pygments_lexer": "ipython3",
   "version": "3.9.13"
  },
  "vscode": {
   "interpreter": {
    "hash": "d6852d01271bf8033dbdb7ec364b6f6e89fd52a18c6bf5b4c73e48c86329a8dd"
   }
  }
 },
 "nbformat": 4,
 "nbformat_minor": 5
}

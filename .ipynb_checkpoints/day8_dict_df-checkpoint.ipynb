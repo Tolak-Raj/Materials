{
 "cells": [
  {
   "cell_type": "markdown",
   "id": "79f54cf4",
   "metadata": {
    "cell_id": "00001-c8b7162c-b006-4596-91f9-fa526dd0de54",
    "deepnote_cell_type": "markdown",
    "tags": []
   },
   "source": [
    "## Dictionaries \n",
    "###  (a.k.a. `Dicts`)\n",
    "\n",
    "My post in website :[Python Dictionaries: Key-Value Pair Mapping](https://pudasainimohan.com.np/post/python_dictionary/)     \n",
    "Making `Dicts`:\n",
    "\n",
    "| Code | Output | Description |\n",
    "| :--  | :--    | :---        |\n",
    "| `x = {'a': 3, 'b': 4}` | `{'a': 3, 'b': 4}`  | Make a `dict` using curly braces and colons |\n",
    "| `dict([('a', 3), ('b', 4)])` | `{'a': 3, 'b': 4}` | Transform a list of pairs of data into a `dict` |\n",
    "\n",
    ".\n",
    "\n",
    "Some Dict Methods:\n",
    "\n",
    "| Function Syntax | Method Syntax | Example Output | Description |\n",
    "| :---  | :--- | :--- | :--- |\n",
    "| `dict.keys(x)` | `x.keys()` | `dict_keys(['a', 'b'])` | The keys of the dictionary (these are like the \"indices\" of the dict) |\n",
    "| `dict.values(x)` | `x.values()` | `dict_values([3, 4])` | The values of the dictionary (the data you can extract from the dict) |\n",
    "| `dict.items(x)`  | `x.items()` | `dict_items([('a', 3), ('b', 4)])` | The item pairs in the dictionary |\n",
    "\n"
   ]
  },
  {
   "cell_type": "markdown",
   "id": "53c37edc",
   "metadata": {
    "cell_id": "00001-f79eb6d6-4fc0-4820-9279-06bb64f06729",
    "deepnote_cell_type": "markdown",
    "tags": []
   },
   "source": [
    "**Exercises**: Let's explore some dictionaries and get a feel for them."
   ]
  },
  {
   "cell_type": "markdown",
   "id": "e3db5287",
   "metadata": {},
   "source": [
    "Make a `birthdays` dictionary for your three friends, so that you can look up their names and get their birthday:\n",
    "  - Rajesh's birthday is Jan. 4th\n",
    "  - Amit's birthday is May 25th\n",
    "  - Krishna's birthday is Dec. 12th"
   ]
  },
  {
   "cell_type": "code",
   "execution_count": null,
   "id": "aca87350",
   "metadata": {
    "tags": [
     "exercise"
    ]
   },
   "outputs": [],
   "source": [
    "birthdays = {'Rajesh': 'Dec. 1st', 'Amit': 'May 4th', 'Krishna': 'July 23rd'}\n",
    "birthdays"
   ]
  },
  {
   "cell_type": "markdown",
   "id": "bb95f70b",
   "metadata": {},
   "source": [
    "Use the `birthdays` dict above to do the exercises."
   ]
  },
  {
   "cell_type": "markdown",
   "id": "b1ffac1e",
   "metadata": {},
   "source": [
    "What is Rajesh's birthday?"
   ]
  },
  {
   "cell_type": "code",
   "execution_count": null,
   "id": "8157d081",
   "metadata": {
    "tags": [
     "exercise"
    ]
   },
   "outputs": [],
   "source": []
  },
  {
   "cell_type": "markdown",
   "id": "b14a1b52",
   "metadata": {},
   "source": [
    "Whose birthday is on Dec. 12th?"
   ]
  },
  {
   "cell_type": "code",
   "execution_count": null,
   "id": "ca990d73",
   "metadata": {
    "tags": [
     "exercise"
    ]
   },
   "outputs": [],
   "source": [
    "b_item=birthdays.items()\n",
    "friends= dict(reversed(i) for i in b_item )"
   ]
  },
  {
   "cell_type": "markdown",
   "id": "e9f2e69f",
   "metadata": {
    "cell_id": "00002-daede3e3-f2ff-4f36-a400-8461c8fae4e7",
    "deepnote_cell_type": "markdown",
    "tags": []
   },
   "source": [
    "What are the `values` in the birthdays dict?"
   ]
  },
  {
   "cell_type": "code",
   "execution_count": null,
   "id": "c07a2e0e",
   "metadata": {
    "tags": [
     "exercise"
    ]
   },
   "outputs": [],
   "source": []
  },
  {
   "cell_type": "markdown",
   "id": "23695ad4",
   "metadata": {
    "cell_id": "00004-121dd86c-09c5-45c3-8187-5daed60bca2d",
    "deepnote_cell_type": "markdown",
    "tags": []
   },
   "source": [
    "What are the `keys` in the birthdays dict?"
   ]
  },
  {
   "cell_type": "code",
   "execution_count": null,
   "id": "094878c1",
   "metadata": {
    "cell_id": "00004-e4f95858-9c3d-4865-9fbe-64070fdd0420",
    "deepnote_cell_type": "code",
    "deepnote_to_be_reexecuted": false,
    "execution_millis": 1,
    "execution_start": 1634212157832,
    "source_hash": "4c0051d4",
    "tags": [
     "exercise"
    ]
   },
   "outputs": [],
   "source": []
  },
  {
   "cell_type": "markdown",
   "id": "dbeddd43",
   "metadata": {
    "cell_id": "00006-b3a9b407-190b-4475-8a1a-27d23fb3e8c5",
    "deepnote_cell_type": "markdown",
    "tags": []
   },
   "source": [
    "What are the `items` in the birthdays dict?"
   ]
  },
  {
   "cell_type": "code",
   "execution_count": null,
   "id": "262ad17b",
   "metadata": {
    "cell_id": "00005-8bca3064-8493-4be7-9afa-fc23bf0d6325",
    "deepnote_cell_type": "code",
    "deepnote_to_be_reexecuted": false,
    "execution_millis": 1,
    "execution_start": 1634211977207,
    "source_hash": "4c0051d4",
    "tags": [
     "exercise"
    ]
   },
   "outputs": [],
   "source": []
  },
  {
   "cell_type": "markdown",
   "id": "2e679b6c",
   "metadata": {
    "cell_id": "00008-8ce9796a-0269-4b9c-b4f1-f4350733d973",
    "deepnote_cell_type": "markdown",
    "tags": []
   },
   "source": [
    "Make a dict from this list of tuples:"
   ]
  },
  {
   "cell_type": "code",
   "execution_count": null,
   "id": "9ff89dc8",
   "metadata": {
    "cell_id": "00006-a669e6ee-c488-49d9-ba0a-aa13cc3f2c28",
    "deepnote_cell_type": "code",
    "deepnote_to_be_reexecuted": false,
    "execution_millis": 3,
    "execution_start": 1635335328020,
    "source_hash": "8186ff01",
    "tags": []
   },
   "outputs": [],
   "source": [
    "brightnesses = [\n",
    "    ('red', 65), \n",
    "    ('green', 3), \n",
    "    ('blue', 10)]"
   ]
  },
  {
   "cell_type": "code",
   "execution_count": null,
   "id": "18a6969f",
   "metadata": {
    "tags": [
     "exercise"
    ]
   },
   "outputs": [],
   "source": []
  },
  {
   "cell_type": "markdown",
   "id": "b108d082",
   "metadata": {
    "cell_id": "00027-f318248b-8f6e-481f-a283-4593a2172cf5",
    "deepnote_cell_type": "markdown",
    "tags": []
   },
   "source": [
    "## Analysing Data stored in Dicts\n",
    "\n",
    "The challenge with analyzing `dict` data is that dicts are not \"sequences\", and neither are `dict_keys()` or `dict_values()`, so before putting them into a statistics function we should first turn `dict_values()` into a `list` using the `list()` function. For example:\n",
    "\n",
    "```python\n",
    ">>> data = {'x': 1, 'y': 2}\n",
    "\n",
    ">>> data.values()\n",
    "dict_values([1, 2])\n",
    "\n",
    ">>> list(data.values())\n",
    "[1, 2]\n",
    "\n",
    ">>> np.mean(list(data.values()))\n",
    "1.5\n",
    "```\n",
    "\n",
    "Useful Functions for the below Exercises:\n",
    "\n",
    "| Function | Example | Description |\n",
    "| :----  | :----   | :---- |\n",
    "| `len()` | `len(the_dict)` | The total number of items |\n",
    "| `np.mean()` | `np.mean(list(the_dict.values())` | The mean of the dict's values |\n",
    "| `np.min()` | `np.min(list(the_dict.values()))` | The minimum of the dict's values |"
   ]
  },
  {
   "cell_type": "code",
   "execution_count": null,
   "id": "2a2b3991",
   "metadata": {
    "cell_id": "00024-87cec780-9706-4172-a9c0-823efcd94796",
    "deepnote_cell_type": "code",
    "deepnote_to_be_reexecuted": false,
    "execution_millis": 0,
    "execution_start": 1636319325919,
    "source_hash": "c2602aa8",
    "tags": []
   },
   "outputs": [],
   "source": [
    "import numpy as np\n",
    "import pandas as pd"
   ]
  },
  {
   "cell_type": "markdown",
   "id": "58cf35af",
   "metadata": {
    "cell_id": "00023-6798155b-8e03-48b5-a2cd-7946f39d2e57",
    "deepnote_cell_type": "markdown",
    "tags": []
   },
   "source": [
    "**Exercises**: Let's get some practice querying dicts and calculating some statistics on dicts using Numpy."
   ]
  },
  {
   "cell_type": "markdown",
   "id": "78d8ca75",
   "metadata": {
    "cell_id": "00026-13fb674f-bb5e-432d-bfcd-6066805e4070",
    "deepnote_cell_type": "markdown",
    "tags": []
   },
   "source": [
    "Using the following dict, calculate what was the average hours of sleep that our friends got last night:"
   ]
  },
  {
   "cell_type": "code",
   "execution_count": null,
   "id": "dcfb31fd",
   "metadata": {
    "cell_id": "00024-30849f61-26af-4168-90e1-a07f4a10ad1a",
    "deepnote_cell_type": "code",
    "deepnote_to_be_reexecuted": false,
    "execution_millis": 2,
    "execution_start": 1636319330240,
    "source_hash": "bf569e30",
    "tags": []
   },
   "outputs": [],
   "source": [
    "hours_of_sleep = {'Ram': 5, 'Sita': 9, 'Gopal': 7, 'Rita': 6, 'Mohan': 8}"
   ]
  },
  {
   "cell_type": "code",
   "execution_count": null,
   "id": "7e531e48",
   "metadata": {
    "tags": [
     "exercise"
    ]
   },
   "outputs": [],
   "source": [
    "np.mean(list(hours_of_sleep.values()))"
   ]
  },
  {
   "cell_type": "markdown",
   "id": "3bac533c",
   "metadata": {
    "cell_id": "00027-e8d9b705-342c-471c-8373-6d0b89a5861e",
    "deepnote_cell_type": "markdown",
    "tags": []
   },
   "source": [
    "How many total people in the following dataset were in our sleep study?"
   ]
  },
  {
   "cell_type": "code",
   "execution_count": null,
   "id": "fe67f700",
   "metadata": {
    "tags": [
     "exercise"
    ]
   },
   "outputs": [],
   "source": []
  },
  {
   "cell_type": "markdown",
   "id": "1b2c8ecb",
   "metadata": {
    "cell_id": "00004-44ac6f6a-3dbe-4ee0-95a1-06033662b76d",
    "deepnote_cell_type": "markdown",
    "id": "metropolitan-madagascar"
   },
   "source": [
    "# Pandas DataFrames"
   ]
  },
  {
   "cell_type": "markdown",
   "id": "e92c5af1",
   "metadata": {
    "cell_id": "00005-cc1771f3-d987-4ecb-b8af-4f986f49d656",
    "deepnote_cell_type": "markdown",
    "id": "legendary-filing"
   },
   "source": [
    "## What is a DataFrame?\n",
    "\n",
    "A DataFrame, is a **Table** of data.  It is a structure that contains multiple rows, each row containing the same labelled collection of data types.  A **DataFrame** is a table with named rows (called the \"index\"). For example, a DataFrame might look like this:\n",
    "\n",
    "| (index) | Name | Age | Height | LikesIceCream |\n",
    "| :---: | :--: | :--: | :--: | :--: |\n",
    "| 0     | \"Ram\" | 22 |5.3 | True |\n",
    "| 1     | \"Sita\" | 55 | 5 | True |\n",
    "| 2     | \"Hari\"  | 25 | 5.8 | True |\n",
    "\n",
    "Because each row contains the same data, DataFrames can also be thought of as a collection of same-length columns!\n",
    "\n",
    "**Pandas** is a Python package that has a DataFrame class.  many **read_()** functions, you can make your own DataFrame from a variety of sources.  "
   ]
  },
  {
   "cell_type": "markdown",
   "id": "27564a23",
   "metadata": {
    "cell_id": "00006-b30cc3eb-945c-4407-82d7-469b1ef80864",
    "deepnote_cell_type": "markdown",
    "id": "outstanding-resolution"
   },
   "source": [
    "## Making DataFrames Directly\n",
    "\n",
    "### Examples of Different Ways\n",
    "\n",
    "#### From a List of Dicts\n",
    "\n",
    "Dicts are named collections.  If you have many of the same dicts in a list, the DataFrame constructor can convert it to a Dataframe:"
   ]
  },
  {
   "cell_type": "code",
   "execution_count": null,
   "id": "6d9633a4",
   "metadata": {
    "cell_id": "00007-591c1df5-145e-4f46-bada-1c38ed46ed6d",
    "deepnote_cell_type": "code",
    "deepnote_to_be_reexecuted": false,
    "execution_millis": 12,
    "execution_start": 1636318561352,
    "id": "speaking-beatles",
    "outputId": "efd56fc7-9b41-44fe-a919-1dd9c3f6945c",
    "source_hash": "76511c9d"
   },
   "outputs": [],
   "source": [
    "friends = [\n",
    "    {'Name': \"Ram\", \"Age\": 31, \"Height\": 5.3, \"Weight\": 60},\n",
    "    {'Name': \"Sita\", \"Age\": 55, \"Height\": 5},\n",
    "    {\"Name\": \"Hari\", \"Height\": 5.8, \"Age\": 25, },\n",
    "]\n",
    "pd.DataFrame(friends)"
   ]
  },
  {
   "cell_type": "markdown",
   "id": "3848bae4",
   "metadata": {
    "cell_id": "00008-0aac322b-2e86-43c5-b23e-f9c8c2049411",
    "deepnote_cell_type": "markdown",
    "id": "working-night"
   },
   "source": [
    "#### From a Dict of Lists"
   ]
  },
  {
   "cell_type": "code",
   "execution_count": null,
   "id": "a2a7c5c8",
   "metadata": {
    "cell_id": "00009-01094bc3-c18b-4b56-a649-88ba0f2daa50",
    "deepnote_cell_type": "code",
    "deepnote_to_be_reexecuted": false,
    "execution_millis": 15,
    "execution_start": 1636318568867,
    "id": "unexpected-client",
    "outputId": "b8368c60-bc1a-4073-da77-a7dc57aead08",
    "source_hash": "4fd51953"
   },
   "outputs": [],
   "source": [
    "df = pd.DataFrame({\n",
    "    'Name': ['Ram', 'Sita', 'Hari'], \n",
    "    'Age': [31, 55, 25], \n",
    "    'Height': [5.3, 5, 5.8],\n",
    "})\n",
    "\n",
    "df"
   ]
  },
  {
   "cell_type": "markdown",
   "id": "4d0f778f",
   "metadata": {
    "cell_id": "00010-ec69183b-5ac8-4dd0-a0db-8997e66b8c69",
    "deepnote_cell_type": "markdown",
    "id": "tutorial-internship"
   },
   "source": [
    "#### From a List of Lists\n",
    "\n",
    "if you have a collection of same-length sequences, you essentially have a rectangular data structure already!  All that's needed is to add some column labels."
   ]
  },
  {
   "cell_type": "code",
   "execution_count": null,
   "id": "4223039e",
   "metadata": {
    "cell_id": "00011-e5073bfd-bedb-48d1-8cd0-870b146b932e",
    "deepnote_cell_type": "code",
    "deepnote_to_be_reexecuted": false,
    "execution_millis": 1,
    "execution_start": 1636318575992,
    "id": "finished-figure",
    "outputId": "90a107ee-fdcf-4116-d1c0-55f9ce7626ad",
    "source_hash": "ba91c925"
   },
   "outputs": [],
   "source": [
    "friends = [\n",
    "    ['Ram', 31, 5.3],\n",
    "    ['Sita', 55, 5],\n",
    "    ['Hari',  25, 5.8]\n",
    "]\n",
    "pd.DataFrame(friends, columns=[\"Name\", \"Age\", \"Height\"])"
   ]
  },
  {
   "cell_type": "markdown",
   "id": "44b259df",
   "metadata": {
    "cell_id": "00012-3e9a1df7-f070-4c43-8d02-bb6dcda3854a",
    "deepnote_cell_type": "markdown",
    "id": "incoming-bathroom"
   },
   "source": [
    "#### From an empty DataFrame\n",
    "If you prefer, you can also add columns one at a time, starting with an empty DataFrame:"
   ]
  },
  {
   "cell_type": "code",
   "execution_count": null,
   "id": "217787e2",
   "metadata": {
    "cell_id": "00013-c76cae6a-71b9-4aa2-a258-ec84f448d0d9",
    "deepnote_cell_type": "code",
    "deepnote_to_be_reexecuted": false,
    "execution_millis": 4,
    "execution_start": 1636318586715,
    "id": "beautiful-makeup",
    "outputId": "6e934d88-12b5-40e5-c139-f1d8bf2c05cf",
    "source_hash": "59a558dd"
   },
   "outputs": [],
   "source": [
    "df = pd.DataFrame()\n",
    "df['Name'] = ['Ram', 'Sita', 'Hari']\n",
    "df['Age'] = [31, 55, 25]\n",
    "df['Height'] = [5.3, 5, 5.8]\n"
   ]
  },
  {
   "cell_type": "markdown",
   "id": "67ed9034",
   "metadata": {
    "cell_id": "00014-8b55fa8f-9ac2-4340-bffc-3b059093469b",
    "deepnote_cell_type": "markdown",
    "id": "editorial-assumption"
   },
   "source": [
    "**Exercises**: Making DataFrames from Scratch\n",
    "\n",
    "Please use Pandas to recreate the table here as a Dataframe using one of the approaches detailed above:\n",
    "\n",
    "| Year | Product | Cost |\n",
    "| :--: | :----:  | :--: |\n",
    "| 2015 | Apples  | 0.35 |\n",
    "| 2016 | Apples  | 0.45 |\n",
    "| 2015 | Bananas | 0.75 |\n",
    "| 2016 | Bananas | 1.10 |"
   ]
  },
  {
   "cell_type": "code",
   "execution_count": null,
   "id": "e31ad0a1",
   "metadata": {
    "tags": [
     "exercise"
    ]
   },
   "outputs": [],
   "source": []
  },
  {
   "cell_type": "markdown",
   "id": "e8293fd8",
   "metadata": {
    "cell_id": "00017-4febcbde-dc4f-4ce0-b360-41a1bccaf772",
    "deepnote_cell_type": "markdown",
    "id": "affected-veteran"
   },
   "source": [
    "### Reading Data from Files into a DataFrame\n",
    "\n",
    "\n",
    "| File Format | File Extension | `read_xxx()` function | Dataframe Write Method | \n",
    "| :--:  | :--: | :--: | :--: |\n",
    "| Comma-Seperated Values      | .csv           | `pd.read_csv()` | `df.to_csv()` |\n",
    "| Tab-seperated Values       | .tsv, .tabular, .csv | `pd.read_csv(sep='\\t')`, `pd.read_table()` | `df.to_csv(sep='\\t')` `df.to_table()` |\n",
    "| Excel Spreadsheet           |  .xls | `pd.read_excel()`                    | `df.to_excel()`  |\n",
    "| Excel Spreadsheet           | .xlsx | `pd.read_excel()`   | `df.to_excel()` |\n",
    "| STATA                        | .dta | `pd.read_stata()`                     | `df.to_stata()` |\n"
   ]
  },
  {
   "cell_type": "code",
   "execution_count": null,
   "id": "0c754888",
   "metadata": {
    "cell_id": "00018-38cd54c9-a579-4d0c-9fe1-fbc33f88064f",
    "deepnote_cell_type": "code",
    "id": "necessary-converter"
   },
   "outputs": [],
   "source": [
    "import pandas as pd"
   ]
  },
  {
   "cell_type": "markdown",
   "id": "5db36bf6",
   "metadata": {
    "cell_id": "00019-df6eb991-fa78-4f34-9a8e-2988fb8b3d33",
    "deepnote_cell_type": "markdown",
    "id": "incredible-traveler"
   },
   "source": [
    "### Understanding Different File Formats\n"
   ]
  },
  {
   "cell_type": "markdown",
   "id": "3cc67bc3",
   "metadata": {},
   "source": [
    "**Exercises**: \n",
    "\n",
    "run the code below to download the Titanic passengers dataset, and transform it into different file formats\n",
    "\n",
    "*Note*: you can supply a web url and pandas reads it like a normal file!"
   ]
  },
  {
   "cell_type": "code",
   "execution_count": null,
   "id": "00d22fe6",
   "metadata": {
    "cell_id": "00020-3f4a1352-2d01-4b33-971d-48adcced2670",
    "deepnote_cell_type": "code",
    "deepnote_to_be_reexecuted": false,
    "execution_millis": 47,
    "execution_start": 1636318852820,
    "id": "collaborative-worcester",
    "outputId": "bf88e3fd-4ea0-481f-d3a9-c3354cc2ac44",
    "source_hash": "cd699004"
   },
   "outputs": [],
   "source": [
    "url = 'https://raw.githubusercontent.com/pudasainimohan/Materials/main/data/titanic.csv'\n",
    "df = pd.read_csv(url)\n",
    "df"
   ]
  },
  {
   "cell_type": "markdown",
   "id": "5677b8d1-be34-42fa-a28c-974c616eef13",
   "metadata": {},
   "source": [
    "**Data Dictionary**\n",
    "\n",
    "`survived` : whether the passenger survived or not       \n",
    "`pclass` : the passenger's ticket class (first, second, or third)              \n",
    "`sex` : the passenger's gender (male or female)       \n",
    "`age` : the passenger's age       \n",
    "`sibsp` : the number of siblings/spouses the passenger had aboard       \n",
    "`parch` : the number of parents/children the passenger had aboard       \n",
    "`fare` : the fare paid by the passenger for their ticket          \n",
    "`embarked` : the port of embarkation (Southampton, Cherbourg, or Queenstown)       \n",
    "`deck` : the deck on which the passenger's cabin was located (A to G)        \n",
    "`alone` : whether the passenger was traveling alone or with family members      "
   ]
  },
  {
   "cell_type": "code",
   "execution_count": null,
   "id": "623c0435-01ba-4d64-91e2-37235c0964ec",
   "metadata": {},
   "outputs": [],
   "source": [
    "pd.set_option('display.max_rows',10) #set display options"
   ]
  },
  {
   "cell_type": "markdown",
   "id": "6b2b32a9",
   "metadata": {
    "cell_id": "00018-ee68a483-fa8c-427f-b472-78c397c9a4f0",
    "deepnote_cell_type": "markdown",
    "tags": []
   },
   "source": [
    "Now run the code below to save the file to a comma-seperated file using the `DataFrame.to_csv()` method, then use a text editor to examine the file that was saved on the computer.  How is the file structured?"
   ]
  },
  {
   "cell_type": "code",
   "execution_count": null,
   "id": "072fbb39",
   "metadata": {
    "cell_id": "00021-1c9572d8-dddd-4072-85e7-b3bbd9e9d20e",
    "deepnote_cell_type": "code",
    "id": "acute-member"
   },
   "outputs": [],
   "source": [
    "df.to_csv(\"titanic.csv\", index=False)"
   ]
  },
  {
   "cell_type": "markdown",
   "id": "f75c7999",
   "metadata": {},
   "source": [
    "Now read the file back into Pyhton using the `pd.read_csv()` function:"
   ]
  },
  {
   "cell_type": "code",
   "execution_count": null,
   "id": "8d020421",
   "metadata": {
    "tags": [
     "exercise"
    ]
   },
   "outputs": [],
   "source": [
    "pd.read_csv('titanic.csv')"
   ]
  },
  {
   "cell_type": "markdown",
   "id": "8e10d6a3",
   "metadata": {
    "cell_id": "00044-a7a1da2f-50fc-4779-8b9c-a07d7c609b15",
    "deepnote_cell_type": "markdown",
    "id": "lined-trace"
   },
   "source": [
    "**Excel**"
   ]
  },
  {
   "cell_type": "markdown",
   "id": "23b12e85",
   "metadata": {
    "cell_id": "00047-15c37d8f-65da-413e-a517-f9988e48429a",
    "deepnote_cell_type": "markdown",
    "id": "negative-input"
   },
   "source": [
    "Save the dataframe to an Excel file.  `DataFrame.to_excel()`"
   ]
  },
  {
   "cell_type": "code",
   "execution_count": null,
   "id": "de16ac5f-e6f3-468c-b545-8d296fe814b2",
   "metadata": {
    "tags": []
   },
   "outputs": [],
   "source": [
    "df.to_excel?"
   ]
  },
  {
   "cell_type": "code",
   "execution_count": null,
   "id": "7599f3d7",
   "metadata": {
    "cell_id": "00048-6cb3709e-9419-4a6a-8f4c-e31bb93f6ccc",
    "deepnote_cell_type": "code",
    "deepnote_to_be_reexecuted": false,
    "execution_millis": 1,
    "execution_start": 1636319143192,
    "id": "municipal-dancing",
    "source_hash": "b623e53d",
    "tags": [
     "exercise"
    ]
   },
   "outputs": [],
   "source": [
    "df.to_excel('titanic.xlsx', index=False)"
   ]
  },
  {
   "cell_type": "markdown",
   "id": "975343e7",
   "metadata": {
    "cell_id": "00049-f836e579-a00a-4f22-9c59-647719e7bfd7",
    "deepnote_cell_type": "markdown",
    "id": "talented-letter"
   },
   "source": [
    "Read the Excel file into Pandas again, using the `pd.read_excel()` function"
   ]
  },
  {
   "cell_type": "code",
   "execution_count": null,
   "id": "dcef5561",
   "metadata": {
    "cell_id": "00050-aeab11f9-4d97-4e0e-a34c-406707b54695",
    "deepnote_cell_type": "code",
    "id": "essential-diagnosis",
    "tags": [
     "exercise"
    ]
   },
   "outputs": [],
   "source": [
    "pd.read_excel('titanic.xlsx')"
   ]
  },
  {
   "cell_type": "markdown",
   "id": "057ff0a1",
   "metadata": {
    "cell_id": "00028-0b9d73f6-c77a-4e7b-a52b-5aa41c9bf2b5",
    "deepnote_cell_type": "markdown",
    "id": "latest-annotation"
   },
   "source": [
    "**STATA**"
   ]
  },
  {
   "cell_type": "markdown",
   "id": "c4e0797c",
   "metadata": {
    "cell_id": "00029-53d3c2cc-c877-44f3-b53d-ed2426c82f16",
    "deepnote_cell_type": "markdown",
    "id": "silver-secretariat"
   },
   "source": [
    "Save the dataframe to a STATA file using the `df.to_stata()` method."
   ]
  },
  {
   "cell_type": "code",
   "execution_count": null,
   "id": "9ac7f5f7",
   "metadata": {
    "cell_id": "00030-427a4dd0-ba27-4588-9b6f-8717884de822",
    "deepnote_cell_type": "code",
    "deepnote_to_be_reexecuted": false,
    "execution_millis": 0,
    "execution_start": 1636319001749,
    "id": "illegal-update",
    "source_hash": "b623e53d",
    "tags": [
     "exercise"
    ]
   },
   "outputs": [],
   "source": [
    "df.to_stata('titanic.dta' )"
   ]
  },
  {
   "cell_type": "markdown",
   "id": "93bfb854",
   "metadata": {
    "cell_id": "00031-a8694743-4063-47a8-987d-5eae2666a666",
    "deepnote_cell_type": "markdown",
    "id": "signed-design"
   },
   "source": [
    "Read the stata file into Pandas again, using the `pd.read_stata()` function."
   ]
  },
  {
   "cell_type": "code",
   "execution_count": null,
   "id": "8b0b5227",
   "metadata": {
    "cell_id": "00032-a85e45ed-4edc-4058-9b9f-5ed5b618021f",
    "deepnote_cell_type": "code",
    "id": "mounted-peoples",
    "tags": [
     "exercise"
    ]
   },
   "outputs": [],
   "source": [
    "pd.read_stata('titanic.dta')"
   ]
  },
  {
   "cell_type": "markdown",
   "id": "0a4c6c0b",
   "metadata": {
    "cell_id": "00034-5519fe28-e4ab-463a-a352-612e07300929",
    "deepnote_cell_type": "markdown",
    "id": "varied-liabilities"
   },
   "source": [
    "**SPSS**"
   ]
  },
  {
   "cell_type": "markdown",
   "id": "b4673999",
   "metadata": {
    "cell_id": "00035-a7a70588-3dce-4398-86bd-59038dabb7df",
    "deepnote_cell_type": "markdown",
    "id": "concerned-sheffield"
   },
   "source": [
    "To save a pandas DataFrame in SPSS format, there is no direct method in pandas. You can use the `pyreadstat` module to write the DataFrame to an SPSS file using the `write_sav` function from that module. First, make sure that you have installed the pyreadstat module using `pip install pyreadstat`."
   ]
  },
  {
   "cell_type": "code",
   "execution_count": null,
   "id": "d241ab55-20d5-449a-8ed9-951b1d1fb113",
   "metadata": {},
   "outputs": [],
   "source": [
    "!pip install pyreadstat"
   ]
  },
  {
   "cell_type": "code",
   "execution_count": null,
   "id": "5a587c0d-6fd4-43ff-9f45-5084b4d9026f",
   "metadata": {},
   "outputs": [],
   "source": [
    "import pyreadstat"
   ]
  },
  {
   "cell_type": "code",
   "execution_count": null,
   "id": "316f43db",
   "metadata": {
    "cell_id": "00036-3defd7db-e0cf-4a36-a39a-a08ac294932c",
    "deepnote_cell_type": "code",
    "deepnote_to_be_reexecuted": false,
    "execution_millis": 3,
    "execution_start": 1636319045967,
    "id": "known-correction",
    "source_hash": "b623e53d",
    "tags": [
     "exercise"
    ]
   },
   "outputs": [],
   "source": [
    "pyreadstat.write_sav(df,'titanic.sav')"
   ]
  }
 ],
 "metadata": {
  "colab": {
   "name": "12_DataFrame_Creation.ipynb",
   "provenance": []
  },
  "deepnote": {},
  "deepnote_execution_queue": [],
  "deepnote_notebook_id": "46d4e0e5-b75f-43ef-8b97-cdec857f3c04",
  "kernelspec": {
   "display_name": "Python 3 (ipykernel)",
   "language": "python",
   "name": "python3"
  },
  "language_info": {
   "codemirror_mode": {
    "name": "ipython",
    "version": 3
   },
   "file_extension": ".py",
   "mimetype": "text/x-python",
   "name": "python",
   "nbconvert_exporter": "python",
   "pygments_lexer": "ipython3",
   "version": "3.9.13"
  },
  "vscode": {
   "interpreter": {
    "hash": "d6852d01271bf8033dbdb7ec364b6f6e89fd52a18c6bf5b4c73e48c86329a8dd"
   }
  }
 },
 "nbformat": 4,
 "nbformat_minor": 5
}

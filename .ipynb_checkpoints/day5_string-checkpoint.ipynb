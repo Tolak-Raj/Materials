{
 "cells": [
  {
   "cell_type": "markdown",
   "metadata": {
    "cell_id": "00000-7845d921-1012-45bc-86a2-bda8514e63bb",
    "deepnote_cell_type": "markdown",
    "tags": []
   },
   "source": [
    "# Working with String"
   ]
  },
  {
   "cell_type": "markdown",
   "metadata": {
    "cell_id": "00001-43f8a1d6-e7b8-4171-90f4-92124c8941b3",
    "deepnote_cell_type": "markdown",
    "tags": []
   },
   "source": [
    "`string` objects in Python represent text.  They can be created in several ways:\n",
    "\n",
    "```python\n",
    ">>>(#) is used to indicate a comment in the code.\n",
    ">>> 'Hello'  # with apostrophes (\"single-quotes\")\n",
    "'Hello'\n",
    "\n",
    ">>> \"Hello\"  # with quotation marks (\"double-quotes\")\n",
    "\"Hello\"\n",
    "\n",
    ">>> \"\"\"Hello,     \n",
    "... my name is\n",
    "... Mohan\"\"\"   # with triple-double-quotes (a \"docstring\", used for multi-line text)  \n",
    "\n",
    ">>> str(32)  # using the str() function to change into a string\n",
    "'32'\n",
    "    \n",
    "```"
   ]
  },
  {
   "cell_type": "code",
   "execution_count": null,
   "metadata": {},
   "outputs": [],
   "source": [
    "x=Nepal"
   ]
  },
  {
   "cell_type": "markdown",
   "metadata": {
    "cell_id": "00002-b250d3c5-ff38-4c46-8e80-8c10d039b870",
    "deepnote_cell_type": "markdown",
    "tags": []
   },
   "source": [
    " ### print function in python\n",
    "\n",
    "```\n",
    "\n",
    "print() function is used to output text to the console. The simplest use of the function is to pass it a string of text, like this\n",
    "\n",
    ">>> print(\"Nepal\")\n",
    "\n",
    "There are many other options and parameters that can be used with the print() function in Python. Here are some of the most commonly used ones:\n",
    "\n",
    "`sep` - Specifies the separator between the arguments that are passed to the function. The default is a space character.      \n",
    "`end` - Specifies the string that should be added to the end of the output. The default is a newline character\n",
    "\n",
    "```"
   ]
  },
  {
   "cell_type": "code",
   "execution_count": null,
   "metadata": {},
   "outputs": [],
   "source": [
    "print(\"apple\", \"orange\", \"banana\")\n",
    "print(\"apple\", \"orange\", \"banana\", sep=\",\")\n",
    "print(\"apple\", \"orange\", \"banana\", end=\",\")"
   ]
  },
  {
   "cell_type": "code",
   "execution_count": null,
   "metadata": {},
   "outputs": [],
   "source": [
    "print(\"Hello\", end='\\t')\n",
    "print(\"Ram\")"
   ]
  },
  {
   "cell_type": "markdown",
   "metadata": {},
   "source": [
    "###  Escape Sequences\n",
    "\n",
    "`\\n` - Represents a new line character. When used in a string, it will cause the text to be split onto a new line.       \n",
    "`\\t` - Represents a horizontal tab character. When used in a string, it will cause the text to be indented as if a tab had been pressed.       \n",
    "`\\\\` - Represents a backslash character. When used in a string, it will allow you to include a literal backslash in the text, since a single backslash is normally used to escape other characters.       \n",
    "`\\\"` - Represents a double quote character. When used in a string surrounded by double quotes, it allows you to include a literal double quote in the text, since double quotes are normally used to delimit the string.      \n",
    "`\\'` - Represents a single quote character. When used in a string surrounded by single quotes, it allows you to include a literal single quote in the text, since single quotes are normally used to delimit the string. here are some examples:\n",
    "\n"
   ]
  },
  {
   "cell_type": "code",
   "execution_count": null,
   "metadata": {},
   "outputs": [],
   "source": [
    "print(\"First line\\nSecond line\")\n",
    "print(\"A\\tB\\tC\")\n",
    "print(\"This is a backslash: \\\\\")\n",
    "print(\"She said, \\\"Hello!\\\"\")\n",
    "print('He said, \\'How\\'s it going?\\'')"
   ]
  },
  {
   "cell_type": "markdown",
   "metadata": {},
   "source": [
    "**Ecercise:**"
   ]
  },
  {
   "cell_type": "markdown",
   "metadata": {},
   "source": [
    "\n",
    "![image.png](https://raw.githubusercontent.com/pudasainimohan/Materials/main/img/hello.jpg)"
   ]
  },
  {
   "cell_type": "code",
   "execution_count": 1,
   "metadata": {},
   "outputs": [
    {
     "name": "stdout",
     "output_type": "stream",
     "text": [
      "\"Hello \n",
      "N\\epal\n"
     ]
    }
   ],
   "source": []
  },
  {
   "cell_type": "markdown",
   "metadata": {
    "cell_id": "00003-08ad4179-02cc-440c-b42a-5679cd9cfe34",
    "deepnote_cell_type": "markdown",
    "tags": []
   },
   "source": [
    "## Operations /indexing and slicing\n",
    "\n",
    "The same operations we've used on numbers and lists work on strings!\n",
    "\n",
    "  - `'Nepal' * 3  # Repeats a string N times`\n",
    "  - `'Nepal' + 'Nepal'  # Concatenates two strings`\n",
    "  - `'Nepal'[0]`  \n",
    "  - `'Nepal'[-1]`\n",
    "  - `'Nepal'[1:]`\n",
    "  - `'Nepal'[:-1]`\n",
    "  - `'Nepal'[::-1]   # Reverses the sequence`\n",
    "  - `'Nepal' == 'Nepal'  # If they are the same, then True`\n",
    "  - `'Nepal' != 'Nepal'  # If they are different, then True`\n",
    "\n",
    "\n",
    "## Some methods for strings\n",
    "- 'Nepal'.count('a')\n",
    "- 'nepal'.upper()\n",
    "- 'Nepal'.lower()\n",
    "- 'Nepal'.isdigit()\n",
    "- 'Nepal'.index('l')\n",
    "- 'Nepal'.replace('N', 'B')\n",
    "- 'Nep-al'.split('-')\n",
    "\n"
   ]
  },
  {
   "cell_type": "code",
   "execution_count": null,
   "metadata": {},
   "outputs": [],
   "source": [
    "'Nepal'.count( 'N')"
   ]
  },
  {
   "cell_type": "code",
   "execution_count": null,
   "metadata": {},
   "outputs": [],
   "source": [
    "'Nep-CCA'.split('-')"
   ]
  },
  {
   "cell_type": "code",
   "execution_count": null,
   "metadata": {
    "cell_id": "00003-582507dc-2266-48b1-a446-34c026e4cdee",
    "deepnote_cell_type": "code",
    "deepnote_to_be_reexecuted": false,
    "execution_millis": 4,
    "execution_start": 1634079040821,
    "source_hash": "41a532a",
    "tags": []
   },
   "outputs": [],
   "source": [
    "seq = \"GHEPDHASKHELRKHSDLFS\"\n",
    "seq.count('L')"
   ]
  },
  {
   "cell_type": "markdown",
   "metadata": {},
   "source": [
    "Count the Number of \"C\" in the following sequence:"
   ]
  },
  {
   "cell_type": "code",
   "execution_count": 6,
   "metadata": {},
   "outputs": [],
   "source": [
    "seq = \"GHEPDHASKHELRKHSDLFS\""
   ]
  },
  {
   "cell_type": "code",
   "execution_count": 7,
   "metadata": {
    "tags": [
     "exercise"
    ]
   },
   "outputs": [
    {
     "data": {
      "text/plain": [
       "0"
      ]
     },
     "execution_count": 7,
     "metadata": {},
     "output_type": "execute_result"
    }
   ],
   "source": []
  },
  {
   "cell_type": "markdown",
   "metadata": {
    "cell_id": "00004-d51b6a81-a526-47a6-a3a1-1a373b6ac4a5",
    "deepnote_cell_type": "markdown",
    "tags": []
   },
   "source": [
    "Count the number of \"EP\" repeats in the following sequence:"
   ]
  },
  {
   "cell_type": "code",
   "execution_count": null,
   "metadata": {
    "cell_id": "00008-077a4e44-89ef-4a27-8034-88626e96f50c",
    "deepnote_cell_type": "code",
    "deepnote_to_be_reexecuted": false,
    "execution_millis": 1,
    "execution_start": 1634079085991,
    "source_hash": "41a532a",
    "tags": []
   },
   "outputs": [],
   "source": [
    "seq = \"GHEPDHASKHELRKHSDLFS\""
   ]
  },
  {
   "cell_type": "code",
   "execution_count": 8,
   "metadata": {
    "tags": [
     "exercise"
    ]
   },
   "outputs": [
    {
     "data": {
      "text/plain": [
       "1"
      ]
     },
     "execution_count": 8,
     "metadata": {},
     "output_type": "execute_result"
    }
   ],
   "source": []
  },
  {
   "cell_type": "markdown",
   "metadata": {
    "cell_id": "00008-25413327-f1e9-40f6-939a-0e9d8f1b5e5e",
    "deepnote_cell_type": "markdown",
    "tags": []
   },
   "source": [
    "Concatenate the following two sequences (i.e. combine them into one sequence)"
   ]
  },
  {
   "cell_type": "code",
   "execution_count": 9,
   "metadata": {
    "cell_id": "00010-59d740f3-a38c-41da-9611-1d8b768336a4",
    "deepnote_cell_type": "code",
    "deepnote_to_be_reexecuted": false,
    "execution_millis": 2,
    "execution_start": 1634079160102,
    "source_hash": "e000e2b3",
    "tags": []
   },
   "outputs": [],
   "source": [
    "seq1 = \"GHEPDHASS\"\n",
    "seq2 = \"LRKHSDLFS\""
   ]
  },
  {
   "cell_type": "code",
   "execution_count": 12,
   "metadata": {
    "tags": [
     "exercise"
    ]
   },
   "outputs": [
    {
     "data": {
      "text/plain": [
       "'GHEPDHASS LRKHSDLFS'"
      ]
     },
     "execution_count": 12,
     "metadata": {},
     "output_type": "execute_result"
    }
   ],
   "source": []
  },
  {
   "cell_type": "markdown",
   "metadata": {
    "cell_id": "00011-2ab3529f-0ccb-4f66-8bdc-3ea3f6010ccc",
    "deepnote_cell_type": "markdown",
    "tags": []
   },
   "source": [
    "How long is the following sequence?"
   ]
  },
  {
   "cell_type": "code",
   "execution_count": null,
   "metadata": {
    "cell_id": "00012-e4360748-342a-4d43-880a-e93ed8122d04",
    "deepnote_cell_type": "code",
    "deepnote_to_be_reexecuted": false,
    "execution_millis": 1,
    "execution_start": 1634080856782,
    "source_hash": "41a532a",
    "tags": []
   },
   "outputs": [],
   "source": [
    "seq = \"GHEPDHASKHELRKHSDLFS\""
   ]
  },
  {
   "cell_type": "code",
   "execution_count": null,
   "metadata": {
    "tags": [
     "exercise"
    ]
   },
   "outputs": [],
   "source": []
  },
  {
   "cell_type": "markdown",
   "metadata": {
    "cell_id": "00013-3eff39fd-3694-4ea8-b469-7338461c05de",
    "deepnote_cell_type": "markdown",
    "tags": []
   },
   "source": [
    "What is the 2nd charector in this sequence?"
   ]
  },
  {
   "cell_type": "code",
   "execution_count": null,
   "metadata": {
    "cell_id": "00014-d9885058-078e-4316-bc75-a3be08a63e66",
    "deepnote_cell_type": "code",
    "deepnote_to_be_reexecuted": false,
    "execution_millis": 1,
    "execution_start": 1634081148579,
    "source_hash": "41a532a",
    "tags": []
   },
   "outputs": [],
   "source": [
    "seq = \"GHEPDHASKHELRKHSDLFS\""
   ]
  },
  {
   "cell_type": "code",
   "execution_count": null,
   "metadata": {
    "tags": [
     "exercise"
    ]
   },
   "outputs": [],
   "source": []
  },
  {
   "cell_type": "markdown",
   "metadata": {
    "cell_id": "00015-762e255a-0236-47f1-8b05-f2f1ff08ecc4",
    "deepnote_cell_type": "markdown",
    "tags": []
   },
   "source": [
    "What is the 3rd-from-the-last  in this sequence?"
   ]
  },
  {
   "cell_type": "code",
   "execution_count": null,
   "metadata": {
    "cell_id": "00016-740974fb-b373-443e-9079-25e9a29b1f99",
    "deepnote_cell_type": "code",
    "deepnote_to_be_reexecuted": false,
    "execution_millis": 1,
    "execution_start": 1634081182699,
    "source_hash": "41a532a",
    "tags": []
   },
   "outputs": [],
   "source": [
    "\"GHEPDHASKHELRKHSDLFS\""
   ]
  },
  {
   "cell_type": "code",
   "execution_count": null,
   "metadata": {
    "tags": [
     "exercise"
    ]
   },
   "outputs": [],
   "source": []
  },
  {
   "cell_type": "markdown",
   "metadata": {
    "cell_id": "00010-cba5a2d8-f65c-4394-946c-4a98eefd7630",
    "deepnote_cell_type": "markdown",
    "tags": []
   },
   "source": [
    "Repeat the following sequence 9 times"
   ]
  },
  {
   "cell_type": "code",
   "execution_count": null,
   "metadata": {
    "cell_id": "00013-93c65027-89e2-4a78-a619-dc5b0daf8f83",
    "deepnote_cell_type": "code",
    "deepnote_to_be_reexecuted": false,
    "execution_millis": 0,
    "execution_start": 1634079205489,
    "source_hash": "e8325bd0",
    "tags": []
   },
   "outputs": [],
   "source": [
    "gc = \"MP\""
   ]
  },
  {
   "cell_type": "code",
   "execution_count": null,
   "metadata": {
    "tags": [
     "exercise"
    ]
   },
   "outputs": [],
   "source": []
  },
  {
   "cell_type": "markdown",
   "metadata": {
    "cell_id": "00013-0473c5b5-e6a6-4e56-8e4a-54d887bdf5a7",
    "deepnote_cell_type": "markdown",
    "tags": []
   },
   "source": [
    "Remove 'D' from th following sequence (i.e. delete the letter)  (Hint: an empty string is just a pair of quotes, like `''` or `\"\"`)"
   ]
  },
  {
   "cell_type": "code",
   "execution_count": null,
   "metadata": {
    "cell_id": "00014-21679293-a7e9-4f78-ab6a-5ed90cec9782",
    "deepnote_cell_type": "code",
    "deepnote_to_be_reexecuted": false,
    "execution_millis": 1,
    "execution_start": 1634079290023,
    "source_hash": "4bf1e4b3",
    "tags": []
   },
   "outputs": [],
   "source": [
    "seq = \"GHEPDHASKHELRKHSDLFS\""
   ]
  },
  {
   "cell_type": "code",
   "execution_count": null,
   "metadata": {
    "tags": [
     "exercise"
    ]
   },
   "outputs": [],
   "source": []
  },
  {
   "cell_type": "markdown",
   "metadata": {
    "cell_id": "00021-8331d446-a336-4950-ab3e-3584761b9945",
    "deepnote_cell_type": "markdown",
    "tags": []
   },
   "source": [
    "Keep only the first five charecotor in this sequence"
   ]
  },
  {
   "cell_type": "code",
   "execution_count": null,
   "metadata": {
    "cell_id": "00022-3536ebf8-08f8-4e96-9faf-6a8b5a304013",
    "deepnote_cell_type": "code",
    "deepnote_to_be_reexecuted": false,
    "execution_millis": 5,
    "execution_start": 1634081214827,
    "source_hash": "41a532a",
    "tags": []
   },
   "outputs": [],
   "source": [
    "seq = \"GHEPDHASKHELRKHSDLFS\""
   ]
  },
  {
   "cell_type": "code",
   "execution_count": null,
   "metadata": {
    "tags": [
     "exercise"
    ]
   },
   "outputs": [],
   "source": []
  },
  {
   "cell_type": "markdown",
   "metadata": {
    "cell_id": "00014-d7405393-4e09-4348-b3eb-73f3d5c508f4",
    "deepnote_cell_type": "markdown",
    "tags": []
   },
   "source": [
    "Standardize the formatting of this sequence by either upper- or lower-casing the letters"
   ]
  },
  {
   "cell_type": "code",
   "execution_count": null,
   "metadata": {
    "cell_id": "00017-9265e569-65b1-4e0e-a7f1-03f600501257",
    "deepnote_cell_type": "code",
    "deepnote_to_be_reexecuted": false,
    "execution_millis": 1,
    "execution_start": 1634079427930,
    "source_hash": "5ceb027e",
    "tags": []
   },
   "outputs": [],
   "source": [
    "seq = \"GHEPDHASKHELRKHSDLFS\""
   ]
  },
  {
   "cell_type": "code",
   "execution_count": null,
   "metadata": {
    "tags": [
     "exercise"
    ]
   },
   "outputs": [],
   "source": []
  },
  {
   "cell_type": "markdown",
   "metadata": {
    "cell_id": "00017-2115d821-3cf9-4b10-9a11-3b91c7d18d06",
    "deepnote_cell_type": "markdown",
    "tags": []
   },
   "source": [
    "Split the following string by dilimiter `-` ."
   ]
  },
  {
   "cell_type": "code",
   "execution_count": null,
   "metadata": {
    "cell_id": "00017-cd7e0ba1-54d1-4833-a336-5be1d6e9d7ec",
    "deepnote_cell_type": "code",
    "deepnote_to_be_reexecuted": false,
    "execution_millis": 1,
    "execution_start": 1634079573701,
    "source_hash": "140b9420",
    "tags": []
   },
   "outputs": [],
   "source": [
    "seqs = \"GHEPD-HASKHELR-KHSDLFS\""
   ]
  },
  {
   "cell_type": "code",
   "execution_count": null,
   "metadata": {
    "tags": [
     "exercise"
    ]
   },
   "outputs": [],
   "source": []
  },
  {
   "cell_type": "markdown",
   "metadata": {
    "cell_id": "00027-a018e06b-da15-4a11-9acc-1a09569311bd",
    "deepnote_cell_type": "markdown",
    "tags": []
   },
   "source": [
    "Reverse this sequence"
   ]
  },
  {
   "cell_type": "code",
   "execution_count": null,
   "metadata": {
    "cell_id": "00027-44bc90e1-94c1-4dd5-acb0-6eead8708776",
    "deepnote_cell_type": "code",
    "deepnote_to_be_reexecuted": false,
    "execution_millis": 4,
    "execution_start": 1634082719763,
    "source_hash": "41a532a",
    "tags": []
   },
   "outputs": [],
   "source": [
    "seq = \"GHEPDHASKHELRKHSDLFS\""
   ]
  },
  {
   "cell_type": "code",
   "execution_count": null,
   "metadata": {
    "tags": [
     "exercise"
    ]
   },
   "outputs": [],
   "source": []
  },
  {
   "cell_type": "markdown",
   "metadata": {
    "cell_id": "00019-ff7565ff-ad94-4e5c-93da-0cfda3494505",
    "deepnote_cell_type": "markdown",
    "tags": []
   },
   "source": [
    "What percentage of (G and C) are there in this sequence?  (Hint: count the Gs and Cs, then divide by the total number of aphabets)"
   ]
  },
  {
   "cell_type": "code",
   "execution_count": null,
   "metadata": {
    "cell_id": "00020-a614801b-0e9e-4aec-899e-371d4dab1e91",
    "deepnote_cell_type": "code",
    "deepnote_to_be_reexecuted": false,
    "execution_millis": 3,
    "execution_start": 1634082723387,
    "source_hash": "41a532a",
    "tags": []
   },
   "outputs": [],
   "source": [
    "seq = \"GHEPDHASKHELRKHSDLFS\""
   ]
  },
  {
   "cell_type": "code",
   "execution_count": null,
   "metadata": {
    "tags": [
     "exercise"
    ]
   },
   "outputs": [],
   "source": []
  },
  {
   "cell_type": "markdown",
   "metadata": {
    "cell_id": "00031-9f1903c4-213b-46ae-870b-3b78d6cb6967",
    "deepnote_cell_type": "markdown",
    "tags": []
   },
   "source": [
    "Is this sequence the same forwards and backwards (i.e. a palindrome)?"
   ]
  },
  {
   "cell_type": "code",
   "execution_count": null,
   "metadata": {
    "cell_id": "00032-e853c1a7-4ed8-4f0a-96f8-01f45a530915",
    "deepnote_cell_type": "code",
    "deepnote_to_be_reexecuted": false,
    "execution_millis": 1,
    "execution_start": 1634083069195,
    "source_hash": "e9788ffd",
    "tags": []
   },
   "outputs": [],
   "source": [
    "seq = \"madam\""
   ]
  },
  {
   "cell_type": "code",
   "execution_count": null,
   "metadata": {
    "tags": [
     "exercise"
    ]
   },
   "outputs": [],
   "source": []
  },
  {
   "cell_type": "markdown",
   "metadata": {
    "cell_id": "00018-839a5e65-599d-476a-ab1c-fe84fc113e9f",
    "deepnote_cell_type": "markdown",
    "tags": []
   },
   "source": [
    "## Text Files\n",
    "\n",
    "### Writing Strings to Files\n",
    "\n",
    "Strings can be saved to text files by making a `File` object with the `open()` function and writing the string to it.  Here are two ways to do it:\n",
    "\n",
    "```python\n",
    "my_file = open('myfile.txt', 'w')  # get a file object open in 'write' mode\n",
    "my_file.write('This is my text')  # call the file.write() method\n",
    "my_file.close()  # call the file.close() method\n",
    "```\n",
    "```python\n",
    "with open('myfile.txt', 'w') as my_file:\n",
    "    my_file.write('This is my text')\n",
    "\n",
    "```\n",
    "\n",
    "### Reading Strings from Files\n",
    "\n",
    "Reading works in a similar way\n",
    "\n",
    "```python\n",
    "my_file = open('myfile.txt')\n",
    "text = my_file.read()\n",
    "my_file.close()\n",
    "```\n"
   ]
  },
  {
   "cell_type": "markdown",
   "metadata": {
    "cell_id": "00034-f7dafb88-24f7-4417-97be-30f1d0e06dd3",
    "deepnote_cell_type": "markdown",
    "tags": []
   },
   "source": [
    "**Exercises**:\n",
    "\n",
    "Write the following sequence to a text file named \"my.txt\":"
   ]
  },
  {
   "cell_type": "code",
   "execution_count": 2,
   "metadata": {
    "cell_id": "00035-fdba6b56-4f40-4bb9-9b4d-0431c64ea010",
    "deepnote_cell_type": "code",
    "tags": []
   },
   "outputs": [],
   "source": [
    "seq = \"This is first line \\nThis is second line \\nThis is third linn\""
   ]
  },
  {
   "cell_type": "code",
   "execution_count": 3,
   "metadata": {
    "tags": [
     "exercise"
    ]
   },
   "outputs": [],
   "source": [
    "file = open('my.txt', 'w')\n",
    "file.write(seq)\n",
    "file.close()"
   ]
  },
  {
   "cell_type": "markdown",
   "metadata": {
    "cell_id": "00036-b63fba54-258e-4382-b6a8-342d4eb8635c",
    "deepnote_cell_type": "markdown",
    "tags": []
   },
   "source": [
    "Read the sequence from the file back into Python."
   ]
  },
  {
   "cell_type": "code",
   "execution_count": 4,
   "metadata": {
    "cell_id": "00037-fc9d7632-cbd3-4ebf-8532-0b1e82d4c84f",
    "deepnote_cell_type": "code",
    "tags": [
     "parameters",
     "exercise"
    ]
   },
   "outputs": [
    {
     "name": "stdout",
     "output_type": "stream",
     "text": [
      "This is first line \n",
      "This is second line \n",
      "This is third linn\n"
     ]
    }
   ],
   "source": [
    "file = open('my.txt','r')\n",
    "content = file.read()\n",
    "file.close()\n",
    "print(seq)"
   ]
  },
  {
   "cell_type": "code",
   "execution_count": 5,
   "metadata": {},
   "outputs": [
    {
     "name": "stdout",
     "output_type": "stream",
     "text": [
      "This is first line \n",
      "This is second line \n",
      "This is third linn\n"
     ]
    }
   ],
   "source": [
    "with open('my.txt', 'r') as file:\n",
    "    contents = file.read()\n",
    "    file.close()\n",
    "    print(contents)"
   ]
  },
  {
   "cell_type": "code",
   "execution_count": null,
   "metadata": {},
   "outputs": [],
   "source": []
  }
 ],
 "metadata": {
  "deepnote": {
   "is_reactive": false
  },
  "deepnote_execution_queue": [],
  "deepnote_notebook_id": "e2c9dcf3-b782-4bae-addb-408b3fecdde6",
  "kernelspec": {
   "display_name": "Python 3 (ipykernel)",
   "language": "python",
   "name": "python3"
  },
  "language_info": {
   "codemirror_mode": {
    "name": "ipython",
    "version": 3
   },
   "file_extension": ".py",
   "mimetype": "text/x-python",
   "name": "python",
   "nbconvert_exporter": "python",
   "pygments_lexer": "ipython3",
   "version": "3.9.13"
  },
  "vscode": {
   "interpreter": {
    "hash": "d6852d01271bf8033dbdb7ec364b6f6e89fd52a18c6bf5b4c73e48c86329a8dd"
   }
  }
 },
 "nbformat": 4,
 "nbformat_minor": 4
}

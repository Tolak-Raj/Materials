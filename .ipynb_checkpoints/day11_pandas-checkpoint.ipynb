{
 "cells": [
  {
   "cell_type": "code",
   "execution_count": null,
   "id": "6787528b",
   "metadata": {
    "cell_id": "00000-db897cd6-3f70-429c-a98c-008563ade8ed",
    "deepnote_cell_type": "code"
   },
   "outputs": [],
   "source": [
    "import numpy as np\n",
    "import pandas as pd"
   ]
  },
  {
   "cell_type": "code",
   "execution_count": null,
   "id": "75d3543c-ef45-4000-b0ea-5d52e19ae5d9",
   "metadata": {},
   "outputs": [],
   "source": [
    "url = 'https://raw.githubusercontent.com/pudasainimohan/Materials/main/data/titanic.csv'\n",
    "df = pd.read_csv(url)\n",
    "\n",
    "bins=[0,10,20,30,40,50,60,70,80]\n",
    "\n",
    "labels=['0-10','10-20','20-30','30-40','40-50','50-60','60-70','70-80']\n",
    "\n",
    "# Create a new column 'AgeGroup' by binning the 'age' column\n",
    "df['AgeGroup'] = pd.cut(df['age'], bins=bins, labels=labels)\n",
    "df\n"
   ]
  },
  {
   "cell_type": "markdown",
   "id": "baa7a4ab-e6ed-4f9d-be61-73c60266a07e",
   "metadata": {
    "tags": []
   },
   "source": [
    "### contingency table using  **pd.crosstab()** . \n",
    "Some parameters of crosstab function:\n",
    "\n",
    "`index`: Specifies the row labels for the resulting DataFrame.       \n",
    "`columns`: Specifies the column labels for the resulting DataFrame.        \n",
    "`values`: Specifies the data values to be aggregated in the resulting DataFrame. This parameter is optional.        \n",
    "`rownames`: Specifies the row names for the resulting DataFrame. This parameter is optional.        \n",
    "`colnames`: Specifies the column names for the resulting DataFrame. This parameter is optional.       \n",
    "`aggfunc`: Specifies the aggregation function to be used when aggregating the data values. This parameter is optional and defaults to 'count'.        \n",
    "`margins`: Specifies whether or not to include the marginal totals in the resulting DataFrame. This parameter is optional and defaults to False.        \n",
    "`margins_name`: Specifies the name for the row and column labels of the marginal totals. This parameter is optional and defaults to 'All'.        \n",
    "`dropna`: Specifies whether or not to exclude missing values (NaN) from the computation. This parameter is optional and defaults to True.         \n",
    "`normalize`: Specifies whether or not to normalize the resulting DataFrame. If set to True, the values will be normalized to sum up to 1. This parameter is optional and defaults to False         "
   ]
  },
  {
   "cell_type": "markdown",
   "id": "9f656273-71f5-4d75-88e9-860bbc4be13c",
   "metadata": {},
   "source": [
    "Example:1"
   ]
  },
  {
   "cell_type": "code",
   "execution_count": null,
   "id": "8b953575-466c-4914-804e-e18dac124e61",
   "metadata": {
    "tags": []
   },
   "outputs": [],
   "source": [
    "table = pd.crosstab(index=df['sex'], columns=df['AgeGroup'])\n",
    "table"
   ]
  },
  {
   "cell_type": "markdown",
   "id": "f2fe2d88-4aa6-4dc8-9ff7-b6d378d2ccfc",
   "metadata": {},
   "source": [
    "Example:2"
   ]
  },
  {
   "cell_type": "code",
   "execution_count": null,
   "id": "009ab9ba-46ea-462f-b8de-6671b3a82197",
   "metadata": {},
   "outputs": [],
   "source": [
    "table = pd.crosstab(index=df['sex'], columns=df['AgeGroup'], values=df['fare'], aggfunc='mean')\n",
    "table"
   ]
  },
  {
   "cell_type": "markdown",
   "id": "2ed67169-e8b8-4579-87a1-4b7b1ead8653",
   "metadata": {},
   "source": [
    "Example:3"
   ]
  },
  {
   "cell_type": "code",
   "execution_count": null,
   "id": "f0e8cce9-e33d-49b9-b677-02ef1ff2acbf",
   "metadata": {},
   "outputs": [],
   "source": [
    "table = pd.crosstab(index=df['sex'], columns=df['AgeGroup'], margins=True)\n",
    "table"
   ]
  },
  {
   "cell_type": "code",
   "execution_count": null,
   "id": "f461b8f8-3e66-4d2b-a65d-4afc54268e78",
   "metadata": {},
   "outputs": [],
   "source": [
    "#crosstabl\n",
    "table = pd.crosstab(index=df['sex'], columns=df['AgeGroup'], margins=True)\n",
    "# print(table)\n",
    "\n",
    "\n",
    "table_pct = table.div(table['All'], axis=0).mul(100).round(2)\n",
    "# table_pct = table.div(table['All'], axis=0)\n",
    "# table_pct=round(table_pct*100,2)\n",
    "# print(table_pct)\n",
    "\n",
    "# # Combined\n",
    "new_table = table.astype(str)+ ' (' + table_pct.astype(str) + '%)'\n",
    "new_table\n",
    "\n",
    "# Remove the 'All' column and row \n",
    "# new_table1 = new_table.drop(columns=['All'], index=['All'])\n",
    "\n",
    "# print(new_table1)"
   ]
  },
  {
   "cell_type": "markdown",
   "id": "985890a5",
   "metadata": {
    "cell_id": "00001-9330c10e-8ab9-44a4-bd1c-3e3f730a85e5",
    "deepnote_cell_type": "markdown"
   },
   "source": [
    "## Reorganizing Data in DataFrames"
   ]
  },
  {
   "cell_type": "markdown",
   "id": "d9629fea-d63e-4cb5-bad5-4fe618052bba",
   "metadata": {
    "cell_id": "00001-67135b01-0908-4314-8790-12bc177ab833",
    "deepnote_cell_type": "markdown",
    "id": "lonely-grounds"
   },
   "source": [
    "## GroupBy Operations: Applying Aggregations to Groups of Data\n",
    "\n",
    "Usually, you don't just want to get a single metric from a dataset--you want to compare that metric between differnt subgroups of your data. For example, you want the mean **class wise average fare** , or the maximum fare  of **each class**, or the total passenger of **each class**, and so on.\n",
    "\n",
    "The **groupby()** method lets you specify that an operation will be done on each *same-valued* row for a given column.  For example, to ask for the mean temperature by month:\n",
    "\n",
    "\n",
    "To get the average age of each class\n",
    "\n",
    "```python\n",
    ">>> df.groupby('pclass').age.mean()\n",
    "```\n",
    "\n",
    "You can also group by as many columns as you like, getting as many groups as unique combinations between the columns:\n",
    "\n",
    "```python\n",
    ">>> df.groupby(['year', 'month']).temperature.mean()\n",
    "```\n",
    "\n",
    "Groupby objects are **lazy**, meaning they don't start calculating anything until they know the full pipeline.  This approach is called the **\"Split-Apply-Combine\"** workflow.  You can get more info on it here: https://pandas.pydata.org/pandas-docs/stable/user_guide/groupby.html\n"
   ]
  },
  {
   "cell_type": "markdown",
   "id": "c852f91f-bd33-49c1-a0b3-e4f0a8bc43b9",
   "metadata": {
    "cell_id": "00002-bb667ec7-7d98-41ae-b659-d3a840fa47c5",
    "deepnote_cell_type": "markdown",
    "id": "egyptian-might"
   },
   "source": [
    "**Exercises**: Let's try this out on the Titanic Dataset!"
   ]
  },
  {
   "cell_type": "markdown",
   "id": "2908f1b6-1051-417e-a08a-56584ebbbab7",
   "metadata": {
    "cell_id": "00004-cae997ee-9bfd-4969-9bf9-9fc7e18fd824",
    "deepnote_cell_type": "markdown",
    "id": "exterior-bankruptcy"
   },
   "source": [
    "Example: What was the mean age, grouped by class?"
   ]
  },
  {
   "cell_type": "code",
   "execution_count": null,
   "id": "0c1a1d48-2e0e-4810-9111-97a4a399c8c6",
   "metadata": {
    "cell_id": "00005-893f995b-1408-4d17-ad00-3519ccaf11df",
    "deepnote_cell_type": "code",
    "deepnote_to_be_reexecuted": false,
    "execution_millis": 5,
    "execution_start": 1636321029796,
    "id": "bound-buyer",
    "outputId": "76cc4311-1146-4f69-9109-6777bc2786e6",
    "source_hash": "b623e53d"
   },
   "outputs": [],
   "source": [
    "df.groupby('pclass').age.mean()"
   ]
  },
  {
   "cell_type": "markdown",
   "id": "dac5d107-e244-4910-bf44-b53939221eda",
   "metadata": {
    "cell_id": "00006-8f7cc31c-6150-434a-9c48-d2b2b6f351d7",
    "deepnote_cell_type": "markdown",
    "id": "foster-hudson"
   },
   "source": [
    "What was the median ticket fare for each class?"
   ]
  },
  {
   "cell_type": "code",
   "execution_count": null,
   "id": "e0c9f929-29f9-4872-ba90-613d085e9c68",
   "metadata": {
    "cell_id": "00007-2f38ccc7-7465-416a-b919-065fd1b7ad28",
    "deepnote_cell_type": "code",
    "deepnote_to_be_reexecuted": false,
    "execution_millis": 9,
    "execution_start": 1636321034088,
    "id": "nominated-precipitation",
    "source_hash": "b623e53d",
    "tags": [
     "exercise"
    ]
   },
   "outputs": [],
   "source": []
  },
  {
   "cell_type": "markdown",
   "id": "afd9b769-4aa2-4f11-aabc-d65e13822d35",
   "metadata": {
    "cell_id": "00008-7cd35a7a-8538-474f-9b4c-786101854b80",
    "deepnote_cell_type": "markdown",
    "id": "framed-proposal"
   },
   "source": [
    "What was the survival rate for each class?"
   ]
  },
  {
   "cell_type": "code",
   "execution_count": null,
   "id": "1a73c152-6b0e-4b61-af38-d3c34efb7ab3",
   "metadata": {
    "cell_id": "00009-4d461090-5f12-4978-8ac9-5ed2847413c9",
    "deepnote_cell_type": "code",
    "deepnote_to_be_reexecuted": false,
    "execution_millis": 4,
    "execution_start": 1636321043050,
    "id": "behind-people",
    "source_hash": "b623e53d",
    "tags": [
     "exercise"
    ]
   },
   "outputs": [],
   "source": []
  },
  {
   "cell_type": "markdown",
   "id": "89e4fc1c-7e16-429d-8671-c8484f0ac180",
   "metadata": {
    "cell_id": "00010-65c445aa-f87b-460a-b272-9165563df188",
    "deepnote_cell_type": "markdown",
    "id": "eligible-income"
   },
   "source": [
    "What was the survival rate for each sex?"
   ]
  },
  {
   "cell_type": "code",
   "execution_count": null,
   "id": "b01bb44e-6cd0-4e98-afb4-546f89013a40",
   "metadata": {
    "cell_id": "00011-16c87ac8-a3a5-4268-9490-441ba938347d",
    "deepnote_cell_type": "code",
    "deepnote_to_be_reexecuted": false,
    "execution_millis": 7,
    "execution_start": 1636321046669,
    "id": "covered-prisoner",
    "source_hash": "b623e53d",
    "tags": [
     "exercise"
    ]
   },
   "outputs": [],
   "source": []
  },
  {
   "cell_type": "markdown",
   "id": "181f26b0-f802-4cdf-8cf5-58efcc654b41",
   "metadata": {
    "cell_id": "00012-7986e60b-367b-4225-9745-b264e01f97fb",
    "deepnote_cell_type": "markdown",
    "id": "banner-armor"
   },
   "source": [
    "What was the survival rate, broken down by both sex and class?"
   ]
  },
  {
   "cell_type": "code",
   "execution_count": null,
   "id": "7ef8652f-cf14-46f6-8eb2-678dd15f4e5d",
   "metadata": {
    "cell_id": "00013-5b0c77a8-f432-44bc-9287-f53edfd9354f",
    "deepnote_cell_type": "code",
    "deepnote_to_be_reexecuted": false,
    "execution_millis": 4,
    "execution_start": 1636321053521,
    "id": "utility-cholesterol",
    "source_hash": "b623e53d",
    "tags": [
     "exercise"
    ]
   },
   "outputs": [],
   "source": []
  },
  {
   "cell_type": "markdown",
   "id": "8607a7c4-1b76-4d53-b064-3eed20e35ba2",
   "metadata": {
    "cell_id": "00016-1ccc8d0a-10ea-40ae-bad2-8718249b53e9",
    "deepnote_cell_type": "markdown",
    "id": "unlike-spirit"
   },
   "source": [
    "What was the median ticket fare for each embarking town?"
   ]
  },
  {
   "cell_type": "code",
   "execution_count": null,
   "id": "82ee5bf4-84d1-4ee0-b5b9-2c67f16924b7",
   "metadata": {
    "cell_id": "00017-14abed27-9f4f-4671-9c23-6c552ebf7c98",
    "deepnote_cell_type": "code",
    "deepnote_to_be_reexecuted": false,
    "execution_millis": 2,
    "execution_start": 1636321063104,
    "id": "vocational-ethernet",
    "source_hash": "b623e53d",
    "tags": [
     "exercise"
    ]
   },
   "outputs": [],
   "source": []
  },
  {
   "cell_type": "markdown",
   "id": "72509ae3-7080-433c-bc9e-c51576e2eb92",
   "metadata": {
    "cell_id": "00018-8e6c0c91-7c3a-4ce7-9f33-7f0cbdde6ee2",
    "deepnote_cell_type": "markdown",
    "id": "interested-multimedia"
   },
   "source": [
    "What was the median age of the survivors vs non-survivors, when sex is considered as a factor?"
   ]
  },
  {
   "cell_type": "code",
   "execution_count": null,
   "id": "77e72414-87ef-463c-8709-5a0d2522fa41",
   "metadata": {
    "cell_id": "00019-bffd7454-823c-433f-bc6a-e9d5eeaae99a",
    "deepnote_cell_type": "code",
    "deepnote_to_be_reexecuted": false,
    "execution_millis": 6,
    "execution_start": 1636321068245,
    "id": "stylish-trash",
    "source_hash": "b623e53d",
    "tags": [
     "exercise"
    ]
   },
   "outputs": [],
   "source": []
  },
  {
   "cell_type": "markdown",
   "id": "1fc1e328-1c3e-4613-9458-2ceb9444f954",
   "metadata": {},
   "source": [
    "Calculate the number of passengers, their average age, and maximum age for each category based on sex."
   ]
  },
  {
   "cell_type": "code",
   "execution_count": null,
   "id": "b196ca45-ab95-4e0c-96b8-63c108dad4f9",
   "metadata": {},
   "outputs": [],
   "source": [
    "\n",
    "result = df.groupby('sex').agg(\n",
    "    n=('sex', 'count'),\n",
    "    average=('age', 'mean'),\n",
    "    maximum=('age', 'max'))\n",
    "result"
   ]
  },
  {
   "cell_type": "markdown",
   "id": "29445f18-cbbc-403e-8483-55bf71ad9ae6",
   "metadata": {},
   "source": [
    "From the following data write the code to prduce result as result table"
   ]
  },
  {
   "cell_type": "code",
   "execution_count": null,
   "id": "87758efd-f77f-400c-b7b2-65c067eb3278",
   "metadata": {},
   "outputs": [],
   "source": [
    "data=pd.read_csv('https://raw.githubusercontent.com/pudasainimohan/Materials/main/data/data.csv')\n",
    "data.head(5)"
   ]
  },
  {
   "cell_type": "code",
   "execution_count": null,
   "id": "b7dcb6ec-be58-4450-a7c4-911b3aeaf7be",
   "metadata": {},
   "outputs": [],
   "source": [
    "#output looks\n",
    "pd.read_csv('https://raw.githubusercontent.com/pudasainimohan/Materials/main/data/result.csv')"
   ]
  },
  {
   "cell_type": "code",
   "execution_count": null,
   "id": "35944413-8921-4613-9f5e-42caebfaf764",
   "metadata": {},
   "outputs": [],
   "source": []
  },
  {
   "cell_type": "markdown",
   "id": "b5fa357e",
   "metadata": {
    "cell_id": "00002-61e3c02f-1c31-46c4-b037-871e5b50816c",
    "deepnote_cell_type": "markdown"
   },
   "source": [
    "## Concatenation / Appends\n",
    "\n",
    "The `pd.concat()` fucntion and `DataFrame.append()` method takes DataFrames with identical columns and makes a DataFrame that is **taller** than either of them by stacking them on top of each other.\n",
    "\n",
    "For example, it can turn this `df1` DataFrame:\n",
    "\n",
    "| Day | Weather |\n",
    "| :-: | :---:   |\n",
    "| Monday | Sunny   |\n",
    "| Tuesday | Rainy |\n",
    "\n",
    "and this `df2` DataFrame:\n",
    "\n",
    "| Day | Weather |\n",
    "| :-: | :---:   |\n",
    "| Wednesday | Sunny   |\n",
    "| Thursday | Rainy |\n",
    "\n",
    "into this:\n",
    "\n",
    "| Day | Weather |\n",
    "| :-: | :---:   |\n",
    "| Monday | Sunny   |\n",
    "| Tuesday | Rainy |\n",
    "| Wednesday | Sunny   |\n",
    "| Thursday | Rainy |\n",
    "\n",
    "\n",
    "with one line of code:\n",
    "\n",
    "```python\n",
    "pd.concat([df1, df2])\n",
    "```\n",
    "\n",
    "**Note:** If you'd like pandas to ignore the index of the dataframes when appending them, the following option is helpful:\n",
    "\n",
    "```python\n",
    "pd.concat([df1, df2], ignore_index=True)\n",
    "```\n",
    "\n",
    "**Note:** With the `pd.concat()` function, you can concatenate as many dataframes in one step as you want!"
   ]
  },
  {
   "cell_type": "markdown",
   "id": "19f4c3c2",
   "metadata": {
    "cell_id": "00003-e6a66cd9-651e-488a-afb1-a17274d9f424",
    "deepnote_cell_type": "markdown"
   },
   "source": [
    "#### Exercise\n",
    "\n",
    "Let's practice concatenating DataFrames with the `pd.concat` function:"
   ]
  },
  {
   "cell_type": "code",
   "execution_count": null,
   "id": "b88fe182",
   "metadata": {
    "cell_id": "00004-c6c147aa-d805-4448-abcf-ac3679177d8f",
    "deepnote_cell_type": "code"
   },
   "outputs": [],
   "source": [
    "df1 = pd.DataFrame({'Name': ['Ram', 'Shyam', 'Rita'], 'Age': [16, 19, 17]})\n",
    "df1"
   ]
  },
  {
   "cell_type": "code",
   "execution_count": null,
   "id": "1d81a746",
   "metadata": {
    "cell_id": "00005-5451c245-d99f-4bd3-aab4-6e168fe5060f",
    "deepnote_cell_type": "code",
    "tags": []
   },
   "outputs": [],
   "source": [
    "df2 = pd.DataFrame({'Name': ['Ramesh', 'Anita', 'Binod'], 'Age': [21, 16, 23]}, index=[3, 4, 5])\n",
    "df2"
   ]
  },
  {
   "cell_type": "code",
   "execution_count": null,
   "id": "d38af149",
   "metadata": {
    "cell_id": "00006-2f8fb88a-badc-48d7-a8df-74ea70c8d767",
    "deepnote_cell_type": "code"
   },
   "outputs": [],
   "source": [
    "df3 = pd.DataFrame({'Name': ['Dipak', 'Janak', 'Laxmi'], 'Age': [5, 10, 61]})\n",
    "df3"
   ]
  },
  {
   "cell_type": "markdown",
   "id": "baf50b76",
   "metadata": {
    "cell_id": "00007-0a9f0d08-af5c-4d21-b794-6c0bbfdcde99",
    "deepnote_cell_type": "markdown"
   },
   "source": [
    "Concatenate df1 and df2 together!"
   ]
  },
  {
   "cell_type": "code",
   "execution_count": null,
   "id": "b80535a7",
   "metadata": {
    "cell_id": "00008-6422f269-c90a-4983-9320-055261859499",
    "deepnote_cell_type": "code"
   },
   "outputs": [],
   "source": []
  },
  {
   "cell_type": "markdown",
   "id": "3232a0b3",
   "metadata": {
    "cell_id": "00009-91952e38-be0f-4add-a35f-e28ed232bb0b",
    "deepnote_cell_type": "markdown"
   },
   "source": [
    "Concatenate df2 and df3 together!"
   ]
  },
  {
   "cell_type": "code",
   "execution_count": null,
   "id": "b4fce638",
   "metadata": {
    "cell_id": "00010-7fec83f6-99f3-43bf-8cc5-6fb1322d6c23",
    "deepnote_cell_type": "code"
   },
   "outputs": [],
   "source": []
  },
  {
   "cell_type": "markdown",
   "id": "97f9c8a7",
   "metadata": {
    "cell_id": "00011-5c00e752-5b0c-4ed8-a643-61d537351bd5",
    "deepnote_cell_type": "markdown"
   },
   "source": [
    "Concatenate all three dataframes in a single line"
   ]
  },
  {
   "cell_type": "code",
   "execution_count": null,
   "id": "19a6dfe6",
   "metadata": {
    "cell_id": "00012-f75faf2a-d253-4219-893a-1cf89319964e",
    "deepnote_cell_type": "code"
   },
   "outputs": [],
   "source": []
  },
  {
   "cell_type": "markdown",
   "id": "1281496b",
   "metadata": {
    "cell_id": "00013-3bcc7203-5ed8-4d7b-9732-1980c4a99ec3",
    "deepnote_cell_type": "markdown"
   },
   "source": [
    "The index in these datasets is unlabelled, indicating that they potentially don't contain useful data.  Concatenate them all together so that the index of the final dataframe is simply 0-8."
   ]
  },
  {
   "cell_type": "code",
   "execution_count": null,
   "id": "8f316583",
   "metadata": {
    "cell_id": "00014-96c3b4fa-5c38-4934-b19d-3bb7f483d154",
    "deepnote_cell_type": "code"
   },
   "outputs": [],
   "source": []
  },
  {
   "cell_type": "markdown",
   "id": "60eabf2c",
   "metadata": {
    "cell_id": "00015-216c6be6-41bf-4737-a2a4-84c857b81b36",
    "deepnote_cell_type": "markdown"
   },
   "source": [
    "## Merge / Joins\n",
    "The `pd.merge()` function and `DataFrame.join()` method take two DataFrames and make them **wider** by matching rows with the same-values on a specified column.  \n",
    "\n",
    "For example, it can turn this `df1` DataFrame:\n",
    "\n",
    "| Day | Weather |\n",
    "| :-: | :---:   |\n",
    "| Monday | Sunny   |\n",
    "| Tuesday | Rainy |\n",
    "\n",
    "and this `df2` DataFrame:\n",
    "\n",
    "| Day | Temperature |\n",
    "| :-: | :---:   |\n",
    "| Tuesday | 12   |\n",
    "| Monday | 18 |\n",
    "\n",
    "into this:\n",
    "\n",
    "| Day | Weather | Temperature |\n",
    "| :-: | :---:   | :---: |\n",
    "| Monday | Sunny   | 18 |\n",
    "| Tuesday | Rainy | 12 |\n",
    "\n",
    "with one line of code:\n",
    "\n",
    "```python\n",
    "df_merged = pd.merge(left=df1, right=df2, left_on=\"Day\", right_on=\"Day\")\n",
    "```\n",
    "\n",
    "Just specify which columns should be matched up with each other, and it will search for the matching values automatically!  If you want it to use the index, you can alternatively supply the option `left_index=True` and/or `right_index=True`. "
   ]
  },
  {
   "cell_type": "markdown",
   "id": "9cfa26d6",
   "metadata": {
    "cell_id": "00016-4322c72a-1000-4fec-91b1-f51b8417100d",
    "deepnote_cell_type": "markdown"
   },
   "source": [
    "### Exercises\n",
    "\n",
    "Let's practice merging dataframes with the `pd.merge()` function."
   ]
  },
  {
   "cell_type": "markdown",
   "id": "a7f28fb8",
   "metadata": {
    "cell_id": "00017-5068a8cc-bef7-4d1e-8d9c-f5ac63896f1d",
    "deepnote_cell_type": "markdown"
   },
   "source": [
    "Dataframe 1:"
   ]
  },
  {
   "cell_type": "code",
   "execution_count": null,
   "id": "b53a736a",
   "metadata": {
    "cell_id": "00018-ac3a05b2-02dd-4d24-ba95-7a6419796777",
    "deepnote_cell_type": "code"
   },
   "outputs": [],
   "source": [
    "df1 = pd.DataFrame({'Name': ['Paul', 'Anamol', 'Rajesh'], 'Age': [30, 32, 55]})\n",
    "df1"
   ]
  },
  {
   "cell_type": "markdown",
   "id": "94c0b046",
   "metadata": {
    "cell_id": "00019-e51cfe73-a5ac-4050-b8ad-66e1a0950e5e",
    "deepnote_cell_type": "markdown"
   },
   "source": [
    "Dataframe 2:"
   ]
  },
  {
   "cell_type": "code",
   "execution_count": null,
   "id": "60be25e8",
   "metadata": {
    "cell_id": "00020-f8cb1f9b-1430-401f-b5c2-1042e3bf3268",
    "deepnote_cell_type": "code"
   },
   "outputs": [],
   "source": [
    "df2 = pd.DataFrame({'Name': ['Anamol', 'Paul', 'Laxman'], 'Weight': [32, 15, 37]})\n",
    "df2"
   ]
  },
  {
   "cell_type": "markdown",
   "id": "8c1c9ee7",
   "metadata": {
    "cell_id": "00021-5cfa4036-4de9-480b-a2e5-331e37236ec4",
    "deepnote_cell_type": "markdown"
   },
   "source": [
    "Dataframe 3:"
   ]
  },
  {
   "cell_type": "code",
   "execution_count": null,
   "id": "6da7bf9e",
   "metadata": {
    "cell_id": "00022-9648cef1-a02d-4afa-9f0f-851e2db748c0",
    "deepnote_cell_type": "code"
   },
   "outputs": [],
   "source": [
    "df3 = pd.DataFrame({'Name': ['Pushpa', 'Paul', 'Laxman'], 'Height': [5.3, 5, 4.5]})\n",
    "df3"
   ]
  },
  {
   "cell_type": "markdown",
   "id": "0cc2a124",
   "metadata": {
    "cell_id": "00023-b5e0ee3c-fe64-4e3f-b037-fbe2b693625a",
    "deepnote_cell_type": "markdown"
   },
   "source": [
    "Merge the first two dataframes together.  Who do we know both the age and weight of?"
   ]
  },
  {
   "cell_type": "code",
   "execution_count": null,
   "id": "e28f3399",
   "metadata": {
    "cell_id": "00024-4cc1dd6f-21ab-44d5-afd6-c6c49bd58961",
    "deepnote_cell_type": "code",
    "tags": [
     "exercise"
    ]
   },
   "outputs": [],
   "source": []
  },
  {
   "cell_type": "markdown",
   "id": "1a26ed86",
   "metadata": {
    "cell_id": "00025-bd5bcd02-3be6-4e90-87a7-81db2e6bbf4b",
    "deepnote_cell_type": "markdown"
   },
   "source": [
    "Who do we know both the weight and height of?"
   ]
  },
  {
   "cell_type": "code",
   "execution_count": null,
   "id": "6da5d5f4",
   "metadata": {
    "cell_id": "00026-6ef8ec08-7b1e-4bdc-9e18-8224a498c12c",
    "deepnote_cell_type": "code",
    "tags": [
     "exercise"
    ]
   },
   "outputs": [],
   "source": []
  },
  {
   "cell_type": "markdown",
   "id": "f058959a",
   "metadata": {
    "cell_id": "00027-b2d7e9a8-b653-4375-8474-a8defc0ba070",
    "deepnote_cell_type": "markdown"
   },
   "source": [
    "Try merging all 3 by merging twice.  Who do we know everything about?"
   ]
  },
  {
   "cell_type": "code",
   "execution_count": null,
   "id": "35f546a6",
   "metadata": {
    "cell_id": "00028-807c0ca5-d5d6-40e2-bb66-974cc204b7c0",
    "deepnote_cell_type": "code",
    "tags": [
     "exercise"
    ]
   },
   "outputs": [],
   "source": []
  },
  {
   "cell_type": "markdown",
   "id": "a121e835",
   "metadata": {
    "cell_id": "00029-7bb5c765-a430-4afc-b13a-df887c11106c",
    "deepnote_cell_type": "markdown"
   },
   "source": [
    "Note that the Names that weren't present in both dataframes dropped out of the final result.  If you'd like to keep them and have NaNs appear, you can change the `how` parameter in the `pd.merge()` function.  Let's try out a few options by merging dataframes 1 and 2:"
   ]
  },
  {
   "cell_type": "markdown",
   "id": "b3817d28-7eb0-4511-b6e4-f628b65cff51",
   "metadata": {},
   "source": [
    "![\"pandas merge\"](https://www.datasciencemadesimple.com/wp-content/uploads/2017/09/join-or-merge-in-python-pandas-1.png?ezimgfmt=ng:webp/ngcb1)"
   ]
  },
  {
   "cell_type": "markdown",
   "id": "8e6ca04d",
   "metadata": {
    "cell_id": "00030-b1fd2539-da0c-4b6c-b792-938d761cee92",
    "deepnote_cell_type": "markdown"
   },
   "source": [
    "`how=\"outer\"`"
   ]
  },
  {
   "cell_type": "code",
   "execution_count": null,
   "id": "d5cdcec0",
   "metadata": {
    "cell_id": "00031-3e86b70f-b62f-45b8-8072-3169a0b04552",
    "deepnote_cell_type": "code",
    "tags": [
     "exercise"
    ]
   },
   "outputs": [],
   "source": []
  },
  {
   "cell_type": "markdown",
   "id": "9cc488b9",
   "metadata": {
    "cell_id": "00032-a6ea6fc5-9366-4b23-954c-c57ecc68877e",
    "deepnote_cell_type": "markdown"
   },
   "source": [
    "`how=\"left\"`"
   ]
  },
  {
   "cell_type": "code",
   "execution_count": null,
   "id": "2ae7218c",
   "metadata": {
    "cell_id": "00033-7c02c4e2-fb79-4465-81f8-779653856697",
    "deepnote_cell_type": "code",
    "tags": [
     "exercise"
    ]
   },
   "outputs": [],
   "source": []
  },
  {
   "cell_type": "markdown",
   "id": "ade7de53",
   "metadata": {
    "cell_id": "00034-10cc1ca8-20eb-47f7-abcc-bc283466262b",
    "deepnote_cell_type": "markdown"
   },
   "source": [
    "`how=\"right\"`"
   ]
  },
  {
   "cell_type": "code",
   "execution_count": null,
   "id": "492b991f",
   "metadata": {
    "cell_id": "00035-49c12ead-db86-41a5-a984-d4aeef9b460b",
    "deepnote_cell_type": "code",
    "tags": [
     "exercise"
    ]
   },
   "outputs": [],
   "source": []
  },
  {
   "cell_type": "markdown",
   "id": "b310eff0",
   "metadata": {
    "cell_id": "00036-3a2c376c-72d0-4a3a-8161-50840812d32d",
    "deepnote_cell_type": "markdown"
   },
   "source": [
    "`how=\"inner\"`"
   ]
  },
  {
   "cell_type": "code",
   "execution_count": null,
   "id": "01babf26",
   "metadata": {
    "cell_id": "00037-ee1e7b3c-08e6-4295-8aad-8ca71313d427",
    "deepnote_cell_type": "code",
    "tags": [
     "exercise"
    ]
   },
   "outputs": [],
   "source": []
  },
  {
   "cell_type": "markdown",
   "id": "58b902b0",
   "metadata": {
    "cell_id": "00038-c9828ecb-0d64-4d14-9b49-bb5e29b840eb",
    "deepnote_cell_type": "markdown"
   },
   "source": [
    "Recognizing that multiple inner joins can result in high data attrition, what policies would you put in your future data analyses to both prevent data loss and keep data easy to analyze?"
   ]
  },
  {
   "cell_type": "markdown",
   "id": "3c61018c",
   "metadata": {
    "cell_id": "00055-434487ea-e4b0-469d-ade2-85a853d99bce",
    "deepnote_cell_type": "markdown"
   },
   "source": [
    "## Melts\n",
    "\n",
    "The `pd.melt()` function and `DataFrame.melt()` method take a single dataframe and make it **taller** by taking data stored in column names and putting it into the rows along with the rest of the data, adding extra metadata in the process.\n",
    "\n",
    "For example, it can turn this `df` DataFrame:\n",
    "\n",
    "| Month | Year | Monday | Tuesday | Wednesday |\n",
    "| :--:  | :--: | :--:   | :--:    | :--:      |\n",
    "| January | 2021 | 0 | -2 | -1 |\n",
    "| February | 2021 | 2 | 4 | -2 |\n",
    "\n",
    "into this:\n",
    "\n",
    "| Month | Year | Weekday | Temperature |\n",
    "| :--:  | :--: | :--:    |  :--:       |\n",
    "| January | 2021 | Monday | 0 |\n",
    "| January | 2021 | Tuesday | -2 |\n",
    "| January | 2021 | Wednesday | -1 |\n",
    "| February | 2021 | Monday | 2 |\n",
    "| February | 2021 | Tuesday | 4 | \n",
    "| February | 2021 | Wednesday | -2 |\n",
    "\n",
    "with one line of code:\n",
    "\n",
    "```python\n",
    "pd.melt(\n",
    "    df, \n",
    "    id_vars=['Month', 'Year'],  # The columns that should stay the same\n",
    "    value_vars=['Monday', 'Tuesday', 'Wednesday'],   # The columns that should melt\n",
    "    var_name='Weekday',  # The new Column that will represent the melted column name's variable\n",
    "    value_name='Temperature'  # The new Column that the data represents\n",
    ")\n",
    "```\n",
    "Opposite of melt is pivot:\n",
    "```python\n",
    "pd.pivot(\n",
    "    df, \n",
    "    index = ['Month', 'Year'] #'The columns that should stay the same\n",
    "    columns='Weekday' # The columns that should pivot\n",
    "    values='Temperature',   # The values that should pivot\n",
    ")\n",
    "\n",
    "```\n",
    "\n",
    "**Note**: Melting a dataframe also called *\"tidying\"* data, making a *\"long\"* dataframe from a *\"wide\"* dataframe, or building a *design matrix*"
   ]
  },
  {
   "cell_type": "markdown",
   "id": "340ea3e9",
   "metadata": {
    "cell_id": "00056-a9d6d0a9-ce56-40e2-b3f3-e0d5272d7d2b",
    "deepnote_cell_type": "markdown"
   },
   "source": [
    "#### Exercises\n",
    "\n",
    "Let's practice tidying dataframes with the `pd.melt()` function. "
   ]
  },
  {
   "cell_type": "code",
   "execution_count": null,
   "id": "4cb835ae-c111-44fa-b704-4e3452b22fa1",
   "metadata": {},
   "outputs": [],
   "source": [
    "import pandas as pd\n",
    "\n",
    "data = {'name': ['Jay', 'Geeta', 'Shyam'],\n",
    "        'age': [30, 25, 20],\n",
    "        'gender': ['male', 'female', 'male'],\n",
    "        'height': [5.9, 5, 5.3],\n",
    "        'weight': [75, 60, 70]}\n",
    "df = pd.DataFrame(data)\n",
    "df\n"
   ]
  },
  {
   "cell_type": "code",
   "execution_count": null,
   "id": "44373bdc-80bf-406d-ac2e-31cd1617f487",
   "metadata": {},
   "outputs": [],
   "source": [
    "melted_df = pd.melt(df, id_vars=['name'], value_vars=['age', 'gender', 'height', 'weight'])\n",
    "melted_df\n"
   ]
  },
  {
   "cell_type": "markdown",
   "id": "27bb2d29-3892-4355-ad31-ba2bf255e832",
   "metadata": {},
   "source": [
    "## Opposite of melt: `pd.pivot`"
   ]
  },
  {
   "cell_type": "code",
   "execution_count": null,
   "id": "39328978-bb3d-4c1b-819a-9d8d2ebdee35",
   "metadata": {},
   "outputs": [],
   "source": [
    "original_df = pd.pivot(melted_df, index='name', columns='variable', values='value')\n",
    "original_df"
   ]
  },
  {
   "cell_type": "markdown",
   "id": "04300de5-e340-4422-ae64-4b71df1ea9fc",
   "metadata": {},
   "source": [
    "Melt this dataset so it has four columns: \"Country Name\", \"Country Code\", \"Year\", and \"Fertility Rate\""
   ]
  },
  {
   "cell_type": "code",
   "execution_count": null,
   "id": "e0cf379a",
   "metadata": {},
   "outputs": [],
   "source": [
    "pd.pivot"
   ]
  },
  {
   "cell_type": "markdown",
   "id": "ae97e78c-8880-4804-ae03-2d5f8869f22d",
   "metadata": {
    "cell_id": "00040-432a9aa8-8828-443e-8c3d-8816137d82e7",
    "deepnote_cell_type": "markdown"
   },
   "source": [
    "## Regularizing, Splitting Text Data\n",
    "\n",
    "Oftentimes, string data contains multiple pieces of data inside it, split with a seperator character.  With it, you can turn a DataFrame from this:\n",
    "\n",
    "| line |\n",
    "| :--: |\n",
    "| hi_1 |\n",
    "| bye_2|\n",
    "\n",
    "into this:\n",
    "\n",
    "| line | msg | num |\n",
    "| :--: | :--: | :--: |\n",
    "| hi_1 | hi | 1 |\n",
    "| bye_2| bye | 2 |\n",
    "\n",
    "using a single line:\n",
    "\n",
    "```python\n",
    "df[['msg', 'num']] = df['line'].str.split('_', expand=True)\n",
    "```\n",
    "\n",
    "\n",
    "Let's try it out!"
   ]
  },
  {
   "cell_type": "code",
   "execution_count": null,
   "id": "1fd867ab",
   "metadata": {
    "cell_id": "00041-bf694086-2c7b-4897-8448-1a92da09bfdf",
    "deepnote_cell_type": "code"
   },
   "outputs": [],
   "source": [
    "df = pd.DataFrame({\n",
    "    'counts_XADD': [\"1;3;5\", \"10;2;6\"],\n",
    "    'intensities_JJAKX': ['5_32_654', \"10_1_99\"],\n",
    "})\n",
    "df"
   ]
  },
  {
   "cell_type": "markdown",
   "id": "a9367e43-86a8-4675-895e-828c679cb975",
   "metadata": {
    "cell_id": "00042-84a7c0a7-744f-4ccb-9cfe-778f5f721bf3",
    "deepnote_cell_type": "markdown"
   },
   "source": [
    "Rename the columns to just keep the the names before the underscore"
   ]
  },
  {
   "cell_type": "code",
   "execution_count": null,
   "id": "2d0ec78c",
   "metadata": {
    "cell_id": "00043-aa23e939-6ea6-4b0c-8cb7-f8a08eaf81a1",
    "deepnote_cell_type": "code",
    "tags": [
     "exercise"
    ]
   },
   "outputs": [],
   "source": []
  },
  {
   "cell_type": "markdown",
   "id": "dabde920-57cf-47e9-afc5-12ff9b0f8fbb",
   "metadata": {
    "cell_id": "00044-0df626f6-c52f-4360-9611-d3e27835774b",
    "deepnote_cell_type": "markdown"
   },
   "source": [
    "Split the Counts into Counts_1, Counts_2, and Counts_3"
   ]
  },
  {
   "cell_type": "code",
   "execution_count": null,
   "id": "0068adaf",
   "metadata": {
    "cell_id": "00045-c54e2a66-0189-4d82-a597-cb33043a8869",
    "deepnote_cell_type": "code",
    "tags": [
     "exercise"
    ]
   },
   "outputs": [],
   "source": []
  },
  {
   "cell_type": "markdown",
   "id": "d000cb93-205c-4d58-9125-367d6e984cc5",
   "metadata": {
    "cell_id": "00046-8dc23cd5-e362-4e03-bcec-82a98037c5d9",
    "deepnote_cell_type": "markdown"
   },
   "source": [
    "Split the Intensities into Intensities_1, Intensities_2, and Intensities_3"
   ]
  },
  {
   "cell_type": "code",
   "execution_count": null,
   "id": "0a5ee4de",
   "metadata": {
    "cell_id": "00047-5dbca929-23c4-429e-8d2d-abb7db28b3fa",
    "deepnote_cell_type": "code",
    "tags": [
     "exercise"
    ]
   },
   "outputs": [],
   "source": []
  }
 ],
 "metadata": {
  "deepnote": {},
  "deepnote_execution_queue": [],
  "deepnote_notebook_id": "61f525a9-da51-4af9-a52a-b4bb0d84fdd9",
  "kernelspec": {
   "display_name": "Python 3 (ipykernel)",
   "language": "python",
   "name": "python3"
  },
  "language_info": {
   "codemirror_mode": {
    "name": "ipython",
    "version": 3
   },
   "file_extension": ".py",
   "mimetype": "text/x-python",
   "name": "python",
   "nbconvert_exporter": "python",
   "pygments_lexer": "ipython3",
   "version": "3.9.13"
  },
  "metadata": {
   "interpreter": {
    "hash": "96aaef06ee4620efb4426efa9d33cf4f7340991f4df94558c663a28125b37508"
   }
  },
  "vscode": {
   "interpreter": {
    "hash": "d6852d01271bf8033dbdb7ec364b6f6e89fd52a18c6bf5b4c73e48c86329a8dd"
   }
  }
 },
 "nbformat": 4,
 "nbformat_minor": 5
}

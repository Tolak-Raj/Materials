{
 "cells": [
  {
   "cell_type": "code",
   "execution_count": 1,
   "id": "6c2e2988",
   "metadata": {
    "cell_id": "00000-d8c9f90f-d649-47b2-a772-a6639c594321",
    "deepnote_cell_type": "code",
    "id": "metric-level"
   },
   "outputs": [],
   "source": [
    "import numpy as np"
   ]
  },
  {
   "cell_type": "markdown",
   "id": "64be014d-7f3a-408d-8807-a78e587af9cb",
   "metadata": {},
   "source": [
    "### Why are we studying the details of NumPy when our ultimate goal is to analyze tabular data(Excel sheet style)?\"\n",
    "We study NumPy details even though our end goal is to analyze tabular data in Pandas because Pandas is built on top of NumPy. Understanding NumPy makes it easier to work with Pandas and perform data analysis effectively."
   ]
  },
  {
   "cell_type": "markdown",
   "id": "c38e4870",
   "metadata": {
    "cell_id": "00001-91d39974-4425-4c7e-a1d5-2d8de88c9055",
    "deepnote_cell_type": "markdown",
    "id": "shared-quality"
   },
   "source": [
    "# Numpy Arrays  vs Python Lists\n",
    "\n",
    "Like Python Lists, numpy Arrays are ordered sequences of data.  However, they have slightly different properties than Python lists:\n",
    "\n",
    "| Property | Lists | Arrays |\n",
    "| :--:     | :--:  | :--:   |\n",
    "| Ordered  | ✔️    | ✔️ |\n",
    "| Mutable | ✔️    | ✔️ |\n",
    "| Can Mix Data Types | ✔️ |   |\n",
    "| Append Data without Copying Whole Structure | ✔️  |  |\n",
    "| Broadcastable |  | ✔️ |\n",
    "| Fast Calculations |   | ✔️ |\n",
    "| Fast Append | ✔️ |  |\n",
    "\n"
   ]
  },
  {
   "cell_type": "markdown",
   "id": "2fb1ccab",
   "metadata": {
    "cell_id": "00002-13ca0a86-211c-4a1a-a5cb-cde210bfee84",
    "deepnote_cell_type": "markdown",
    "id": "massive-agent"
   },
   "source": [
    "### Exercises \n",
    "Let's explore each property and compare lists and arrays"
   ]
  },
  {
   "cell_type": "markdown",
   "id": "47120ef6",
   "metadata": {
    "cell_id": "00003-8b32488f-ee6c-44c8-9118-5f3e7962e4f0",
    "deepnote_cell_type": "markdown",
    "id": "charitable-enzyme"
   },
   "source": [
    "#### Ordered Index"
   ]
  },
  {
   "cell_type": "markdown",
   "id": "1309aaf5",
   "metadata": {
    "cell_id": "00004-524041f6-a765-46f3-9d46-c076f0b400ed",
    "deepnote_cell_type": "markdown",
    "tags": []
   },
   "source": [
    "**Examples**"
   ]
  },
  {
   "cell_type": "markdown",
   "id": "9de83ca8",
   "metadata": {
    "cell_id": "00005-dc4b7405-fb73-44fb-9e88-69cc76e9bc0d",
    "deepnote_cell_type": "markdown",
    "id": "rising-knowing"
   },
   "source": [
    "Index the third element of these data collections:"
   ]
  },
  {
   "cell_type": "markdown",
   "id": "8a8380cb",
   "metadata": {
    "cell_id": "00006-fa5cc312-81c6-4b21-bf98-64133c62f0db",
    "deepnote_cell_type": "markdown",
    "id": "earlier-result"
   },
   "source": [
    "List:"
   ]
  },
  {
   "cell_type": "code",
   "execution_count": null,
   "id": "ecb24551",
   "metadata": {
    "cell_id": "00007-797822e9-e57c-4205-8bf3-0dcfd77d39bc",
    "deepnote_cell_type": "code",
    "deepnote_to_be_reexecuted": false,
    "execution_millis": 3,
    "execution_start": 1628679812683,
    "id": "independent-indication",
    "outputId": "05975b3b-cdb5-4b65-8f2a-14e8a2461536",
    "source_hash": "11a5da96"
   },
   "outputs": [],
   "source": [
    "x = [10, 20, 30, 40, 50]\n"
   ]
  },
  {
   "cell_type": "markdown",
   "id": "d62d9c20",
   "metadata": {
    "cell_id": "00008-d27f4ce2-b831-4505-a3ee-5890c766ab62",
    "deepnote_cell_type": "markdown",
    "id": "creative-brake"
   },
   "source": [
    "Array:"
   ]
  },
  {
   "cell_type": "code",
   "execution_count": null,
   "id": "768e0cd8",
   "metadata": {
    "cell_id": "00009-305f7eb7-1211-43eb-b119-1c8f9b96f2cc",
    "deepnote_cell_type": "code",
    "id": "caroline-oklahoma",
    "outputId": "5e4a8285-9025-458b-8669-35775957af29"
   },
   "outputs": [],
   "source": [
    "x = np.array([10, 20, 30, 40, 50])\n"
   ]
  },
  {
   "cell_type": "markdown",
   "id": "f6d268e7",
   "metadata": {
    "cell_id": "00010-b1ebf92d-a7d7-4bb2-b643-f7249048d69d",
    "deepnote_cell_type": "markdown",
    "id": "minimal-growing"
   },
   "source": [
    "#### Ordered Slicing"
   ]
  },
  {
   "cell_type": "markdown",
   "id": "ebe6a455",
   "metadata": {
    "cell_id": "00011-56f39f64-daf6-47e1-af9e-cd757c7251e0",
    "deepnote_cell_type": "markdown",
    "id": "acoustic-westminster"
   },
   "source": [
    "Slice out the second-to-fourth element of these data collections:"
   ]
  },
  {
   "cell_type": "markdown",
   "id": "b97d290f",
   "metadata": {
    "cell_id": "00012-8b13cc1d-3d8e-4399-b19d-8bf62802454f",
    "deepnote_cell_type": "markdown",
    "tags": []
   },
   "source": [
    "**Examples**"
   ]
  },
  {
   "cell_type": "markdown",
   "id": "ceab1137",
   "metadata": {
    "cell_id": "00013-dcefa053-a590-4330-a7c0-26daec0a2f87",
    "deepnote_cell_type": "markdown",
    "id": "genetic-carrier"
   },
   "source": [
    "List:"
   ]
  },
  {
   "cell_type": "code",
   "execution_count": null,
   "id": "f0bb7009",
   "metadata": {
    "cell_id": "00014-0ee6176d-caac-452e-950d-bae36de0067d",
    "deepnote_cell_type": "code",
    "id": "furnished-sharing",
    "outputId": "d8f997b4-99e0-4a5c-8c58-9ca2107e7a8f"
   },
   "outputs": [],
   "source": [
    "x = [10, 20, 30, 40, 50]\n"
   ]
  },
  {
   "cell_type": "markdown",
   "id": "4b432d11",
   "metadata": {
    "cell_id": "00015-f16679b9-8afe-4d73-ba17-a2eda572633f",
    "deepnote_cell_type": "markdown",
    "id": "intimate-joseph"
   },
   "source": [
    "Array:"
   ]
  },
  {
   "cell_type": "code",
   "execution_count": null,
   "id": "4d34037e",
   "metadata": {
    "cell_id": "00016-b1ac4a47-ac8b-4f84-82c9-32ffa8531c3a",
    "deepnote_cell_type": "code",
    "id": "married-vulnerability",
    "outputId": "3dcd6020-ef42-4184-a937-633140fb6c65"
   },
   "outputs": [],
   "source": [
    "x = np.array([10, 20, 30, 40, 50])\n"
   ]
  },
  {
   "cell_type": "markdown",
   "id": "8c561a12",
   "metadata": {
    "cell_id": "00017-523e26f0-28b9-47af-866e-0eacafae7014",
    "deepnote_cell_type": "markdown",
    "id": "russian-bones"
   },
   "source": [
    "#### \"Mutate\" a Value inside a Collection\n",
    "\n",
    "Just as values inside a collection can be retrieved, they can also be re-assigned.  For example, to change the third element of these data collections to the value \"A\":\n",
    "\n",
    "```python\n",
    "data[index] = value\n",
    "```"
   ]
  },
  {
   "cell_type": "markdown",
   "id": "ceb7b70f",
   "metadata": {
    "cell_id": "00018-7e8c891e-b3cd-473a-aa07-af63f5d5b5a2",
    "deepnote_cell_type": "markdown",
    "id": "expired-following"
   },
   "source": [
    "List:"
   ]
  },
  {
   "cell_type": "code",
   "execution_count": null,
   "id": "4d2e0e03",
   "metadata": {
    "cell_id": "00019-8ef443f0-0461-4241-9b91-67aa18533e31",
    "deepnote_cell_type": "code",
    "deepnote_to_be_reexecuted": false,
    "execution_millis": 0,
    "execution_start": 1628717187885,
    "id": "musical-demographic",
    "outputId": "fc36fe25-c9c8-42d7-ddc6-1636eaeb0bff",
    "source_hash": "f736c8e3"
   },
   "outputs": [],
   "source": [
    "x = [\"A\", \"C\", \"G\", \"G\", \"C\", \"T\"]\n",
    "x[2] = \"A\"\n",
    "x"
   ]
  },
  {
   "cell_type": "markdown",
   "id": "ce001b73",
   "metadata": {
    "cell_id": "00020-114e7006-9352-4bc1-a13a-66eff0ea207d",
    "deepnote_cell_type": "markdown",
    "id": "choice-facial"
   },
   "source": [
    "Array:"
   ]
  },
  {
   "cell_type": "code",
   "execution_count": null,
   "id": "1ed53d9c",
   "metadata": {
    "cell_id": "00021-04128832-9eb8-4448-9859-8f70efbcbdcd",
    "deepnote_cell_type": "code",
    "id": "viral-saturn",
    "outputId": "d1f0426d-60a7-46ef-e176-2260ddc43ab9"
   },
   "outputs": [],
   "source": [
    "x = np.array([\"A\", \"C\", \"G\", \"G\", \"C\", \"T\"])\n",
    "x[2]=\"A\"\n",
    "x"
   ]
  },
  {
   "cell_type": "markdown",
   "id": "7d92bfb6",
   "metadata": {
    "cell_id": "00022-6122cae9-9a3a-4b04-9a46-c1f798c629e4",
    "deepnote_cell_type": "markdown",
    "id": "brown-champion"
   },
   "source": [
    "#### Mixing Data Types"
   ]
  },
  {
   "cell_type": "markdown",
   "id": "b470d6f7",
   "metadata": {
    "cell_id": "00023-bbcc713b-984d-4ffb-8fb3-ac944952b0e6",
    "deepnote_cell_type": "markdown",
    "id": "generous-kazakhstan"
   },
   "source": [
    "Change the third element of these data collections to the value 40:\n",
    "```python\n",
    "data[index] = value\n",
    "```"
   ]
  },
  {
   "cell_type": "markdown",
   "id": "283ac319",
   "metadata": {
    "cell_id": "00024-0eae2b8d-13ef-4e38-ab39-1fedeef80d87",
    "deepnote_cell_type": "markdown",
    "id": "turkish-lambda"
   },
   "source": [
    "List:"
   ]
  },
  {
   "cell_type": "code",
   "execution_count": null,
   "id": "7e8ee948",
   "metadata": {
    "cell_id": "00025-e5eb1891-3ec5-4c3f-99f7-6faf9a543ffc",
    "deepnote_cell_type": "code",
    "id": "material-excitement",
    "outputId": "1662be1f-9c55-491f-a613-6e18063fb9ec"
   },
   "outputs": [],
   "source": [
    "x = [\"A\", \"C\", \"G\", \"G\", \"C\", \"T\"]\n",
    "x[2]=40\n",
    "x"
   ]
  },
  {
   "cell_type": "markdown",
   "id": "9ef1d66e",
   "metadata": {
    "cell_id": "00026-561ad00c-39e8-4532-ad17-4c1857be94d4",
    "deepnote_cell_type": "markdown",
    "id": "surface-namibia"
   },
   "source": [
    "Array:"
   ]
  },
  {
   "cell_type": "code",
   "execution_count": null,
   "id": "261f884f",
   "metadata": {
    "cell_id": "00027-50a93b87-7d6c-4685-b525-9e0e4b3446d8",
    "deepnote_cell_type": "code",
    "id": "solar-appraisal",
    "outputId": "95bfd1f0-b554-41fd-837b-1e359b83b5d2"
   },
   "outputs": [],
   "source": [
    "x = np.array([\"ATG\", \"CGA\", \"GCT\", \"GTT\", \"CTT\", \"TGA\"])\n",
    "x[2]=40\n",
    "x"
   ]
  },
  {
   "cell_type": "markdown",
   "id": "1667dc72",
   "metadata": {
    "cell_id": "00028-2c898847-1b68-49ec-a7ff-5ca4ac8af20d",
    "deepnote_cell_type": "markdown",
    "id": "approximate-association"
   },
   "source": [
    ".\n",
    "#### Append Values"
   ]
  },
  {
   "cell_type": "markdown",
   "id": "37474f11",
   "metadata": {
    "cell_id": "00029-f2b828ce-44ef-40b2-9fde-c11860e89f79",
    "deepnote_cell_type": "markdown",
    "id": "republican-soviet"
   },
   "source": [
    "Append a new value to the end of these data:"
   ]
  },
  {
   "cell_type": "markdown",
   "id": "e8ed2579",
   "metadata": {
    "cell_id": "00030-251d2ada-55f4-4369-a029-478eec6f722b",
    "deepnote_cell_type": "markdown",
    "id": "surgical-phase"
   },
   "source": [
    "List:\n",
    "```python\n",
    "data.append(value)\n",
    "```"
   ]
  },
  {
   "cell_type": "code",
   "execution_count": null,
   "id": "e9140587",
   "metadata": {
    "cell_id": "00031-47af30f7-a504-456a-b095-667b08e45ffa",
    "deepnote_cell_type": "code",
    "id": "dental-hopkins",
    "outputId": "563c924f-ae45-4615-8b58-04ff5b1a8475"
   },
   "outputs": [],
   "source": [
    "x = [\"A\", \"C\", \"G\", \"G\", \"C\", \"T\"]\n",
    "x.append('A')\n",
    "x"
   ]
  },
  {
   "cell_type": "code",
   "execution_count": null,
   "id": "5dd9e2d5",
   "metadata": {
    "cell_id": "00032-004f1cc2-a712-44bf-9ea5-a6ad2e907544",
    "deepnote_cell_type": "code",
    "deepnote_to_be_reexecuted": false,
    "execution_start": 1628755267067,
    "id": "italic-excuse",
    "outputId": "46ac010b-72b6-47e7-a7cd-9e35997066cd",
    "source_hash": "45d5e9f8"
   },
   "outputs": [],
   "source": [
    "x = [\"A\", \"C\", \"G\", \"G\", \"C\", \"T\"]\n",
    "x.insert(3, \"A\")\n",
    "x"
   ]
  },
  {
   "cell_type": "markdown",
   "id": "8e4f9bad",
   "metadata": {
    "cell_id": "00033-e2ba686a-76df-40aa-a6e4-400b1a0d6c18",
    "deepnote_cell_type": "markdown",
    "id": "tribal-business"
   },
   "source": [
    "Array:\n",
    "```python\n",
    "np.append(data, value)\n",
    "```"
   ]
  },
  {
   "cell_type": "code",
   "execution_count": null,
   "id": "0c2569ed",
   "metadata": {
    "cell_id": "00034-6681128a-ff6e-474e-bbab-f92c6f729126",
    "deepnote_cell_type": "code",
    "deepnote_to_be_reexecuted": false,
    "execution_millis": 5,
    "execution_start": 1628755303415,
    "id": "opposed-vampire",
    "outputId": "9bdfedc2-cfd1-48bb-fb6c-524d5cad9063",
    "source_hash": "15367286"
   },
   "outputs": [],
   "source": [
    "x = np.array([\"A\", \"C\", \"G\", \"G\", \"C\", \"T\"])\n",
    "x2 = np.append(x, \"A\")\n",
    "x"
   ]
  },
  {
   "cell_type": "markdown",
   "id": "3d046ea8",
   "metadata": {
    "cell_id": "00035-75f1eb66-60a3-418a-a77d-3163502c1b5a",
    "deepnote_cell_type": "markdown",
    "id": "provincial-prototype"
   },
   "source": [
    "### Broadcasting\n",
    "\n",
    "Run the following code, which multiplies every value in the collection by 10"
   ]
  },
  {
   "cell_type": "markdown",
   "id": "beb1493b",
   "metadata": {
    "cell_id": "00036-6ca2c146-88a1-434a-a41d-75f111384c0c",
    "deepnote_cell_type": "markdown",
    "id": "actual-marking"
   },
   "source": [
    "List:"
   ]
  },
  {
   "cell_type": "code",
   "execution_count": null,
   "id": "f7c39953",
   "metadata": {
    "cell_id": "00037-dd5021d0-9e4f-4c56-a5f4-8108000a9fa1",
    "deepnote_cell_type": "code",
    "id": "urban-virtue",
    "outputId": "cdbc1adb-9615-4187-e850-780225a063d1"
   },
   "outputs": [],
   "source": [
    "data = [1, 2, 3, 4, 5]\n",
    "data"
   ]
  },
  {
   "cell_type": "code",
   "execution_count": null,
   "id": "99dc45fb",
   "metadata": {
    "cell_id": "00038-31bd953d-c58f-4144-a3b0-697994ac185e",
    "deepnote_cell_type": "code",
    "id": "color-testing"
   },
   "outputs": [],
   "source": [
    "data * 10"
   ]
  },
  {
   "cell_type": "code",
   "execution_count": null,
   "id": "72ab57f0",
   "metadata": {
    "cell_id": "00039-f7db591a-5bff-4ec5-86ac-fa4c7857e7d1",
    "deepnote_cell_type": "code",
    "id": "loose-queen",
    "outputId": "8ca573d8-2462-4877-a043-e44ae52b0721"
   },
   "outputs": [],
   "source": [
    "data10 = [x * 10 for x in data]\n",
    "data10"
   ]
  },
  {
   "cell_type": "markdown",
   "id": "f52db249",
   "metadata": {
    "cell_id": "00040-b84e75d7-651f-44d6-99d4-1ae784013043",
    "deepnote_cell_type": "markdown",
    "id": "renewable-split"
   },
   "source": [
    "Array:"
   ]
  },
  {
   "cell_type": "code",
   "execution_count": null,
   "id": "fd3bc10b-6c7c-4b25-8547-de0601c77f6a",
   "metadata": {},
   "outputs": [],
   "source": [
    "data=np.array([1, 2, 3, 4, 5])"
   ]
  },
  {
   "cell_type": "code",
   "execution_count": null,
   "id": "a4bfd7a5",
   "metadata": {
    "cell_id": "00042-400995f0-ad28-43ec-b4c8-a000f167ea50",
    "deepnote_cell_type": "code",
    "id": "posted-chemical",
    "outputId": "d4165da4-33b6-4682-db97-4a7caa6d2e33"
   },
   "outputs": [],
   "source": [
    "data10 = data * 10\n",
    "data10"
   ]
  },
  {
   "cell_type": "markdown",
   "id": "552efc1d",
   "metadata": {
    "cell_id": "00043-05e5de29-bc45-4086-99d5-029c2da43f71",
    "deepnote_cell_type": "markdown",
    "id": "parliamentary-immigration"
   },
   "source": [
    "### Fast Calculations\n",
    "\n",
    "Run the following code, which multiplies every value in the collection by 10.  This time, take a look at how long it takes to run.  Which is faster?\n",
    "\n",
    "Note: the ```%%timeit``` magic command runs the cell many times and reports the average amount of time each run of the cell's code took."
   ]
  },
  {
   "cell_type": "markdown",
   "id": "189d5da7",
   "metadata": {
    "cell_id": "00044-fa0c2749-2d17-441f-aed8-155aae63084d",
    "deepnote_cell_type": "markdown",
    "id": "lonely-supervision"
   },
   "source": [
    "List:"
   ]
  },
  {
   "cell_type": "code",
   "execution_count": null,
   "id": "6d73c8c4",
   "metadata": {
    "cell_id": "00046-332a6833-dd47-4cfe-a250-994551f4be50",
    "deepnote_cell_type": "code",
    "id": "loved-terrorism"
   },
   "outputs": [],
   "source": [
    "data = list(range(0, 10_00_000))\n",
    "# data"
   ]
  },
  {
   "cell_type": "code",
   "execution_count": null,
   "id": "32d69609",
   "metadata": {
    "cell_id": "00047-3996e81f-858d-4a87-b4fd-4783241e39a3",
    "deepnote_cell_type": "code",
    "id": "ranking-borough",
    "outputId": "ec0031e3-48db-4846-a032-a600175d3e8e"
   },
   "outputs": [],
   "source": [
    "%%timeit\n",
    "data10 = [x * 10 for x in data]"
   ]
  },
  {
   "cell_type": "markdown",
   "id": "67103a3a",
   "metadata": {
    "cell_id": "00048-79733a52-1b85-4fc2-ae77-b91e938400bf",
    "deepnote_cell_type": "markdown",
    "id": "least-flavor"
   },
   "source": [
    "Array:"
   ]
  },
  {
   "cell_type": "code",
   "execution_count": null,
   "id": "4c865af7",
   "metadata": {
    "cell_id": "00049-32581eb8-cbc5-4e4c-9a40-37b5664d9c49",
    "deepnote_cell_type": "code",
    "id": "favorite-disposal",
    "outputId": "cb6e87ea-6dbc-476f-e8ea-2c06e94cc29d"
   },
   "outputs": [],
   "source": [
    "data = np.arange(0, 1_000_000)\n",
    "data"
   ]
  },
  {
   "cell_type": "code",
   "execution_count": null,
   "id": "c5050e71",
   "metadata": {
    "cell_id": "00050-01fb70d5-9151-4509-b3bd-192ddc4745cd",
    "deepnote_cell_type": "code",
    "id": "remarkable-player",
    "outputId": "80489102-607c-4e63-ed9d-7b772efb33b2"
   },
   "outputs": [],
   "source": [
    "%%timeit\n",
    "data10 = data * 10"
   ]
  },
  {
   "cell_type": "markdown",
   "id": "9dcd72c7",
   "metadata": {
    "cell_id": "00051-54197f76-7cfd-411e-b258-511f6391cd0e",
    "deepnote_cell_type": "markdown",
    "id": "delayed-maine"
   },
   "source": [
    "### Fast Append\n",
    "\n",
    "Run the following code, which appends a new value to a list a thousand times.  Which is faster?\n"
   ]
  },
  {
   "cell_type": "markdown",
   "id": "c5eb57b5",
   "metadata": {
    "cell_id": "00052-89314cb7-18fe-4d95-8f65-149f4fbac09b",
    "deepnote_cell_type": "markdown",
    "id": "retained-table"
   },
   "source": [
    "List:"
   ]
  },
  {
   "cell_type": "code",
   "execution_count": null,
   "id": "d006d708",
   "metadata": {
    "cell_id": "00053-92c788f9-05c6-4ca0-bc82-bbda760b5ce2",
    "deepnote_cell_type": "code",
    "id": "thirty-louisiana",
    "outputId": "dfc0f6be-a17a-472f-ef16-1b39b1244282"
   },
   "outputs": [],
   "source": [
    "%%timeit\n",
    "data = []  # an empty list\n",
    "for _ in range(10000):  # repeat N times\n",
    "    data.append(\"A\")\n",
    "\n"
   ]
  },
  {
   "cell_type": "markdown",
   "id": "f53f1020",
   "metadata": {
    "cell_id": "00054-cde77dbc-add2-42cd-9521-75fff318c5f7",
    "deepnote_cell_type": "markdown",
    "id": "cognitive-england"
   },
   "source": [
    "Array:"
   ]
  },
  {
   "cell_type": "code",
   "execution_count": null,
   "id": "b4507b56",
   "metadata": {
    "tags": []
   },
   "outputs": [],
   "source": [
    "data"
   ]
  },
  {
   "cell_type": "code",
   "execution_count": null,
   "id": "657ca6fd",
   "metadata": {
    "cell_id": "00055-002e6a5f-b21f-47f0-8dff-b8dc1df31083",
    "deepnote_cell_type": "code",
    "id": "jewish-transparency",
    "outputId": "11aae548-8f1a-4734-fee6-b407e191b93e"
   },
   "outputs": [],
   "source": [
    "%%timeit\n",
    "data = np.array([], dtype=str)  # an empty array\n",
    "for _ in range(10000):  # repeat N times\n",
    "    data = np.append(data, \"A\")"
   ]
  },
  {
   "cell_type": "markdown",
   "id": "960a8240",
   "metadata": {
    "cell_id": "00056-c18ba053-803a-4cb7-8237-653caa5936f3",
    "deepnote_cell_type": "markdown",
    "id": "golden-mineral"
   },
   "source": [
    "### Summary\n",
    "On the other hand, if you want maximum flexibility, lists are perfect!  But if your data is complete and well-organized, arrays are quite handy!  They are simple to work with and can crunch a lot of numbers in a short time!  "
   ]
  },
  {
   "cell_type": "markdown",
   "id": "638e7694",
   "metadata": {
    "cell_id": "00001-08bea5dd-b612-4234-a812-1f203f7df899",
    "deepnote_cell_type": "markdown",
    "id": "sorted-signal"
   },
   "source": [
    "# Filtering Data With Logical Indexing\n",
    "\n",
    "Sometimes you want to remove certain values from your dataset.  In Numpy, this can be done with **Logical Indexing**, and in normal Python this is done with an **If Statement**"
   ]
  },
  {
   "cell_type": "markdown",
   "id": "92b82e93",
   "metadata": {
    "cell_id": "00002-9e11b127-b196-47c8-9d0d-2b50736be4b3",
    "deepnote_cell_type": "markdown",
    "id": "adequate-commercial"
   },
   "source": [
    "### Step 1: Create a Logical Numpy Array\n",
    "\n",
    "We can convert all of the values in an array at once with a single logical expression.  This is broadcasting, the same as is done with the math operations we saw earlier:\n",
    "\n",
    "```python\n",
    ">>> data = np.array([1, 2, 3, 4, 5])\n",
    ">>> data < 3\n",
    "[True, True, False, False, False]\n",
    "```"
   ]
  },
  {
   "cell_type": "markdown",
   "id": "ad04f329",
   "metadata": {
    "cell_id": "00003-fe7303ea-b10c-4a84-9ffc-bc0f035734ec",
    "deepnote_cell_type": "markdown",
    "id": "innovative-robin"
   },
   "source": [
    "**Exercises**: Make arrays of True/False values that answer the following questions about the dataset below for each element."
   ]
  },
  {
   "cell_type": "code",
   "execution_count": 4,
   "id": "0a65b4e2",
   "metadata": {
    "cell_id": "00004-5c70af26-6004-48a1-bd45-579cd012595a",
    "deepnote_cell_type": "code",
    "id": "stuck-bunny"
   },
   "outputs": [],
   "source": [
    "list_of_values = [3, 7, 10, 2, 1, 7, np.nan, 20, -5]\n",
    "data = np.array(list_of_values)"
   ]
  },
  {
   "cell_type": "markdown",
   "id": "1cb7f37d",
   "metadata": {
    "cell_id": "00005-21086fd0-bbeb-464b-a7c3-da5876fc72fe",
    "deepnote_cell_type": "markdown",
    "id": "fluid-workplace"
   },
   "source": [
    "*Example*: Where are the values that are greater than zero in data?"
   ]
  },
  {
   "cell_type": "code",
   "execution_count": 5,
   "id": "3cc28de9",
   "metadata": {
    "cell_id": "00006-ff88d338-0cb3-4cea-ab9c-741d77c33b46",
    "deepnote_cell_type": "code",
    "id": "rotary-compatibility"
   },
   "outputs": [
    {
     "data": {
      "text/plain": [
       "array([ True,  True,  True,  True,  True,  True, False,  True, False])"
      ]
     },
     "execution_count": 5,
     "metadata": {},
     "output_type": "execute_result"
    }
   ],
   "source": []
  },
  {
   "cell_type": "code",
   "execution_count": 8,
   "id": "c6a969c6-a1fc-41b0-8b25-3d269f705b0c",
   "metadata": {},
   "outputs": [
    {
     "name": "stdout",
     "output_type": "stream",
     "text": [
      "[True, True, True, True, True, True, False, True, False]\n"
     ]
    }
   ],
   "source": [
    "numbers = [3, 7, 10, 2, 1, 7, np.nan, 20, -5]\n",
    "filtered_numbers = [num > 0 for num in numbers]\n",
    "\n",
    "# filtered_numbers = [num for num in numbers if num > 0]\n",
    "\n",
    "print(filtered_numbers) \n"
   ]
  },
  {
   "cell_type": "markdown",
   "id": "07217a7e",
   "metadata": {
    "cell_id": "00007-eb53820d-a2e0-482d-8c4a-6f71953fc9a6",
    "deepnote_cell_type": "markdown",
    "id": "northern-desert"
   },
   "source": [
    "Where are the values that are equal to 7?"
   ]
  },
  {
   "cell_type": "code",
   "execution_count": null,
   "id": "1e4ee5b2",
   "metadata": {
    "cell_id": "00008-037e480b-3844-4f97-ac74-219010466530",
    "deepnote_cell_type": "code",
    "id": "muslim-ultimate",
    "tags": [
     "exercise"
    ]
   },
   "outputs": [],
   "source": [
    "data == 7"
   ]
  },
  {
   "cell_type": "markdown",
   "id": "45de21c2",
   "metadata": {
    "cell_id": "00013-de3057d0-df97-49b2-a46b-977e9bcca1c7",
    "deepnote_cell_type": "markdown",
    "id": "light-timber"
   },
   "source": [
    "## Step 2: Filter with Logical Indexing\n",
    "\n",
    "If an array of True/False values is used to *index* another array, and both arrays are the same size, it will return all of the values that correspond to the True values of the indexing array:\n",
    "\n",
    "```python\n",
    ">>> data = np.array([1, 2, 3, 4, 5])\n",
    ">>> mask = data > 3\n",
    ">>> mask\n",
    "[False, False, False, True, True]\n",
    ">>> data[mask]\n",
    "[4, 5]\n",
    "```\n",
    "\n",
    "Both steps can also be done in a single expression.  Sometimes this can make things clearer!\n",
    "\n",
    "\n",
    "```python\n",
    ">>> data[data > 3]\n",
    "[4, 5]\n",
    "```\n"
   ]
  },
  {
   "cell_type": "markdown",
   "id": "3c54cc02",
   "metadata": {
    "cell_id": "00014-2ee1b7ab-4624-461b-bd11-580494260598",
    "deepnote_cell_type": "markdown",
    "id": "parental-economy"
   },
   "source": [
    "**Exercises**:  Using the data below, extract only the values that corresspond to each question"
   ]
  },
  {
   "cell_type": "code",
   "execution_count": null,
   "id": "d574515b",
   "metadata": {
    "cell_id": "00015-019cc24c-f22b-4722-80b9-b558a5530631",
    "deepnote_cell_type": "code",
    "id": "military-shopping",
    "outputId": "14158f33-64a8-437a-ffb0-d5b5a4ba3b73"
   },
   "outputs": [],
   "source": [
    "data = np.array([3, 1, -6, 8, 20, 2, np.nan, 7, 1, np.nan, 9, 7, 7, -7])\n",
    "data"
   ]
  },
  {
   "cell_type": "markdown",
   "id": "0b11dac9",
   "metadata": {
    "cell_id": "00016-c6167d87-67b5-4d42-9c32-eedf16065ecf",
    "deepnote_cell_type": "markdown",
    "id": "opened-progressive"
   },
   "source": [
    "*Example*: The values that are less than 0"
   ]
  },
  {
   "cell_type": "code",
   "execution_count": null,
   "id": "61e05d33",
   "metadata": {
    "cell_id": "00017-eec017b4-d07c-4656-b9f9-d6a28338e04a",
    "deepnote_cell_type": "code",
    "id": "armed-inside"
   },
   "outputs": [],
   "source": []
  },
  {
   "cell_type": "markdown",
   "id": "6cc2a189",
   "metadata": {
    "cell_id": "00018-cb8f6705-350b-4e38-afb4-97d081fcda17",
    "deepnote_cell_type": "markdown",
    "id": "amino-cache"
   },
   "source": [
    "The values that are greater than 3"
   ]
  },
  {
   "cell_type": "code",
   "execution_count": null,
   "id": "10a1afe1",
   "metadata": {
    "cell_id": "00019-2edc492f-b7a7-4cd3-b349-8f869ff91d26",
    "deepnote_cell_type": "code",
    "id": "ordinary-reconstruction",
    "tags": [
     "exercise"
    ]
   },
   "outputs": [],
   "source": []
  },
  {
   "cell_type": "markdown",
   "id": "96593abc",
   "metadata": {
    "cell_id": "00020-64061a00-f7a4-4839-ba01-370769d1bd53",
    "deepnote_cell_type": "markdown",
    "id": "surgical-inclusion"
   },
   "source": [
    "The values not equal to 7"
   ]
  },
  {
   "cell_type": "code",
   "execution_count": null,
   "id": "073a5488",
   "metadata": {
    "cell_id": "00021-404f3f89-e9cb-450e-8e4e-1ddf8a1c3093",
    "deepnote_cell_type": "code",
    "id": "occupied-history",
    "tags": [
     "exercise"
    ]
   },
   "outputs": [],
   "source": []
  },
  {
   "cell_type": "markdown",
   "id": "f2ee4330",
   "metadata": {
    "cell_id": "00022-12df6744-eaec-46d4-a2f6-f8338a7afb93",
    "deepnote_cell_type": "markdown",
    "id": "underlying-awareness"
   },
   "source": [
    "The values equal to 20"
   ]
  },
  {
   "cell_type": "code",
   "execution_count": null,
   "id": "b0b0abef",
   "metadata": {
    "cell_id": "00023-67128a3b-2509-4591-b5e9-efbeb3293c61",
    "deepnote_cell_type": "code",
    "id": "original-hacker",
    "tags": [
     "exercise"
    ]
   },
   "outputs": [],
   "source": []
  },
  {
   "cell_type": "markdown",
   "id": "43588e12",
   "metadata": {
    "cell_id": "00041-7774923c-b585-48c4-ac2e-5038dc170f8b",
    "deepnote_cell_type": "markdown",
    "id": "celtic-commercial"
   },
   "source": [
    "### Statistics on Filtered Data\n"
   ]
  },
  {
   "cell_type": "markdown",
   "id": "489f4d50",
   "metadata": {},
   "source": [
    "\n",
    "**Exercises**: Using the following dataset, have Python to calculate the answers to the questions below:"
   ]
  },
  {
   "cell_type": "code",
   "execution_count": 9,
   "id": "a0c11319",
   "metadata": {
    "cell_id": "00043-a20f0d6d-3f12-4e4f-8bcd-ddc2cc3870cb",
    "deepnote_cell_type": "code",
    "id": "knowing-pitch",
    "outputId": "16e6aec3-429f-4a58-cef7-c915b5142a3c"
   },
   "outputs": [
    {
     "data": {
      "text/plain": [
       "array([ 3,  1, -6,  8, 20,  2,  7,  1,  9,  7,  7, -7])"
      ]
     },
     "execution_count": 9,
     "metadata": {},
     "output_type": "execute_result"
    }
   ],
   "source": [
    "data = np.array([3, 1, -6, 8, 20, 2, 7, 1, 9, 7, 7, -7])\n",
    "data"
   ]
  },
  {
   "cell_type": "markdown",
   "id": "4f6da27b",
   "metadata": {
    "cell_id": "00044-cfaafc68-bdb1-4b76-8c68-cfaf46dd14ef",
    "deepnote_cell_type": "markdown",
    "id": "radio-powell"
   },
   "source": [
    "*Example*: How many values are greater than 4?  "
   ]
  },
  {
   "cell_type": "code",
   "execution_count": null,
   "id": "91578c70",
   "metadata": {
    "cell_id": "00045-dd927e15-b816-4a3d-9a73-2d3b2f075635",
    "deepnote_cell_type": "code",
    "id": "healthy-holmes"
   },
   "outputs": [],
   "source": []
  },
  {
   "cell_type": "markdown",
   "id": "869754b1",
   "metadata": {
    "cell_id": "00046-0a7545b7-6323-4ea6-b134-6317fb0a2f4e",
    "deepnote_cell_type": "markdown",
    "id": "reduced-authorization"
   },
   "source": [
    "How many values are equal to 7?"
   ]
  },
  {
   "cell_type": "code",
   "execution_count": null,
   "id": "89d0382a",
   "metadata": {
    "cell_id": "00047-ac232071-f181-44bb-ad51-2790fe771775",
    "deepnote_cell_type": "code",
    "id": "pursuant-workplace",
    "tags": [
     "exercise"
    ]
   },
   "outputs": [],
   "source": []
  },
  {
   "cell_type": "markdown",
   "id": "440802b8",
   "metadata": {
    "cell_id": "00048-57dbcea0-3f49-426c-92aa-36b09f3ae4b3",
    "deepnote_cell_type": "markdown",
    "id": "artificial-serve"
   },
   "source": [
    "What is the mean value of the positive numbers?"
   ]
  },
  {
   "cell_type": "code",
   "execution_count": null,
   "id": "87b7d0a8",
   "metadata": {
    "cell_id": "00049-a06a43e9-7609-4dc6-b9ee-09c75abd98cd",
    "deepnote_cell_type": "code",
    "id": "working-madagascar",
    "tags": [
     "exercise"
    ]
   },
   "outputs": [],
   "source": []
  },
  {
   "cell_type": "markdown",
   "id": "9cbfd353",
   "metadata": {
    "cell_id": "00050-81a40328-7559-42c3-9060-b5b4d450098a",
    "deepnote_cell_type": "markdown",
    "id": "continuous-workshop"
   },
   "source": [
    "What is the mean value of the negative numbers?"
   ]
  },
  {
   "cell_type": "code",
   "execution_count": null,
   "id": "fd60b634",
   "metadata": {
    "cell_id": "00051-0bfad543-be10-48ed-b351-5b271dfee20e",
    "deepnote_cell_type": "code",
    "id": "flush-miami",
    "tags": [
     "exercise"
    ]
   },
   "outputs": [],
   "source": []
  },
  {
   "cell_type": "markdown",
   "id": "9192a645",
   "metadata": {
    "cell_id": "00052-ebd153a9-bc27-4c6e-a782-7ca0c2d9b8bd",
    "deepnote_cell_type": "markdown",
    "id": "visible-journey"
   },
   "source": [
    "What is the median value of the values that are greater than 5?"
   ]
  },
  {
   "cell_type": "code",
   "execution_count": null,
   "id": "78045989",
   "metadata": {
    "cell_id": "00053-be28c851-2869-404a-b8e4-fafcdbc2a807",
    "deepnote_cell_type": "code",
    "id": "residential-decade",
    "tags": [
     "exercise"
    ]
   },
   "outputs": [],
   "source": []
  },
  {
   "cell_type": "markdown",
   "id": "a08b25ab",
   "metadata": {},
   "source": [
    "## Modifying Data Using Logical Indexing\n",
    "\n",
    "Just like in normal indexing operations with arrays, logical indexing can be used to *set* new values ,in addition to *getting* new values from an array:\n",
    "\n",
    "| Example | Description |\n",
    "| :-- | :-- |\n",
    "| **`data[data > 5] = 10`** | Set all values greater than 5 to 10  |\n",
    "| **`data[data > 5] = data[data > 5] * 10`** | Set the values greater than 5 to themselves times 10  |\n",
    "| **`data[data > 5] *= 10`** | Multiply all the values greater than 5 by 10, setting them in-place.  |\n",
    "| **`data2 = data.copy()`** | Copy an array to a new variable |"
   ]
  },
  {
   "cell_type": "markdown",
   "id": "4f3d2c4e",
   "metadata": {},
   "source": [
    "Example: Set all positive values in `data` to 100"
   ]
  },
  {
   "cell_type": "code",
   "execution_count": null,
   "id": "ab54454a-08ea-455e-8abb-22fcb23ce40e",
   "metadata": {},
   "outputs": [],
   "source": [
    "data = np.arange(-4, 5)\n",
    "data"
   ]
  },
  {
   "cell_type": "code",
   "execution_count": null,
   "id": "fb734ebf-6f61-487c-aa39-a6af87d42e6b",
   "metadata": {},
   "outputs": [],
   "source": []
  },
  {
   "cell_type": "markdown",
   "id": "4765eace-1faf-41fa-bb30-773b81ddd97f",
   "metadata": {},
   "source": [
    "Set all negative values in `data` to 0"
   ]
  },
  {
   "cell_type": "code",
   "execution_count": null,
   "id": "b418666b-ed1b-4541-ae8a-cdcc9031b91f",
   "metadata": {},
   "outputs": [],
   "source": [
    "data = np.array([ 1, -2,  2, -1,  1,  4, -3,  1,  2, -1])\n",
    "data"
   ]
  },
  {
   "cell_type": "code",
   "execution_count": null,
   "id": "4a5179ce-4505-4bde-9beb-43513194c913",
   "metadata": {
    "tags": [
     "exercise"
    ]
   },
   "outputs": [],
   "source": []
  },
  {
   "cell_type": "markdown",
   "id": "3e603f35-581e-4c68-a11a-b56ae76c9f04",
   "metadata": {},
   "source": [
    "Add 100 to all values in `data` less than 100."
   ]
  },
  {
   "cell_type": "code",
   "execution_count": null,
   "id": "d7c8debf-0928-4b3a-b6b9-fb349597bf1e",
   "metadata": {},
   "outputs": [],
   "source": [
    "data = np.array([0, 101, 2, 3, 104, 105, 6, 107, 8])\n",
    "data"
   ]
  },
  {
   "cell_type": "code",
   "execution_count": null,
   "id": "0d359df2-2f9f-42b0-9253-798a7b82b437",
   "metadata": {
    "tags": [
     "exercise"
    ]
   },
   "outputs": [],
   "source": []
  },
  {
   "cell_type": "markdown",
   "id": "b136c40c-184e-48e6-8c22-f9c31c483e07",
   "metadata": {},
   "source": [
    "Make all the negative values in `data` positive."
   ]
  },
  {
   "cell_type": "code",
   "execution_count": null,
   "id": "5c2581ef-4472-40b4-8365-fe4301654fa1",
   "metadata": {},
   "outputs": [],
   "source": [
    "data = np.array([1, -2, -3, 4, -5, 6, 7, -8, 9, 10, -11])\n",
    "data"
   ]
  },
  {
   "cell_type": "code",
   "execution_count": null,
   "id": "bfba2784-59f2-46b7-aea4-ce34dd63e4a5",
   "metadata": {
    "tags": [
     "exercise"
    ]
   },
   "outputs": [],
   "source": []
  },
  {
   "cell_type": "markdown",
   "id": "432d0837-441c-458d-b82b-f2050c85abdc",
   "metadata": {},
   "source": [
    "Challenge: Set all the values greater than 10 in `data` to random values between 0 and 10 (use the `np.random.randint()` function)"
   ]
  },
  {
   "cell_type": "code",
   "execution_count": null,
   "id": "c2b479c6-9fa1-4efd-ac2c-1701f4501609",
   "metadata": {},
   "outputs": [],
   "source": [
    "data = np.array([3, 15, 8, 12, 7, 19, 11, 6, 2, 25])\n",
    "data"
   ]
  },
  {
   "cell_type": "code",
   "execution_count": null,
   "id": "09be82a9-fce6-4f2b-97c9-eaf753d549e2",
   "metadata": {
    "tags": [
     "exercise"
    ]
   },
   "outputs": [],
   "source": []
  },
  {
   "cell_type": "markdown",
   "id": "c12a22ea",
   "metadata": {},
   "source": [
    "## Using Logical Indexing to Link Two Different Variables in a Dataset\n",
    "\n",
    "So long as this process produces a mask of Trues and Falses equal in shape to the array it's bein used on, it works!  An implication of this is that we can use one dataset to index another dataset:\n",
    "\n",
    "| Syntax | Description |\n",
    "| :--  | :-- |\n",
    "| **`data2[data1 > 0]`** | Get the values in `data2` with indices that correspond to the positive values in `data1` |\n",
    "\n",
    "|temp|group|\n",
    "|----|-----|\n",
    "35|control\n",
    "38|Treatment\n",
    "32|Treatment"
   ]
  },
  {
   "cell_type": "markdown",
   "id": "236ab391-5b58-4b83-9b7a-dc11cdb0d7cb",
   "metadata": {},
   "source": [
    "Get all the \"Treatment\" group's temperatures"
   ]
  },
  {
   "cell_type": "code",
   "execution_count": 14,
   "id": "05454b09-b2ff-4871-86df-fbb5dbb7686c",
   "metadata": {},
   "outputs": [],
   "source": [
    "temp = np.array([35, 38, 32, 35, 39, 37, 36, 38, 39])\n",
    "group = np.array(['Control', 'Treatment', 'Treatment', 'Control', 'Treatment', 'Control', 'Control', 'Treatment', 'Control'])"
   ]
  },
  {
   "cell_type": "code",
   "execution_count": null,
   "id": "906c66c0-87af-45ed-a01e-8a237925117b",
   "metadata": {
    "tags": [
     "exercise"
    ]
   },
   "outputs": [],
   "source": []
  },
  {
   "cell_type": "markdown",
   "id": "86d1dd84",
   "metadata": {},
   "source": [
    "Calculate the mean temperature of the \"Control\" group"
   ]
  },
  {
   "cell_type": "code",
   "execution_count": null,
   "id": "1987d19a-6bce-43bb-94cc-f39fd0d42549",
   "metadata": {},
   "outputs": [],
   "source": [
    "temp = np.array([35, 38, 32, 35, 39, 37, 36, 38, 39])\n",
    "group = np.array(['Control', 'Treatment', 'Treatment', 'Control', 'Treatment', 'Control', 'Control', 'Treatment', 'Control'])"
   ]
  },
  {
   "cell_type": "code",
   "execution_count": null,
   "id": "98d05af4-7d70-43da-b008-7b8e6891f74e",
   "metadata": {
    "tags": [
     "exercise"
    ]
   },
   "outputs": [],
   "source": []
  },
  {
   "cell_type": "markdown",
   "id": "7bdcabae-ae69-44d3-be72-ea32c5ea092c",
   "metadata": {},
   "source": [
    "Get the group names for all the temperatures greater than 35"
   ]
  },
  {
   "cell_type": "code",
   "execution_count": null,
   "id": "56ab6b9d-a8c5-46f0-91a1-c78e66d34474",
   "metadata": {},
   "outputs": [],
   "source": [
    "temp = np.array([35, 38, 32, 35, 39, 37, 36, 38, 39])\n",
    "group = np.array(['Control', 'Treatment', 'Treatment', 'Control', 'Treatment', 'Control', 'Control', 'Treatment', 'Control'])"
   ]
  },
  {
   "cell_type": "code",
   "execution_count": null,
   "id": "9fb2f630-f373-4d09-9fd1-3b7f55074c87",
   "metadata": {
    "tags": [
     "exercise"
    ]
   },
   "outputs": [],
   "source": [
    "group[temp > 35]"
   ]
  },
  {
   "cell_type": "markdown",
   "id": "7d9abd37-aa03-4ab9-81be-7a655ef53851",
   "metadata": {},
   "source": [
    "A example of np.selct, we will do detail excercise in pandas session"
   ]
  },
  {
   "cell_type": "code",
   "execution_count": 17,
   "id": "ff531dc7-7825-4511-8c30-8332e453ed66",
   "metadata": {},
   "outputs": [
    {
     "name": "stdout",
     "output_type": "stream",
     "text": [
      "['Small' 'Large' 'Small' 'Small' 'Medium' 'Large' 'Large']\n"
     ]
    }
   ],
   "source": [
    "\n",
    "data = np.array([1,5,0, 2, 3, 4, 5])\n",
    "\n",
    "# Define the conditions and corresponding values\n",
    "conditions = [data < 3, data == 3, data > 3]\n",
    "values = ['Small', 'Medium', 'Large']\n",
    "\n",
    "# Apply the conditions and values to the data using np.select\n",
    "result = np.select(conditions, values)\n",
    "\n",
    "print(result)"
   ]
  },
  {
   "cell_type": "code",
   "execution_count": null,
   "id": "5fc6e7ea-50d3-4979-93f3-75abe257f079",
   "metadata": {},
   "outputs": [],
   "source": []
  }
 ],
 "metadata": {
  "colab": {
   "name": "8 LogicalIndexing.ipynb",
   "provenance": []
  },
  "deepnote": {},
  "deepnote_execution_queue": [],
  "deepnote_notebook_id": "335d2424-d599-47af-9b70-08ab62ee0333",
  "kernelspec": {
   "display_name": "Python 3 (ipykernel)",
   "language": "python",
   "name": "python3"
  },
  "language_info": {
   "codemirror_mode": {
    "name": "ipython",
    "version": 3
   },
   "file_extension": ".py",
   "mimetype": "text/x-python",
   "name": "python",
   "nbconvert_exporter": "python",
   "pygments_lexer": "ipython3",
   "version": "3.9.13"
  },
  "metadata": {
   "interpreter": {
    "hash": "fc0e67284b290651ff490186edfcd112a3a9886d035b0e6d700f36a65c8bc338"
   }
  },
  "vscode": {
   "interpreter": {
    "hash": "d6852d01271bf8033dbdb7ec364b6f6e89fd52a18c6bf5b4c73e48c86329a8dd"
   }
  }
 },
 "nbformat": 4,
 "nbformat_minor": 5
}

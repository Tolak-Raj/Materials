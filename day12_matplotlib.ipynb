{
 "cells": [
  {
   "cell_type": "markdown",
   "id": "df6804ab-7a2a-492f-8bf9-d007596a8eaf",
   "metadata": {},
   "source": [
    "# Matplotlib "
   ]
  },
  {
   "cell_type": "markdown",
   "id": "0be34f1c-5f15-4d6d-a733-745c84096886",
   "metadata": {},
   "source": [
    "## What is Data Visualization?\n",
    "\n",
    "Data visualization is the process of organizing complex and messy data into an easily understandable and interpretable format. In other words, data visualization involves visualizing abstract data to make it concrete and to obtain preliminary insights.\n",
    "\n",
    "**Some important things to consider when creating data visualizations are:**\n",
    "\n",
    "***- Colors should be harmonious***      \n",
    "***- Visualizations should be simple and straightforward, avoiding clutter***        \n",
    "***- The appropriate chart type should be selected (it is very important to know which data to visualize with which chart. Data visualization catalogs can be used for this purpose. https://datavizcatalogue.com/)***      \n",
    "***- The visualization should be easily understandable***      \n",
    "***- The arrangement of numbers should be correct***       \n"
   ]
  },
  {
   "cell_type": "markdown",
   "id": "af0c9ef9-7174-4148-86e7-0651ebc60730",
   "metadata": {},
   "source": [
    "## What is Matplotlib?\n",
    "Matplotlib is the fundamental Python library used for data visualization. It provides a comprehensive set of tools and functions to create a variety of charts, graphs, and plots. The library is highly versatile, offering different plotting styles such as scatter plots, line plots, bar charts, and more. Matplotlib is highly customizable, allowing users to tweak the appearance of their visualizations by adjusting colors, labels, fonts, and other parameter.\n",
    "\n",
    "Matplotlib has a modular architecture consisting of three main components: scripting, artist, and backend. In this case, we will be working with the scripting interface provided by the **pyplot** module of the Matplotlib library.      \n",
    "more details :https://medium.com/dataseries/mastering-matplotlib-part-1-a480109171e3\n",
    "\n",
    "!['https://medium.com/dataseries/mastering-matplotlib-part-1-a480109171e3'](https://miro.medium.com/v2/resize:fit:640/format:webp/1*zaqzD-xi7_8lYVmpHWxYMw.jpeg)"
   ]
  },
  {
   "cell_type": "markdown",
   "id": "5d0ca55a-0bdb-4622-91d8-ef27c917e9a9",
   "metadata": {
    "tags": []
   },
   "source": [
    "## Loading Libraries and Data Preparation\n",
    "<a id=\"optparam\"></a>"
   ]
  },
  {
   "cell_type": "code",
   "execution_count": null,
   "id": "62c35b8b-b41a-4e20-8bc2-5b81ab3f3371",
   "metadata": {},
   "outputs": [],
   "source": [
    "import matplotlib.pyplot as plt\n",
    "import pandas as pd\n",
    "import numpy as np\n",
    "# import warnings\n",
    "# warnings.filterwarnings(\"ignore\")\n",
    "#to display the plot within the notebook\n",
    "%matplotlib inline \n"
   ]
  },
  {
   "cell_type": "markdown",
   "id": "5dac0a39-f318-4baa-8a9d-f9707f7fec11",
   "metadata": {},
   "source": [
    "load data set the data containg monthly **Cunsumer price index(CPI) and Wholesale price index(WPI)** of Nepal"
   ]
  },
  {
   "cell_type": "code",
   "execution_count": null,
   "id": "85eca613-9d73-4d4b-a4aa-4ec508dacd5d",
   "metadata": {},
   "outputs": [],
   "source": [
    "data=pd.read_csv('https://raw.githubusercontent.com/pudasainimohan/Materials/main/data/price.csv')\n",
    "data.head(5)"
   ]
  },
  {
   "cell_type": "markdown",
   "id": "f83af065-f132-4dfc-a3fc-257750f8c17a",
   "metadata": {},
   "source": [
    "Round  CPI and WPI in two digits"
   ]
  },
  {
   "cell_type": "code",
   "execution_count": null,
   "id": "be9e26e5-cfd4-4b38-a82f-f77fff3ae212",
   "metadata": {},
   "outputs": [],
   "source": [
    "data['CPI']= data['CPI'].round(2)\n",
    "data['Date'] =data['Date'].str[2:]"
   ]
  },
  {
   "cell_type": "code",
   "execution_count": null,
   "id": "2a4ad561-f7fd-4688-97e2-e799dc4be1c1",
   "metadata": {},
   "outputs": [],
   "source": [
    "data.head()"
   ]
  },
  {
   "cell_type": "markdown",
   "id": "7516a874-11cc-4f53-9525-24b56288ecca",
   "metadata": {},
   "source": [
    "Check the information about `data` using `info` method."
   ]
  },
  {
   "cell_type": "code",
   "execution_count": null,
   "id": "a21d04d4-df57-485c-897f-60ca0d247d2c",
   "metadata": {
    "scrolled": true,
    "tags": []
   },
   "outputs": [],
   "source": [
    "data.info()"
   ]
  },
  {
   "cell_type": "markdown",
   "id": "928b7658-8620-40b3-9691-02d00ebaa6b3",
   "metadata": {},
   "source": [
    "Basic Command to plot graph in matplotlib"
   ]
  },
  {
   "cell_type": "code",
   "execution_count": null,
   "id": "964dbd06-fbe2-4150-a560-1b482765392a",
   "metadata": {},
   "outputs": [],
   "source": [
    "plt.plot(data.Date,data.CPI) \n",
    "plt.show()"
   ]
  },
  {
   "cell_type": "markdown",
   "id": "7828f2f1-ea38-49e6-a9bd-aff6aa0228aa",
   "metadata": {
    "tags": []
   },
   "source": [
    "## 1.Basic Visualization and General Commands\n",
    "\n",
    "### 1.1.General Commands in Visualization\n",
    "\n",
    "As mentioned in previous , various standardized abbreviations are used when loading libraries. The abbreviation plt is used as an abbreviation for the Matplotlib library. Graphs are plotted with this command.\n",
    "\n",
    "`plt.plot()`: Forms the main command of the graph. First, the x-axis is written, and then the y-axis is written. If we want to change some basic variables in the graph, we need to write the relevant code here. For example, color of the graph, line thickness, intervals, etc. we will discuss each keyword argument in all   graph sessions. \n",
    "\n",
    "`plt.figure()`:  Major  keyword arguments:\n",
    "- `figsize=(a,b)`: Determines the size of the graph.  The first value written inside the parentheses is the width of the graph, and the second value is the height and it is in inches.      \n",
    " - `dpi=`: The dpi parameter is used to set the resolution of the figure in dots per inch. It specifies how many pixels (or dots) are used to represent one inch of the figure\n",
    "\n",
    "`plt.xlabel()`: Creates the title of the x-axis.\n",
    "\n",
    "`plt.ylabel()`: Creates the title of the y-axis.\n",
    "\n",
    "`plt.title()`: Creates the title of the graph.\n",
    "\n",
    "`plt.show()`: Helps us to plot the graph. If we do not write this code, the graph is plotted, but sometimes it may not be displayed on the screen.\n",
    "\n",
    "Let's demonstrate these commands one by one on the graph:"
   ]
  },
  {
   "cell_type": "markdown",
   "id": "560f8ffb-4629-4251-991f-f649698b69d6",
   "metadata": {},
   "source": [
    "### 1.1.1.Adding a Title to a Chart\n",
    "**```plt.title()```**: Creates the title of the chart. major keywaord argumens\n",
    "- `label`: This is the text of the plot title. This argument is mandatory, and you must specify a string value for it.`plt.title(\"Plot Title\")`\n",
    "- `fontdict:` This is a dictionary of font properties that can be used to customize the appearance of the plot title text. You can specify font properties such as font size, font family, font weight, font style, and font color using this argument.`plt.title(\"Plot Title\", fontdict={\"fontsize\": 16, \"fontweight\": \"bold\"})`.\n",
    "- `loc`: This is the location of the plot title. You can use this argument to set the position of the title relative to the plot. Possible values include \"center\", \"left\", and \"right\" for horizontal alignment, and \"top\", \"center\", \"bottom\", and \"baseline\" for vertical alignment.`plt.title(\"Plot Title\", loc=\"right\")`\n",
    "- `color`: Color of the title you can use direct name or hexcolor code. there are may website to generate hex color code one of them is [https://htmlcolorcodes.com/color-picker/](https://htmlcolorcodes.com/color-picker/) `plt.title(\"Plot Title\",color='#2D8543')`\n",
    "\n",
    " Similary other arguments are: `fontsize`, `pad`, `fontweight:bold, semibold, light, ultralight, and heavy.`, `fontstyle: roman,italic,oblique`\n",
    "          `backgroundcolor`, `fontfamily` etc\n"
   ]
  },
  {
   "cell_type": "markdown",
   "id": "39f4ad1c-7fe6-4ef5-817a-332dec0ad4d7",
   "metadata": {},
   "source": [
    "**Exercises**\n",
    "We can explore an example to better understand this"
   ]
  },
  {
   "cell_type": "code",
   "execution_count": null,
   "id": "04167553-04c5-44f9-8512-edd2e30def0a",
   "metadata": {},
   "outputs": [],
   "source": [
    "plt.figure(figsize=(12,6))\n",
    "\n",
    "plt.plot(data.Date,data.CPI) \n",
    "\n",
    "plt.title(\"Monthly Inflation of Nepal\")\n",
    "\n",
    "plt.show()"
   ]
  },
  {
   "cell_type": "markdown",
   "id": "f2049a9e-f6c6-442b-aa29-c849897d6e2e",
   "metadata": {},
   "source": [
    "### 1.1.2. Adding a Title to the X-Axis and Y-Axis\n",
    "<a id=\"optparam\"></a>\n",
    "**```plt.xlabel()```**: Creates the title of the x-axis      \n",
    "**```plt.ylabel()```**: Creates the title of the y-axis         \n",
    "**Most of the arguments for xlabel and ylabel are same as title**\n",
    "\n"
   ]
  },
  {
   "cell_type": "markdown",
   "id": "b697301f-656f-4919-8cf4-9c9e3cf92bba",
   "metadata": {},
   "source": [
    "Change above plot by title font size 20, with color <span style=\"color:green\">green</span>\n",
    ". similary add x axis lable to \"Date\" in **bold** and y axis lable \"Cunsumer price index\" in 'Impact' font."
   ]
  },
  {
   "cell_type": "code",
   "execution_count": null,
   "id": "730c2395-808b-40ac-aa3f-808202310ee9",
   "metadata": {},
   "outputs": [],
   "source": [
    "plt.figure(figsize=(12,6))\n",
    "\n",
    "plt.plot(data.Date,data.CPI) \n",
    "plt.xlabel('Date',fontweight='bold')\n",
    "plt.ylabel('Cunsumer price index',fontfamily='Impact')\n",
    "\n",
    "plt.title(\"Monthly Inflation of Nepal\", fontsize=20,color='g')\n",
    "\n",
    "plt.show()"
   ]
  },
  {
   "cell_type": "markdown",
   "id": "b957826e-b346-4d73-b9d7-b66a7793f776",
   "metadata": {},
   "source": [
    "### 1.1.3.Showing two different data on a single graph\n",
    "\n",
    "We can display two different variables on a single graph and customize these variables. For example, I am giving different colors to my inflation and unemployment variables. When adding the visualization code for the second or more variables, we just need to write it like the first visualization code. **The important point to note here is that the variables must have a common x or y-axis**. In our example, the date is common for both variables and is shown on the x-axis"
   ]
  },
  {
   "cell_type": "markdown",
   "id": "39c54632-f5bc-4bc3-9462-245e477d259b",
   "metadata": {},
   "source": [
    "Add the second line \"WPI\" in the same graph and make it different color. `Hint: write plt.plot twice and change  y variable and color argument`"
   ]
  },
  {
   "cell_type": "code",
   "execution_count": null,
   "id": "945b49c9-1dad-4f79-a431-0f51bf1d65f1",
   "metadata": {
    "scrolled": false,
    "tags": []
   },
   "outputs": [],
   "source": [
    "plt.figure(figsize=(12,6))\n",
    "\n",
    "plt.plot(data.Date,data.CPI) \n",
    "plt.plot(data.Date,data.WPI) \n",
    "plt.xlabel('Date',fontweight='bold')\n",
    "plt.ylabel('Cunsumer price index',fontfamily='Impact')\n",
    "\n",
    "plt.title(\"Monthly Inflation of Nepal\", fontsize=20,color='g')\n",
    "\n",
    "plt.show()"
   ]
  },
  {
   "cell_type": "markdown",
   "id": "c5516f5b-bbf6-4a7b-ad5b-5b1b2ebbfc04",
   "metadata": {
    "tags": []
   },
   "source": [
    "### 1.1.4.Plot multiple plots at once - subplot\n",
    "\n",
    "`subplot(x,y,z)`: Specifies the layout and the position of the graph.The x and y arguments specify the number of rows and columns of subplots in the figure, respectively. The z argument specifies the position of the subplot in the layout, where the subplots are numbered starting from the upper left corner and moving left-to-right and top-to-bottom.Here is an example of subplot argument x,y and z\n",
    "![](https://miro.medium.com/max/860/1*7dGhqgqL0b-J1QWfsO92ag.png)"
   ]
  },
  {
   "cell_type": "code",
   "execution_count": null,
   "id": "fdaf8685-a22f-4079-a6de-f65a57a7297b",
   "metadata": {
    "tags": []
   },
   "outputs": [],
   "source": [
    "plt.figure(figsize=(30,15))\n",
    "\n",
    "plt.subplot(2,2,1)   \n",
    "plt.plot(data.Date,data.CPI,color=\"r\") \n",
    "plt.xlabel(\"Date\")\n",
    "plt.ylabel(\"CPI\")\n",
    "plt.title(\"Consumer Price index of Nepal\")\n",
    "\n",
    "plt.subplot(2,2,2)\n",
    "plt.plot(data['Date'],data.WPI,color=\"blue\")\n",
    "plt.xlabel(\"Date\")\n",
    "plt.ylabel(\"WPI\")\n",
    "plt.title(\"Wholsale Price index of Nepal\")\n",
    "\n",
    "plt.show()"
   ]
  },
  {
   "cell_type": "markdown",
   "id": "24a1e869-3f65-4b55-812e-b4871e63494c",
   "metadata": {
    "jupyter": {
     "source_hidden": true
    },
    "tags": []
   },
   "source": [
    "### 1.2. Drawing a Chart Using .Figure\n",
    "`plt.figure()`: With this command, we define a figure. In other words, we try to write or draw something into a table.\n",
    "\n",
    "`f.add_axes():`After creating a figure, you can add one or more axes to it. Axes are the areas inside a figure where you can plot your data. Each axis has its own X and Y scales, ticks, labels, and other properties.`f.add_axes([left, bottom, width, height])`\n",
    "- left: The distance from the left edge of the figure to the left edge of the axis, as a fraction of the figure width (0 to 1).\n",
    "- bottom: The distance from the bottom edge of the figure to the bottom edge of the axis, as a fraction of the figure height (0 to 1).\n",
    "- width: The width of the axis, as a fraction of the figure width (0 to 1).\n",
    "- height: The height of the axis, as a fraction of the figure height (0 to 1)\n"
   ]
  },
  {
   "cell_type": "code",
   "execution_count": null,
   "id": "b6512f07-c3ea-4b9c-851d-ad0618ae0838",
   "metadata": {
    "jupyter": {
     "source_hidden": true
    },
    "tags": []
   },
   "outputs": [],
   "source": [
    "f=plt.figure(figsize=(10,4))\n",
    "\n",
    "axes=f.add_axes([0.1,0.1,0.9,0.9])\n",
    "\n",
    "axes.plot(data.Date,data.CPI)\n",
    "\n",
    "axes.set_xlabel(\"Date\")\n",
    "\n",
    "axes.set_ylabel(\"CPI\")\n",
    "\n",
    "axes.set_title(\"Consumer Price Index of Nepal\")\n",
    "\n",
    "plt.show()"
   ]
  },
  {
   "cell_type": "markdown",
   "id": "53ff1f56-2083-44e9-82c1-6208a3cb2045",
   "metadata": {},
   "source": [
    "### 1.2.1.Nested Graph Drawing\n",
    "\n",
    "Sometimes it is necessary to see nested charts in order to better understand or compare the values in a chart. In such a case, we need to create 2 axes. **The important thing to note here is the coordinates of our charts**. The position of the given coordinates is quite important for the visibility of the charts."
   ]
  },
  {
   "cell_type": "code",
   "execution_count": null,
   "id": "afff852f-1984-4363-b9ac-10a481a32e40",
   "metadata": {},
   "outputs": [],
   "source": [
    "f=plt.figure(figsize=(12,4)) \n",
    "\n",
    "\n",
    "#coordinates\n",
    "axes1=f.add_axes([0.1,0.1,0.9,0.9]) \n",
    "\n",
    "axes2=f.add_axes([0.2,0.6,0.4,0.3])\n",
    "\n",
    "\n",
    "#how the data will appear in the chart.\n",
    "axes1.plot(data.Date,data.CPI,color=\"blue\")\n",
    "\n",
    "axes2.plot(data.Date,data.WPI,color=\"red\")\n",
    "\n",
    "\n",
    "#x lables set\n",
    "axes1.set_xlabel(\"Date\")\n",
    "axes2.set_xlabel(\"Date\")\n",
    "\n",
    "#y label sent\n",
    "axes1.set_ylabel(\"CPI\")\n",
    "axes2.set_ylabel(\"WPI\")\n",
    "axes2.tick_params(axis='x', rotation=45)\n",
    "\n",
    "#Set title\n",
    "axes1.set_title(\"CPI of Nepal\")\n",
    "axes2.set_title(\"WPI of Nepal\")\n",
    "\n",
    "plt.show()\n"
   ]
  },
  {
   "cell_type": "markdown",
   "id": "33a31a48-92cc-4adb-b4a8-9964ca5ad4f2",
   "metadata": {},
   "source": [
    "### 1.3.Graphics Customization\n",
    "\n",
    "### 1.3.1.General Commands\n",
    "The `plt()` function takes various commands that allow you to make changes to the graph.\n",
    "\n",
    "`color=\"red\"`: Sets the color of the graph. Different color palettes can be used.        \n",
    "`linewidth=1`: Sets the thickness of the line in the graph.          \n",
    "`linestyle=\"--\"`: Sets the style of the line in the graph.         \n",
    "`marker=\"o\"`: Places the specified shape at each data point in the graph.           \n",
    "`markersize=20`: Sets the size of the marker in the graph.             \n",
    "`markerfacecolor=\"yellow\"`: Sets the color of the marker in the graph.           \n",
    "`markeredgewidth=4`: Sets the thickness of the marker edge in the graph.          \n",
    "`markeredgecolor=\"blue\"`: Sets the color of the marker edge in the graph.           \n",
    "`alpha=0.9`: Changes the transparency of the graph. The closer to 0, the more transparent it is. The closer to 1, the more visible it is.\n",
    "\n",
    "Let's apply these commands one by one to the graph."
   ]
  },
  {
   "cell_type": "markdown",
   "id": "d77ef133-9e33-4ddc-a521-3bd31d54f89d",
   "metadata": {},
   "source": [
    "### 1.3.2.Determining the color of the chart\n",
    "**`color`** is a parameter in the plot function that determines the color of the line or marker in the plot. It can take various inputs such as a single character for a named color (e.g. \"r\" for red), an RGB tuple (e.g. (1, 0, 0) for red), a hex color code (e.g. \"#FF0000\" for red), or a string name for a specific color (e.g. \"crimson\" for a deep red color)"
   ]
  },
  {
   "cell_type": "code",
   "execution_count": null,
   "id": "3f894426-c998-4578-91cd-b3a30ff70bff",
   "metadata": {},
   "outputs": [],
   "source": [
    "\n",
    "plt.figure(figsize=(12,6))\n",
    "\n",
    "plt.plot(data.Date,data.CPI, color='#FF0000') \n",
    "\n",
    "plt.title(\"Monthly Inflation of Nepal\")\n",
    "plt.xlabel('Date',fontweight='bold')\n",
    "plt.ylabel('Consumer Price Index', fontfamily='Impact')\n",
    "\n",
    "\n",
    "plt.show()"
   ]
  },
  {
   "cell_type": "markdown",
   "id": "6e97096a-3db3-4349-8ff5-230375242f17",
   "metadata": {},
   "source": [
    "### 1.3.3.Determine the thickness of the chart line\n",
    "\n",
    "**`linewidth`** argument is used to set the width of the line in a plot. The value should be a positive number"
   ]
  },
  {
   "cell_type": "markdown",
   "id": "a6298cbe",
   "metadata": {},
   "source": [
    "Set linewidth 10 to the above graph"
   ]
  },
  {
   "cell_type": "code",
   "execution_count": null,
   "id": "d452627b-3977-4ca3-b89a-711847dd1f8f",
   "metadata": {},
   "outputs": [],
   "source": []
  },
  {
   "cell_type": "markdown",
   "id": "83a97cd9-c9dc-4929-92ca-e0f891050881",
   "metadata": {},
   "source": [
    "### 1.3.4.Set the style of the chart :\n",
    "\n",
    "**`linestyle`:** Determines the style of the line in the graph.\n",
    "\n",
    "\n",
    "***linestyles*** = ['-',  '--',  '-.',  ':']  you can specify the linestyle using above symbols or using their names too.|\n",
    "- \"solid\": a solid line (default)\n",
    "- \"dashed\": a dashed line\n",
    "- \"dashdot\": a line alternating between dashes and dots\n",
    "- \"dotted\": a dotted line\n",
    "- \"None\" or None: no line is drawn"
   ]
  },
  {
   "cell_type": "markdown",
   "id": "93159b63",
   "metadata": {},
   "source": [
    "Change default line style in above graph "
   ]
  },
  {
   "cell_type": "code",
   "execution_count": null,
   "id": "b2309fd4-018d-4db8-ad0c-5acac4540b5c",
   "metadata": {},
   "outputs": [],
   "source": []
  },
  {
   "cell_type": "markdown",
   "id": "6de1c328-b569-467b-97ed-cb8a3cd4a3ad",
   "metadata": {},
   "source": [
    "### 1.3.5 Drawing marker in plot\n",
    "\n",
    "**``marker=\"o\"``**: It puts the shape we have determined on each breakpoint on the chart.\n",
    "\n",
    "***Marker Styles:*** https://matplotlib.org/stable/api/markers_api.html"
   ]
  },
  {
   "cell_type": "markdown",
   "id": "ebb96862",
   "metadata": {},
   "source": [
    "Add marker to the line "
   ]
  },
  {
   "cell_type": "code",
   "execution_count": null,
   "id": "bc9ec8a8-73bc-429a-bdf4-83dd6edfe88c",
   "metadata": {},
   "outputs": [],
   "source": []
  },
  {
   "cell_type": "markdown",
   "id": "3021e498-1157-40c4-bae1-db584e57f071",
   "metadata": {},
   "source": [
    "### 1.3.6.Determine the marker size\n",
    "\n",
    "**``markersize``**: Determines marker size."
   ]
  },
  {
   "cell_type": "markdown",
   "id": "9aa39662",
   "metadata": {},
   "source": [
    "Set Marker size 1o the above graph"
   ]
  },
  {
   "cell_type": "code",
   "execution_count": null,
   "id": "bd20ba63-e684-4d5d-b2ee-84214015090d",
   "metadata": {},
   "outputs": [],
   "source": []
  },
  {
   "cell_type": "markdown",
   "id": "d84cead3-a1d7-43cc-a0af-fdefb0138b7f",
   "metadata": {},
   "source": [
    "### 1.3.7.Determine the marker color\n",
    "\n",
    "**``markerfacecolor``**: Changes the color of the marker. you can customize the `markerfacecolor` using as same as other text color in graph."
   ]
  },
  {
   "cell_type": "markdown",
   "id": "c8ec39a8",
   "metadata": {},
   "source": [
    "add marker face color to yellow"
   ]
  },
  {
   "cell_type": "code",
   "execution_count": null,
   "id": "e429b98f-cb06-4a72-ae3d-003acae40a8a",
   "metadata": {},
   "outputs": [],
   "source": []
  },
  {
   "cell_type": "markdown",
   "id": "771e0681-edaf-4f09-9626-a1c2098e3625",
   "metadata": {},
   "source": [
    "### 1.3.8.Determining the marker thickness\n",
    "\n",
    "**``markeredgewidth``**: parameter sets the width of the marker edge line used in the graph."
   ]
  },
  {
   "cell_type": "markdown",
   "id": "59b6e576",
   "metadata": {},
   "source": [
    "Change Marker edge width to 5"
   ]
  },
  {
   "cell_type": "code",
   "execution_count": null,
   "id": "bd85535f-6b4a-4145-beef-4bf82f819c6d",
   "metadata": {},
   "outputs": [],
   "source": []
  },
  {
   "cell_type": "markdown",
   "id": "d678f3dd-5ee0-4274-be17-e2419bee9ff6",
   "metadata": {},
   "source": [
    "### 1.3.9.Determine the outer color of the marker line\n",
    "\n",
    "**``markeredgecolor``**: Changes the outer color of the marker line."
   ]
  },
  {
   "cell_type": "markdown",
   "id": "b803a91b",
   "metadata": {},
   "source": [
    "Change marker edge color to blue"
   ]
  },
  {
   "cell_type": "code",
   "execution_count": null,
   "id": "12cbb6a0-0250-4b86-91b4-abe87709eb32",
   "metadata": {},
   "outputs": [],
   "source": []
  },
  {
   "cell_type": "markdown",
   "id": "8825c252-a31b-475a-95cf-263439c8413b",
   "metadata": {},
   "source": [
    "### 1.3.10.Determine the transparency of the chart\n",
    "<a id=\"optparam\"></a>\n",
    "\n",
    "**``alpha=0.9``**: Changes its transparency. The closer it gets to 0, the more transparent it becomes. The closer it gets to 1, the clearer it gets."
   ]
  },
  {
   "cell_type": "markdown",
   "id": "867683de",
   "metadata": {},
   "source": [
    "Set alpha to 0.4"
   ]
  },
  {
   "cell_type": "code",
   "execution_count": null,
   "id": "0f5ed819-8af5-44c6-a57a-dc443c03cb22",
   "metadata": {},
   "outputs": [],
   "source": []
  },
  {
   "cell_type": "markdown",
   "id": "7c56ccad-98f5-4556-a0a6-d25e78ab98ad",
   "metadata": {},
   "source": [
    "### 1.3.11. Customizing Two Different Data in One Chart\n"
   ]
  },
  {
   "cell_type": "code",
   "execution_count": null,
   "id": "5032dc09-cdc9-4af3-a7b9-8265e6d8988e",
   "metadata": {},
   "outputs": [],
   "source": [
    "plt.figure(figsize=(12,6))\n",
    "\n",
    "plt.plot(data.Date,\n",
    "         data.CPI,\n",
    "         color=\"r\",\n",
    "         linewidth=3,\n",
    "         linestyle=\"--\",\n",
    "         marker=\"o\",\n",
    "         markersize=12,\n",
    "         markerfacecolor=\"yellow\",\n",
    "         markeredgewidth=5,\n",
    "         markeredgecolor=\"blue\",\n",
    "         alpha=0.5) \n",
    "\n",
    "plt.plot(data.Date,data.WPI,\n",
    "         color=\"blue\",\n",
    "         linewidth=3,\n",
    "         linestyle=\":\",\n",
    "         marker=\"o\",\n",
    "         markerfacecolor=\"yellow\",\n",
    "         markeredgewidth=4,\n",
    "         markeredgecolor=\"blue\",\n",
    "         alpha=0.9)\n",
    "\n",
    "plt.xlabel(\"Date\")\n",
    "\n",
    "plt.ylabel(\"Index\")\n",
    "\n",
    "plt.title(\"Nepal's CPI and WPI index\")\n",
    "\n",
    "plt.show()"
   ]
  },
  {
   "cell_type": "markdown",
   "id": "1c4d88dd-17b7-4d60-8ff2-1ddc605b7a22",
   "metadata": {},
   "source": [
    "### 1.4.Commands for adding a legend to a chart\n",
    "\n",
    "**`label and legend`**: They show which variables belong to the graphs. After writing the label, you need to enter the legend command to see it on the graph. The legend(loc=2) takes a value for the location of the legend. It can take a value between 0-10, where 0 represents the best position.\n",
    "\n",
    "**`Legend Location Values`**: best=0, upper right=1, upper left=2, lower left=3, lower right=4, right=5, center left=6, center right= 7, lower center=8, upper center=9, center=10\n",
    "\n",
    "**`bbox_to_anchor=(0.5, 0., 0.5, 0.5)`**: You can directly specify the location of the legend.\n",
    "\n",
    "**`fontsize`**: It changes the font size of the legend. It can take the values 'xx-small', 'x-small', 'small', 'medium', 'large', 'x-large', 'xx-large'.\n",
    "\n",
    "**`numpoints`**: It increases the number of markers in the legend.\n",
    "\n",
    "**`markerscale`**: It changes the size of the markers in the legend.\n",
    "\n",
    "**`markerfirst`**: It moves the legend to the beginning and the legend indicator to the end. It is used with True or False.\n",
    "\n",
    "**`shadow`**: It gives a shadow effect to the lines around the legend. It is used with True or False.\n",
    "\n",
    "**`framealpha`**: It sets the transparency of the legend lines. It takes a value between 0-1. As it approaches 1, transparency increases. As it approaches 0, transparency decreases.\n",
    "\n",
    "**`facecolor`**: It gives color to the background of the legend.\n",
    "\n",
    "**`edgecolor`**: It colors the legend line.\n",
    "\n",
    "**`mode`**: It sets the length of the legend box. It takes the values \"expand\" or None. When we give the value \"expand\", the graph expands as much as its length.\n",
    "\n",
    "**`title`**: It gives a title to the legend.\n",
    "\n",
    "**`title_fontsize`**: It sets the size of the legend title. It is used with Title. It takes integer values.\n",
    "\n",
    "**`borderpad`**: It enlarges the size of the legend frame. It takes float values.\n",
    "\n",
    "**`handlelength`**: It sets the length of the legend handles. It takes float values.\n",
    "\n",
    "**`handletextpad`**: It adjusts the space between the legend point and its text.\n",
    "\n",
    "**`borderaxespad`**: It adjusts the space between the legend and the graph lines. It takes float values.\n",
    "\n",
    "For more information about Legend, please refer to: https://matplotlib.org/stable/api/legend_api.html"
   ]
  },
  {
   "cell_type": "markdown",
   "id": "92edfaa3-6e73-47f6-83e9-e7d87452a3e9",
   "metadata": {},
   "source": [
    "### 1.4.1. Determining the Legend location\n",
    "**`label and legend`**: Show which variables the graphs belong to. After writing the label, you also need to enter the legend command to see it on the graph. It can take a value in the form of `legend(loc=2)`. The loc value inside the legend indicates its location, i.e., where the legend will be displayed on the graph. It can take values between 0-10, with 0 indicating the best position.\n",
    "\n",
    "**`Legend Location Values`**: best=0, upper right=1, upper left=2, lower left=3, lower right=4, right=5, center left=6, center right=7, lower center=8, upper center=9, center=10.\""
   ]
  },
  {
   "cell_type": "code",
   "execution_count": null,
   "id": "6decbe47-0cb5-4c21-8b47-fbbc0392c0b8",
   "metadata": {},
   "outputs": [],
   "source": [
    "plt.figure(figsize=(12,6))\n",
    "\n",
    "plt.plot(data.Date,data.CPI,\n",
    "         color=\"blue\",\n",
    "         linewidth=3,\n",
    "         linestyle=\":\",\n",
    "         marker=\"o\",\n",
    "         markerfacecolor=\"yellow\",\n",
    "         markeredgewidth=2, \n",
    "         markeredgecolor=\"blue\",\n",
    "         label=\"CPI\")\n",
    "\n",
    "plt.xlabel(\"Date\")\n",
    "\n",
    "plt.ylabel(\"Index\")\n",
    "\n",
    "plt.title(\"Nepal's CPI and WPI index\")\n",
    "plt.legend(loc=2)\n",
    "\n",
    "plt.show()"
   ]
  },
  {
   "cell_type": "markdown",
   "id": "564547ad-49d2-4953-a368-979bbd8660a1",
   "metadata": {},
   "source": [
    "### Manually Specifying Legend Location\n",
    "\n",
    "***`bbox_to_anchor=(0.5, 0., 0.5, 0.5)`***: You can manually specify the location of the legend using the bbox_to_anchor parameter. This parameter takes a tuple of four values that specify the coordinates of the legend's bounding box, relative to the axes. The four values represent (x, y, width, height)"
   ]
  },
  {
   "cell_type": "code",
   "execution_count": null,
   "id": "d9447462-057f-47bf-823d-4f686adc48a8",
   "metadata": {},
   "outputs": [],
   "source": [
    "plt.figure(figsize=(12,6))\n",
    "\n",
    "plt.plot(data.Date,data.CPI,\n",
    "         color=\"blue\",\n",
    "         linewidth=3,\n",
    "         linestyle=\":\",\n",
    "         marker=\"o\",\n",
    "         markerfacecolor=\"yellow\",\n",
    "         markeredgewidth=2, \n",
    "         markeredgecolor=\"blue\",\n",
    "        label=\"CPI\")\n",
    "\n",
    "plt.xlabel(\"Date\")\n",
    "\n",
    "plt.ylabel(\"Index\")\n",
    "\n",
    "plt.title(\"Nepal's CPI and WPI index\")\n",
    "\n",
    "plt.legend(bbox_to_anchor=(0.2, 1, 0., 0))\n",
    "\n",
    "plt.show()"
   ]
  },
  {
   "cell_type": "markdown",
   "id": "577a42c8-8560-4a65-98d0-8ef299d2915e",
   "metadata": {},
   "source": [
    "### 1.4.2. Changing the Legend font\n",
    "\n",
    "***`fontsize`***:You can change the font of the legend. It can take values of 'xx-small', 'x-small', 'small', 'medium', 'large', 'x-large', and 'xx-large or you can place value in number as usal."
   ]
  },
  {
   "cell_type": "markdown",
   "id": "f3f31a3e",
   "metadata": {},
   "source": [
    "Change legend fontsize to 20."
   ]
  },
  {
   "cell_type": "code",
   "execution_count": null,
   "id": "dc0687f3-b23f-442a-9e8d-ec4ffd6ecb15",
   "metadata": {},
   "outputs": [],
   "source": []
  },
  {
   "cell_type": "markdown",
   "id": "bbc07a7f-c4f3-4eb4-9852-5308d805846c",
   "metadata": {},
   "source": [
    "### 1.4.3. Increase the number of points in legends.\n",
    "***`numpoints`***: The parameter numpoints is used to increase the number of points in a legend. By default, the legend displays one point for each line or marker in the plot. However, if multiple lines or markers overlap, it may be difficult to distinguish between them. Increasing the value of numpoints can help by adding more points to the legend, making it easier to differentiate between the lines or markers."
   ]
  },
  {
   "cell_type": "markdown",
   "id": "b36d9cfc",
   "metadata": {},
   "source": [
    "Chane number of points = 2 in legends"
   ]
  },
  {
   "cell_type": "code",
   "execution_count": null,
   "id": "2ee59d77-0c09-4c84-8cbc-763d08a8b53d",
   "metadata": {},
   "outputs": [],
   "source": []
  },
  {
   "cell_type": "markdown",
   "id": "6d26acf1-3d85-430f-a28f-69973cb100a7",
   "metadata": {},
   "source": [
    "### 1.4.4. Changing the Legend size\n",
    "\n",
    "***`markerscale`***: you change the size of markers in the legend of a plot. It's used to make the markers in the legend larger or smaller than those in the plot itself. bydefault, it is 1."
   ]
  },
  {
   "cell_type": "code",
   "execution_count": null,
   "id": "3354e242-bdb0-42f9-b1c6-23dcd4e3900d",
   "metadata": {},
   "outputs": [],
   "source": [
    "plt.figure(figsize=(12,6))\n",
    "\n",
    "plt.plot(data.Date,data.CPI,\n",
    "         color=\"blue\",\n",
    "         linewidth=3,\n",
    "         linestyle=\":\",\n",
    "         marker=\"o\",\n",
    "         markerfacecolor=\"white\",\n",
    "         markeredgewidth=4,\n",
    "         markeredgecolor=\"blue\",\n",
    "         alpha=0.9,label=\"CPI\")\n",
    "\n",
    "plt.xlabel(\"Date\")\n",
    "\n",
    "plt.ylabel(\"Index\")\n",
    "\n",
    "plt.title(\"Nepal's CPI index\")\n",
    "\n",
    "plt.legend(loc=5,fontsize=\"xx-large\",markerscale=0.5,numpoints=3)\n",
    "\n",
    "plt.show()"
   ]
  },
  {
   "cell_type": "markdown",
   "id": "1b4ec63d-6e4e-4a06-89ab-bad4bdd9b08f",
   "metadata": {},
   "source": [
    "### 1.4.5. Changing the location of the Legend and its indicator\n",
    "\n",
    "***`markerfirst`***:It that determines the placement of the legend marker with respect to the label text.By default, markerfirst is set to True, which means that the legend marker (symbol or color) is placed before the label text. If markerfirst is set to False, the legend marker will be placed after the label text."
   ]
  },
  {
   "cell_type": "code",
   "execution_count": null,
   "id": "63a0bf26-e219-43b3-97bb-fa50cc63384e",
   "metadata": {},
   "outputs": [],
   "source": [
    "plt.figure(figsize=(12,6))\n",
    "\n",
    "plt.plot(data.Date,data.CPI,\n",
    "         color=\"blue\",\n",
    "         linewidth=3,\n",
    "         linestyle=\":\",\n",
    "         marker=\"o\",\n",
    "         markerfacecolor=\"white\",\n",
    "         markeredgewidth=4,\n",
    "         markeredgecolor=\"blue\",\n",
    "         alpha=0.9,label=\"CPI\")\n",
    "\n",
    "plt.xlabel(\"Date\")\n",
    "\n",
    "plt.ylabel(\"Index\")\n",
    "\n",
    "plt.title(\"Nepal's CPI index\")\n",
    "\n",
    "\n",
    "plt.legend(loc=5,fontsize=10,markerscale=0.5,markerfirst=False)\n",
    "\n",
    "plt.show()"
   ]
  },
  {
   "cell_type": "markdown",
   "id": "5b39a7aa-367c-4a60-b177-8a742788d156",
   "metadata": {},
   "source": [
    "### 1.4.6.Shadowing the Legend line\n",
    "\n",
    "***`shadow`***: Adds a shadow to the lines surrounding the legend. It can be used with either True or False."
   ]
  },
  {
   "cell_type": "code",
   "execution_count": null,
   "id": "e2bf1c80-35bf-44bf-8c73-d9cf9bb47e44",
   "metadata": {},
   "outputs": [],
   "source": []
  },
  {
   "cell_type": "markdown",
   "id": "32c20e12-f33c-4da2-bf2c-9d16cff69d3b",
   "metadata": {},
   "source": [
    "### 1.4.7. Determine the transparency of the legend\n",
    "\n",
    "***`framealpha`***:set the transparency level of the legend box. It accepts a value between 0 and 1, where 0 means completely transparent and 1 means completely opaque.\n"
   ]
  },
  {
   "cell_type": "markdown",
   "id": "df8ac6e9",
   "metadata": {},
   "source": [
    "Set Framealpha to 0.5"
   ]
  },
  {
   "cell_type": "code",
   "execution_count": null,
   "id": "dad44444-ca1b-413a-a585-8cf5507e46ed",
   "metadata": {},
   "outputs": [],
   "source": []
  },
  {
   "cell_type": "markdown",
   "id": "4962800d-fef6-4a2b-a5f0-69adad8578dd",
   "metadata": {},
   "source": [
    "### 1.4.8. Coloring the Legend background\n",
    "\n",
    "\n",
    "***`facecolor`***:set the background color of the legend box. It accepts a color value in various formats such as string, RGB or RGBA tuples, or hexadecimal values"
   ]
  },
  {
   "cell_type": "code",
   "execution_count": null,
   "id": "b32adde5-7948-41da-8fe9-bc1ee2cf7b5b",
   "metadata": {},
   "outputs": [],
   "source": [
    "plt.figure(figsize=(12,6))\n",
    "\n",
    "plt.plot(data.Date,data.CPI,\n",
    "         color=\"blue\",\n",
    "         linewidth=3,\n",
    "         linestyle=\":\",\n",
    "         marker=\"o\",\n",
    "         markerfacecolor=\"white\",\n",
    "         markeredgewidth=4,\n",
    "         markeredgecolor=\"blue\",\n",
    "         alpha=0.9,label=\"CPI\")\n",
    "\n",
    "plt.xlabel(\"Date\")\n",
    "\n",
    "plt.ylabel(\"Index\")\n",
    "\n",
    "plt.title(\"Nepal's CPI index\")\n",
    "\n",
    "plt.legend(loc=5,fontsize=\"xx-large\",markerscale=2, facecolor=\"r\")\n",
    "\n",
    "plt.show()"
   ]
  },
  {
   "cell_type": "markdown",
   "id": "02ff1033-4e86-4bb5-a458-47d183a9d7a5",
   "metadata": {},
   "source": [
    "### 1.4.9. Coloring the Legend line\n",
    "\n",
    "***`edgecolor`***:to set the color of the border around the legend box. It accepts a color value in various formats such as string, RGB or RGBA tuples, or hexadecimal values."
   ]
  },
  {
   "cell_type": "code",
   "execution_count": null,
   "id": "ec85874c-4c73-4d75-8328-ea6f2e699ad2",
   "metadata": {},
   "outputs": [],
   "source": []
  },
  {
   "cell_type": "markdown",
   "id": "6cf73d6c-aa11-40cc-8c33-ffb8953a3803",
   "metadata": {},
   "source": [
    "### 1.4.10.Determining the length of the Legend box\n",
    "\n",
    "***`mode`***: The mode parameter is an optional argument that can be used with the plt.legend() function in Matplotlib to control the length of the legend box. It can take two values: \"expand\" or None\n"
   ]
  },
  {
   "cell_type": "code",
   "execution_count": null,
   "id": "d3b0ba7c-b463-4355-92a6-d6d605a54d9f",
   "metadata": {},
   "outputs": [],
   "source": [
    "plt.figure(figsize=(12,6))\n",
    "\n",
    "plt.plot(data.Date,data.CPI,\n",
    "         color=\"blue\",\n",
    "         linewidth=3,\n",
    "         linestyle=\":\",\n",
    "         marker=\"o\",\n",
    "         markerfacecolor=\"white\",\n",
    "         markeredgewidth=4,\n",
    "         markeredgecolor=\"blue\",\n",
    "         alpha=0.9,label=\"CPI\")\n",
    "\n",
    "plt.xlabel(\"Date\")\n",
    "\n",
    "plt.ylabel(\"Index\")\n",
    "\n",
    "plt.title(\"Nepal's CPI index\")\n",
    "\n",
    "plt.legend(loc=5,fontsize=\"xx-large\",markerscale=2,mode=\"expand\")\n",
    "\n",
    "plt.show()"
   ]
  },
  {
   "cell_type": "markdown",
   "id": "4fcf3b2d-f4f0-44f4-81ee-24eb2f75708e",
   "metadata": {},
   "source": [
    "### 1.4.11. Adding legend title\n",
    "\n",
    "***`title`***: To add title of the legend"
   ]
  },
  {
   "cell_type": "markdown",
   "id": "440eb8fe",
   "metadata": {},
   "source": [
    "Set legend title to `legend`."
   ]
  },
  {
   "cell_type": "code",
   "execution_count": null,
   "id": "79c4ce11-81e9-4a36-894b-f138f893a4ac",
   "metadata": {},
   "outputs": [],
   "source": []
  },
  {
   "cell_type": "markdown",
   "id": "d1b687aa-703c-4aba-9846-f15f657bd239",
   "metadata": {},
   "source": [
    "### 1.4.12. Determine the font size of legend title\n",
    "\n",
    "***`title_fontsize`***: Specifies the size of the Legend header. Used with title. It takes integer values."
   ]
  },
  {
   "cell_type": "markdown",
   "id": "bf2fb944",
   "metadata": {},
   "source": [
    "Set title font size to 15"
   ]
  },
  {
   "cell_type": "code",
   "execution_count": null,
   "id": "107755dd-809e-4eea-88b7-94a344b3abfe",
   "metadata": {},
   "outputs": [],
   "source": []
  },
  {
   "cell_type": "markdown",
   "id": "92806775-c49d-4ad4-9950-f1bbfcb6ca97",
   "metadata": {},
   "source": [
    "### 1.4.13.Determining the size of the Legend frame\n",
    "\n",
    "\n",
    "***`borderpad`***:Increases the size of the Legend frame. Takes float values."
   ]
  },
  {
   "cell_type": "code",
   "execution_count": null,
   "id": "cd3f12f7-229f-4a4b-9e6a-e921fb221450",
   "metadata": {},
   "outputs": [],
   "source": [
    "plt.figure(figsize=(12,6))\n",
    "\n",
    "plt.plot(data.Date,data.CPI,\n",
    "         color=\"blue\",\n",
    "         linewidth=3,\n",
    "         linestyle=\":\",\n",
    "         marker=\"o\",\n",
    "         markerfacecolor=\"white\",\n",
    "         markeredgewidth=4,\n",
    "         markeredgecolor=\"blue\",\n",
    "         alpha=0.9,label=\"CPI\")\n",
    "plt.xlabel(\"Date\")\n",
    "\n",
    "plt.ylabel(\"Index\")\n",
    "\n",
    "plt.title(\"Nepal's CPI index\")\n",
    "\n",
    "plt.legend(loc=5,fontsize=\"xx-large\",markerscale=1,title=\"Legend\",title_fontsize=15,borderpad=0.1,facecolor='green')\n",
    "\n",
    "plt.show()"
   ]
  },
  {
   "cell_type": "markdown",
   "id": "760a75e6-33fc-4aa9-9485-f96c1ca12bfd",
   "metadata": {},
   "source": [
    "### 1.4.14. Setting the length of legend arms\n",
    "***`handlelength`***:Determines the length of the Legend arms. Takes float values."
   ]
  },
  {
   "cell_type": "code",
   "execution_count": null,
   "id": "07d55225-5a65-4860-a5ca-61db293413ff",
   "metadata": {},
   "outputs": [],
   "source": [
    "plt.figure(figsize=(12,6))\n",
    "\n",
    "plt.plot(data.Date,data.CPI,\n",
    "         color=\"blue\",\n",
    "         linewidth=3,\n",
    "         linestyle=\":\",\n",
    "         marker=\"o\",\n",
    "         markerfacecolor=\"white\",\n",
    "         markeredgewidth=4,\n",
    "         markeredgecolor=\"blue\",\n",
    "         alpha=0.9,label=\"CPI\")\n",
    "plt.xlabel(\"Date\")\n",
    "\n",
    "plt.ylabel(\"Index\")\n",
    "\n",
    "plt.title(\"Nepal's CPI index\")\n",
    "\n",
    "\n",
    "plt.legend(loc=6,fontsize=\"xx-large\",markerscale=5,title=\"Legend\",title_fontsize=16,handlelength=10)\n",
    "\n",
    "plt.show()"
   ]
  },
  {
   "cell_type": "markdown",
   "id": "f1ab61fc-f78b-427c-82e3-b1f21b45a118",
   "metadata": {},
   "source": [
    "### 1.4.15. Determining the text spacing with the Legend point\n",
    "\n",
    "***`handletextpad`***:It helps us to adjust the gap between the legend point and the text. It takes float and integer values."
   ]
  },
  {
   "cell_type": "code",
   "execution_count": null,
   "id": "6840c668-31ea-4978-92b4-e0d1e9025d96",
   "metadata": {},
   "outputs": [],
   "source": [
    "plt.figure(figsize=(12,6))\n",
    "\n",
    "plt.plot(data.Date,data.CPI,\n",
    "         color=\"blue\",\n",
    "         linewidth=3,\n",
    "         linestyle=\":\",\n",
    "         marker=\"o\",\n",
    "         markerfacecolor=\"white\",\n",
    "         markeredgewidth=4,\n",
    "         markeredgecolor=\"blue\",\n",
    "         alpha=0.9,label=\"CPI\")\n",
    "plt.xlabel(\"Date\")\n",
    "\n",
    "plt.ylabel(\"Index\")\n",
    "\n",
    "plt.title(\"Nepal's CPI index\")\n",
    "\n",
    "plt.legend(loc=6,fontsize=\"xx-large\",markerscale=2,handletextpad=1,handlelength=2)\n",
    "\n",
    "plt.show()"
   ]
  },
  {
   "cell_type": "markdown",
   "id": "b80a5ff0-456f-4e09-8335-a82cf8d4ab65",
   "metadata": {},
   "source": [
    "### 1.4.16. Determine the gap between Legend and chart lines\n",
    "\n",
    "***`borderaxespad`***: It allows us to adjust the gaps between the legend and the graph lines. It takes float and integer values.\n"
   ]
  },
  {
   "cell_type": "code",
   "execution_count": null,
   "id": "490976fc-a1db-446d-8f51-d2648a765294",
   "metadata": {},
   "outputs": [],
   "source": [
    "plt.figure(figsize=(12,6))\n",
    "\n",
    "plt.plot(data.Date,data.CPI,\n",
    "         color=\"blue\",\n",
    "         linewidth=3,\n",
    "         linestyle=\":\",\n",
    "         marker=\"o\",\n",
    "         markerfacecolor=\"white\",\n",
    "         markeredgewidth=4,\n",
    "         markeredgecolor=\"blue\",\n",
    "         alpha=0.9,label=\"CPI\")\n",
    "plt.xlabel(\"Date\")\n",
    "\n",
    "plt.ylabel(\"Index\")\n",
    "\n",
    "plt.title(\"Nepal's CPI index\")\n",
    "\n",
    "plt.legend(loc=6,fontsize=\"xx-large\",markerscale=2,borderaxespad=10)\n",
    "\n",
    "plt.show()"
   ]
  },
  {
   "cell_type": "markdown",
   "id": "7e3afbaa-190a-46aa-8951-c253b5d4ac36",
   "metadata": {},
   "source": [
    "### 1.4.17. Showing two different data in a single legend\n"
   ]
  },
  {
   "cell_type": "code",
   "execution_count": null,
   "id": "69490460-211a-4780-b5ee-0129dd5e8f67",
   "metadata": {},
   "outputs": [],
   "source": [
    "plt.figure(figsize=(12,6))\n",
    "\n",
    "plt.plot(data.Date,data.CPI,\n",
    "         color=\"blue\",\n",
    "         linewidth=3,\n",
    "         linestyle=\":\",\n",
    "         marker=\"o\",\n",
    "         markerfacecolor=\"white\",\n",
    "         markeredgewidth=4,\n",
    "         markeredgecolor=\"blue\",\n",
    "         alpha=0.9,label=\"CPI\")\n",
    "\n",
    "plt.plot(data.Date,data.WPI,\n",
    "         color=\"r\",\n",
    "         linewidth=3,\n",
    "         linestyle=\":\",\n",
    "         marker=\"o\",\n",
    "         markerfacecolor=\"white\",\n",
    "         markeredgewidth=4,\n",
    "         markeredgecolor=\"r\",\n",
    "         alpha=0.9, label=\"MM\")\n",
    "\n",
    "plt.xlabel(\"Date\")\n",
    "\n",
    "plt.ylabel(\"Index\")\n",
    "\n",
    "plt.title(\"Nepal's CPI and WPI \")\n",
    "\n",
    "plt.legend(loc=2,fontsize=\"x-large\",markerscale=2,edgecolor=\"black\",title=\"Index\",title_fontsize=12)\n",
    "\n",
    "plt.show()"
   ]
  },
  {
   "cell_type": "code",
   "execution_count": null,
   "id": "278f4125",
   "metadata": {},
   "outputs": [],
   "source": []
  }
 ],
 "metadata": {
  "kernelspec": {
   "display_name": "Python 3 (ipykernel)",
   "language": "python",
   "name": "python3"
  },
  "language_info": {
   "codemirror_mode": {
    "name": "ipython",
    "version": 3
   },
   "file_extension": ".py",
   "mimetype": "text/x-python",
   "name": "python",
   "nbconvert_exporter": "python",
   "pygments_lexer": "ipython3",
   "version": "3.9.13"
  }
 },
 "nbformat": 4,
 "nbformat_minor": 5
}

{
 "cells": [
  {
   "cell_type": "markdown",
   "id": "28e18e72-6513-4a1f-80da-631c9c594d80",
   "metadata": {},
   "source": [
    "# Matplotlib Continue.."
   ]
  },
  {
   "cell_type": "code",
   "execution_count": null,
   "id": "853314b9-5bf2-49e4-84e2-9ebebe3034f9",
   "metadata": {},
   "outputs": [],
   "source": [
    "import matplotlib.pyplot as plt\n",
    "import pandas as pd\n",
    "import numpy as np"
   ]
  },
  {
   "cell_type": "code",
   "execution_count": null,
   "id": "c8a970b6-5036-4e35-8b43-ad659606dcf3",
   "metadata": {},
   "outputs": [],
   "source": [
    "data=pd.read_csv('https://raw.githubusercontent.com/pudasainimohan/Materials/main/data/price.csv')\n",
    "data['Date'] =data['Date'].str[2:]\n",
    "data.head(5)"
   ]
  },
  {
   "cell_type": "markdown",
   "id": "97e777ed-eae5-4ede-a1fd-e129802a716b",
   "metadata": {
    "jp-MarkdownHeadingCollapsed": true,
    "tags": []
   },
   "source": [
    "### Histogram\n",
    "\n",
    "**`bins:`** We can say the number of boxes in the histogram, you can also see it automatically by giving an \"auto\" value. bins=[9,18,25] can also take value this way. That means divide by 9 to 18, divide by 18 to 25. See chart 2 for an example.\n",
    "\n",
    "**`histtype:`** Allows you to specify the type of the histogram. 'bar', 'barstacked', 'step', 'stepfilled' takes values ​​optionally. It is used more often in multiple data.\n",
    "\n",
    "**`align:`** Controls the drawing of the histogram. It takes the values ​​'left', 'mid', 'right'. For example, left means that the bars are centered around the edges of the left pane.\n",
    "\n",
    "**`orientation:`** Determines whether the chart is drawn horizontally or vertically. Takes \"horizontal\" and \"vertical values. Horizontal means horizontal, vertical means vertical.\n",
    "\n",
    "**`rwidth:`** Determines the width of the bars. It takes a value between 0-1.\n",
    "\n",
    "**To follow code changes or get more information about histogram**:\n",
    "https://matplotlib.org/stable/api/_as_gen/matplotlib.pyplot.hist.html"
   ]
  },
  {
   "cell_type": "markdown",
   "id": "860c6531-62c7-47cb-9c37-af0ca1c14834",
   "metadata": {},
   "source": [
    "###  Boxes in the histogram\n",
    "\n",
    "**`bins:`**  used to specify the number of bins or intervals used to divide the data in a histogram. You can set it to a specific number or use the \"auto\" value to let matplotlib automatically determine the number of bins. You can also specify the bins as a list of values to create non-uniform bin sizes. For example, bins=[9, 18, 25] means divide the data into bins from 9 to 18, and from 18 to 25. You can refer to the second graph in the example for a demonstration."
   ]
  },
  {
   "cell_type": "code",
   "execution_count": null,
   "id": "b962cdf9-c3e5-4690-b7b8-736796539f21",
   "metadata": {},
   "outputs": [],
   "source": [
    "data1 = pd.DataFrame({'values': np.random.normal(size=1000)})\n",
    "plt.figure(figsize=(12,6))\n",
    "plt.hist(data1.values) \n",
    "plt.xlabel(\"Number\")\n",
    "plt.ylabel(\"Value\")\n",
    "plt.title(\"Histogram of Random Number\")\n",
    "plt.show()"
   ]
  },
  {
   "cell_type": "markdown",
   "id": "065987fd",
   "metadata": {},
   "source": [
    "change number of bins to 20 in above histogram"
   ]
  },
  {
   "cell_type": "code",
   "execution_count": null,
   "id": "1a0fda41-6ab5-48d8-848b-4a14bcb67330",
   "metadata": {},
   "outputs": [],
   "source": []
  },
  {
   "cell_type": "markdown",
   "id": "5557a464",
   "metadata": {},
   "source": [
    "Set the bining points to [-2,0,1,2]"
   ]
  },
  {
   "cell_type": "code",
   "execution_count": null,
   "id": "4c3d3477-e7a5-409f-b689-6848ed9c514b",
   "metadata": {},
   "outputs": [],
   "source": []
  },
  {
   "cell_type": "markdown",
   "id": "f1c994b8-9d8e-469e-aa3f-8fa4f4c51d5e",
   "metadata": {},
   "source": [
    "### Determining the type of histogram\n",
    "\n",
    "**`histtype`**: Histtype parameter in matplotlib is used to specify the type of histogram to be plotted. It can take on one of four values: 'bar', 'barstacked', 'step', or 'stepfilled'. This parameter is often used when plotting multiple datasets in the same histogram.\n",
    "\n",
    "`bar`: This is the default value, and it creates a standard bar chart histogram.\n",
    "\n",
    "`barstacked`: This creates a stacked bar chart histogram, where each bar is divided into segments for each dataset.\n",
    "\n",
    "`step`: This creates a line plot histogram, where the vertical lines are plotted at the edge of each bin.\n",
    "\n",
    "`stepfilled`: This creates a filled line plot histogram, where the area between the line plot and the x-axis is filled in."
   ]
  },
  {
   "cell_type": "code",
   "execution_count": null,
   "id": "2a463e2c-b6d4-4148-b5d6-3abf57793350",
   "metadata": {},
   "outputs": [],
   "source": [
    "plt.figure(figsize=(12,6))\n",
    "plt.hist(data1.values,bins=12,histtype=\"bar\",label=\"Random number\") \n",
    "plt.xlabel(\"Number\")\n",
    "plt.ylabel(\"Value\")\n",
    "plt.legend()\n",
    "plt.title(\"Histogram of Random Number\")\n",
    "plt.show()"
   ]
  },
  {
   "cell_type": "code",
   "execution_count": null,
   "id": "dca467ff-b3a3-46c7-baa1-766c2582bd00",
   "metadata": {},
   "outputs": [],
   "source": [
    "\n",
    "data11 = np.random.normal( size=1000)\n",
    "data2 = np.random.normal( size=1000)\n",
    "plt.hist([data11, data2], bins=20, histtype='step')\n",
    "plt.title('Histogram of Two Datasets')\n",
    "plt.xlabel('Data')\n",
    "plt.ylabel('Frequency')\n",
    "plt.show()\n"
   ]
  },
  {
   "cell_type": "markdown",
   "id": "3c894a1c-a4dd-4c01-a1c4-ffd2ca3b9f59",
   "metadata": {},
   "source": [
    "### 2.2.3. Determine the direction of the histogram \n",
    "\n",
    "**`orientation`**: Determines whether the chart is drawn horizontally or vertically. It takes \"horizontal\" and \"vertical values. Horizontal means horizontal, vertical means vertical."
   ]
  },
  {
   "cell_type": "code",
   "execution_count": null,
   "id": "20b6e5b2-6d0c-49b4-aafb-fce2688bf477",
   "metadata": {},
   "outputs": [],
   "source": [
    "plt.figure(figsize=(12,6))\n",
    "plt.hist(data1.values,orientation='horizontal',bins=20,label=\"Random number\") \n",
    "\n",
    "plt.xlabel(\"Number\")\n",
    "plt.ylabel(\"Value\")\n",
    "plt.legend()\n",
    "plt.title(\"Histogram of Random Number\")\n",
    "plt.show()"
   ]
  },
  {
   "cell_type": "markdown",
   "id": "859459db-c473-4577-b172-3d19afdae308",
   "metadata": {},
   "source": [
    "### Determining the width of histogram boxes\n",
    "**`rwidth`**: Specifies the width of the boxes. It takes a value between 0-1"
   ]
  },
  {
   "cell_type": "code",
   "execution_count": null,
   "id": "eb91d79c-1d03-4dee-87ca-5382ab2f1baa",
   "metadata": {
    "scrolled": true
   },
   "outputs": [],
   "source": [
    "plt.figure(figsize=(12,6))\n",
    "plt.hist(data1.values,rwidth=0.99,label=\"Random number\") \n",
    "\n",
    "plt.xlabel(\"Number\")\n",
    "plt.ylabel(\"Value\")\n",
    "plt.legend()\n",
    "plt.title(\"Histogram of Random Number\")\n",
    "plt.show()"
   ]
  },
  {
   "cell_type": "code",
   "execution_count": null,
   "id": "a03fc258-a845-4713-9f4d-f537be23c911",
   "metadata": {},
   "outputs": [],
   "source": [
    "\n",
    "plt.figure(figsize=(12,6))\n",
    "n, bins, patches = plt.hist(data1.values, bins=[-3,-2,-1,0,1,2,3],rwidth=0.99, label=\"Random number\")\n",
    "plt.xticks(bins)\n",
    "plt.xlabel(\"Number\")\n",
    "plt.ylabel(\"Value\")\n",
    "plt.legend()\n",
    "plt.title(\"Histogram of Random Number\")\n",
    "plt.show()\n"
   ]
  },
  {
   "cell_type": "code",
   "execution_count": null,
   "id": "898d5bcd-a9de-46a4-b735-04e7d32e14bd",
   "metadata": {},
   "outputs": [],
   "source": [
    "\n",
    "plt.figure(figsize=(12,6))\n",
    "n, bins, patches = plt.hist(data1.values, rwidth=0.99,edgecolor='red', label=\"Random number\")\n",
    "\n",
    "plt.xticks(bins)\n",
    "\n",
    "plt.xlabel(\"Number\")\n",
    "plt.ylabel(\"Value\")\n",
    "plt.legend()\n",
    "plt.title(\"Histogram of Random Number\")\n",
    "\n",
    "for i in range(len(n)):\n",
    "    plt.text(bins[i]+(bins[i+1]-bins[i])/2, n[i]+5, str(int(n[i])), ha='center')\n",
    "\n",
    "plt.show()\n"
   ]
  },
  {
   "cell_type": "markdown",
   "id": "2a6a5a21-ccea-46e4-9206-15ce4d3f4de3",
   "metadata": {},
   "source": [
    "### Bar Plot\n",
    "\n",
    "**`width`**: Determines the bar thickness. Values ​​in the range of 0-1 are more meaningful.\n",
    "\n",
    "**`color`**: Sets the bar color.\n",
    "\n",
    "**`edgecolor`**: Sets the edge colors of the bars.\n",
    "\n",
    "**`linewidth`**: Determines the thickness of the bar border lines.\n",
    "\n",
    "**`tick_label`**: Names the bars on the x-axis. We can name it ourselves. We can also define a variable from our dataset.\n",
    "\n",
    "**`orientation`**: It takes vertical and horizontal values. It allows us to make horizontal and vertical.\n",
    "\n",
    "**`hatch`**: Creates shapes on the bars. These shapes can be used. '/', '\\', '|', '-', '+', 'x', 'o', 'O', '.', '*'\n",
    "\n",
    "**For Bar Plot Document**: https://matplotlib.org/stable/api/_as_gen/matplotlib.pyplot.bar.html"
   ]
  },
  {
   "cell_type": "code",
   "execution_count": null,
   "id": "cf3de6b6-c1c3-428a-bffd-4c62e4ceb022",
   "metadata": {},
   "outputs": [],
   "source": [
    "data = pd.DataFrame({'Category': ['A', 'B', 'C', 'D', 'E'],\n",
    "        'Value': [20, 35, 30, 25, 40]})\n",
    "data.head()\n"
   ]
  },
  {
   "cell_type": "markdown",
   "id": "9cb2abb2-d05f-48fa-ae2a-a46036d8bead",
   "metadata": {},
   "source": [
    "###  Bar thikness\n",
    "**`width`**: Determines the bar thickness. Values ​​in the range of 0-1 are more meaningful."
   ]
  },
  {
   "cell_type": "code",
   "execution_count": null,
   "id": "22caf428-60d0-424f-982c-ae440fb55895",
   "metadata": {},
   "outputs": [],
   "source": [
    "plt.figure(figsize=(12,6))\n",
    "plt.bar(data['Category'], data['Value'], width=0.9)\n",
    "plt.xlabel(\"Categories\")\n",
    "plt.ylabel(\"Values\")\n",
    "plt.title(\"Bar Chart\")\n",
    "plt.show()"
   ]
  },
  {
   "cell_type": "markdown",
   "id": "cea75250-2339-4182-8738-4d50a38b580f",
   "metadata": {},
   "source": [
    "### Determining the Edge Colors of Bars\n",
    "**`edgecolor`**: Sets the edge colors of the bars."
   ]
  },
  {
   "cell_type": "code",
   "execution_count": null,
   "id": "16d9fae6-edca-46b5-bac8-8f3ea49f3beb",
   "metadata": {},
   "outputs": [],
   "source": [
    "plt.figure(figsize=(12,6))\n",
    "plt.bar(data['Category'], data['Value'],\n",
    "            color='#918A98',\n",
    "            edgecolor='#F9430B',\n",
    "            width=0.9)\n",
    "\n",
    "plt.xlabel(\"Categories\")\n",
    "plt.ylabel(\"Values\")\n",
    "plt.title(\"Bar Chart\")\n",
    "plt.show()"
   ]
  },
  {
   "cell_type": "markdown",
   "id": "b14e1a2d-1100-48e9-b5a7-ce7f9cbf7fec",
   "metadata": {},
   "source": [
    "###  Determining the Edge Color Thickness of Bars\n",
    "**`linewidth`**: Determines the thickness of the bar border lines."
   ]
  },
  {
   "cell_type": "code",
   "execution_count": null,
   "id": "6cfbe059-13ff-4fd1-8a7d-2ca39f4ed490",
   "metadata": {},
   "outputs": [],
   "source": [
    "plt.figure(figsize=(12,6))\n",
    "plt.bar(data['Category'], data['Value'],\n",
    "            color='#918A98',\n",
    "            edgecolor='#F9430B',\n",
    "            width=0.9,\n",
    "       linewidth=2)\n",
    "plt.xlabel(\"Categories\")\n",
    "plt.ylabel(\"Values\")\n",
    "plt.title(\"Bar Chart\")\n",
    "plt.show()"
   ]
  },
  {
   "cell_type": "markdown",
   "id": "e6a73676-c79d-47dd-b7eb-99eaddb75e96",
   "metadata": {},
   "source": [
    "### Add  label in top of the bar"
   ]
  },
  {
   "cell_type": "code",
   "execution_count": null,
   "id": "b209e6b5-556b-4519-9e77-fe850ac19ea0",
   "metadata": {},
   "outputs": [],
   "source": [
    "\n",
    "plt.figure(figsize=(12,6))\n",
    "\n",
    "plt.bar(data['Category'], data['Value'], width=0.9)\n",
    "\n",
    "plt.xlabel(\"Categories\")\n",
    "plt.ylabel(\"Values\")\n",
    "plt.title(\"Bar Chart\")\n",
    "\n",
    "for x, y in zip(data['Category'], data['Value']):\n",
    "    plt.text(x, y+1, str(y), ha='center', fontsize=10)\n",
    "\n",
    "plt.show()"
   ]
  },
  {
   "cell_type": "code",
   "execution_count": null,
   "id": "104d0edd",
   "metadata": {},
   "outputs": [],
   "source": [
    "\n",
    "\n",
    "data = pd.DataFrame({'Category': ['A', 'B', 'C', 'D', 'E'],\n",
    "                     'Value': [20, 35, 30, 25, 40],\n",
    "                     'Percentage': [10, 15, 13, 11, 18]})\n",
    "\n",
    "plt.figure(figsize=(12,6))\n",
    "plt.bar(data['Category'], data['Value'], width=0.9, color='blue')\n",
    "plt.xlabel('Categories')\n",
    "plt.ylabel('Values', color='blue')\n",
    "plt.tick_params(axis='y', labelcolor='blue')\n",
    "plt.title('Line and Bar Chart')\n",
    "plt.gca().twinx()\n",
    "plt.plot(data['Category'], data['Percentage'], color='red', marker='o')\n",
    "plt.ylabel('Percentage', color='red')\n",
    "plt.tick_params(axis='y', labelcolor='red')\n",
    "\n",
    "plt.show()"
   ]
  },
  {
   "cell_type": "markdown",
   "id": "ad8a73e0-6ddf-4948-80cd-baa899f5dcbc",
   "metadata": {},
   "source": [
    "###  Drawing shapes on bars\n",
    "**`hatch`**: Creates shapes on the bars. These shapes can be used. '/', '\\', '|', '-', '+', 'x', 'o', 'O', '.', '*'"
   ]
  },
  {
   "cell_type": "code",
   "execution_count": null,
   "id": "68bd0da4",
   "metadata": {},
   "outputs": [],
   "source": [
    "plt.figure(figsize=(12,6))\n",
    "plt.bar(data['Category'], data['Value'], width=0.9,hatch='-')\n",
    "plt.xlabel(\"Categories\")\n",
    "plt.ylabel(\"Values\")\n",
    "plt.title(\"Bar Chart\")\n",
    "plt.show()"
   ]
  },
  {
   "cell_type": "markdown",
   "id": "f20c8d96-e442-4658-a998-6e512de0bc87",
   "metadata": {},
   "source": [
    "### Keep certain axes in plot"
   ]
  },
  {
   "cell_type": "code",
   "execution_count": null,
   "id": "8feae288",
   "metadata": {},
   "outputs": [],
   "source": [
    "fig, ax = plt.subplots(figsize=(12,6))\n",
    "ax.bar(data['Category'], data['Value'], width=0.9, hatch='/', edgecolor='w')\n",
    "ax.set_xlabel(\"Categories\")\n",
    "ax.set_ylabel(\"Values\")\n",
    "ax.set_title(\"Bar Chart\")\n",
    "ax.spines['top'].set_visible(False)\n",
    "ax.spines['right'].set_visible(False)\n",
    "ax.spines['bottom'].set_color('red')\n",
    "ax.spines['bottom'].set_linewidth(2)\n",
    "ax.spines['left'].set_color('red')\n",
    "ax.spines['left'].set_linewidth(2)\n",
    "plt.show()"
   ]
  },
  {
   "cell_type": "code",
   "execution_count": null,
   "id": "81c288e5",
   "metadata": {},
   "outputs": [],
   "source": [
    "### Change oraintation"
   ]
  },
  {
   "cell_type": "code",
   "execution_count": null,
   "id": "3604c70e-a098-4789-a481-87f68cf54969",
   "metadata": {},
   "outputs": [],
   "source": [
    "plt.figure(figsize=(12,6))\n",
    "plt.barh(data['Category'], data['Value'],hatch='/',edgecolor='w')\n",
    "plt.xlabel(\"Categories\")\n",
    "plt.ylabel(\"Values\")\n",
    "plt.title(\"Bar Chart\")\n",
    "plt.show()"
   ]
  },
  {
   "cell_type": "markdown",
   "id": "5748aecb-5e60-4638-8e83-ad160abf5234",
   "metadata": {},
   "source": [
    "### Pie Chart\n",
    "\n",
    "**`explode`**: It is used to separate a slice of the cake. We need to change the value in which slice we want. Takes as many values ​​as my dataset.\n",
    "\n",
    "**`autopct`**: Allows me to write the values ​​as percentages into the graph. I can decide how many values ​​will come after the dot. If it is 1 value after 1.1 point, it takes the form 1.2, it takes two values ​​after the point.\n",
    "\n",
    "**`pctdistance`**: Sets the spacing between values ​​inside the chart and values ​​outside it.\n",
    "\n",
    "**`shadow`**: Draws a shadow under the graph. Takes a True or False value.\n",
    "\n",
    "**`labeldistance`**: Allows us to adjust the distance of the outer titles to the chart.\n",
    "\n",
    "**`startangle`**: Changes the starting point by flipping the graph by angle.\n",
    "\n",
    "**`radius`**: Sets the radius of the graph.\n",
    "\n",
    "**`counterclock`**: Specifies the fraction direction. Clockwise or counterclockwise. Takes True or False values.\n",
    "\n",
    "**`textprops`**: Allows us to manipulate the text in the graphic.\n",
    "\n",
    "**`frame`**: Draws a frame to the chart.\n",
    "\n",
    "**`rotatelabels`**: Changes the direction of outer texts. Takes True or False values."
   ]
  },
  {
   "cell_type": "markdown",
   "id": "3ac1aab9-de61-405d-bd72-c6153c7a0e8a",
   "metadata": {},
   "source": [
    "###  Writing Values Inside the Chart\n",
    "\n",
    "**`autopct`**: Allows me to write the values in the graph in percentage form. I can decide how many values to come after the point. If it is 1 value after 1.1 point, it takes the form 1.2, it takes two values after the point."
   ]
  },
  {
   "cell_type": "code",
   "execution_count": null,
   "id": "ee9b9fea-9003-4800-8842-c3c012f678e7",
   "metadata": {},
   "outputs": [],
   "source": [
    "data = pd.DataFrame({'Category': ['A', 'B', 'C', 'D', 'E'],\n",
    "                     'Value': [20, 35, 30, 25, 40]})\n",
    "plt.pie(data.Value,labels=data.Category, \n",
    "        autopct='%.1f%%')\n",
    "plt.show()\n"
   ]
  },
  {
   "cell_type": "markdown",
   "id": "a319f6ca-f80b-485e-b117-23204e56ff52",
   "metadata": {},
   "source": [
    "### Split a Slice of a Chart\n",
    "**`explode`**: Used to separate a slice of the cake. We need to change the value in whichever slice we want. Takes as many values as my dataset."
   ]
  },
  {
   "cell_type": "code",
   "execution_count": null,
   "id": "969b9b8c",
   "metadata": {},
   "outputs": [],
   "source": [
    "plt.pie(data.Value,labels=data.Category, \n",
    "        explode=[0.3,0,0,0,0],\n",
    "        autopct='%.1f%%')\n",
    "plt.show()"
   ]
  },
  {
   "cell_type": "code",
   "execution_count": null,
   "id": "81f915e7-2248-433d-be3f-a8e3e4bbd7fc",
   "metadata": {},
   "outputs": [],
   "source": [
    "colors = ['#ff6666', '#468499', '#ff7f50', '#ffdab9', \n",
    "          '#00ced1']\n",
    "plt.pie(data.Value,labels=data.Category, \n",
    "        explode=[0.3,0,0,0,0],colors=colors,\n",
    "        autopct='%.1f%%')\n",
    "plt.show()"
   ]
  },
  {
   "cell_type": "markdown",
   "id": "6ea0ca99-9bd4-429d-96b5-0b20acd3e378",
   "metadata": {},
   "source": [
    "### Adjusting the Position of Values in a Chart\n",
    "**`pctdistance`**: Sets the spacing between values ​​inside the chart and values ​​outside it."
   ]
  },
  {
   "cell_type": "code",
   "execution_count": null,
   "id": "6b8da2a8-858d-494e-b83a-7b75ae3169e4",
   "metadata": {},
   "outputs": [],
   "source": [
    "colors = ['#ff6666', '#468499', '#ff7f50', '#ffdab9', \n",
    "          '#00ced1']\n",
    "plt.pie(data.Value,labels=data.Category, \n",
    "        explode=[0.3,0,0,0,0],colors=colors,\n",
    "        pctdistance=0.9,\n",
    "        autopct='%.1f%%')\n",
    "plt.show()"
   ]
  },
  {
   "cell_type": "markdown",
   "id": "dd7d7ff9-b5e9-46e6-94c5-7914da1ad315",
   "metadata": {},
   "source": [
    "### Adding Shadow Below Chart\n",
    "**`shadow`**: Draws a shadow under the graph. Takes a True or False value."
   ]
  },
  {
   "cell_type": "code",
   "execution_count": null,
   "id": "1f897972-bcef-4e37-aa5d-f03f257c6288",
   "metadata": {},
   "outputs": [],
   "source": [
    "colors = ['#ff6666', '#468499', '#ff7f50', '#ffdab9', \n",
    "          '#00ced1']\n",
    "plt.pie(data.Value,labels=data.Category, \n",
    "        explode=[0.2,0,0,0,0],colors=colors,\n",
    "        shadow=True,\n",
    "        autopct='%.1f%%')\n",
    "plt.show()"
   ]
  },
  {
   "cell_type": "markdown",
   "id": "c06f8818-7a6b-4089-b29d-915b147ffbe3",
   "metadata": {},
   "source": [
    "###  Adjusting the Distance of Labels to the Chart\n",
    "**`labeldistance`**: Allows us to adjust the distance of the outer titles to the chart."
   ]
  },
  {
   "cell_type": "code",
   "execution_count": null,
   "id": "65ddb6f2-0f4a-4981-94ca-a86062814f48",
   "metadata": {},
   "outputs": [],
   "source": [
    "colors = ['#ff6666', '#468499', '#ff7f50', '#ffdab9', \n",
    "          '#00ced1']\n",
    "plt.pie(data.Value,labels=data.Category, \n",
    "        explode=[0.2,0,0,0,0],colors=colors,\n",
    "        labeldistance=1.5,\n",
    "        autopct='%.1f%%')\n",
    "plt.show()"
   ]
  },
  {
   "cell_type": "markdown",
   "id": "3d2bdcc4-ac38-4e3a-bdc0-4bab7244fe79",
   "metadata": {},
   "source": [
    "###  Flipping a Chart by a Certain Angle\n",
    "**`startangle`**: Changes the starting point by flipping the graph by angle."
   ]
  },
  {
   "cell_type": "code",
   "execution_count": null,
   "id": "53e4a67a-4a58-4882-b9cd-529628d61868",
   "metadata": {},
   "outputs": [],
   "source": [
    "colors = ['#ff6666', '#468499', '#ff7f50', '#ffdab9', \n",
    "          '#00ced1']\n",
    "plt.pie(data.Value,labels=data.Category, \n",
    "        explode=[0.2,0,0,0,0],colors=colors,\n",
    "        labeldistance=1.2,startangle=180,\n",
    "        shadow=True,\n",
    "        autopct='%.1f%%')\n",
    "plt.show()"
   ]
  },
  {
   "cell_type": "markdown",
   "id": "4b41eb4d-572a-4a2f-a737-dc032af863b3",
   "metadata": {},
   "source": [
    "###  Setting the Radius of the Chart\n",
    "**`radius`**: Sets the radius (circumference) of the graph."
   ]
  },
  {
   "cell_type": "code",
   "execution_count": null,
   "id": "186bf00b-6691-4daf-9738-cccf53f85fbd",
   "metadata": {},
   "outputs": [],
   "source": [
    "colors = ['#ff6666', '#468499', '#ff7f50', '#ffdab9', \n",
    "          '#00ced1']\n",
    "plt.pie(data.Value,labels=data.Category, \n",
    "        explode=[0.2,0,0,0,0],colors=colors,\n",
    "        labeldistance=1.2,startangle=180,\n",
    "        shadow=True,radius=1.3,\n",
    "        autopct='%.1f%%')\n",
    "plt.show()"
   ]
  },
  {
   "cell_type": "markdown",
   "id": "7034424e-a4be-4785-897b-aae229da7fa3",
   "metadata": {},
   "source": [
    "### Editing Text on a Chart\n",
    "**`textprops`**: Allows us to manipulate the text in the graphic."
   ]
  },
  {
   "cell_type": "code",
   "execution_count": null,
   "id": "6a194b54-cf35-4dca-a5ec-3b7ea10775a6",
   "metadata": {},
   "outputs": [],
   "source": [
    "colors = ['#ff6666', '#468499', '#ff7f50', '#ffdab9', \n",
    "          '#00ced1']\n",
    "plt.pie(data.Value,labels=data.Category, \n",
    "        explode=[0.2,0,0,0,0],colors=colors,\n",
    "        labeldistance=1.2,startangle=180,\n",
    "        shadow=True,radius=1.3,\n",
    "        autopct='%.1f%%',\n",
    "        textprops={'fontsize': 16,'color':\"#003366\",'rotation':45})\n",
    "plt.show()"
   ]
  },
  {
   "cell_type": "markdown",
   "id": "b55dcce9-450c-4fc0-bc50-fbda0bcd9edd",
   "metadata": {},
   "source": [
    "### Angle Labels\n",
    "**`rotatelabels`**: Changes the direction of outer texts"
   ]
  },
  {
   "cell_type": "code",
   "execution_count": null,
   "id": "856de082-a809-4b47-a116-0e6abe5bcbef",
   "metadata": {},
   "outputs": [],
   "source": [
    "colors = ['#ff6666', '#468499', '#ff7f50', '#ffdab9', \n",
    "          '#00ced1']\n",
    "plt.pie(data.Value,labels=data.Category, \n",
    "        explode=[0.2,0,0,0,0],colors=colors,\n",
    "        labeldistance=1.2,startangle=180,\n",
    "        shadow=True,radius=1.3,\n",
    "        autopct='%.1f%%',\n",
    "        textprops={'fontsize': 16,'color':\"#003366\"},\n",
    "       rotatelabels=True)\n",
    "plt.title(\"Sample Pie Chart\", y=1.1, fontsize=16)\n",
    "plt.legend(loc=\"center right\",bbox_to_anchor=(1, 0, 0.5, 1))\n",
    "\n",
    "plt.show()"
   ]
  },
  {
   "cell_type": "code",
   "execution_count": null,
   "id": "c1d47816",
   "metadata": {},
   "outputs": [],
   "source": [
    "colors = ['#ff6666', '#468499', '#ff7f50', '#ffdab9', '#00ced1']\n",
    "plt.pie(data.Value, \n",
    "        explode=[0.2, 0, 0, 0, 0], \n",
    "        labels=data.Category,\n",
    "        colors=colors, \n",
    "        labeldistance=1.2, \n",
    "        startangle=180, \n",
    "        shadow=True, \n",
    "        radius=1.3, \n",
    "        autopct='%.1f%%', \n",
    "        textprops={'fontsize': 16, 'color':\"#003366\"},\n",
    "        rotatelabels=True)\n",
    "plt.title(\"Sample Pie Chart\", y=1.1, fontsize=16)\n",
    "plt.legend(loc=\"center right\", bbox_to_anchor=(1, 0, 0.5, 1))\n",
    "plt.show()\n"
   ]
  },
  {
   "cell_type": "code",
   "execution_count": null,
   "id": "84b9c7a0",
   "metadata": {},
   "outputs": [],
   "source": [
    "colors = ['#ff6666', '#468499', '#ff7f50', '#ffdab9', '#00ced1']\n",
    "labels = [''] * len(data.Category)  # create empty labels\n",
    "plt.pie(data.Value, \n",
    "        explode=[0.2, 0, 0, 0, 0], \n",
    "        labels=labels,  # use empty labels\n",
    "        colors=colors, \n",
    "        labeldistance=1.2, \n",
    "        startangle=180, \n",
    "        shadow=True, \n",
    "        radius=1.3, \n",
    "        autopct='%.1f%%', \n",
    "        textprops={'fontsize': 16, 'color':\"#003366\"},\n",
    "        rotatelabels=True)\n",
    "plt.title(\"Sample Pie Chart\", y=1.1, fontsize=16)\n",
    "plt.legend(loc=\"center right\")\n",
    "plt.show()\n"
   ]
  },
  {
   "cell_type": "markdown",
   "id": "93e1b854-7664-49ea-97e9-949f073d486f",
   "metadata": {},
   "source": [
    "###  Box Plot\n",
    "\n",
    "**`notch`**: Makes the box notch. Makes it suffocating. Takes True and False values.\n",
    "\n",
    "**``vert``**: Takes True and False values. When entered as False, it draws the boxes sideways. It takes the value True when we don't specify it.\n",
    "\n",
    "**``whis``**: Draws circles on the top and bottom of the boxes based on a certain calculation. (You can find the explanation in the documentation.)\n",
    "\n",
    "**``bootstrap``**: Plots confidence intervals.\n",
    "\n",
    "**``usermedians``**: Allows you to set the median value. If it is None, the graphic is determined by itself. If it is not written, it is created automatically.\n",
    "\n",
    "**``positions``**: Determines the positions of the boxes. It takes array values in the form of [2,5].\n",
    "\n",
    "**``widths``**: Determines the thickness of the boxes.\n",
    "\n",
    "**``labels``**: Write their names under the boxes.\n",
    "\n",
    "**``patch_artist``**: Fills the boxes. If false, the boxes are drawn transparent.\n",
    "\n",
    "**`showcaps`**: Takes True and False values. Erases the horizontal part of the lines above the boxes, that is, their two heads.\n",
    "\n",
    "**`showbox`**: Takes True and False values. It makes the boxes appear. If false, the boxes are deleted.\n",
    "\n",
    "**`showmeans`**: Takes True and False values. Displays the arithmetic mean.\n",
    "\n",
    "**`capprops`**: Allows us to change the properties of the top and bottom horizontal lines. It takes a value in dictionary format as `{'color': 'yellow', 'linestyle': '-'}`.\n",
    "\n",
    "**`medianprops`**: It allows us to change the properties of the median lines in the middle. It takes values ​​in the form of `{'color': 'magenta', 'linewidth': 2}` in dictionary format.\n",
    "\n",
    "**`boxprops`**: Allows us to change the color outside the box. It takes a value in dictionary format as `{'color': 'yellow', 'linestyle': '-'}`.\n",
    "\n",
    "\n",
    "**`flierprops`**: determines the fill color of the wis. It takes a value in dictionary format as `{'color': 'yellow', 'linestyle': '-'}`.\n",
    "\n",
    "**For Boxplot Documentation:** https://matplotlib.org/stable/api/_as_gen/matplotlib.pyplot.boxplot.html"
   ]
  },
  {
   "cell_type": "code",
   "execution_count": null,
   "id": "ba1e278b",
   "metadata": {},
   "outputs": [],
   "source": [
    "data=pd.read_csv('https://raw.githubusercontent.com/pudasainimohan/Materials/main/data/price.csv')\n",
    "data.head(5)"
   ]
  },
  {
   "cell_type": "code",
   "execution_count": null,
   "id": "66a459b6-0f5a-4a28-b09e-398b7cf809b9",
   "metadata": {},
   "outputs": [],
   "source": [
    "plt.boxplot([data.CPI,data.WPI],patch_artist=True,labels=['CPI','WPI'])\n",
    "plt.show()"
   ]
  },
  {
   "cell_type": "code",
   "execution_count": null,
   "id": "c671f4b5",
   "metadata": {},
   "outputs": [],
   "source": [
    "plt.boxplot([data.CPI,data.WPI],patch_artist=True,labels=['CPI','WPI'],notch=True)\n",
    "plt.show()"
   ]
  },
  {
   "cell_type": "code",
   "execution_count": null,
   "id": "34ba6458-9e45-44ba-b6cb-a297af4ce838",
   "metadata": {
    "scrolled": false
   },
   "outputs": [],
   "source": [
    "box_plot_data=[data.CPI,data.WPI]\n",
    "\n",
    "\n",
    "plt.boxplot(box_plot_data,patch_artist=True,labels=['CPI','WPI'])\n",
    "\n",
    "plt.show()"
   ]
  },
  {
   "cell_type": "code",
   "execution_count": null,
   "id": "ae55da6e",
   "metadata": {},
   "outputs": [],
   "source": [
    "\n",
    "plt.figure(figsize=(12,6))\n",
    "\n",
    "boxprops = dict(facecolor='lightblue', color='blue')\n",
    "whiskerprops = dict(color='blue')\n",
    "\n",
    "plt.boxplot([data.CPI,data.WPI], patch_artist=True, \n",
    "            labels=['CPI','WPI'], notch=True, boxprops=boxprops, whiskerprops=whiskerprops)\n",
    "\n",
    "plt.grid(axis='y', linestyle='--')\n",
    "\n",
    "plt.xlabel(\"Index\", fontsize=14)\n",
    "plt.ylabel(\"Value\", fontsize=14)\n",
    "plt.title(\"Nepal's CPI and WPI\", fontsize=16)\n",
    "\n",
    "plt.show()\n"
   ]
  },
  {
   "cell_type": "code",
   "execution_count": null,
   "id": "61c94abd-4f67-4e03-8c5a-a113c5d1c318",
   "metadata": {},
   "outputs": [],
   "source": []
  }
 ],
 "metadata": {
  "kernelspec": {
   "display_name": "Python 3 (ipykernel)",
   "language": "python",
   "name": "python3"
  },
  "language_info": {
   "codemirror_mode": {
    "name": "ipython",
    "version": 3
   },
   "file_extension": ".py",
   "mimetype": "text/x-python",
   "name": "python",
   "nbconvert_exporter": "python",
   "pygments_lexer": "ipython3",
   "version": "3.9.13"
  }
 },
 "nbformat": 4,
 "nbformat_minor": 5
}
